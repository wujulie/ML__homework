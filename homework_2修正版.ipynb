{
  "nbformat": 4,
  "nbformat_minor": 0,
  "metadata": {
    "colab": {
      "name": "homework_2修正版.ipynb",
      "provenance": [],
      "mount_file_id": "12FNfvL-RLoMHiLgKqzMvVYdD-p5syqrP",
      "authorship_tag": "ABX9TyOrvJng2EBvIE8iQ9F5/GhW",
      "include_colab_link": true
    },
    "kernelspec": {
      "name": "python3",
      "display_name": "Python 3"
    }
  },
  "cells": [
    {
      "cell_type": "markdown",
      "metadata": {
        "id": "view-in-github",
        "colab_type": "text"
      },
      "source": [
        "<a href=\"https://colab.research.google.com/github/wujulie/ML__homework/blob/main/homework_2%E4%BF%AE%E6%AD%A3%E7%89%88.ipynb\" target=\"_parent\"><img src=\"https://colab.research.google.com/assets/colab-badge.svg\" alt=\"Open In Colab\"/></a>"
      ]
    },
    {
      "cell_type": "code",
      "metadata": {
        "id": "iIZA9dPoq3Ol",
        "colab": {
          "base_uri": "https://localhost:8080/"
        },
        "outputId": "f08b358c-2587-4d31-c04e-92afc55c6218"
      },
      "source": [
        "import pandas as pd \n",
        "import numpy as np\n",
        "data=pd.read_csv(\"/content/drive/My Drive/bank.csv\",delimiter=\";\",header='infer')\n",
        "pd.set_option('display.max_columns',None)\n",
        "print(data)\n",
        "train_data=pd.DataFrame(data)\n",
        "print(train_data.shape)\n",
        "train_data['job'].replace(['unemployed', 'services', 'management', 'blue-collar',\n",
        "                     'self-employed', 'technician', 'entrepreneur', 'admin.', 'student',\n",
        "                     'housemaid', 'retired', 'unknown'],[i for i in range (1,data['job'].unique().size+1)],inplace=True)\n",
        "\n",
        "train_data.marital.replace(['married','single','divorced'],[0,1,2],inplace=True)\n",
        "train_data.education.replace(['primary','secondary','tertiary','unknown'],[0,1,2,3],inplace=True)\n",
        "train_data.default.replace(['yes','no'],[1,0],inplace=True) #信用程度\n",
        "train_data.housing.replace(['yes','no'],[1,0],inplace=True)\n",
        "train_data.loan.replace(['yes','no'],[1,0],inplace=True)#借貸\n",
        "train_data.contact.replace(['cellular','telephone','unknown'],[0,1,2],inplace=True)#借貸\n",
        "train_data.month.replace(['jun','feb','mar','apr','may','jan','jul','aug',\n",
        "                         'sep','oct','nov','dec'],[1,2,3,4,5,6,7,8,9,10,11,12],inplace=True)\n",
        "train_data.poutcome.replace(['failure','success','unknown','other'],[0,1,2,3],inplace=True)\n",
        "train_data.y.replace(['no','yes'],[0,1],inplace=True)"
      ],
      "execution_count": null,
      "outputs": [
        {
          "output_type": "stream",
          "text": [
            "      age            job  marital  education default  balance housing loan  \\\n",
            "0      30     unemployed  married    primary      no     1787      no   no   \n",
            "1      33       services  married  secondary      no     4789     yes  yes   \n",
            "2      35     management   single   tertiary      no     1350     yes   no   \n",
            "3      30     management  married   tertiary      no     1476     yes  yes   \n",
            "4      59    blue-collar  married  secondary      no        0     yes   no   \n",
            "...   ...            ...      ...        ...     ...      ...     ...  ...   \n",
            "4516   33       services  married  secondary      no     -333     yes   no   \n",
            "4517   57  self-employed  married   tertiary     yes    -3313     yes  yes   \n",
            "4518   57     technician  married  secondary      no      295      no   no   \n",
            "4519   28    blue-collar  married  secondary      no     1137      no   no   \n",
            "4520   44   entrepreneur   single   tertiary      no     1136     yes  yes   \n",
            "\n",
            "       contact  day month  duration  campaign  pdays  previous poutcome   y  \n",
            "0     cellular   19   oct        79         1     -1         0  unknown  no  \n",
            "1     cellular   11   may       220         1    339         4  failure  no  \n",
            "2     cellular   16   apr       185         1    330         1  failure  no  \n",
            "3      unknown    3   jun       199         4     -1         0  unknown  no  \n",
            "4      unknown    5   may       226         1     -1         0  unknown  no  \n",
            "...        ...  ...   ...       ...       ...    ...       ...      ...  ..  \n",
            "4516  cellular   30   jul       329         5     -1         0  unknown  no  \n",
            "4517   unknown    9   may       153         1     -1         0  unknown  no  \n",
            "4518  cellular   19   aug       151        11     -1         0  unknown  no  \n",
            "4519  cellular    6   feb       129         4    211         3    other  no  \n",
            "4520  cellular    3   apr       345         2    249         7    other  no  \n",
            "\n",
            "[4521 rows x 17 columns]\n",
            "(4521, 17)\n"
          ],
          "name": "stdout"
        }
      ]
    },
    {
      "cell_type": "code",
      "metadata": {
        "id": "n82WmZBDrWy3"
      },
      "source": [
        "bank_data=train_data.iloc[:,:-1]#X\n",
        "target=train_data.iloc[:,-1]#Y"
      ],
      "execution_count": null,
      "outputs": []
    },
    {
      "cell_type": "code",
      "metadata": {
        "id": "7A-CQjO9rlwm",
        "colab": {
          "base_uri": "https://localhost:8080/"
        },
        "outputId": "ade37838-eeae-4ade-ef50-18d8fa459c2e"
      },
      "source": [
        "#Feature Importance Filter \n",
        "from sklearn.feature_selection import SelectKBest,f_regression\n",
        "kb_regr = SelectKBest(f_regression)\n",
        "x_b = kb_regr.fit_transform(bank_data,target)\n",
        "print(x_b.shape,'\\n',kb_regr.scores_)"
      ],
      "execution_count": null,
      "outputs": [
        {
          "output_type": "stream",
          "text": [
            "(4521, 10) \n",
            " [9.20707070e+00 2.16039030e+01 1.70127936e+01 8.36596827e+00\n",
            " 7.66832180e-03 1.44922234e+00 5.00706834e+01 2.25837165e+01\n",
            " 8.21193103e+01 5.71419411e-01 3.13973921e+00 8.66505760e+02\n",
            " 1.69599922e+01 4.94953804e+01 6.24091442e+01 2.03459313e+01]\n"
          ],
          "name": "stdout"
        }
      ]
    },
    {
      "cell_type": "code",
      "metadata": {
        "id": "L8uIC2USsJ2-",
        "colab": {
          "base_uri": "https://localhost:8080/"
        },
        "outputId": "7a4f2ccb-6242-4cb4-8820-9ae6e64cf71e"
      },
      "source": [
        "#Low Variance Filter\n",
        "from sklearn.preprocessing import Normalizer \n",
        "no = Normalizer()  ##預設是 l2 norm \n",
        "scaled_data = no.fit_transform(bank_data)\n",
        "from sklearn.feature_selection import VarianceThreshold\n",
        "vt = VarianceThreshold(threshold=1e-05) \n",
        "X_t = vt.fit_transform(scaled_data) \n",
        "print(X_t.var(axis=0))"
      ],
      "execution_count": null,
      "outputs": [
        {
          "output_type": "stream",
          "text": [
            "[1.53867915e-02 3.04079525e-04 2.37080805e-05 2.56794927e-01\n",
            " 1.74531737e-05 3.70103089e-03 4.16172496e-04 1.18588375e-01\n",
            " 4.87814010e-04 3.21154947e-02 1.36052901e-05 3.69474281e-05]\n"
          ],
          "name": "stdout"
        }
      ]
    },
    {
      "cell_type": "code",
      "metadata": {
        "id": "CVgxOXO7sXX1",
        "colab": {
          "base_uri": "https://localhost:8080/"
        },
        "outputId": "e2c6575d-9729-432d-f7a8-e47d508ac30f"
      },
      "source": [
        "#Principal component analysis \n",
        "from sklearn.preprocessing import StandardScaler\n",
        "X_std = StandardScaler().fit_transform(bank_data)\n",
        "print(X_std.var(axis=1))\n",
        "from sklearn.decomposition import PCA\n",
        "pca = PCA(n_components=12)\n",
        "x_pca = pca.fit_transform(X_std)\n",
        "print(x_pca.shape,X_std.shape)\n",
        "print(pca.explained_variance_ratio_)"
      ],
      "execution_count": null,
      "outputs": [
        {
          "output_type": "stream",
          "text": [
            "[0.58578882 1.9665417  1.26481497 ... 0.83652212 0.9773403  1.69366838]\n",
            "(4521, 12) (4521, 16)\n",
            "[0.13797187 0.10364887 0.08959993 0.07412694 0.07204217 0.06453454\n",
            " 0.06088485 0.05760934 0.05691128 0.05537427 0.05034637 0.04641891]\n"
          ],
          "name": "stdout"
        }
      ]
    },
    {
      "cell_type": "code",
      "metadata": {
        "id": "LloTEDAssh9m",
        "colab": {
          "base_uri": "https://localhost:8080/"
        },
        "outputId": "7122230c-27bf-4b0d-a08a-aeb98369c9d5"
      },
      "source": [
        "#High Correlation Filter\n",
        "import pandas as pd \n",
        "df = pd.DataFrame(X_std) \n",
        "print(df.corr())\n",
        "X_h = df.drop([13,14],axis=1)\n",
        "df = pd.DataFrame(X_h) \n",
        "print(X_h.shape,'\\n',df.corr())"
      ],
      "execution_count": null,
      "outputs": [
        {
          "output_type": "stream",
          "text": [
            "          0         1         2         3         4         5         6   \\\n",
            "0   1.000000  0.252828 -0.123804 -0.121613 -0.017885  0.083820 -0.193888   \n",
            "1   0.252828  1.000000 -0.012186 -0.088132 -0.002168  0.045592 -0.160040   \n",
            "2  -0.123804 -0.012186  1.000000  0.090907  0.049837 -0.028742 -0.027397   \n",
            "3  -0.121613 -0.088132  0.090907  1.000000 -0.010534  0.057725 -0.087070   \n",
            "4  -0.017885 -0.002168  0.049837 -0.010534  1.000000 -0.070886  0.006881   \n",
            "5   0.083820  0.045592 -0.028742  0.057725 -0.070886  1.000000 -0.050227   \n",
            "6  -0.193888 -0.160040 -0.027397 -0.087070  0.006881 -0.050227  1.000000   \n",
            "7  -0.011250  0.001375 -0.014321 -0.054086  0.063994 -0.071349  0.018451   \n",
            "8   0.015161 -0.037670 -0.021157 -0.110554  0.008448 -0.009665  0.196454   \n",
            "9  -0.017853  0.000306 -0.002284  0.014926 -0.013261 -0.008677 -0.031291   \n",
            "10  0.045217  0.029440 -0.016776  0.070070  0.002794  0.044242 -0.115831   \n",
            "11 -0.002367 -0.012931  0.035321 -0.014878 -0.011615 -0.015950  0.015740   \n",
            "12 -0.005148 -0.042118 -0.025599 -0.001723 -0.012348 -0.009976 -0.003574   \n",
            "13 -0.008894  0.000564  0.009975  0.012077 -0.026317  0.009437  0.116893   \n",
            "14 -0.003511  0.020836  0.002087  0.023983 -0.026656  0.026196  0.038621   \n",
            "15 -0.031284 -0.027384  0.008063 -0.020363  0.043730 -0.030737 -0.050256   \n",
            "\n",
            "          7         8         9         10        11        12        13  \\\n",
            "0  -0.011250  0.015161 -0.017853  0.045217 -0.002367 -0.005148 -0.008894   \n",
            "1   0.001375 -0.037670  0.000306  0.029440 -0.012931 -0.042118  0.000564   \n",
            "2  -0.014321 -0.021157 -0.002284 -0.016776  0.035321 -0.025599  0.009975   \n",
            "3  -0.054086 -0.110554  0.014926  0.070070 -0.014878 -0.001723  0.012077   \n",
            "4   0.063994  0.008448 -0.013261  0.002794 -0.011615 -0.012348 -0.026317   \n",
            "5  -0.071349 -0.009665 -0.008677  0.044242 -0.015950 -0.009976  0.009437   \n",
            "6   0.018451  0.196454 -0.031291 -0.115831  0.015740 -0.003574  0.116893   \n",
            "7   1.000000 -0.007319 -0.004879  0.049607 -0.004997  0.017120 -0.031086   \n",
            "8  -0.007319  1.000000 -0.033807 -0.442443 -0.011380  0.012278 -0.243223   \n",
            "9  -0.004879 -0.033807  1.000000  0.279087 -0.024629  0.160706 -0.094352   \n",
            "10  0.049607 -0.442443  0.279087  1.000000  0.010397  0.006123 -0.010668   \n",
            "11 -0.004997 -0.011380 -0.024629  0.010397  1.000000 -0.068382  0.010380   \n",
            "12  0.017120  0.012278  0.160706  0.006123 -0.068382  1.000000 -0.093137   \n",
            "13 -0.031086 -0.243223 -0.094352 -0.010668  0.010380 -0.093137  1.000000   \n",
            "14 -0.022115 -0.187232 -0.059114  0.036771  0.018080 -0.067833  0.577562   \n",
            "15  0.017482  0.185293  0.059032 -0.023351  0.002120  0.090843 -0.583050   \n",
            "\n",
            "          14        15  \n",
            "0  -0.003511 -0.031284  \n",
            "1   0.020836 -0.027384  \n",
            "2   0.002087  0.008063  \n",
            "3   0.023983 -0.020363  \n",
            "4  -0.026656  0.043730  \n",
            "5   0.026196 -0.030737  \n",
            "6   0.038621 -0.050256  \n",
            "7  -0.022115  0.017482  \n",
            "8  -0.187232  0.185293  \n",
            "9  -0.059114  0.059032  \n",
            "10  0.036771 -0.023351  \n",
            "11  0.018080  0.002120  \n",
            "12 -0.067833  0.090843  \n",
            "13  0.577562 -0.583050  \n",
            "14  1.000000 -0.387180  \n",
            "15 -0.387180  1.000000  \n",
            "(4521, 14) \n",
            "           0         1         2         3         4         5         6   \\\n",
            "0   1.000000  0.252828 -0.123804 -0.121613 -0.017885  0.083820 -0.193888   \n",
            "1   0.252828  1.000000 -0.012186 -0.088132 -0.002168  0.045592 -0.160040   \n",
            "2  -0.123804 -0.012186  1.000000  0.090907  0.049837 -0.028742 -0.027397   \n",
            "3  -0.121613 -0.088132  0.090907  1.000000 -0.010534  0.057725 -0.087070   \n",
            "4  -0.017885 -0.002168  0.049837 -0.010534  1.000000 -0.070886  0.006881   \n",
            "5   0.083820  0.045592 -0.028742  0.057725 -0.070886  1.000000 -0.050227   \n",
            "6  -0.193888 -0.160040 -0.027397 -0.087070  0.006881 -0.050227  1.000000   \n",
            "7  -0.011250  0.001375 -0.014321 -0.054086  0.063994 -0.071349  0.018451   \n",
            "8   0.015161 -0.037670 -0.021157 -0.110554  0.008448 -0.009665  0.196454   \n",
            "9  -0.017853  0.000306 -0.002284  0.014926 -0.013261 -0.008677 -0.031291   \n",
            "10  0.045217  0.029440 -0.016776  0.070070  0.002794  0.044242 -0.115831   \n",
            "11 -0.002367 -0.012931  0.035321 -0.014878 -0.011615 -0.015950  0.015740   \n",
            "12 -0.005148 -0.042118 -0.025599 -0.001723 -0.012348 -0.009976 -0.003574   \n",
            "15 -0.031284 -0.027384  0.008063 -0.020363  0.043730 -0.030737 -0.050256   \n",
            "\n",
            "          7         8         9         10        11        12        15  \n",
            "0  -0.011250  0.015161 -0.017853  0.045217 -0.002367 -0.005148 -0.031284  \n",
            "1   0.001375 -0.037670  0.000306  0.029440 -0.012931 -0.042118 -0.027384  \n",
            "2  -0.014321 -0.021157 -0.002284 -0.016776  0.035321 -0.025599  0.008063  \n",
            "3  -0.054086 -0.110554  0.014926  0.070070 -0.014878 -0.001723 -0.020363  \n",
            "4   0.063994  0.008448 -0.013261  0.002794 -0.011615 -0.012348  0.043730  \n",
            "5  -0.071349 -0.009665 -0.008677  0.044242 -0.015950 -0.009976 -0.030737  \n",
            "6   0.018451  0.196454 -0.031291 -0.115831  0.015740 -0.003574 -0.050256  \n",
            "7   1.000000 -0.007319 -0.004879  0.049607 -0.004997  0.017120  0.017482  \n",
            "8  -0.007319  1.000000 -0.033807 -0.442443 -0.011380  0.012278  0.185293  \n",
            "9  -0.004879 -0.033807  1.000000  0.279087 -0.024629  0.160706  0.059032  \n",
            "10  0.049607 -0.442443  0.279087  1.000000  0.010397  0.006123 -0.023351  \n",
            "11 -0.004997 -0.011380 -0.024629  0.010397  1.000000 -0.068382  0.002120  \n",
            "12  0.017120  0.012278  0.160706  0.006123 -0.068382  1.000000  0.090843  \n",
            "15  0.017482  0.185293  0.059032 -0.023351  0.002120  0.090843  1.000000  \n"
          ],
          "name": "stdout"
        }
      ]
    },
    {
      "cell_type": "code",
      "metadata": {
        "id": "hOorgYfhtMKG"
      },
      "source": [
        "from sklearn.model_selection import train_test_split\n",
        "from sklearn.linear_model import LogisticRegression,LinearRegression\n",
        "from sklearn.metrics import mean_squared_error\n",
        "from sklearn.metrics import accuracy_score\n",
        "def model(x,y):\n",
        "  X_train, X_test, y_train, y_test = train_test_split(x, y, test_size=0.3,random_state=45)\n",
        "  model = LinearRegression() \n",
        "  model.fit(X_train, y_train) \n",
        "  y_pred = model.predict(X_test)\n",
        "  print('Y_pred', y_pred)\n",
        "  index = 0\n",
        "  for i in y_pred:\n",
        "    if i >0.5:\n",
        "      y_pred[index]=1\n",
        "    else:\n",
        "      y_pred[index]=0\n",
        "    index+=1\n",
        "  print('classfy y_pred: ', y_pred)\n",
        "  print('accuracy:', accuracy_score(y_test,y_pred))\n",
        "\n",
        "  # model = LogisticRegression() \n",
        "  # model.fit(X_train, y_train) \n",
        "  # y_pred = model.predict(X_test)\n",
        "  # print('Score: ', model.score(X_train, y_train))"
      ],
      "execution_count": null,
      "outputs": []
    },
    {
      "cell_type": "code",
      "metadata": {
        "id": "O4RBT1YItac_",
        "colab": {
          "base_uri": "https://localhost:8080/"
        },
        "outputId": "59f33722-c176-45f6-af31-30b7cb8461ee"
      },
      "source": [
        "print('---use Feature Importance Filter ---')\n",
        "model(x_b,target)\n",
        "print('\\n---use High Correlation Filter---')\n",
        "model(X_h,target)\n",
        "print('\\n---use Low Variance Filter---')\n",
        "model(X_t,target)\n",
        "print('\\n---use PCA---')\n",
        "model(x_pca,target)"
      ],
      "execution_count": null,
      "outputs": [
        {
          "output_type": "stream",
          "text": [
            "---use Feature Importance Filter ---\n",
            "Y_pred [0.21863412 0.04234376 0.14245629 ... 0.02876699 0.10438487 0.0051377 ]\n",
            "classfy y_pred:  [0. 0. 0. ... 0. 0. 0.]\n",
            "accuracy: 0.8960943257184967\n",
            "\n",
            "---use High Correlation Filter---\n",
            "Y_pred [ 0.17527142  0.01799042  0.14133039 ...  0.08006406  0.09536345\n",
            " -0.00207747]\n",
            "classfy y_pred:  [0. 0. 0. ... 0. 0. 0.]\n",
            "accuracy: 0.8975681650700074\n",
            "\n",
            "---use Low Variance Filter---\n",
            "Y_pred [0.14787215 0.0743307  0.18246275 ... 0.09592005 0.16935807 0.14435122]\n",
            "classfy y_pred:  [0. 0. 0. ... 0. 0. 0.]\n",
            "accuracy: 0.887988209285188\n",
            "\n",
            "---use PCA---\n",
            "Y_pred [ 0.22026592  0.05926607  0.12908996 ...  0.07597692  0.06570836\n",
            " -0.00584116]\n",
            "classfy y_pred:  [0. 0. 0. ... 0. 0. 0.]\n",
            "accuracy: 0.899042004421518\n"
          ],
          "name": "stdout"
        }
      ]
    },
    {
      "cell_type": "code",
      "metadata": {
        "colab": {
          "base_uri": "https://localhost:8080/",
          "height": 233
        },
        "id": "9TpMcyshxl0r",
        "outputId": "c1d1c072-c6c4-417a-ca5f-a411eb6c3759"
      },
      "source": [
        "\n",
        "\n"
      ],
      "execution_count": null,
      "outputs": [
        {
          "output_type": "error",
          "ename": "NameError",
          "evalue": "ignored",
          "traceback": [
            "\u001b[0;31m---------------------------------------------------------------------------\u001b[0m",
            "\u001b[0;31mNameError\u001b[0m                                 Traceback (most recent call last)",
            "\u001b[0;32m<ipython-input-27-e9286e607d88>\u001b[0m in \u001b[0;36m<module>\u001b[0;34m()\u001b[0m\n\u001b[1;32m      2\u001b[0m \u001b[0;32mfrom\u001b[0m \u001b[0msklearn\u001b[0m\u001b[0;34m.\u001b[0m\u001b[0mmodel_selection\u001b[0m \u001b[0;32mimport\u001b[0m \u001b[0mcross_val_score\u001b[0m\u001b[0;34m\u001b[0m\u001b[0;34m\u001b[0m\u001b[0m\n\u001b[1;32m      3\u001b[0m \u001b[0msvc\u001b[0m \u001b[0;34m=\u001b[0m \u001b[0mSVC\u001b[0m\u001b[0;34m(\u001b[0m\u001b[0mC\u001b[0m\u001b[0;34m=\u001b[0m\u001b[0;36m0.01\u001b[0m\u001b[0;34m,\u001b[0m \u001b[0mkernel\u001b[0m\u001b[0;34m=\u001b[0m\u001b[0;34m'linear'\u001b[0m\u001b[0;34m)\u001b[0m\u001b[0;34m\u001b[0m\u001b[0;34m\u001b[0m\u001b[0m\n\u001b[0;32m----> 4\u001b[0;31m \u001b[0msvc\u001b[0m\u001b[0;34m.\u001b[0m\u001b[0mfit\u001b[0m\u001b[0;34m(\u001b[0m\u001b[0mX\u001b[0m\u001b[0;34m,\u001b[0m \u001b[0my_train\u001b[0m\u001b[0;34m)\u001b[0m\u001b[0;34m\u001b[0m\u001b[0;34m\u001b[0m\u001b[0m\n\u001b[0m\u001b[1;32m      5\u001b[0m \u001b[0msvc\u001b[0m\u001b[0;34m.\u001b[0m\u001b[0mscore\u001b[0m\u001b[0;34m(\u001b[0m\u001b[0mX_test\u001b[0m\u001b[0;34m,\u001b[0m \u001b[0my_test\u001b[0m\u001b[0;34m)\u001b[0m\u001b[0;34m\u001b[0m\u001b[0;34m\u001b[0m\u001b[0m\n\u001b[1;32m      6\u001b[0m \u001b[0;34m\u001b[0m\u001b[0m\n",
            "\u001b[0;31mNameError\u001b[0m: name 'X' is not defined"
          ]
        }
      ]
    }
  ]
}