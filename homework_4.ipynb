{
  "nbformat": 4,
  "nbformat_minor": 0,
  "metadata": {
    "accelerator": "GPU",
    "colab": {
      "name": "homework_4",
      "provenance": [],
      "collapsed_sections": []
    },
    "kernelspec": {
      "display_name": "Python 3",
      "name": "python3"
    }
  },
  "cells": [
    {
      "cell_type": "code",
      "metadata": {
        "id": "4sjEiBjA3t9S",
        "colab": {
          "base_uri": "https://localhost:8080/"
        },
        "outputId": "1da51fda-9f91-48a9-fe25-f76a99fca1ec"
      },
      "source": [
        "import numpy as np\n",
        "import pandas as pd\n",
        "from sklearn.svm import SVC\n",
        "data=pd.read_csv(\"/content/drive/MyDrive/bank.csv\",delimiter=\";\",header='infer')\n",
        "pd.set_option('display.max_columns',None) \n",
        "data.shape"
      ],
      "execution_count": 97,
      "outputs": [
        {
          "output_type": "execute_result",
          "data": {
            "text/plain": [
              "(4521, 17)"
            ]
          },
          "metadata": {
            "tags": []
          },
          "execution_count": 97
        }
      ]
    },
    {
      "cell_type": "code",
      "metadata": {
        "id": "YGcw9plHAfNL"
      },
      "source": [
        "from sklearn.preprocessing import LabelEncoder\n",
        "LE = LabelEncoder()"
      ],
      "execution_count": 98,
      "outputs": []
    },
    {
      "cell_type": "code",
      "metadata": {
        "id": "1P7BSyV8Aiw9"
      },
      "source": [
        "data.month.replace(('jan','feb','mar','apr','may','jun','jul','aug','sep','oct','nov','dec'),(1,2,3,4,5,6,7,8,9,10,11,12),inplace=True)"
      ],
      "execution_count": 99,
      "outputs": []
    },
    {
      "cell_type": "code",
      "metadata": {
        "colab": {
          "base_uri": "https://localhost:8080/",
          "height": 142
        },
        "id": "Vq95_rRCMZHt",
        "outputId": "b8c446a5-5c40-4284-de0b-b7cd1be1db69"
      },
      "source": [
        "data.head(3)"
      ],
      "execution_count": 100,
      "outputs": [
        {
          "output_type": "execute_result",
          "data": {
            "text/html": [
              "<div>\n",
              "<style scoped>\n",
              "    .dataframe tbody tr th:only-of-type {\n",
              "        vertical-align: middle;\n",
              "    }\n",
              "\n",
              "    .dataframe tbody tr th {\n",
              "        vertical-align: top;\n",
              "    }\n",
              "\n",
              "    .dataframe thead th {\n",
              "        text-align: right;\n",
              "    }\n",
              "</style>\n",
              "<table border=\"1\" class=\"dataframe\">\n",
              "  <thead>\n",
              "    <tr style=\"text-align: right;\">\n",
              "      <th></th>\n",
              "      <th>age</th>\n",
              "      <th>job</th>\n",
              "      <th>marital</th>\n",
              "      <th>education</th>\n",
              "      <th>default</th>\n",
              "      <th>balance</th>\n",
              "      <th>housing</th>\n",
              "      <th>loan</th>\n",
              "      <th>contact</th>\n",
              "      <th>day</th>\n",
              "      <th>month</th>\n",
              "      <th>duration</th>\n",
              "      <th>campaign</th>\n",
              "      <th>pdays</th>\n",
              "      <th>previous</th>\n",
              "      <th>poutcome</th>\n",
              "      <th>y</th>\n",
              "    </tr>\n",
              "  </thead>\n",
              "  <tbody>\n",
              "    <tr>\n",
              "      <th>0</th>\n",
              "      <td>30</td>\n",
              "      <td>unemployed</td>\n",
              "      <td>married</td>\n",
              "      <td>primary</td>\n",
              "      <td>no</td>\n",
              "      <td>1787</td>\n",
              "      <td>no</td>\n",
              "      <td>no</td>\n",
              "      <td>cellular</td>\n",
              "      <td>19</td>\n",
              "      <td>10</td>\n",
              "      <td>79</td>\n",
              "      <td>1</td>\n",
              "      <td>-1</td>\n",
              "      <td>0</td>\n",
              "      <td>unknown</td>\n",
              "      <td>no</td>\n",
              "    </tr>\n",
              "    <tr>\n",
              "      <th>1</th>\n",
              "      <td>33</td>\n",
              "      <td>services</td>\n",
              "      <td>married</td>\n",
              "      <td>secondary</td>\n",
              "      <td>no</td>\n",
              "      <td>4789</td>\n",
              "      <td>yes</td>\n",
              "      <td>yes</td>\n",
              "      <td>cellular</td>\n",
              "      <td>11</td>\n",
              "      <td>5</td>\n",
              "      <td>220</td>\n",
              "      <td>1</td>\n",
              "      <td>339</td>\n",
              "      <td>4</td>\n",
              "      <td>failure</td>\n",
              "      <td>no</td>\n",
              "    </tr>\n",
              "    <tr>\n",
              "      <th>2</th>\n",
              "      <td>35</td>\n",
              "      <td>management</td>\n",
              "      <td>single</td>\n",
              "      <td>tertiary</td>\n",
              "      <td>no</td>\n",
              "      <td>1350</td>\n",
              "      <td>yes</td>\n",
              "      <td>no</td>\n",
              "      <td>cellular</td>\n",
              "      <td>16</td>\n",
              "      <td>4</td>\n",
              "      <td>185</td>\n",
              "      <td>1</td>\n",
              "      <td>330</td>\n",
              "      <td>1</td>\n",
              "      <td>failure</td>\n",
              "      <td>no</td>\n",
              "    </tr>\n",
              "  </tbody>\n",
              "</table>\n",
              "</div>"
            ],
            "text/plain": [
              "   age         job  marital  education default  balance housing loan  \\\n",
              "0   30  unemployed  married    primary      no     1787      no   no   \n",
              "1   33    services  married  secondary      no     4789     yes  yes   \n",
              "2   35  management   single   tertiary      no     1350     yes   no   \n",
              "\n",
              "    contact  day  month  duration  campaign  pdays  previous poutcome   y  \n",
              "0  cellular   19     10        79         1     -1         0  unknown  no  \n",
              "1  cellular   11      5       220         1    339         4  failure  no  \n",
              "2  cellular   16      4       185         1    330         1  failure  no  "
            ]
          },
          "metadata": {
            "tags": []
          },
          "execution_count": 100
        }
      ]
    },
    {
      "cell_type": "code",
      "metadata": {
        "colab": {
          "base_uri": "https://localhost:8080/"
        },
        "id": "YvuXtB0UMLmU",
        "outputId": "e2c0e932-8bcf-4cb3-919c-fde9a79c2e7c"
      },
      "source": [
        "data.dtypes"
      ],
      "execution_count": 101,
      "outputs": [
        {
          "output_type": "execute_result",
          "data": {
            "text/plain": [
              "age           int64\n",
              "job          object\n",
              "marital      object\n",
              "education    object\n",
              "default      object\n",
              "balance       int64\n",
              "housing      object\n",
              "loan         object\n",
              "contact      object\n",
              "day           int64\n",
              "month         int64\n",
              "duration      int64\n",
              "campaign      int64\n",
              "pdays         int64\n",
              "previous      int64\n",
              "poutcome     object\n",
              "y            object\n",
              "dtype: object"
            ]
          },
          "metadata": {
            "tags": []
          },
          "execution_count": 101
        }
      ]
    },
    {
      "cell_type": "code",
      "metadata": {
        "id": "vvmSGXiX5jqa",
        "colab": {
          "base_uri": "https://localhost:8080/"
        },
        "outputId": "98435050-428a-4f38-fa8e-6f90d83b49cd"
      },
      "source": [
        "job=data['job'].unique()\n",
        "marital = data['marital'].unique()\n",
        "education = data['education'].unique()\n",
        "default = data['default'].unique()\n",
        "housing = data['housing'].unique()\n",
        "loan = data['loan'].unique()\n",
        "contact = data['contact'].unique()\n",
        "poutcome = data['poutcome'].unique()\n",
        "y = data['y'].unique()\n",
        "y"
      ],
      "execution_count": 102,
      "outputs": [
        {
          "output_type": "execute_result",
          "data": {
            "text/plain": [
              "array(['no', 'yes'], dtype=object)"
            ]
          },
          "metadata": {
            "tags": []
          },
          "execution_count": 102
        }
      ]
    },
    {
      "cell_type": "code",
      "metadata": {
        "id": "PvKluzAdlawf"
      },
      "source": [
        "data['job'] = LE.fit_transform(data['job'])\n",
        "data['marital'] = LE.fit_transform(data['marital'])\n",
        "data['education'] = LE.fit_transform(data['education'])\n",
        "data['default'] = LE.fit_transform(data['default'])\n",
        "data['housing'] = LE.fit_transform(data['housing'])\n",
        "data['loan'] = LE.fit_transform(data['loan'])\n",
        "data['contact']= LE.fit_transform(data['contact'])\n",
        "data['poutcome'] = LE.fit_transform(data['poutcome'])\n",
        "data['y']= LE.fit_transform(data['y'])"
      ],
      "execution_count": 103,
      "outputs": []
    },
    {
      "cell_type": "code",
      "metadata": {
        "colab": {
          "base_uri": "https://localhost:8080/",
          "height": 142
        },
        "id": "Mo8K3lUUt5WQ",
        "outputId": "5ebc7497-5d4b-406f-d925-0cf05f3c9cb5"
      },
      "source": [
        "data.head(3)"
      ],
      "execution_count": 104,
      "outputs": [
        {
          "output_type": "execute_result",
          "data": {
            "text/html": [
              "<div>\n",
              "<style scoped>\n",
              "    .dataframe tbody tr th:only-of-type {\n",
              "        vertical-align: middle;\n",
              "    }\n",
              "\n",
              "    .dataframe tbody tr th {\n",
              "        vertical-align: top;\n",
              "    }\n",
              "\n",
              "    .dataframe thead th {\n",
              "        text-align: right;\n",
              "    }\n",
              "</style>\n",
              "<table border=\"1\" class=\"dataframe\">\n",
              "  <thead>\n",
              "    <tr style=\"text-align: right;\">\n",
              "      <th></th>\n",
              "      <th>age</th>\n",
              "      <th>job</th>\n",
              "      <th>marital</th>\n",
              "      <th>education</th>\n",
              "      <th>default</th>\n",
              "      <th>balance</th>\n",
              "      <th>housing</th>\n",
              "      <th>loan</th>\n",
              "      <th>contact</th>\n",
              "      <th>day</th>\n",
              "      <th>month</th>\n",
              "      <th>duration</th>\n",
              "      <th>campaign</th>\n",
              "      <th>pdays</th>\n",
              "      <th>previous</th>\n",
              "      <th>poutcome</th>\n",
              "      <th>y</th>\n",
              "    </tr>\n",
              "  </thead>\n",
              "  <tbody>\n",
              "    <tr>\n",
              "      <th>0</th>\n",
              "      <td>30</td>\n",
              "      <td>10</td>\n",
              "      <td>1</td>\n",
              "      <td>0</td>\n",
              "      <td>0</td>\n",
              "      <td>1787</td>\n",
              "      <td>0</td>\n",
              "      <td>0</td>\n",
              "      <td>0</td>\n",
              "      <td>19</td>\n",
              "      <td>10</td>\n",
              "      <td>79</td>\n",
              "      <td>1</td>\n",
              "      <td>-1</td>\n",
              "      <td>0</td>\n",
              "      <td>3</td>\n",
              "      <td>0</td>\n",
              "    </tr>\n",
              "    <tr>\n",
              "      <th>1</th>\n",
              "      <td>33</td>\n",
              "      <td>7</td>\n",
              "      <td>1</td>\n",
              "      <td>1</td>\n",
              "      <td>0</td>\n",
              "      <td>4789</td>\n",
              "      <td>1</td>\n",
              "      <td>1</td>\n",
              "      <td>0</td>\n",
              "      <td>11</td>\n",
              "      <td>5</td>\n",
              "      <td>220</td>\n",
              "      <td>1</td>\n",
              "      <td>339</td>\n",
              "      <td>4</td>\n",
              "      <td>0</td>\n",
              "      <td>0</td>\n",
              "    </tr>\n",
              "    <tr>\n",
              "      <th>2</th>\n",
              "      <td>35</td>\n",
              "      <td>4</td>\n",
              "      <td>2</td>\n",
              "      <td>2</td>\n",
              "      <td>0</td>\n",
              "      <td>1350</td>\n",
              "      <td>1</td>\n",
              "      <td>0</td>\n",
              "      <td>0</td>\n",
              "      <td>16</td>\n",
              "      <td>4</td>\n",
              "      <td>185</td>\n",
              "      <td>1</td>\n",
              "      <td>330</td>\n",
              "      <td>1</td>\n",
              "      <td>0</td>\n",
              "      <td>0</td>\n",
              "    </tr>\n",
              "  </tbody>\n",
              "</table>\n",
              "</div>"
            ],
            "text/plain": [
              "   age  job  marital  education  default  balance  housing  loan  contact  \\\n",
              "0   30   10        1          0        0     1787        0     0        0   \n",
              "1   33    7        1          1        0     4789        1     1        0   \n",
              "2   35    4        2          2        0     1350        1     0        0   \n",
              "\n",
              "   day  month  duration  campaign  pdays  previous  poutcome  y  \n",
              "0   19     10        79         1     -1         0         3  0  \n",
              "1   11      5       220         1    339         4         0  0  \n",
              "2   16      4       185         1    330         1         0  0  "
            ]
          },
          "metadata": {
            "tags": []
          },
          "execution_count": 104
        }
      ]
    },
    {
      "cell_type": "code",
      "metadata": {
        "colab": {
          "base_uri": "https://localhost:8080/"
        },
        "id": "pALarkFJMziR",
        "outputId": "7f09d5ea-4fef-4618-94f8-3935e4823e62"
      },
      "source": [
        "data.dtypes"
      ],
      "execution_count": 105,
      "outputs": [
        {
          "output_type": "execute_result",
          "data": {
            "text/plain": [
              "age          int64\n",
              "job          int64\n",
              "marital      int64\n",
              "education    int64\n",
              "default      int64\n",
              "balance      int64\n",
              "housing      int64\n",
              "loan         int64\n",
              "contact      int64\n",
              "day          int64\n",
              "month        int64\n",
              "duration     int64\n",
              "campaign     int64\n",
              "pdays        int64\n",
              "previous     int64\n",
              "poutcome     int64\n",
              "y            int64\n",
              "dtype: object"
            ]
          },
          "metadata": {
            "tags": []
          },
          "execution_count": 105
        }
      ]
    },
    {
      "cell_type": "code",
      "metadata": {
        "colab": {
          "base_uri": "https://localhost:8080/"
        },
        "id": "M90JAVl-Lpwi",
        "outputId": "823485f5-648e-4ebf-c0fb-6185f1d30e56"
      },
      "source": [
        "data.isnull().sum()"
      ],
      "execution_count": 106,
      "outputs": [
        {
          "output_type": "execute_result",
          "data": {
            "text/plain": [
              "age          0\n",
              "job          0\n",
              "marital      0\n",
              "education    0\n",
              "default      0\n",
              "balance      0\n",
              "housing      0\n",
              "loan         0\n",
              "contact      0\n",
              "day          0\n",
              "month        0\n",
              "duration     0\n",
              "campaign     0\n",
              "pdays        0\n",
              "previous     0\n",
              "poutcome     0\n",
              "y            0\n",
              "dtype: int64"
            ]
          },
          "metadata": {
            "tags": []
          },
          "execution_count": 106
        }
      ]
    },
    {
      "cell_type": "code",
      "metadata": {
        "id": "cBSC_9am1GEJ"
      },
      "source": [
        "X=data.iloc[:,:-1]#X\n",
        "Y=data.iloc[:,-1]#Y"
      ],
      "execution_count": 107,
      "outputs": []
    },
    {
      "cell_type": "code",
      "metadata": {
        "colab": {
          "base_uri": "https://localhost:8080/",
          "height": 204
        },
        "id": "PeXXMkJoKAnk",
        "outputId": "83614e47-a603-4490-9b48-bd1c0a5c6329"
      },
      "source": [
        "X.head()"
      ],
      "execution_count": 108,
      "outputs": [
        {
          "output_type": "execute_result",
          "data": {
            "text/html": [
              "<div>\n",
              "<style scoped>\n",
              "    .dataframe tbody tr th:only-of-type {\n",
              "        vertical-align: middle;\n",
              "    }\n",
              "\n",
              "    .dataframe tbody tr th {\n",
              "        vertical-align: top;\n",
              "    }\n",
              "\n",
              "    .dataframe thead th {\n",
              "        text-align: right;\n",
              "    }\n",
              "</style>\n",
              "<table border=\"1\" class=\"dataframe\">\n",
              "  <thead>\n",
              "    <tr style=\"text-align: right;\">\n",
              "      <th></th>\n",
              "      <th>age</th>\n",
              "      <th>job</th>\n",
              "      <th>marital</th>\n",
              "      <th>education</th>\n",
              "      <th>default</th>\n",
              "      <th>balance</th>\n",
              "      <th>housing</th>\n",
              "      <th>loan</th>\n",
              "      <th>contact</th>\n",
              "      <th>day</th>\n",
              "      <th>month</th>\n",
              "      <th>duration</th>\n",
              "      <th>campaign</th>\n",
              "      <th>pdays</th>\n",
              "      <th>previous</th>\n",
              "      <th>poutcome</th>\n",
              "    </tr>\n",
              "  </thead>\n",
              "  <tbody>\n",
              "    <tr>\n",
              "      <th>0</th>\n",
              "      <td>30</td>\n",
              "      <td>10</td>\n",
              "      <td>1</td>\n",
              "      <td>0</td>\n",
              "      <td>0</td>\n",
              "      <td>1787</td>\n",
              "      <td>0</td>\n",
              "      <td>0</td>\n",
              "      <td>0</td>\n",
              "      <td>19</td>\n",
              "      <td>10</td>\n",
              "      <td>79</td>\n",
              "      <td>1</td>\n",
              "      <td>-1</td>\n",
              "      <td>0</td>\n",
              "      <td>3</td>\n",
              "    </tr>\n",
              "    <tr>\n",
              "      <th>1</th>\n",
              "      <td>33</td>\n",
              "      <td>7</td>\n",
              "      <td>1</td>\n",
              "      <td>1</td>\n",
              "      <td>0</td>\n",
              "      <td>4789</td>\n",
              "      <td>1</td>\n",
              "      <td>1</td>\n",
              "      <td>0</td>\n",
              "      <td>11</td>\n",
              "      <td>5</td>\n",
              "      <td>220</td>\n",
              "      <td>1</td>\n",
              "      <td>339</td>\n",
              "      <td>4</td>\n",
              "      <td>0</td>\n",
              "    </tr>\n",
              "    <tr>\n",
              "      <th>2</th>\n",
              "      <td>35</td>\n",
              "      <td>4</td>\n",
              "      <td>2</td>\n",
              "      <td>2</td>\n",
              "      <td>0</td>\n",
              "      <td>1350</td>\n",
              "      <td>1</td>\n",
              "      <td>0</td>\n",
              "      <td>0</td>\n",
              "      <td>16</td>\n",
              "      <td>4</td>\n",
              "      <td>185</td>\n",
              "      <td>1</td>\n",
              "      <td>330</td>\n",
              "      <td>1</td>\n",
              "      <td>0</td>\n",
              "    </tr>\n",
              "    <tr>\n",
              "      <th>3</th>\n",
              "      <td>30</td>\n",
              "      <td>4</td>\n",
              "      <td>1</td>\n",
              "      <td>2</td>\n",
              "      <td>0</td>\n",
              "      <td>1476</td>\n",
              "      <td>1</td>\n",
              "      <td>1</td>\n",
              "      <td>2</td>\n",
              "      <td>3</td>\n",
              "      <td>6</td>\n",
              "      <td>199</td>\n",
              "      <td>4</td>\n",
              "      <td>-1</td>\n",
              "      <td>0</td>\n",
              "      <td>3</td>\n",
              "    </tr>\n",
              "    <tr>\n",
              "      <th>4</th>\n",
              "      <td>59</td>\n",
              "      <td>1</td>\n",
              "      <td>1</td>\n",
              "      <td>1</td>\n",
              "      <td>0</td>\n",
              "      <td>0</td>\n",
              "      <td>1</td>\n",
              "      <td>0</td>\n",
              "      <td>2</td>\n",
              "      <td>5</td>\n",
              "      <td>5</td>\n",
              "      <td>226</td>\n",
              "      <td>1</td>\n",
              "      <td>-1</td>\n",
              "      <td>0</td>\n",
              "      <td>3</td>\n",
              "    </tr>\n",
              "  </tbody>\n",
              "</table>\n",
              "</div>"
            ],
            "text/plain": [
              "   age  job  marital  education  default  balance  housing  loan  contact  \\\n",
              "0   30   10        1          0        0     1787        0     0        0   \n",
              "1   33    7        1          1        0     4789        1     1        0   \n",
              "2   35    4        2          2        0     1350        1     0        0   \n",
              "3   30    4        1          2        0     1476        1     1        2   \n",
              "4   59    1        1          1        0        0        1     0        2   \n",
              "\n",
              "   day  month  duration  campaign  pdays  previous  poutcome  \n",
              "0   19     10        79         1     -1         0         3  \n",
              "1   11      5       220         1    339         4         0  \n",
              "2   16      4       185         1    330         1         0  \n",
              "3    3      6       199         4     -1         0         3  \n",
              "4    5      5       226         1     -1         0         3  "
            ]
          },
          "metadata": {
            "tags": []
          },
          "execution_count": 108
        }
      ]
    },
    {
      "cell_type": "code",
      "metadata": {
        "colab": {
          "base_uri": "https://localhost:8080/"
        },
        "id": "-7XMzgny0VwG",
        "outputId": "473cc939-32eb-441a-92ad-149bca0a49d9"
      },
      "source": [
        "from sklearn.preprocessing import StandardScaler\n",
        "X_std = StandardScaler().fit_transform(X)\n",
        "print(X_std.var(axis=1))\n",
        "from sklearn.decomposition import PCA\n",
        "pca = PCA(n_components=10)\n",
        "x_pca = pca.fit_transform(X_std)\n"
      ],
      "execution_count": 109,
      "outputs": [
        {
          "output_type": "stream",
          "text": [
            "[0.76909759 1.83767735 1.33174676 ... 0.90467306 0.89599018 2.06270406]\n"
          ],
          "name": "stdout"
        }
      ]
    },
    {
      "cell_type": "code",
      "metadata": {
        "colab": {
          "base_uri": "https://localhost:8080/"
        },
        "id": "eOT39Tn5H393",
        "outputId": "bb964e51-6ab9-4204-a9fa-a9866cd2427b"
      },
      "source": [
        "x_pca.shape"
      ],
      "execution_count": 110,
      "outputs": [
        {
          "output_type": "execute_result",
          "data": {
            "text/plain": [
              "(4521, 10)"
            ]
          },
          "metadata": {
            "tags": []
          },
          "execution_count": 110
        }
      ]
    },
    {
      "cell_type": "code",
      "metadata": {
        "id": "qbPxnBBhEF-d"
      },
      "source": [
        "from sklearn.model_selection import train_test_split,cross_val_score\n",
        "X_train, X_test, Y_train, Y_test = train_test_split(x_pca, Y,test_size=0.2,random_state=1000)"
      ],
      "execution_count": 111,
      "outputs": []
    },
    {
      "cell_type": "code",
      "metadata": {
        "colab": {
          "base_uri": "https://localhost:8080/"
        },
        "id": "cTbY2T6UrvBz",
        "outputId": "65dae2c9-6069-4de4-a9aa-96d4715c588b"
      },
      "source": [
        "X_train.shape"
      ],
      "execution_count": 112,
      "outputs": [
        {
          "output_type": "execute_result",
          "data": {
            "text/plain": [
              "(3616, 10)"
            ]
          },
          "metadata": {
            "tags": []
          },
          "execution_count": 112
        }
      ]
    },
    {
      "cell_type": "code",
      "metadata": {
        "id": "MiLeLG10rx4l",
        "colab": {
          "base_uri": "https://localhost:8080/"
        },
        "outputId": "5a23a0c9-0e55-4e0d-b17c-a7cdaf4e066c"
      },
      "source": [
        "from sklearn.svm import SVC\n",
        "from sklearn.model_selection import cross_val_score\n",
        "svc = SVC(C=1,kernel='linear')\n",
        "print('SVM score:',cross_val_score(svc, X_train, Y_train, scoring='accuracy',cv=10).mean())\n"
      ],
      "execution_count": 113,
      "outputs": [
        {
          "output_type": "stream",
          "text": [
            "SVM score: 0.8877228692551384\n"
          ],
          "name": "stdout"
        }
      ]
    },
    {
      "cell_type": "code",
      "metadata": {
        "id": "VGwxSiBQyzyX"
      },
      "source": [
        ""
      ],
      "execution_count": 113,
      "outputs": []
    },
    {
      "cell_type": "code",
      "metadata": {
        "colab": {
          "base_uri": "https://localhost:8080/"
        },
        "id": "kxnoUSIJ6Hr7",
        "outputId": "1d89d795-5918-43ab-8a5a-e1640927e66f"
      },
      "source": [
        "from tensorflow.keras import Sequential\n",
        "from tensorflow.keras.layers import Dense\n",
        "model=Sequential()\n",
        "model.add(Dense(50, activation='sigmoid', input_shape=(10,)))#加入第一層hidden Layer神經元數(維度)為50，inputshape為10，激勵函數為sigmoid\n",
        "model.add(Dense(30, activation='sigmoid'))#加入第二層hidden Layer神經元數(維度)為30，inputshape為50，激勵函數為sigmoid\n",
        "model.add(Dense(1, activation='sigmoid'))#加入Output Layer 神經元數(維度)為1，inputshape為30，，激勵函數為sigmoid\n",
        "model.compile(optimizer='adam', loss='binary_crossentropy', metrics=['accuracy'])#優化器為adam,loss為binary_crossentropy,metrics為accuracy\n",
        "history = model.fit(X_train, Y_train, epochs=100, batch_size=20)#開始訓練,epoch為100,batch_size為20\n",
        "model.summary()#輸出模型架構\n",
        "test_los,test_acc=model.evaluate(X_test, Y_test)#準確率\n",
        "\n",
        "\n"
      ],
      "execution_count": 114,
      "outputs": [
        {
          "output_type": "stream",
          "text": [
            "Epoch 1/100\n",
            "181/181 [==============================] - 0s 2ms/step - loss: 0.3455 - accuracy: 0.8877\n",
            "Epoch 2/100\n",
            "181/181 [==============================] - 0s 2ms/step - loss: 0.3085 - accuracy: 0.8874\n",
            "Epoch 3/100\n",
            "181/181 [==============================] - 0s 2ms/step - loss: 0.2756 - accuracy: 0.8891\n",
            "Epoch 4/100\n",
            "181/181 [==============================] - 0s 2ms/step - loss: 0.2632 - accuracy: 0.8908\n",
            "Epoch 5/100\n",
            "181/181 [==============================] - 0s 2ms/step - loss: 0.2612 - accuracy: 0.8905\n",
            "Epoch 6/100\n",
            "181/181 [==============================] - 0s 2ms/step - loss: 0.2606 - accuracy: 0.8897\n",
            "Epoch 7/100\n",
            "181/181 [==============================] - 0s 2ms/step - loss: 0.2588 - accuracy: 0.8913\n",
            "Epoch 8/100\n",
            "181/181 [==============================] - 0s 2ms/step - loss: 0.2581 - accuracy: 0.8913\n",
            "Epoch 9/100\n",
            "181/181 [==============================] - 0s 2ms/step - loss: 0.2577 - accuracy: 0.8927\n",
            "Epoch 10/100\n",
            "181/181 [==============================] - 0s 2ms/step - loss: 0.2565 - accuracy: 0.8946\n",
            "Epoch 11/100\n",
            "181/181 [==============================] - 0s 2ms/step - loss: 0.2576 - accuracy: 0.8935\n",
            "Epoch 12/100\n",
            "181/181 [==============================] - 0s 2ms/step - loss: 0.2562 - accuracy: 0.8921\n",
            "Epoch 13/100\n",
            "181/181 [==============================] - 0s 2ms/step - loss: 0.2560 - accuracy: 0.8919\n",
            "Epoch 14/100\n",
            "181/181 [==============================] - 0s 2ms/step - loss: 0.2557 - accuracy: 0.8913\n",
            "Epoch 15/100\n",
            "181/181 [==============================] - 0s 2ms/step - loss: 0.2554 - accuracy: 0.8924\n",
            "Epoch 16/100\n",
            "181/181 [==============================] - 0s 2ms/step - loss: 0.2554 - accuracy: 0.8933\n",
            "Epoch 17/100\n",
            "181/181 [==============================] - 0s 2ms/step - loss: 0.2548 - accuracy: 0.8927\n",
            "Epoch 18/100\n",
            "181/181 [==============================] - 0s 2ms/step - loss: 0.2545 - accuracy: 0.8924\n",
            "Epoch 19/100\n",
            "181/181 [==============================] - 0s 2ms/step - loss: 0.2535 - accuracy: 0.8921\n",
            "Epoch 20/100\n",
            "181/181 [==============================] - 0s 2ms/step - loss: 0.2545 - accuracy: 0.8927\n",
            "Epoch 21/100\n",
            "181/181 [==============================] - 0s 2ms/step - loss: 0.2534 - accuracy: 0.8933\n",
            "Epoch 22/100\n",
            "181/181 [==============================] - 0s 2ms/step - loss: 0.2535 - accuracy: 0.8919\n",
            "Epoch 23/100\n",
            "181/181 [==============================] - 0s 2ms/step - loss: 0.2531 - accuracy: 0.8924\n",
            "Epoch 24/100\n",
            "181/181 [==============================] - 0s 2ms/step - loss: 0.2526 - accuracy: 0.8938\n",
            "Epoch 25/100\n",
            "181/181 [==============================] - 0s 2ms/step - loss: 0.2531 - accuracy: 0.8927\n",
            "Epoch 26/100\n",
            "181/181 [==============================] - 0s 2ms/step - loss: 0.2519 - accuracy: 0.8921\n",
            "Epoch 27/100\n",
            "181/181 [==============================] - 0s 2ms/step - loss: 0.2524 - accuracy: 0.8924\n",
            "Epoch 28/100\n",
            "181/181 [==============================] - 0s 2ms/step - loss: 0.2517 - accuracy: 0.8930\n",
            "Epoch 29/100\n",
            "181/181 [==============================] - 0s 2ms/step - loss: 0.2502 - accuracy: 0.8927\n",
            "Epoch 30/100\n",
            "181/181 [==============================] - 0s 2ms/step - loss: 0.2524 - accuracy: 0.8938\n",
            "Epoch 31/100\n",
            "181/181 [==============================] - 0s 2ms/step - loss: 0.2514 - accuracy: 0.8930\n",
            "Epoch 32/100\n",
            "181/181 [==============================] - 0s 2ms/step - loss: 0.2507 - accuracy: 0.8941\n",
            "Epoch 33/100\n",
            "181/181 [==============================] - 0s 2ms/step - loss: 0.2500 - accuracy: 0.8935\n",
            "Epoch 34/100\n",
            "181/181 [==============================] - 0s 2ms/step - loss: 0.2498 - accuracy: 0.8946\n",
            "Epoch 35/100\n",
            "181/181 [==============================] - 0s 2ms/step - loss: 0.2498 - accuracy: 0.8957\n",
            "Epoch 36/100\n",
            "181/181 [==============================] - 0s 2ms/step - loss: 0.2495 - accuracy: 0.8963\n",
            "Epoch 37/100\n",
            "181/181 [==============================] - 0s 2ms/step - loss: 0.2489 - accuracy: 0.8938\n",
            "Epoch 38/100\n",
            "181/181 [==============================] - 0s 2ms/step - loss: 0.2490 - accuracy: 0.8944\n",
            "Epoch 39/100\n",
            "181/181 [==============================] - 0s 2ms/step - loss: 0.2489 - accuracy: 0.8938\n",
            "Epoch 40/100\n",
            "181/181 [==============================] - 0s 2ms/step - loss: 0.2484 - accuracy: 0.8946\n",
            "Epoch 41/100\n",
            "181/181 [==============================] - 0s 2ms/step - loss: 0.2482 - accuracy: 0.8968\n",
            "Epoch 42/100\n",
            "181/181 [==============================] - 0s 2ms/step - loss: 0.2480 - accuracy: 0.8957\n",
            "Epoch 43/100\n",
            "181/181 [==============================] - 0s 2ms/step - loss: 0.2477 - accuracy: 0.8966\n",
            "Epoch 44/100\n",
            "181/181 [==============================] - 0s 2ms/step - loss: 0.2479 - accuracy: 0.8980\n",
            "Epoch 45/100\n",
            "181/181 [==============================] - 0s 2ms/step - loss: 0.2468 - accuracy: 0.8966\n",
            "Epoch 46/100\n",
            "181/181 [==============================] - 0s 2ms/step - loss: 0.2469 - accuracy: 0.8960\n",
            "Epoch 47/100\n",
            "181/181 [==============================] - 0s 2ms/step - loss: 0.2466 - accuracy: 0.8974\n",
            "Epoch 48/100\n",
            "181/181 [==============================] - 0s 2ms/step - loss: 0.2465 - accuracy: 0.8968\n",
            "Epoch 49/100\n",
            "181/181 [==============================] - 0s 2ms/step - loss: 0.2462 - accuracy: 0.8966\n",
            "Epoch 50/100\n",
            "181/181 [==============================] - 0s 2ms/step - loss: 0.2463 - accuracy: 0.8968\n",
            "Epoch 51/100\n",
            "181/181 [==============================] - 0s 2ms/step - loss: 0.2444 - accuracy: 0.8985\n",
            "Epoch 52/100\n",
            "181/181 [==============================] - 0s 2ms/step - loss: 0.2460 - accuracy: 0.8971\n",
            "Epoch 53/100\n",
            "181/181 [==============================] - 0s 2ms/step - loss: 0.2457 - accuracy: 0.8974\n",
            "Epoch 54/100\n",
            "181/181 [==============================] - 0s 2ms/step - loss: 0.2449 - accuracy: 0.8999\n",
            "Epoch 55/100\n",
            "181/181 [==============================] - 0s 2ms/step - loss: 0.2447 - accuracy: 0.8993\n",
            "Epoch 56/100\n",
            "181/181 [==============================] - 0s 2ms/step - loss: 0.2449 - accuracy: 0.8968\n",
            "Epoch 57/100\n",
            "181/181 [==============================] - 0s 2ms/step - loss: 0.2444 - accuracy: 0.8971\n",
            "Epoch 58/100\n",
            "181/181 [==============================] - 0s 2ms/step - loss: 0.2434 - accuracy: 0.8988\n",
            "Epoch 59/100\n",
            "181/181 [==============================] - 0s 2ms/step - loss: 0.2443 - accuracy: 0.8980\n",
            "Epoch 60/100\n",
            "181/181 [==============================] - 0s 2ms/step - loss: 0.2430 - accuracy: 0.8966\n",
            "Epoch 61/100\n",
            "181/181 [==============================] - 0s 2ms/step - loss: 0.2442 - accuracy: 0.8974\n",
            "Epoch 62/100\n",
            "181/181 [==============================] - 0s 2ms/step - loss: 0.2425 - accuracy: 0.8982\n",
            "Epoch 63/100\n",
            "181/181 [==============================] - 0s 2ms/step - loss: 0.2433 - accuracy: 0.8993\n",
            "Epoch 64/100\n",
            "181/181 [==============================] - 0s 2ms/step - loss: 0.2427 - accuracy: 0.8980\n",
            "Epoch 65/100\n",
            "181/181 [==============================] - 0s 2ms/step - loss: 0.2429 - accuracy: 0.9010\n",
            "Epoch 66/100\n",
            "181/181 [==============================] - 0s 2ms/step - loss: 0.2423 - accuracy: 0.9010\n",
            "Epoch 67/100\n",
            "181/181 [==============================] - 0s 2ms/step - loss: 0.2435 - accuracy: 0.8985\n",
            "Epoch 68/100\n",
            "181/181 [==============================] - 0s 2ms/step - loss: 0.2424 - accuracy: 0.9002\n",
            "Epoch 69/100\n",
            "181/181 [==============================] - 0s 2ms/step - loss: 0.2415 - accuracy: 0.8993\n",
            "Epoch 70/100\n",
            "181/181 [==============================] - 0s 2ms/step - loss: 0.2413 - accuracy: 0.8996\n",
            "Epoch 71/100\n",
            "181/181 [==============================] - 0s 2ms/step - loss: 0.2413 - accuracy: 0.9010\n",
            "Epoch 72/100\n",
            "181/181 [==============================] - 0s 2ms/step - loss: 0.2406 - accuracy: 0.8966\n",
            "Epoch 73/100\n",
            "181/181 [==============================] - 0s 2ms/step - loss: 0.2404 - accuracy: 0.9002\n",
            "Epoch 74/100\n",
            "181/181 [==============================] - 0s 2ms/step - loss: 0.2403 - accuracy: 0.9004\n",
            "Epoch 75/100\n",
            "181/181 [==============================] - 0s 2ms/step - loss: 0.2403 - accuracy: 0.9007\n",
            "Epoch 76/100\n",
            "181/181 [==============================] - 0s 2ms/step - loss: 0.2400 - accuracy: 0.9004\n",
            "Epoch 77/100\n",
            "181/181 [==============================] - 0s 2ms/step - loss: 0.2397 - accuracy: 0.9013\n",
            "Epoch 78/100\n",
            "181/181 [==============================] - 0s 2ms/step - loss: 0.2396 - accuracy: 0.9004\n",
            "Epoch 79/100\n",
            "181/181 [==============================] - 0s 2ms/step - loss: 0.2386 - accuracy: 0.9002\n",
            "Epoch 80/100\n",
            "181/181 [==============================] - 0s 2ms/step - loss: 0.2387 - accuracy: 0.8996\n",
            "Epoch 81/100\n",
            "181/181 [==============================] - 0s 2ms/step - loss: 0.2380 - accuracy: 0.9010\n",
            "Epoch 82/100\n",
            "181/181 [==============================] - 0s 2ms/step - loss: 0.2386 - accuracy: 0.9018\n",
            "Epoch 83/100\n",
            "181/181 [==============================] - 0s 2ms/step - loss: 0.2380 - accuracy: 0.8999\n",
            "Epoch 84/100\n",
            "181/181 [==============================] - 0s 2ms/step - loss: 0.2385 - accuracy: 0.9013\n",
            "Epoch 85/100\n",
            "181/181 [==============================] - 0s 2ms/step - loss: 0.2372 - accuracy: 0.9027\n",
            "Epoch 86/100\n",
            "181/181 [==============================] - 0s 2ms/step - loss: 0.2367 - accuracy: 0.9021\n",
            "Epoch 87/100\n",
            "181/181 [==============================] - 0s 2ms/step - loss: 0.2371 - accuracy: 0.9013\n",
            "Epoch 88/100\n",
            "181/181 [==============================] - 0s 2ms/step - loss: 0.2366 - accuracy: 0.9032\n",
            "Epoch 89/100\n",
            "181/181 [==============================] - 0s 2ms/step - loss: 0.2364 - accuracy: 0.9038\n",
            "Epoch 90/100\n",
            "181/181 [==============================] - 0s 2ms/step - loss: 0.2363 - accuracy: 0.9024\n",
            "Epoch 91/100\n",
            "181/181 [==============================] - 0s 2ms/step - loss: 0.2356 - accuracy: 0.9032\n",
            "Epoch 92/100\n",
            "181/181 [==============================] - 0s 2ms/step - loss: 0.2360 - accuracy: 0.9029\n",
            "Epoch 93/100\n",
            "181/181 [==============================] - 0s 2ms/step - loss: 0.2354 - accuracy: 0.9038\n",
            "Epoch 94/100\n",
            "181/181 [==============================] - 0s 2ms/step - loss: 0.2350 - accuracy: 0.9040\n",
            "Epoch 95/100\n",
            "181/181 [==============================] - 0s 2ms/step - loss: 0.2342 - accuracy: 0.9027\n",
            "Epoch 96/100\n",
            "181/181 [==============================] - 0s 2ms/step - loss: 0.2346 - accuracy: 0.9024\n",
            "Epoch 97/100\n",
            "181/181 [==============================] - 0s 2ms/step - loss: 0.2344 - accuracy: 0.9049\n",
            "Epoch 98/100\n",
            "181/181 [==============================] - 0s 2ms/step - loss: 0.2339 - accuracy: 0.9035\n",
            "Epoch 99/100\n",
            "181/181 [==============================] - 0s 2ms/step - loss: 0.2336 - accuracy: 0.9051\n",
            "Epoch 100/100\n",
            "181/181 [==============================] - 0s 2ms/step - loss: 0.2348 - accuracy: 0.9043\n",
            "Model: \"sequential_6\"\n",
            "_________________________________________________________________\n",
            "Layer (type)                 Output Shape              Param #   \n",
            "=================================================================\n",
            "dense_14 (Dense)             (None, 50)                550       \n",
            "_________________________________________________________________\n",
            "dense_15 (Dense)             (None, 30)                1530      \n",
            "_________________________________________________________________\n",
            "dense_16 (Dense)             (None, 1)                 31        \n",
            "=================================================================\n",
            "Total params: 2,111\n",
            "Trainable params: 2,111\n",
            "Non-trainable params: 0\n",
            "_________________________________________________________________\n",
            "29/29 [==============================] - 0s 2ms/step - loss: 0.2771 - accuracy: 0.8807\n"
          ],
          "name": "stdout"
        }
      ]
    },
    {
      "cell_type": "code",
      "metadata": {
        "colab": {
          "base_uri": "https://localhost:8080/"
        },
        "id": "lP87jIbEqeWF",
        "outputId": "df6803a6-f5eb-444d-97a2-213c5c1c1a59"
      },
      "source": [
        "from tensorflow.keras import Sequential\n",
        "from tensorflow.keras.layers import Dense\n",
        "model_1=Sequential()\n",
        "model_1.add(Dense(1, activation='sigmoid'))\n",
        "model_1.compile(optimizer='RMSprop', loss='binary_crossentropy', metrics=['accuracy'])\n",
        "history_1 = model_1.fit(X_train, Y_train, epochs=100,batch_size=20)\n"
      ],
      "execution_count": 115,
      "outputs": [
        {
          "output_type": "stream",
          "text": [
            "Epoch 1/100\n",
            "181/181 [==============================] - 0s 2ms/step - loss: 0.9206 - accuracy: 0.5376\n",
            "Epoch 2/100\n",
            "181/181 [==============================] - 0s 2ms/step - loss: 0.7728 - accuracy: 0.5915\n",
            "Epoch 3/100\n",
            "181/181 [==============================] - 0s 2ms/step - loss: 0.6470 - accuracy: 0.6607\n",
            "Epoch 4/100\n",
            "181/181 [==============================] - 0s 2ms/step - loss: 0.5435 - accuracy: 0.7414\n",
            "Epoch 5/100\n",
            "181/181 [==============================] - 0s 2ms/step - loss: 0.4654 - accuracy: 0.8252\n",
            "Epoch 6/100\n",
            "181/181 [==============================] - 0s 2ms/step - loss: 0.4091 - accuracy: 0.8778\n",
            "Epoch 7/100\n",
            "181/181 [==============================] - 0s 2ms/step - loss: 0.3714 - accuracy: 0.8899\n",
            "Epoch 8/100\n",
            "181/181 [==============================] - 0s 2ms/step - loss: 0.3445 - accuracy: 0.8924\n",
            "Epoch 9/100\n",
            "181/181 [==============================] - 0s 2ms/step - loss: 0.3256 - accuracy: 0.8921\n",
            "Epoch 10/100\n",
            "181/181 [==============================] - 0s 2ms/step - loss: 0.3112 - accuracy: 0.8916\n",
            "Epoch 11/100\n",
            "181/181 [==============================] - 0s 2ms/step - loss: 0.3007 - accuracy: 0.8913\n",
            "Epoch 12/100\n",
            "181/181 [==============================] - 0s 2ms/step - loss: 0.2933 - accuracy: 0.8921\n",
            "Epoch 13/100\n",
            "181/181 [==============================] - 0s 2ms/step - loss: 0.2877 - accuracy: 0.8919\n",
            "Epoch 14/100\n",
            "181/181 [==============================] - 0s 2ms/step - loss: 0.2837 - accuracy: 0.8916\n",
            "Epoch 15/100\n",
            "181/181 [==============================] - 0s 2ms/step - loss: 0.2812 - accuracy: 0.8913\n",
            "Epoch 16/100\n",
            "181/181 [==============================] - 0s 2ms/step - loss: 0.2793 - accuracy: 0.8916\n",
            "Epoch 17/100\n",
            "181/181 [==============================] - 0s 2ms/step - loss: 0.2777 - accuracy: 0.8916\n",
            "Epoch 18/100\n",
            "181/181 [==============================] - 0s 2ms/step - loss: 0.2766 - accuracy: 0.8916\n",
            "Epoch 19/100\n",
            "181/181 [==============================] - 0s 2ms/step - loss: 0.2757 - accuracy: 0.8916\n",
            "Epoch 20/100\n",
            "181/181 [==============================] - 0s 2ms/step - loss: 0.2751 - accuracy: 0.8913\n",
            "Epoch 21/100\n",
            "181/181 [==============================] - 0s 2ms/step - loss: 0.2745 - accuracy: 0.8916\n",
            "Epoch 22/100\n",
            "181/181 [==============================] - 0s 2ms/step - loss: 0.2741 - accuracy: 0.8913\n",
            "Epoch 23/100\n",
            "181/181 [==============================] - 0s 2ms/step - loss: 0.2738 - accuracy: 0.8913\n",
            "Epoch 24/100\n",
            "181/181 [==============================] - 0s 2ms/step - loss: 0.2736 - accuracy: 0.8913\n",
            "Epoch 25/100\n",
            "181/181 [==============================] - 0s 2ms/step - loss: 0.2734 - accuracy: 0.8913\n",
            "Epoch 26/100\n",
            "181/181 [==============================] - 0s 2ms/step - loss: 0.2733 - accuracy: 0.8913\n",
            "Epoch 27/100\n",
            "181/181 [==============================] - 0s 2ms/step - loss: 0.2732 - accuracy: 0.8913\n",
            "Epoch 28/100\n",
            "181/181 [==============================] - 0s 2ms/step - loss: 0.2730 - accuracy: 0.8913\n",
            "Epoch 29/100\n",
            "181/181 [==============================] - 0s 2ms/step - loss: 0.2730 - accuracy: 0.8913\n",
            "Epoch 30/100\n",
            "181/181 [==============================] - 0s 2ms/step - loss: 0.2729 - accuracy: 0.8913\n",
            "Epoch 31/100\n",
            "181/181 [==============================] - 0s 2ms/step - loss: 0.2728 - accuracy: 0.8908\n",
            "Epoch 32/100\n",
            "181/181 [==============================] - 0s 2ms/step - loss: 0.2728 - accuracy: 0.8913\n",
            "Epoch 33/100\n",
            "181/181 [==============================] - 0s 2ms/step - loss: 0.2728 - accuracy: 0.8916\n",
            "Epoch 34/100\n",
            "181/181 [==============================] - 0s 2ms/step - loss: 0.2727 - accuracy: 0.8913\n",
            "Epoch 35/100\n",
            "181/181 [==============================] - 0s 2ms/step - loss: 0.2727 - accuracy: 0.8910\n",
            "Epoch 36/100\n",
            "181/181 [==============================] - 0s 2ms/step - loss: 0.2727 - accuracy: 0.8908\n",
            "Epoch 37/100\n",
            "181/181 [==============================] - 0s 2ms/step - loss: 0.2727 - accuracy: 0.8910\n",
            "Epoch 38/100\n",
            "181/181 [==============================] - 0s 2ms/step - loss: 0.2726 - accuracy: 0.8910\n",
            "Epoch 39/100\n",
            "181/181 [==============================] - 0s 2ms/step - loss: 0.2726 - accuracy: 0.8916\n",
            "Epoch 40/100\n",
            "181/181 [==============================] - 0s 2ms/step - loss: 0.2727 - accuracy: 0.8910\n",
            "Epoch 41/100\n",
            "181/181 [==============================] - 0s 2ms/step - loss: 0.2727 - accuracy: 0.8910\n",
            "Epoch 42/100\n",
            "181/181 [==============================] - 0s 2ms/step - loss: 0.2726 - accuracy: 0.8916\n",
            "Epoch 43/100\n",
            "181/181 [==============================] - 0s 2ms/step - loss: 0.2726 - accuracy: 0.8910\n",
            "Epoch 44/100\n",
            "181/181 [==============================] - 0s 2ms/step - loss: 0.2726 - accuracy: 0.8908\n",
            "Epoch 45/100\n",
            "181/181 [==============================] - 0s 2ms/step - loss: 0.2727 - accuracy: 0.8913\n",
            "Epoch 46/100\n",
            "181/181 [==============================] - 0s 2ms/step - loss: 0.2726 - accuracy: 0.8908\n",
            "Epoch 47/100\n",
            "181/181 [==============================] - 0s 2ms/step - loss: 0.2727 - accuracy: 0.8910\n",
            "Epoch 48/100\n",
            "181/181 [==============================] - 0s 2ms/step - loss: 0.2726 - accuracy: 0.8910\n",
            "Epoch 49/100\n",
            "181/181 [==============================] - 0s 2ms/step - loss: 0.2727 - accuracy: 0.8908\n",
            "Epoch 50/100\n",
            "181/181 [==============================] - 0s 2ms/step - loss: 0.2726 - accuracy: 0.8913\n",
            "Epoch 51/100\n",
            "181/181 [==============================] - 0s 2ms/step - loss: 0.2727 - accuracy: 0.8908\n",
            "Epoch 52/100\n",
            "181/181 [==============================] - 0s 2ms/step - loss: 0.2726 - accuracy: 0.8902\n",
            "Epoch 53/100\n",
            "181/181 [==============================] - 0s 2ms/step - loss: 0.2727 - accuracy: 0.8908\n",
            "Epoch 54/100\n",
            "181/181 [==============================] - 0s 2ms/step - loss: 0.2727 - accuracy: 0.8910\n",
            "Epoch 55/100\n",
            "181/181 [==============================] - 0s 2ms/step - loss: 0.2727 - accuracy: 0.8908\n",
            "Epoch 56/100\n",
            "181/181 [==============================] - 0s 2ms/step - loss: 0.2727 - accuracy: 0.8910\n",
            "Epoch 57/100\n",
            "181/181 [==============================] - 0s 2ms/step - loss: 0.2726 - accuracy: 0.8905\n",
            "Epoch 58/100\n",
            "181/181 [==============================] - 0s 2ms/step - loss: 0.2726 - accuracy: 0.8902\n",
            "Epoch 59/100\n",
            "181/181 [==============================] - 0s 2ms/step - loss: 0.2727 - accuracy: 0.8908\n",
            "Epoch 60/100\n",
            "181/181 [==============================] - 0s 2ms/step - loss: 0.2727 - accuracy: 0.8908\n",
            "Epoch 61/100\n",
            "181/181 [==============================] - 0s 2ms/step - loss: 0.2726 - accuracy: 0.8910\n",
            "Epoch 62/100\n",
            "181/181 [==============================] - 0s 2ms/step - loss: 0.2727 - accuracy: 0.8905\n",
            "Epoch 63/100\n",
            "181/181 [==============================] - 0s 2ms/step - loss: 0.2727 - accuracy: 0.8899\n",
            "Epoch 64/100\n",
            "181/181 [==============================] - 0s 2ms/step - loss: 0.2726 - accuracy: 0.8902\n",
            "Epoch 65/100\n",
            "181/181 [==============================] - 0s 2ms/step - loss: 0.2727 - accuracy: 0.8910\n",
            "Epoch 66/100\n",
            "181/181 [==============================] - 0s 2ms/step - loss: 0.2727 - accuracy: 0.8905\n",
            "Epoch 67/100\n",
            "181/181 [==============================] - 0s 2ms/step - loss: 0.2727 - accuracy: 0.8902\n",
            "Epoch 68/100\n",
            "181/181 [==============================] - 0s 2ms/step - loss: 0.2726 - accuracy: 0.8908\n",
            "Epoch 69/100\n",
            "181/181 [==============================] - 0s 2ms/step - loss: 0.2726 - accuracy: 0.8905\n",
            "Epoch 70/100\n",
            "181/181 [==============================] - 0s 2ms/step - loss: 0.2727 - accuracy: 0.8905\n",
            "Epoch 71/100\n",
            "181/181 [==============================] - 0s 2ms/step - loss: 0.2727 - accuracy: 0.8910\n",
            "Epoch 72/100\n",
            "181/181 [==============================] - 0s 2ms/step - loss: 0.2726 - accuracy: 0.8905\n",
            "Epoch 73/100\n",
            "181/181 [==============================] - 0s 2ms/step - loss: 0.2727 - accuracy: 0.8908\n",
            "Epoch 74/100\n",
            "181/181 [==============================] - 0s 2ms/step - loss: 0.2727 - accuracy: 0.8897\n",
            "Epoch 75/100\n",
            "181/181 [==============================] - 0s 2ms/step - loss: 0.2727 - accuracy: 0.8908\n",
            "Epoch 76/100\n",
            "181/181 [==============================] - 0s 2ms/step - loss: 0.2727 - accuracy: 0.8905\n",
            "Epoch 77/100\n",
            "181/181 [==============================] - 0s 2ms/step - loss: 0.2726 - accuracy: 0.8905\n",
            "Epoch 78/100\n",
            "181/181 [==============================] - 0s 2ms/step - loss: 0.2727 - accuracy: 0.8910\n",
            "Epoch 79/100\n",
            "181/181 [==============================] - 0s 2ms/step - loss: 0.2727 - accuracy: 0.8908\n",
            "Epoch 80/100\n",
            "181/181 [==============================] - 0s 2ms/step - loss: 0.2726 - accuracy: 0.8908\n",
            "Epoch 81/100\n",
            "181/181 [==============================] - 0s 2ms/step - loss: 0.2727 - accuracy: 0.8905\n",
            "Epoch 82/100\n",
            "181/181 [==============================] - 0s 2ms/step - loss: 0.2727 - accuracy: 0.8910\n",
            "Epoch 83/100\n",
            "181/181 [==============================] - 0s 2ms/step - loss: 0.2726 - accuracy: 0.8910\n",
            "Epoch 84/100\n",
            "181/181 [==============================] - 0s 2ms/step - loss: 0.2727 - accuracy: 0.8910\n",
            "Epoch 85/100\n",
            "181/181 [==============================] - 0s 2ms/step - loss: 0.2727 - accuracy: 0.8905\n",
            "Epoch 86/100\n",
            "181/181 [==============================] - 0s 2ms/step - loss: 0.2727 - accuracy: 0.8902\n",
            "Epoch 87/100\n",
            "181/181 [==============================] - 0s 2ms/step - loss: 0.2727 - accuracy: 0.8902\n",
            "Epoch 88/100\n",
            "181/181 [==============================] - 0s 2ms/step - loss: 0.2727 - accuracy: 0.8910\n",
            "Epoch 89/100\n",
            "181/181 [==============================] - 0s 2ms/step - loss: 0.2727 - accuracy: 0.8908\n",
            "Epoch 90/100\n",
            "181/181 [==============================] - 0s 2ms/step - loss: 0.2727 - accuracy: 0.8908\n",
            "Epoch 91/100\n",
            "181/181 [==============================] - 0s 2ms/step - loss: 0.2727 - accuracy: 0.8908\n",
            "Epoch 92/100\n",
            "181/181 [==============================] - 0s 2ms/step - loss: 0.2727 - accuracy: 0.8905\n",
            "Epoch 93/100\n",
            "181/181 [==============================] - 0s 2ms/step - loss: 0.2727 - accuracy: 0.8905\n",
            "Epoch 94/100\n",
            "181/181 [==============================] - 0s 2ms/step - loss: 0.2727 - accuracy: 0.8910\n",
            "Epoch 95/100\n",
            "181/181 [==============================] - 0s 2ms/step - loss: 0.2727 - accuracy: 0.8902\n",
            "Epoch 96/100\n",
            "181/181 [==============================] - 0s 2ms/step - loss: 0.2727 - accuracy: 0.8905\n",
            "Epoch 97/100\n",
            "181/181 [==============================] - 0s 2ms/step - loss: 0.2727 - accuracy: 0.8908\n",
            "Epoch 98/100\n",
            "181/181 [==============================] - 0s 2ms/step - loss: 0.2727 - accuracy: 0.8908\n",
            "Epoch 99/100\n",
            "181/181 [==============================] - 0s 2ms/step - loss: 0.2727 - accuracy: 0.8910\n",
            "Epoch 100/100\n",
            "181/181 [==============================] - 0s 2ms/step - loss: 0.2727 - accuracy: 0.8905\n"
          ],
          "name": "stdout"
        }
      ]
    },
    {
      "cell_type": "code",
      "metadata": {
        "colab": {
          "base_uri": "https://localhost:8080/"
        },
        "id": "twgGENdNwtOy",
        "outputId": "de6d1363-1ebd-42b9-e34f-e29ab98bbf48"
      },
      "source": [
        "model_1.summary()"
      ],
      "execution_count": 116,
      "outputs": [
        {
          "output_type": "stream",
          "text": [
            "Model: \"sequential_7\"\n",
            "_________________________________________________________________\n",
            "Layer (type)                 Output Shape              Param #   \n",
            "=================================================================\n",
            "dense_17 (Dense)             (None, 1)                 11        \n",
            "=================================================================\n",
            "Total params: 11\n",
            "Trainable params: 11\n",
            "Non-trainable params: 0\n",
            "_________________________________________________________________\n"
          ],
          "name": "stdout"
        }
      ]
    },
    {
      "cell_type": "code",
      "metadata": {
        "colab": {
          "base_uri": "https://localhost:8080/"
        },
        "id": "JjvS0dfq-znx",
        "outputId": "407c1c56-ca88-4952-e9b4-87890e189b44"
      },
      "source": [
        "model_1.evaluate(X_test, Y_test,verbose=0)\n"
      ],
      "execution_count": 117,
      "outputs": [
        {
          "output_type": "execute_result",
          "data": {
            "text/plain": [
              "[0.2852277457714081, 0.8839778900146484]"
            ]
          },
          "metadata": {
            "tags": []
          },
          "execution_count": 117
        }
      ]
    },
    {
      "cell_type": "code",
      "metadata": {
        "colab": {
          "base_uri": "https://localhost:8080/",
          "height": 312
        },
        "id": "ZTZ7MipDGuo3",
        "outputId": "a6281f52-27fc-4844-a913-6b728dd8704f"
      },
      "source": [
        "import matplotlib.pyplot as plt\n",
        "plt.title('MLNN_loss')\n",
        "plt.ylabel('loss')\n",
        "plt.xlabel('epoch')\n",
        "plt.plot(history.history['loss'])"
      ],
      "execution_count": 118,
      "outputs": [
        {
          "output_type": "execute_result",
          "data": {
            "text/plain": [
              "[<matplotlib.lines.Line2D at 0x7f6b3837da20>]"
            ]
          },
          "metadata": {
            "tags": []
          },
          "execution_count": 118
        },
        {
          "output_type": "display_data",
          "data": {
            "image/png": "[encoded data removed]",
            "text/plain": [
              "<Figure size 432x288 with 1 Axes>"
            ]
          },
          "metadata": {
            "tags": [],
            "needs_background": "light"
          }
        }
      ]
    },
    {
      "cell_type": "code",
      "metadata": {
        "colab": {
          "base_uri": "https://localhost:8080/",
          "height": 312
        },
        "id": "DLu4NMA7m01R",
        "outputId": "1cb3cb35-bd8a-4a84-c874-991dd328e84c"
      },
      "source": [
        "import matplotlib.pyplot as plt\n",
        "plt.title('MLNN_accuracy')\n",
        "plt.ylabel('accuracy')\n",
        "plt.xlabel('epoch')\n",
        "plt.plot(history.history['accuracy'])"
      ],
      "execution_count": 119,
      "outputs": [
        {
          "output_type": "execute_result",
          "data": {
            "text/plain": [
              "[<matplotlib.lines.Line2D at 0x7f6b3837d240>]"
            ]
          },
          "metadata": {
            "tags": []
          },
          "execution_count": 119
        },
        {
          "output_type": "display_data",
          "data": {
            "image/png": "[encoded data removed]",
            "text/plain": [
              "<Figure size 432x288 with 1 Axes>"
            ]
          },
          "metadata": {
            "tags": [],
            "needs_background": "light"
          }
        }
      ]
    },
    {
      "cell_type": "code",
      "metadata": {
        "colab": {
          "base_uri": "https://localhost:8080/",
          "height": 312
        },
        "id": "0vb5M4UG2Ghi",
        "outputId": "b49d9b06-ea9a-420a-e5f2-569ea618bedb"
      },
      "source": [
        "import matplotlib.pyplot as plt\n",
        "plt.title('logistic regression_loss')\n",
        "plt.ylabel('loss')\n",
        "plt.xlabel('epoch')\n",
        "plt.plot(history_1.history['loss'])"
      ],
      "execution_count": 120,
      "outputs": [
        {
          "output_type": "execute_result",
          "data": {
            "text/plain": [
              "[<matplotlib.lines.Line2D at 0x7f6b903964a8>]"
            ]
          },
          "metadata": {
            "tags": []
          },
          "execution_count": 120
        },
        {
          "output_type": "display_data",
          "data": {
            "image/png": "[encoded data removed]",
            "text/plain": [
              "<Figure size 432x288 with 1 Axes>"
            ]
          },
          "metadata": {
            "tags": [],
            "needs_background": "light"
          }
        }
      ]
    },
    {
      "cell_type": "code",
      "metadata": {
        "colab": {
          "base_uri": "https://localhost:8080/",
          "height": 312
        },
        "id": "2I6Kv6li5Cek",
        "outputId": "748b4cea-7113-4bad-cec9-26c57d7a777a"
      },
      "source": [
        "import matplotlib.pyplot as plt\n",
        "plt.title('logistic regression_accuracy')\n",
        "plt.ylabel('loss')\n",
        "plt.xlabel('epoch')\n",
        "plt.plot(history_1.history['accuracy'])"
      ],
      "execution_count": 121,
      "outputs": [
        {
          "output_type": "execute_result",
          "data": {
            "text/plain": [
              "[<matplotlib.lines.Line2D at 0x7f6b381ccf98>]"
            ]
          },
          "metadata": {
            "tags": []
          },
          "execution_count": 121
        },
        {
          "output_type": "display_data",
          "data": {
            "image/png": "[encoded data removed]",
            "text/plain": [
              "<Figure size 432x288 with 1 Axes>"
            ]
          },
          "metadata": {
            "tags": [],
            "needs_background": "light"
          }
        }
      ]
    }
  ]
}