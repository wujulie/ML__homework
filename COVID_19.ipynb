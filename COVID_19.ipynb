{
  "nbformat": 4,
  "nbformat_minor": 0,
  "metadata": {
    "colab": {
      "name": "COVID-19.ipynb",
      "provenance": [],
      "collapsed_sections": [],
      "include_colab_link": true
    },
    "kernelspec": {
      "name": "python3",
      "display_name": "Python 3"
    },
    "language_info": {
      "name": "python"
    },
    "accelerator": "GPU"
  },
  "cells": [
    {
      "cell_type": "markdown",
      "metadata": {
        "id": "view-in-github",
        "colab_type": "text"
      },
      "source": [
        "<a href=\"https://colab.research.google.com/github/wujulie/ML__homework/blob/main/COVID_19.ipynb\" target=\"_parent\"><img src=\"https://colab.research.google.com/assets/colab-badge.svg\" alt=\"Open In Colab\"/></a>"
      ]
    },
    {
      "cell_type": "code",
      "metadata": {
        "colab": {
          "base_uri": "https://localhost:8080/"
        },
        "id": "OEdKAe0MzoPR",
        "outputId": "85f9247e-43c7-4a7e-9570-f169da1838f5"
      },
      "source": [
        "from google.colab import drive\n",
        "drive.mount('/content/drive')"
      ],
      "execution_count": null,
      "outputs": [
        {
          "output_type": "stream",
          "text": [
            "Mounted at /content/drive\n"
          ],
          "name": "stdout"
        }
      ]
    },
    {
      "cell_type": "markdown",
      "metadata": {
        "id": "hmuB0A64CfdH"
      },
      "source": [
        "# 讀入資料"
      ]
    },
    {
      "cell_type": "code",
      "metadata": {
        "colab": {
          "base_uri": "https://localhost:8080/"
        },
        "id": "4oy6Io5xATYP",
        "outputId": "cb36a15c-880d-427c-80ae-bb48c3393bbc"
      },
      "source": [
        "import numpy as np\n",
        "import pandas as pd\n",
        "data=pd.read_csv('/content/drive/MyDrive/COVID-19/covid_19_data.csv',header='infer')\n",
        "pd.set_option('display.max_columns',None) \n",
        "print(data.shape)"
      ],
      "execution_count": null,
      "outputs": [
        {
          "output_type": "stream",
          "text": [
            "(306429, 8)\n"
          ],
          "name": "stdout"
        }
      ]
    },
    {
      "cell_type": "code",
      "metadata": {
        "colab": {
          "base_uri": "https://localhost:8080/",
          "height": 206
        },
        "id": "9nVZRsmq87hJ",
        "outputId": "ee683a60-5a01-42eb-d4bc-baf7acfa2652"
      },
      "source": [
        "data.head()"
      ],
      "execution_count": null,
      "outputs": [
        {
          "output_type": "execute_result",
          "data": {
            "text/html": [
              "<div>\n",
              "<style scoped>\n",
              "    .dataframe tbody tr th:only-of-type {\n",
              "        vertical-align: middle;\n",
              "    }\n",
              "\n",
              "    .dataframe tbody tr th {\n",
              "        vertical-align: top;\n",
              "    }\n",
              "\n",
              "    .dataframe thead th {\n",
              "        text-align: right;\n",
              "    }\n",
              "</style>\n",
              "<table border=\"1\" class=\"dataframe\">\n",
              "  <thead>\n",
              "    <tr style=\"text-align: right;\">\n",
              "      <th></th>\n",
              "      <th>SNo</th>\n",
              "      <th>ObservationDate</th>\n",
              "      <th>Province/State</th>\n",
              "      <th>Country/Region</th>\n",
              "      <th>Last Update</th>\n",
              "      <th>Confirmed</th>\n",
              "      <th>Deaths</th>\n",
              "      <th>Recovered</th>\n",
              "    </tr>\n",
              "  </thead>\n",
              "  <tbody>\n",
              "    <tr>\n",
              "      <th>0</th>\n",
              "      <td>1</td>\n",
              "      <td>01/22/2020</td>\n",
              "      <td>Anhui</td>\n",
              "      <td>Mainland China</td>\n",
              "      <td>1/22/2020 17:00</td>\n",
              "      <td>1.0</td>\n",
              "      <td>0.0</td>\n",
              "      <td>0.0</td>\n",
              "    </tr>\n",
              "    <tr>\n",
              "      <th>1</th>\n",
              "      <td>2</td>\n",
              "      <td>01/22/2020</td>\n",
              "      <td>Beijing</td>\n",
              "      <td>Mainland China</td>\n",
              "      <td>1/22/2020 17:00</td>\n",
              "      <td>14.0</td>\n",
              "      <td>0.0</td>\n",
              "      <td>0.0</td>\n",
              "    </tr>\n",
              "    <tr>\n",
              "      <th>2</th>\n",
              "      <td>3</td>\n",
              "      <td>01/22/2020</td>\n",
              "      <td>Chongqing</td>\n",
              "      <td>Mainland China</td>\n",
              "      <td>1/22/2020 17:00</td>\n",
              "      <td>6.0</td>\n",
              "      <td>0.0</td>\n",
              "      <td>0.0</td>\n",
              "    </tr>\n",
              "    <tr>\n",
              "      <th>3</th>\n",
              "      <td>4</td>\n",
              "      <td>01/22/2020</td>\n",
              "      <td>Fujian</td>\n",
              "      <td>Mainland China</td>\n",
              "      <td>1/22/2020 17:00</td>\n",
              "      <td>1.0</td>\n",
              "      <td>0.0</td>\n",
              "      <td>0.0</td>\n",
              "    </tr>\n",
              "    <tr>\n",
              "      <th>4</th>\n",
              "      <td>5</td>\n",
              "      <td>01/22/2020</td>\n",
              "      <td>Gansu</td>\n",
              "      <td>Mainland China</td>\n",
              "      <td>1/22/2020 17:00</td>\n",
              "      <td>0.0</td>\n",
              "      <td>0.0</td>\n",
              "      <td>0.0</td>\n",
              "    </tr>\n",
              "  </tbody>\n",
              "</table>\n",
              "</div>"
            ],
            "text/plain": [
              "   SNo ObservationDate Province/State  Country/Region      Last Update  \\\n",
              "0    1      01/22/2020          Anhui  Mainland China  1/22/2020 17:00   \n",
              "1    2      01/22/2020        Beijing  Mainland China  1/22/2020 17:00   \n",
              "2    3      01/22/2020      Chongqing  Mainland China  1/22/2020 17:00   \n",
              "3    4      01/22/2020         Fujian  Mainland China  1/22/2020 17:00   \n",
              "4    5      01/22/2020          Gansu  Mainland China  1/22/2020 17:00   \n",
              "\n",
              "   Confirmed  Deaths  Recovered  \n",
              "0        1.0     0.0        0.0  \n",
              "1       14.0     0.0        0.0  \n",
              "2        6.0     0.0        0.0  \n",
              "3        1.0     0.0        0.0  \n",
              "4        0.0     0.0        0.0  "
            ]
          },
          "metadata": {
            "tags": []
          },
          "execution_count": 4
        }
      ]
    },
    {
      "cell_type": "code",
      "metadata": {
        "id": "BbEgGV-lArmW",
        "colab": {
          "base_uri": "https://localhost:8080/"
        },
        "outputId": "be13a924-81f7-4275-8762-2cd9ade24d93"
      },
      "source": [
        "data.info()"
      ],
      "execution_count": null,
      "outputs": [
        {
          "output_type": "stream",
          "text": [
            "<class 'pandas.core.frame.DataFrame'>\n",
            "RangeIndex: 306429 entries, 0 to 306428\n",
            "Data columns (total 8 columns):\n",
            " #   Column           Non-Null Count   Dtype  \n",
            "---  ------           --------------   -----  \n",
            " 0   SNo              306429 non-null  int64  \n",
            " 1   ObservationDate  306429 non-null  object \n",
            " 2   Province/State   228329 non-null  object \n",
            " 3   Country/Region   306429 non-null  object \n",
            " 4   Last Update      306429 non-null  object \n",
            " 5   Confirmed        306429 non-null  float64\n",
            " 6   Deaths           306429 non-null  float64\n",
            " 7   Recovered        306429 non-null  float64\n",
            "dtypes: float64(3), int64(1), object(4)\n",
            "memory usage: 18.7+ MB\n"
          ],
          "name": "stdout"
        }
      ]
    },
    {
      "cell_type": "code",
      "metadata": {
        "colab": {
          "base_uri": "https://localhost:8080/"
        },
        "id": "D_kCpUiwkRl2",
        "outputId": "4e138673-6545-43c8-dbb7-89b78bb91c75"
      },
      "source": [
        "data.isnull().sum()"
      ],
      "execution_count": null,
      "outputs": [
        {
          "output_type": "execute_result",
          "data": {
            "text/plain": [
              "SNo                    0\n",
              "ObservationDate        0\n",
              "Province/State     78100\n",
              "Country/Region         0\n",
              "Last Update            0\n",
              "Confirmed              0\n",
              "Deaths                 0\n",
              "Recovered              0\n",
              "dtype: int64"
            ]
          },
          "metadata": {
            "tags": []
          },
          "execution_count": 10
        }
      ]
    },
    {
      "cell_type": "code",
      "metadata": {
        "id": "yynpGsGOePzG"
      },
      "source": [
        "import matplotlib.pyplot as plt\n",
        "import seaborn"
      ],
      "execution_count": null,
      "outputs": []
    },
    {
      "cell_type": "code",
      "metadata": {
        "colab": {
          "base_uri": "https://localhost:8080/",
          "height": 274
        },
        "id": "XFDfjnlfjZ7Y",
        "outputId": "988e704b-bdfb-452c-8ef9-a3ad4a9b642c"
      },
      "source": [
        "df_corr = data.corr()\n",
        "seaborn.heatmap(df_corr, center=0, annot=True)\n",
        "\n",
        "plt.show()"
      ],
      "execution_count": null,
      "outputs": [
        {
          "output_type": "display_data",
          "data": {
            "image/png": "[encoded data removed]",
            "text/plain": [
              "<Figure size 432x288 with 2 Axes>"
            ]
          },
          "metadata": {
            "tags": [],
            "needs_background": "light"
          }
        }
      ]
    },
    {
      "cell_type": "markdown",
      "metadata": {
        "id": "nV8t9V9wFYRB"
      },
      "source": [
        "# 增加 Date 欄位以利之後排序，\n",
        "# 並刪掉 SNo，Last Update，ObservationDate 欄位\n"
      ]
    },
    {
      "cell_type": "code",
      "metadata": {
        "id": "b-74ZWohGfPY"
      },
      "source": [
        "def add_Date_column(original_data):\n",
        "  temp = original_data\n",
        "  temp.insert(0,'Date',pd.to_datetime(temp['ObservationDate'], format=\"%m/%d/%Y\"))\n",
        "  temp.drop(columns=['SNo','ObservationDate','Last Update'],inplace=True)\n",
        "  return temp"
      ],
      "execution_count": null,
      "outputs": []
    },
    {
      "cell_type": "code",
      "metadata": {
        "colab": {
          "base_uri": "https://localhost:8080/",
          "height": 417
        },
        "id": "SujEcif9hJFc",
        "outputId": "46a9623f-6392-4d45-baab-2e3c7346e68f"
      },
      "source": [
        "data1 = add_Date_column(data)\n",
        "data1"
      ],
      "execution_count": null,
      "outputs": [
        {
          "output_type": "execute_result",
          "data": {
            "text/html": [
              "<div>\n",
              "<style scoped>\n",
              "    .dataframe tbody tr th:only-of-type {\n",
              "        vertical-align: middle;\n",
              "    }\n",
              "\n",
              "    .dataframe tbody tr th {\n",
              "        vertical-align: top;\n",
              "    }\n",
              "\n",
              "    .dataframe thead th {\n",
              "        text-align: right;\n",
              "    }\n",
              "</style>\n",
              "<table border=\"1\" class=\"dataframe\">\n",
              "  <thead>\n",
              "    <tr style=\"text-align: right;\">\n",
              "      <th></th>\n",
              "      <th>Date</th>\n",
              "      <th>Province/State</th>\n",
              "      <th>Country/Region</th>\n",
              "      <th>Confirmed</th>\n",
              "      <th>Deaths</th>\n",
              "      <th>Recovered</th>\n",
              "    </tr>\n",
              "  </thead>\n",
              "  <tbody>\n",
              "    <tr>\n",
              "      <th>0</th>\n",
              "      <td>2020-01-22</td>\n",
              "      <td>Anhui</td>\n",
              "      <td>Mainland China</td>\n",
              "      <td>1.0</td>\n",
              "      <td>0.0</td>\n",
              "      <td>0.0</td>\n",
              "    </tr>\n",
              "    <tr>\n",
              "      <th>1</th>\n",
              "      <td>2020-01-22</td>\n",
              "      <td>Beijing</td>\n",
              "      <td>Mainland China</td>\n",
              "      <td>14.0</td>\n",
              "      <td>0.0</td>\n",
              "      <td>0.0</td>\n",
              "    </tr>\n",
              "    <tr>\n",
              "      <th>2</th>\n",
              "      <td>2020-01-22</td>\n",
              "      <td>Chongqing</td>\n",
              "      <td>Mainland China</td>\n",
              "      <td>6.0</td>\n",
              "      <td>0.0</td>\n",
              "      <td>0.0</td>\n",
              "    </tr>\n",
              "    <tr>\n",
              "      <th>3</th>\n",
              "      <td>2020-01-22</td>\n",
              "      <td>Fujian</td>\n",
              "      <td>Mainland China</td>\n",
              "      <td>1.0</td>\n",
              "      <td>0.0</td>\n",
              "      <td>0.0</td>\n",
              "    </tr>\n",
              "    <tr>\n",
              "      <th>4</th>\n",
              "      <td>2020-01-22</td>\n",
              "      <td>Gansu</td>\n",
              "      <td>Mainland China</td>\n",
              "      <td>0.0</td>\n",
              "      <td>0.0</td>\n",
              "      <td>0.0</td>\n",
              "    </tr>\n",
              "    <tr>\n",
              "      <th>...</th>\n",
              "      <td>...</td>\n",
              "      <td>...</td>\n",
              "      <td>...</td>\n",
              "      <td>...</td>\n",
              "      <td>...</td>\n",
              "      <td>...</td>\n",
              "    </tr>\n",
              "    <tr>\n",
              "      <th>306424</th>\n",
              "      <td>2021-05-29</td>\n",
              "      <td>Zaporizhia Oblast</td>\n",
              "      <td>Ukraine</td>\n",
              "      <td>102641.0</td>\n",
              "      <td>2335.0</td>\n",
              "      <td>95289.0</td>\n",
              "    </tr>\n",
              "    <tr>\n",
              "      <th>306425</th>\n",
              "      <td>2021-05-29</td>\n",
              "      <td>Zeeland</td>\n",
              "      <td>Netherlands</td>\n",
              "      <td>29147.0</td>\n",
              "      <td>245.0</td>\n",
              "      <td>0.0</td>\n",
              "    </tr>\n",
              "    <tr>\n",
              "      <th>306426</th>\n",
              "      <td>2021-05-29</td>\n",
              "      <td>Zhejiang</td>\n",
              "      <td>Mainland China</td>\n",
              "      <td>1364.0</td>\n",
              "      <td>1.0</td>\n",
              "      <td>1324.0</td>\n",
              "    </tr>\n",
              "    <tr>\n",
              "      <th>306427</th>\n",
              "      <td>2021-05-29</td>\n",
              "      <td>Zhytomyr Oblast</td>\n",
              "      <td>Ukraine</td>\n",
              "      <td>87550.0</td>\n",
              "      <td>1738.0</td>\n",
              "      <td>83790.0</td>\n",
              "    </tr>\n",
              "    <tr>\n",
              "      <th>306428</th>\n",
              "      <td>2021-05-29</td>\n",
              "      <td>Zuid-Holland</td>\n",
              "      <td>Netherlands</td>\n",
              "      <td>391559.0</td>\n",
              "      <td>4252.0</td>\n",
              "      <td>0.0</td>\n",
              "    </tr>\n",
              "  </tbody>\n",
              "</table>\n",
              "<p>306429 rows × 6 columns</p>\n",
              "</div>"
            ],
            "text/plain": [
              "             Date     Province/State  Country/Region  Confirmed  Deaths  \\\n",
              "0      2020-01-22              Anhui  Mainland China        1.0     0.0   \n",
              "1      2020-01-22            Beijing  Mainland China       14.0     0.0   \n",
              "2      2020-01-22          Chongqing  Mainland China        6.0     0.0   \n",
              "3      2020-01-22             Fujian  Mainland China        1.0     0.0   \n",
              "4      2020-01-22              Gansu  Mainland China        0.0     0.0   \n",
              "...           ...                ...             ...        ...     ...   \n",
              "306424 2021-05-29  Zaporizhia Oblast         Ukraine   102641.0  2335.0   \n",
              "306425 2021-05-29            Zeeland     Netherlands    29147.0   245.0   \n",
              "306426 2021-05-29           Zhejiang  Mainland China     1364.0     1.0   \n",
              "306427 2021-05-29    Zhytomyr Oblast         Ukraine    87550.0  1738.0   \n",
              "306428 2021-05-29       Zuid-Holland     Netherlands   391559.0  4252.0   \n",
              "\n",
              "        Recovered  \n",
              "0             0.0  \n",
              "1             0.0  \n",
              "2             0.0  \n",
              "3             0.0  \n",
              "4             0.0  \n",
              "...           ...  \n",
              "306424    95289.0  \n",
              "306425        0.0  \n",
              "306426     1324.0  \n",
              "306427    83790.0  \n",
              "306428        0.0  \n",
              "\n",
              "[306429 rows x 6 columns]"
            ]
          },
          "metadata": {
            "tags": []
          },
          "execution_count": 5
        }
      ]
    },
    {
      "cell_type": "markdown",
      "metadata": {
        "id": "HfI9Hc6PgXja"
      },
      "source": [
        "# 清除負值"
      ]
    },
    {
      "cell_type": "code",
      "metadata": {
        "id": "mX9ptDS9SHNP"
      },
      "source": [
        "def clean_negative(original_data):\n",
        "  temp_data = original_data\n",
        "  colum_name = ['Confirmed','Deaths','Recovered']\n",
        "  for name in colum_name:\n",
        "    filter=temp_data[name] < 0\n",
        "    temp_data.drop(index=temp_data[filter].index,inplace=True)\n",
        "  return temp_data\n"
      ],
      "execution_count": null,
      "outputs": []
    },
    {
      "cell_type": "code",
      "metadata": {
        "colab": {
          "base_uri": "https://localhost:8080/",
          "height": 417
        },
        "id": "aBvj27iwhNcu",
        "outputId": "39da8635-316b-40e2-9fb7-6c96b6d343ff"
      },
      "source": [
        "data2 = clean_negative(data1)\n",
        "data2"
      ],
      "execution_count": null,
      "outputs": [
        {
          "output_type": "execute_result",
          "data": {
            "text/html": [
              "<div>\n",
              "<style scoped>\n",
              "    .dataframe tbody tr th:only-of-type {\n",
              "        vertical-align: middle;\n",
              "    }\n",
              "\n",
              "    .dataframe tbody tr th {\n",
              "        vertical-align: top;\n",
              "    }\n",
              "\n",
              "    .dataframe thead th {\n",
              "        text-align: right;\n",
              "    }\n",
              "</style>\n",
              "<table border=\"1\" class=\"dataframe\">\n",
              "  <thead>\n",
              "    <tr style=\"text-align: right;\">\n",
              "      <th></th>\n",
              "      <th>Date</th>\n",
              "      <th>Province/State</th>\n",
              "      <th>Country/Region</th>\n",
              "      <th>Confirmed</th>\n",
              "      <th>Deaths</th>\n",
              "      <th>Recovered</th>\n",
              "    </tr>\n",
              "  </thead>\n",
              "  <tbody>\n",
              "    <tr>\n",
              "      <th>0</th>\n",
              "      <td>2020-01-22</td>\n",
              "      <td>Anhui</td>\n",
              "      <td>Mainland China</td>\n",
              "      <td>1.0</td>\n",
              "      <td>0.0</td>\n",
              "      <td>0.0</td>\n",
              "    </tr>\n",
              "    <tr>\n",
              "      <th>1</th>\n",
              "      <td>2020-01-22</td>\n",
              "      <td>Beijing</td>\n",
              "      <td>Mainland China</td>\n",
              "      <td>14.0</td>\n",
              "      <td>0.0</td>\n",
              "      <td>0.0</td>\n",
              "    </tr>\n",
              "    <tr>\n",
              "      <th>2</th>\n",
              "      <td>2020-01-22</td>\n",
              "      <td>Chongqing</td>\n",
              "      <td>Mainland China</td>\n",
              "      <td>6.0</td>\n",
              "      <td>0.0</td>\n",
              "      <td>0.0</td>\n",
              "    </tr>\n",
              "    <tr>\n",
              "      <th>3</th>\n",
              "      <td>2020-01-22</td>\n",
              "      <td>Fujian</td>\n",
              "      <td>Mainland China</td>\n",
              "      <td>1.0</td>\n",
              "      <td>0.0</td>\n",
              "      <td>0.0</td>\n",
              "    </tr>\n",
              "    <tr>\n",
              "      <th>4</th>\n",
              "      <td>2020-01-22</td>\n",
              "      <td>Gansu</td>\n",
              "      <td>Mainland China</td>\n",
              "      <td>0.0</td>\n",
              "      <td>0.0</td>\n",
              "      <td>0.0</td>\n",
              "    </tr>\n",
              "    <tr>\n",
              "      <th>...</th>\n",
              "      <td>...</td>\n",
              "      <td>...</td>\n",
              "      <td>...</td>\n",
              "      <td>...</td>\n",
              "      <td>...</td>\n",
              "      <td>...</td>\n",
              "    </tr>\n",
              "    <tr>\n",
              "      <th>306424</th>\n",
              "      <td>2021-05-29</td>\n",
              "      <td>Zaporizhia Oblast</td>\n",
              "      <td>Ukraine</td>\n",
              "      <td>102641.0</td>\n",
              "      <td>2335.0</td>\n",
              "      <td>95289.0</td>\n",
              "    </tr>\n",
              "    <tr>\n",
              "      <th>306425</th>\n",
              "      <td>2021-05-29</td>\n",
              "      <td>Zeeland</td>\n",
              "      <td>Netherlands</td>\n",
              "      <td>29147.0</td>\n",
              "      <td>245.0</td>\n",
              "      <td>0.0</td>\n",
              "    </tr>\n",
              "    <tr>\n",
              "      <th>306426</th>\n",
              "      <td>2021-05-29</td>\n",
              "      <td>Zhejiang</td>\n",
              "      <td>Mainland China</td>\n",
              "      <td>1364.0</td>\n",
              "      <td>1.0</td>\n",
              "      <td>1324.0</td>\n",
              "    </tr>\n",
              "    <tr>\n",
              "      <th>306427</th>\n",
              "      <td>2021-05-29</td>\n",
              "      <td>Zhytomyr Oblast</td>\n",
              "      <td>Ukraine</td>\n",
              "      <td>87550.0</td>\n",
              "      <td>1738.0</td>\n",
              "      <td>83790.0</td>\n",
              "    </tr>\n",
              "    <tr>\n",
              "      <th>306428</th>\n",
              "      <td>2021-05-29</td>\n",
              "      <td>Zuid-Holland</td>\n",
              "      <td>Netherlands</td>\n",
              "      <td>391559.0</td>\n",
              "      <td>4252.0</td>\n",
              "      <td>0.0</td>\n",
              "    </tr>\n",
              "  </tbody>\n",
              "</table>\n",
              "<p>306425 rows × 6 columns</p>\n",
              "</div>"
            ],
            "text/plain": [
              "             Date     Province/State  Country/Region  Confirmed  Deaths  \\\n",
              "0      2020-01-22              Anhui  Mainland China        1.0     0.0   \n",
              "1      2020-01-22            Beijing  Mainland China       14.0     0.0   \n",
              "2      2020-01-22          Chongqing  Mainland China        6.0     0.0   \n",
              "3      2020-01-22             Fujian  Mainland China        1.0     0.0   \n",
              "4      2020-01-22              Gansu  Mainland China        0.0     0.0   \n",
              "...           ...                ...             ...        ...     ...   \n",
              "306424 2021-05-29  Zaporizhia Oblast         Ukraine   102641.0  2335.0   \n",
              "306425 2021-05-29            Zeeland     Netherlands    29147.0   245.0   \n",
              "306426 2021-05-29           Zhejiang  Mainland China     1364.0     1.0   \n",
              "306427 2021-05-29    Zhytomyr Oblast         Ukraine    87550.0  1738.0   \n",
              "306428 2021-05-29       Zuid-Holland     Netherlands   391559.0  4252.0   \n",
              "\n",
              "        Recovered  \n",
              "0             0.0  \n",
              "1             0.0  \n",
              "2             0.0  \n",
              "3             0.0  \n",
              "4             0.0  \n",
              "...           ...  \n",
              "306424    95289.0  \n",
              "306425        0.0  \n",
              "306426     1324.0  \n",
              "306427    83790.0  \n",
              "306428        0.0  \n",
              "\n",
              "[306425 rows x 6 columns]"
            ]
          },
          "metadata": {
            "tags": []
          },
          "execution_count": 7
        }
      ]
    },
    {
      "cell_type": "markdown",
      "metadata": {
        "id": "e8RaIw0vhEPz"
      },
      "source": [
        "# 抓取指定國家的資料"
      ]
    },
    {
      "cell_type": "code",
      "metadata": {
        "id": "Zzr4B-WMhDE-"
      },
      "source": [
        "# original_data為原始資料 CountryRegion為你要抓取的國家名\n",
        "def get_CountryRegion_data(original_data,CountryRegion):\n",
        "  filter = original_data['Country/Region'] == CountryRegion\n",
        "  return original_data[filter]"
      ],
      "execution_count": null,
      "outputs": []
    },
    {
      "cell_type": "code",
      "metadata": {
        "colab": {
          "base_uri": "https://localhost:8080/",
          "height": 417
        },
        "id": "Ybq-CMEThazM",
        "outputId": "ac00fb31-d6e7-4f00-8553-143029cf3433"
      },
      "source": [
        "us_data = get_CountryRegion_data(data2,\"US\")\n",
        "us_data"
      ],
      "execution_count": null,
      "outputs": [
        {
          "output_type": "execute_result",
          "data": {
            "text/html": [
              "<div>\n",
              "<style scoped>\n",
              "    .dataframe tbody tr th:only-of-type {\n",
              "        vertical-align: middle;\n",
              "    }\n",
              "\n",
              "    .dataframe tbody tr th {\n",
              "        vertical-align: top;\n",
              "    }\n",
              "\n",
              "    .dataframe thead th {\n",
              "        text-align: right;\n",
              "    }\n",
              "</style>\n",
              "<table border=\"1\" class=\"dataframe\">\n",
              "  <thead>\n",
              "    <tr style=\"text-align: right;\">\n",
              "      <th></th>\n",
              "      <th>Date</th>\n",
              "      <th>Province/State</th>\n",
              "      <th>Country/Region</th>\n",
              "      <th>Confirmed</th>\n",
              "      <th>Deaths</th>\n",
              "      <th>Recovered</th>\n",
              "    </tr>\n",
              "  </thead>\n",
              "  <tbody>\n",
              "    <tr>\n",
              "      <th>31</th>\n",
              "      <td>2020-01-22</td>\n",
              "      <td>Washington</td>\n",
              "      <td>US</td>\n",
              "      <td>1.0</td>\n",
              "      <td>0.0</td>\n",
              "      <td>0.0</td>\n",
              "    </tr>\n",
              "    <tr>\n",
              "      <th>71</th>\n",
              "      <td>2020-01-23</td>\n",
              "      <td>Washington</td>\n",
              "      <td>US</td>\n",
              "      <td>1.0</td>\n",
              "      <td>0.0</td>\n",
              "      <td>0.0</td>\n",
              "    </tr>\n",
              "    <tr>\n",
              "      <th>121</th>\n",
              "      <td>2020-01-24</td>\n",
              "      <td>Washington</td>\n",
              "      <td>US</td>\n",
              "      <td>1.0</td>\n",
              "      <td>0.0</td>\n",
              "      <td>0.0</td>\n",
              "    </tr>\n",
              "    <tr>\n",
              "      <th>122</th>\n",
              "      <td>2020-01-24</td>\n",
              "      <td>Chicago</td>\n",
              "      <td>US</td>\n",
              "      <td>1.0</td>\n",
              "      <td>0.0</td>\n",
              "      <td>0.0</td>\n",
              "    </tr>\n",
              "    <tr>\n",
              "      <th>164</th>\n",
              "      <td>2020-01-25</td>\n",
              "      <td>Washington</td>\n",
              "      <td>US</td>\n",
              "      <td>1.0</td>\n",
              "      <td>0.0</td>\n",
              "      <td>0.0</td>\n",
              "    </tr>\n",
              "    <tr>\n",
              "      <th>...</th>\n",
              "      <td>...</td>\n",
              "      <td>...</td>\n",
              "      <td>...</td>\n",
              "      <td>...</td>\n",
              "      <td>...</td>\n",
              "      <td>...</td>\n",
              "    </tr>\n",
              "    <tr>\n",
              "      <th>306395</th>\n",
              "      <td>2021-05-29</td>\n",
              "      <td>Virginia</td>\n",
              "      <td>US</td>\n",
              "      <td>675165.0</td>\n",
              "      <td>11160.0</td>\n",
              "      <td>0.0</td>\n",
              "    </tr>\n",
              "    <tr>\n",
              "      <th>306405</th>\n",
              "      <td>2021-05-29</td>\n",
              "      <td>Washington</td>\n",
              "      <td>US</td>\n",
              "      <td>435849.0</td>\n",
              "      <td>5765.0</td>\n",
              "      <td>0.0</td>\n",
              "    </tr>\n",
              "    <tr>\n",
              "      <th>306408</th>\n",
              "      <td>2021-05-29</td>\n",
              "      <td>West Virginia</td>\n",
              "      <td>US</td>\n",
              "      <td>161287.0</td>\n",
              "      <td>2792.0</td>\n",
              "      <td>0.0</td>\n",
              "    </tr>\n",
              "    <tr>\n",
              "      <th>306410</th>\n",
              "      <td>2021-05-29</td>\n",
              "      <td>Wisconsin</td>\n",
              "      <td>US</td>\n",
              "      <td>674003.0</td>\n",
              "      <td>7830.0</td>\n",
              "      <td>0.0</td>\n",
              "    </tr>\n",
              "    <tr>\n",
              "      <th>306411</th>\n",
              "      <td>2021-05-29</td>\n",
              "      <td>Wyoming</td>\n",
              "      <td>US</td>\n",
              "      <td>60144.0</td>\n",
              "      <td>719.0</td>\n",
              "      <td>0.0</td>\n",
              "    </tr>\n",
              "  </tbody>\n",
              "</table>\n",
              "<p>26740 rows × 6 columns</p>\n",
              "</div>"
            ],
            "text/plain": [
              "             Date Province/State Country/Region  Confirmed   Deaths  Recovered\n",
              "31     2020-01-22     Washington             US        1.0      0.0        0.0\n",
              "71     2020-01-23     Washington             US        1.0      0.0        0.0\n",
              "121    2020-01-24     Washington             US        1.0      0.0        0.0\n",
              "122    2020-01-24        Chicago             US        1.0      0.0        0.0\n",
              "164    2020-01-25     Washington             US        1.0      0.0        0.0\n",
              "...           ...            ...            ...        ...      ...        ...\n",
              "306395 2021-05-29       Virginia             US   675165.0  11160.0        0.0\n",
              "306405 2021-05-29     Washington             US   435849.0   5765.0        0.0\n",
              "306408 2021-05-29  West Virginia             US   161287.0   2792.0        0.0\n",
              "306410 2021-05-29      Wisconsin             US   674003.0   7830.0        0.0\n",
              "306411 2021-05-29        Wyoming             US    60144.0    719.0        0.0\n",
              "\n",
              "[26740 rows x 6 columns]"
            ]
          },
          "metadata": {
            "tags": []
          },
          "execution_count": 9
        }
      ]
    },
    {
      "cell_type": "markdown",
      "metadata": {
        "id": "tfcvhlKlICq2"
      },
      "source": [
        "# 分別計算每天確診、死亡、康復人數總和"
      ]
    },
    {
      "cell_type": "code",
      "metadata": {
        "id": "dcVfRBNYHXzq"
      },
      "source": [
        "def sort_by_date(data):\n",
        "  return data.groupby(['Date'])['Confirmed','Deaths','Recovered'].sum()"
      ],
      "execution_count": null,
      "outputs": []
    },
    {
      "cell_type": "code",
      "metadata": {
        "colab": {
          "base_uri": "https://localhost:8080/",
          "height": 501
        },
        "id": "aqLynHnmiKfr",
        "outputId": "56ca9756-dc7c-4fb2-e777-ce04e03a2144"
      },
      "source": [
        "final = sort_by_date(us_data)\n",
        "final"
      ],
      "execution_count": null,
      "outputs": [
        {
          "output_type": "stream",
          "text": [
            "/usr/local/lib/python3.7/dist-packages/ipykernel_launcher.py:2: FutureWarning: Indexing with multiple keys (implicitly converted to a tuple of keys) will be deprecated, use a list instead.\n",
            "  \n"
          ],
          "name": "stderr"
        },
        {
          "output_type": "execute_result",
          "data": {
            "text/html": [
              "<div>\n",
              "<style scoped>\n",
              "    .dataframe tbody tr th:only-of-type {\n",
              "        vertical-align: middle;\n",
              "    }\n",
              "\n",
              "    .dataframe tbody tr th {\n",
              "        vertical-align: top;\n",
              "    }\n",
              "\n",
              "    .dataframe thead th {\n",
              "        text-align: right;\n",
              "    }\n",
              "</style>\n",
              "<table border=\"1\" class=\"dataframe\">\n",
              "  <thead>\n",
              "    <tr style=\"text-align: right;\">\n",
              "      <th></th>\n",
              "      <th>Confirmed</th>\n",
              "      <th>Deaths</th>\n",
              "      <th>Recovered</th>\n",
              "    </tr>\n",
              "    <tr>\n",
              "      <th>Date</th>\n",
              "      <th></th>\n",
              "      <th></th>\n",
              "      <th></th>\n",
              "    </tr>\n",
              "  </thead>\n",
              "  <tbody>\n",
              "    <tr>\n",
              "      <th>2020-01-22</th>\n",
              "      <td>1.0</td>\n",
              "      <td>0.0</td>\n",
              "      <td>0.0</td>\n",
              "    </tr>\n",
              "    <tr>\n",
              "      <th>2020-01-23</th>\n",
              "      <td>1.0</td>\n",
              "      <td>0.0</td>\n",
              "      <td>0.0</td>\n",
              "    </tr>\n",
              "    <tr>\n",
              "      <th>2020-01-24</th>\n",
              "      <td>2.0</td>\n",
              "      <td>0.0</td>\n",
              "      <td>0.0</td>\n",
              "    </tr>\n",
              "    <tr>\n",
              "      <th>2020-01-25</th>\n",
              "      <td>2.0</td>\n",
              "      <td>0.0</td>\n",
              "      <td>0.0</td>\n",
              "    </tr>\n",
              "    <tr>\n",
              "      <th>2020-01-26</th>\n",
              "      <td>5.0</td>\n",
              "      <td>0.0</td>\n",
              "      <td>0.0</td>\n",
              "    </tr>\n",
              "    <tr>\n",
              "      <th>...</th>\n",
              "      <td>...</td>\n",
              "      <td>...</td>\n",
              "      <td>...</td>\n",
              "    </tr>\n",
              "    <tr>\n",
              "      <th>2021-05-25</th>\n",
              "      <td>33166418.0</td>\n",
              "      <td>590941.0</td>\n",
              "      <td>0.0</td>\n",
              "    </tr>\n",
              "    <tr>\n",
              "      <th>2021-05-26</th>\n",
              "      <td>33190470.0</td>\n",
              "      <td>591950.0</td>\n",
              "      <td>0.0</td>\n",
              "    </tr>\n",
              "    <tr>\n",
              "      <th>2021-05-27</th>\n",
              "      <td>33217995.0</td>\n",
              "      <td>593288.0</td>\n",
              "      <td>0.0</td>\n",
              "    </tr>\n",
              "    <tr>\n",
              "      <th>2021-05-28</th>\n",
              "      <td>33239963.0</td>\n",
              "      <td>593963.0</td>\n",
              "      <td>0.0</td>\n",
              "    </tr>\n",
              "    <tr>\n",
              "      <th>2021-05-29</th>\n",
              "      <td>33251939.0</td>\n",
              "      <td>594306.0</td>\n",
              "      <td>0.0</td>\n",
              "    </tr>\n",
              "  </tbody>\n",
              "</table>\n",
              "<p>494 rows × 3 columns</p>\n",
              "</div>"
            ],
            "text/plain": [
              "             Confirmed    Deaths  Recovered\n",
              "Date                                       \n",
              "2020-01-22         1.0       0.0        0.0\n",
              "2020-01-23         1.0       0.0        0.0\n",
              "2020-01-24         2.0       0.0        0.0\n",
              "2020-01-25         2.0       0.0        0.0\n",
              "2020-01-26         5.0       0.0        0.0\n",
              "...                ...       ...        ...\n",
              "2021-05-25  33166418.0  590941.0        0.0\n",
              "2021-05-26  33190470.0  591950.0        0.0\n",
              "2021-05-27  33217995.0  593288.0        0.0\n",
              "2021-05-28  33239963.0  593963.0        0.0\n",
              "2021-05-29  33251939.0  594306.0        0.0\n",
              "\n",
              "[494 rows x 3 columns]"
            ]
          },
          "metadata": {
            "tags": []
          },
          "execution_count": 11
        }
      ]
    },
    {
      "cell_type": "code",
      "metadata": {
        "id": "nYgdkEk3jovj"
      },
      "source": [
        "#final.to_csv('/content/drive/MyDrive/COVID-19/US.csv')"
      ],
      "execution_count": null,
      "outputs": []
    },
    {
      "cell_type": "code",
      "metadata": {
        "id": "u2jLTxRNTW2I"
      },
      "source": [
        "import numpy as np\n",
        "import pandas as pd"
      ],
      "execution_count": null,
      "outputs": []
    },
    {
      "cell_type": "code",
      "metadata": {
        "id": "XjTYG1a1yvAq",
        "colab": {
          "base_uri": "https://localhost:8080/",
          "height": 423
        },
        "outputId": "9529adc7-0acd-4ac5-8057-99c3a605e0d0"
      },
      "source": [
        "Country = 'India'\n",
        "us = pd.read_csv('/content/drive/MyDrive/COVID-19/India.csv')\n",
        "us"
      ],
      "execution_count": null,
      "outputs": [
        {
          "output_type": "execute_result",
          "data": {
            "text/html": [
              "<div>\n",
              "<style scoped>\n",
              "    .dataframe tbody tr th:only-of-type {\n",
              "        vertical-align: middle;\n",
              "    }\n",
              "\n",
              "    .dataframe tbody tr th {\n",
              "        vertical-align: top;\n",
              "    }\n",
              "\n",
              "    .dataframe thead th {\n",
              "        text-align: right;\n",
              "    }\n",
              "</style>\n",
              "<table border=\"1\" class=\"dataframe\">\n",
              "  <thead>\n",
              "    <tr style=\"text-align: right;\">\n",
              "      <th></th>\n",
              "      <th>Date</th>\n",
              "      <th>Confirmed</th>\n",
              "      <th>Deaths</th>\n",
              "      <th>Recovered</th>\n",
              "    </tr>\n",
              "  </thead>\n",
              "  <tbody>\n",
              "    <tr>\n",
              "      <th>0</th>\n",
              "      <td>2020-01-30</td>\n",
              "      <td>1.0</td>\n",
              "      <td>0.0</td>\n",
              "      <td>0.0</td>\n",
              "    </tr>\n",
              "    <tr>\n",
              "      <th>1</th>\n",
              "      <td>2020-01-31</td>\n",
              "      <td>1.0</td>\n",
              "      <td>0.0</td>\n",
              "      <td>0.0</td>\n",
              "    </tr>\n",
              "    <tr>\n",
              "      <th>2</th>\n",
              "      <td>2020-02-01</td>\n",
              "      <td>1.0</td>\n",
              "      <td>0.0</td>\n",
              "      <td>0.0</td>\n",
              "    </tr>\n",
              "    <tr>\n",
              "      <th>3</th>\n",
              "      <td>2020-02-02</td>\n",
              "      <td>2.0</td>\n",
              "      <td>0.0</td>\n",
              "      <td>0.0</td>\n",
              "    </tr>\n",
              "    <tr>\n",
              "      <th>4</th>\n",
              "      <td>2020-02-03</td>\n",
              "      <td>3.0</td>\n",
              "      <td>0.0</td>\n",
              "      <td>0.0</td>\n",
              "    </tr>\n",
              "    <tr>\n",
              "      <th>...</th>\n",
              "      <td>...</td>\n",
              "      <td>...</td>\n",
              "      <td>...</td>\n",
              "      <td>...</td>\n",
              "    </tr>\n",
              "    <tr>\n",
              "      <th>481</th>\n",
              "      <td>2021-05-25</td>\n",
              "      <td>27157795.0</td>\n",
              "      <td>311388.0</td>\n",
              "      <td>24350816.0</td>\n",
              "    </tr>\n",
              "    <tr>\n",
              "      <th>482</th>\n",
              "      <td>2021-05-26</td>\n",
              "      <td>27369093.0</td>\n",
              "      <td>315235.0</td>\n",
              "      <td>24633951.0</td>\n",
              "    </tr>\n",
              "    <tr>\n",
              "      <th>483</th>\n",
              "      <td>2021-05-27</td>\n",
              "      <td>27555457.0</td>\n",
              "      <td>318895.0</td>\n",
              "      <td>24893410.0</td>\n",
              "    </tr>\n",
              "    <tr>\n",
              "      <th>484</th>\n",
              "      <td>2021-05-28</td>\n",
              "      <td>27729247.0</td>\n",
              "      <td>322512.0</td>\n",
              "      <td>25178011.0</td>\n",
              "    </tr>\n",
              "    <tr>\n",
              "      <th>485</th>\n",
              "      <td>2021-05-29</td>\n",
              "      <td>27894800.0</td>\n",
              "      <td>325972.0</td>\n",
              "      <td>25454320.0</td>\n",
              "    </tr>\n",
              "  </tbody>\n",
              "</table>\n",
              "<p>486 rows × 4 columns</p>\n",
              "</div>"
            ],
            "text/plain": [
              "           Date   Confirmed    Deaths   Recovered\n",
              "0    2020-01-30         1.0       0.0         0.0\n",
              "1    2020-01-31         1.0       0.0         0.0\n",
              "2    2020-02-01         1.0       0.0         0.0\n",
              "3    2020-02-02         2.0       0.0         0.0\n",
              "4    2020-02-03         3.0       0.0         0.0\n",
              "..          ...         ...       ...         ...\n",
              "481  2021-05-25  27157795.0  311388.0  24350816.0\n",
              "482  2021-05-26  27369093.0  315235.0  24633951.0\n",
              "483  2021-05-27  27555457.0  318895.0  24893410.0\n",
              "484  2021-05-28  27729247.0  322512.0  25178011.0\n",
              "485  2021-05-29  27894800.0  325972.0  25454320.0\n",
              "\n",
              "[486 rows x 4 columns]"
            ]
          },
          "metadata": {
            "tags": []
          },
          "execution_count": 5
        }
      ]
    },
    {
      "cell_type": "markdown",
      "metadata": {
        "id": "hrY2912oawFX"
      },
      "source": [
        "# 載入資料"
      ]
    },
    {
      "cell_type": "code",
      "metadata": {
        "colab": {
          "base_uri": "https://localhost:8080/",
          "height": 423
        },
        "id": "dJnD07akjhxa",
        "outputId": "cc6fc141-1d66-4341-df7e-f662bd1d529a"
      },
      "source": [
        "test = us\n",
        "test"
      ],
      "execution_count": null,
      "outputs": [
        {
          "output_type": "execute_result",
          "data": {
            "text/html": [
              "<div>\n",
              "<style scoped>\n",
              "    .dataframe tbody tr th:only-of-type {\n",
              "        vertical-align: middle;\n",
              "    }\n",
              "\n",
              "    .dataframe tbody tr th {\n",
              "        vertical-align: top;\n",
              "    }\n",
              "\n",
              "    .dataframe thead th {\n",
              "        text-align: right;\n",
              "    }\n",
              "</style>\n",
              "<table border=\"1\" class=\"dataframe\">\n",
              "  <thead>\n",
              "    <tr style=\"text-align: right;\">\n",
              "      <th></th>\n",
              "      <th>Date</th>\n",
              "      <th>Confirmed</th>\n",
              "      <th>Deaths</th>\n",
              "      <th>Recovered</th>\n",
              "    </tr>\n",
              "  </thead>\n",
              "  <tbody>\n",
              "    <tr>\n",
              "      <th>0</th>\n",
              "      <td>2020-01-30</td>\n",
              "      <td>1.0</td>\n",
              "      <td>0.0</td>\n",
              "      <td>0.0</td>\n",
              "    </tr>\n",
              "    <tr>\n",
              "      <th>1</th>\n",
              "      <td>2020-01-31</td>\n",
              "      <td>1.0</td>\n",
              "      <td>0.0</td>\n",
              "      <td>0.0</td>\n",
              "    </tr>\n",
              "    <tr>\n",
              "      <th>2</th>\n",
              "      <td>2020-02-01</td>\n",
              "      <td>1.0</td>\n",
              "      <td>0.0</td>\n",
              "      <td>0.0</td>\n",
              "    </tr>\n",
              "    <tr>\n",
              "      <th>3</th>\n",
              "      <td>2020-02-02</td>\n",
              "      <td>2.0</td>\n",
              "      <td>0.0</td>\n",
              "      <td>0.0</td>\n",
              "    </tr>\n",
              "    <tr>\n",
              "      <th>4</th>\n",
              "      <td>2020-02-03</td>\n",
              "      <td>3.0</td>\n",
              "      <td>0.0</td>\n",
              "      <td>0.0</td>\n",
              "    </tr>\n",
              "    <tr>\n",
              "      <th>...</th>\n",
              "      <td>...</td>\n",
              "      <td>...</td>\n",
              "      <td>...</td>\n",
              "      <td>...</td>\n",
              "    </tr>\n",
              "    <tr>\n",
              "      <th>481</th>\n",
              "      <td>2021-05-25</td>\n",
              "      <td>27157795.0</td>\n",
              "      <td>311388.0</td>\n",
              "      <td>24350816.0</td>\n",
              "    </tr>\n",
              "    <tr>\n",
              "      <th>482</th>\n",
              "      <td>2021-05-26</td>\n",
              "      <td>27369093.0</td>\n",
              "      <td>315235.0</td>\n",
              "      <td>24633951.0</td>\n",
              "    </tr>\n",
              "    <tr>\n",
              "      <th>483</th>\n",
              "      <td>2021-05-27</td>\n",
              "      <td>27555457.0</td>\n",
              "      <td>318895.0</td>\n",
              "      <td>24893410.0</td>\n",
              "    </tr>\n",
              "    <tr>\n",
              "      <th>484</th>\n",
              "      <td>2021-05-28</td>\n",
              "      <td>27729247.0</td>\n",
              "      <td>322512.0</td>\n",
              "      <td>25178011.0</td>\n",
              "    </tr>\n",
              "    <tr>\n",
              "      <th>485</th>\n",
              "      <td>2021-05-29</td>\n",
              "      <td>27894800.0</td>\n",
              "      <td>325972.0</td>\n",
              "      <td>25454320.0</td>\n",
              "    </tr>\n",
              "  </tbody>\n",
              "</table>\n",
              "<p>486 rows × 4 columns</p>\n",
              "</div>"
            ],
            "text/plain": [
              "           Date   Confirmed    Deaths   Recovered\n",
              "0    2020-01-30         1.0       0.0         0.0\n",
              "1    2020-01-31         1.0       0.0         0.0\n",
              "2    2020-02-01         1.0       0.0         0.0\n",
              "3    2020-02-02         2.0       0.0         0.0\n",
              "4    2020-02-03         3.0       0.0         0.0\n",
              "..          ...         ...       ...         ...\n",
              "481  2021-05-25  27157795.0  311388.0  24350816.0\n",
              "482  2021-05-26  27369093.0  315235.0  24633951.0\n",
              "483  2021-05-27  27555457.0  318895.0  24893410.0\n",
              "484  2021-05-28  27729247.0  322512.0  25178011.0\n",
              "485  2021-05-29  27894800.0  325972.0  25454320.0\n",
              "\n",
              "[486 rows x 4 columns]"
            ]
          },
          "metadata": {
            "tags": []
          },
          "execution_count": 6
        }
      ]
    },
    {
      "cell_type": "markdown",
      "metadata": {
        "id": "weAmOTT_a4Ip"
      },
      "source": [
        "# 正規化"
      ]
    },
    {
      "cell_type": "code",
      "metadata": {
        "colab": {
          "base_uri": "https://localhost:8080/",
          "height": 423
        },
        "id": "hpH9y8ZWjnJA",
        "outputId": "76e811e3-9615-4db4-9120-1809ecb2b613"
      },
      "source": [
        "Deaths_max = np.array(test['Deaths']).max()\n",
        "Deaths_min = np.array(test['Deaths']).min()\n",
        "Confirmed_max = np.array(test['Confirmed']).max()\n",
        "Confirmed_min = np.array(test['Confirmed']).min()\n",
        "\n",
        "test['Deaths'] = (np.array(test['Deaths'])-Deaths_min)/(Deaths_max-Deaths_min)\n",
        "test['Confirmed'] = (np.array(test['Confirmed'])-Confirmed_min)/(Confirmed_max-Confirmed_min)\n",
        "test"
      ],
      "execution_count": null,
      "outputs": [
        {
          "output_type": "execute_result",
          "data": {
            "text/html": [
              "<div>\n",
              "<style scoped>\n",
              "    .dataframe tbody tr th:only-of-type {\n",
              "        vertical-align: middle;\n",
              "    }\n",
              "\n",
              "    .dataframe tbody tr th {\n",
              "        vertical-align: top;\n",
              "    }\n",
              "\n",
              "    .dataframe thead th {\n",
              "        text-align: right;\n",
              "    }\n",
              "</style>\n",
              "<table border=\"1\" class=\"dataframe\">\n",
              "  <thead>\n",
              "    <tr style=\"text-align: right;\">\n",
              "      <th></th>\n",
              "      <th>Date</th>\n",
              "      <th>Confirmed</th>\n",
              "      <th>Deaths</th>\n",
              "      <th>Recovered</th>\n",
              "    </tr>\n",
              "  </thead>\n",
              "  <tbody>\n",
              "    <tr>\n",
              "      <th>0</th>\n",
              "      <td>2020-01-30</td>\n",
              "      <td>0.000000e+00</td>\n",
              "      <td>0.000000</td>\n",
              "      <td>0.0</td>\n",
              "    </tr>\n",
              "    <tr>\n",
              "      <th>1</th>\n",
              "      <td>2020-01-31</td>\n",
              "      <td>0.000000e+00</td>\n",
              "      <td>0.000000</td>\n",
              "      <td>0.0</td>\n",
              "    </tr>\n",
              "    <tr>\n",
              "      <th>2</th>\n",
              "      <td>2020-02-01</td>\n",
              "      <td>0.000000e+00</td>\n",
              "      <td>0.000000</td>\n",
              "      <td>0.0</td>\n",
              "    </tr>\n",
              "    <tr>\n",
              "      <th>3</th>\n",
              "      <td>2020-02-02</td>\n",
              "      <td>3.584898e-08</td>\n",
              "      <td>0.000000</td>\n",
              "      <td>0.0</td>\n",
              "    </tr>\n",
              "    <tr>\n",
              "      <th>4</th>\n",
              "      <td>2020-02-03</td>\n",
              "      <td>7.169795e-08</td>\n",
              "      <td>0.000000</td>\n",
              "      <td>0.0</td>\n",
              "    </tr>\n",
              "    <tr>\n",
              "      <th>...</th>\n",
              "      <td>...</td>\n",
              "      <td>...</td>\n",
              "      <td>...</td>\n",
              "      <td>...</td>\n",
              "    </tr>\n",
              "    <tr>\n",
              "      <th>481</th>\n",
              "      <td>2021-05-25</td>\n",
              "      <td>9.735791e-01</td>\n",
              "      <td>0.955260</td>\n",
              "      <td>24350816.0</td>\n",
              "    </tr>\n",
              "    <tr>\n",
              "      <th>482</th>\n",
              "      <td>2021-05-26</td>\n",
              "      <td>9.811539e-01</td>\n",
              "      <td>0.967062</td>\n",
              "      <td>24633951.0</td>\n",
              "    </tr>\n",
              "    <tr>\n",
              "      <th>483</th>\n",
              "      <td>2021-05-27</td>\n",
              "      <td>9.878349e-01</td>\n",
              "      <td>0.978290</td>\n",
              "      <td>24893410.0</td>\n",
              "    </tr>\n",
              "    <tr>\n",
              "      <th>484</th>\n",
              "      <td>2021-05-28</td>\n",
              "      <td>9.940651e-01</td>\n",
              "      <td>0.989386</td>\n",
              "      <td>25178011.0</td>\n",
              "    </tr>\n",
              "    <tr>\n",
              "      <th>485</th>\n",
              "      <td>2021-05-29</td>\n",
              "      <td>1.000000e+00</td>\n",
              "      <td>1.000000</td>\n",
              "      <td>25454320.0</td>\n",
              "    </tr>\n",
              "  </tbody>\n",
              "</table>\n",
              "<p>486 rows × 4 columns</p>\n",
              "</div>"
            ],
            "text/plain": [
              "           Date     Confirmed    Deaths   Recovered\n",
              "0    2020-01-30  0.000000e+00  0.000000         0.0\n",
              "1    2020-01-31  0.000000e+00  0.000000         0.0\n",
              "2    2020-02-01  0.000000e+00  0.000000         0.0\n",
              "3    2020-02-02  3.584898e-08  0.000000         0.0\n",
              "4    2020-02-03  7.169795e-08  0.000000         0.0\n",
              "..          ...           ...       ...         ...\n",
              "481  2021-05-25  9.735791e-01  0.955260  24350816.0\n",
              "482  2021-05-26  9.811539e-01  0.967062  24633951.0\n",
              "483  2021-05-27  9.878349e-01  0.978290  24893410.0\n",
              "484  2021-05-28  9.940651e-01  0.989386  25178011.0\n",
              "485  2021-05-29  1.000000e+00  1.000000  25454320.0\n",
              "\n",
              "[486 rows x 4 columns]"
            ]
          },
          "metadata": {
            "tags": []
          },
          "execution_count": 7
        }
      ]
    },
    {
      "cell_type": "code",
      "metadata": {
        "id": "GojyaM6NlHRR",
        "colab": {
          "base_uri": "https://localhost:8080/"
        },
        "outputId": "3cfa53cc-b6b3-490e-9558-c070e8804735"
      },
      "source": [
        "test_data = test.values\n",
        "test_data.shape"
      ],
      "execution_count": null,
      "outputs": [
        {
          "output_type": "execute_result",
          "data": {
            "text/plain": [
              "(486, 4)"
            ]
          },
          "metadata": {
            "tags": []
          },
          "execution_count": 8
        }
      ]
    },
    {
      "cell_type": "markdown",
      "metadata": {
        "id": "VD-TLKfBa_iW"
      },
      "source": [
        "# 建立資料集"
      ]
    },
    {
      "cell_type": "code",
      "metadata": {
        "id": "9enO7n59avgJ"
      },
      "source": [
        "import math\n",
        "import torch\n",
        "import torch.utils.data as Data\n",
        "import numpy as np"
      ],
      "execution_count": null,
      "outputs": []
    },
    {
      "cell_type": "code",
      "metadata": {
        "id": "KD-D4vj4by0Q"
      },
      "source": [
        "def toTensor(x):\n",
        "  return torch.tensor(x)"
      ],
      "execution_count": null,
      "outputs": []
    },
    {
      "cell_type": "code",
      "metadata": {
        "id": "Y_yFV13iigcx"
      },
      "source": [
        "class MyDataset(Data.Dataset): #繼承\n",
        "  def __init__(self,data,seq_length,train = True,transform=None):\n",
        "\n",
        "    x_train = []\n",
        "    y_train = []\n",
        "    x_test = []\n",
        "    y_test = []\n",
        "    \n",
        "    total_size = data.shape[0]\n",
        "    train_size = math.ceil(data.shape[0]*0.7)\n",
        "\n",
        "\n",
        "    for i in range(seq_length,train_size,7):\n",
        "      x_train.append(data[i-seq_length:i,2])\n",
        "      y_train.append(data[i-seq_length+1:i+1,2])\n",
        "\n",
        "    \n",
        "\n",
        "    for i in range(train_size,data.shape[0],7):\n",
        "      x_test.append(data[i-seq_length:i,2])\n",
        "      y_test.append(data[i-seq_length+1:i+1,2])\n",
        "    \n",
        "    data_size = np.array(x_train).shape[0]\n",
        "    f = x_train\n",
        "    l = y_train\n",
        "\n",
        "    if train == False:\n",
        "      f = x_test\n",
        "      l = y_test\n",
        "      data_size = np.array(x_test).shape[0]\n",
        "\n",
        "      \n",
        "\n",
        "    #print(np.array(f).shape) \n",
        "    #print(np.array(l)[10:20])\n",
        "    #print(data_size)\n",
        "    self.features = np.array(f).astype('float32').reshape(data_size,seq_length,1)\n",
        "    self.labels = np.array(l).astype('float32').reshape(data_size,seq_length,1)\n",
        "    self.transform = transform\n",
        "\n",
        "  def __len__(self):\n",
        "    return len(self.labels)\n",
        "\n",
        "  def __getitem__(self,idx):\n",
        "    if torch.is_tensor(idx):\n",
        "      idx = idx.tolist()\n",
        "      \n",
        "    X = self.features[idx]\n",
        "    Y = self.labels[idx]\n",
        "\n",
        "    if self.transform:\n",
        "      X = self.transform(X)\n",
        "      Y = self.transform(Y)\n",
        "\n",
        "    return X,Y"
      ],
      "execution_count": null,
      "outputs": []
    },
    {
      "cell_type": "code",
      "metadata": {
        "id": "e51n47X0kkNy"
      },
      "source": [
        "train_dataset = MyDataset( data=test_data,\n",
        "               seq_length=7,\n",
        "               train=True,\n",
        "               transform=toTensor)\n",
        "test_dataset = MyDataset( data=test_data,\n",
        "               seq_length=7,\n",
        "               train=False,\n",
        "               transform=toTensor)"
      ],
      "execution_count": null,
      "outputs": []
    },
    {
      "cell_type": "code",
      "metadata": {
        "id": "GqqcDd1RpiDz",
        "colab": {
          "base_uri": "https://localhost:8080/"
        },
        "outputId": "a1a2eb60-f2a5-491c-89fa-4f0b150092e3"
      },
      "source": [
        "features,labels = train_dataset[:]\n",
        "print(features.shape)\n",
        "#print(features[0:10])\n",
        "print(labels.shape)\n",
        "#print(labels[0:10])"
      ],
      "execution_count": null,
      "outputs": [
        {
          "output_type": "stream",
          "text": [
            "torch.Size([48, 7, 1])\n",
            "torch.Size([48, 7, 1])\n"
          ],
          "name": "stdout"
        }
      ]
    },
    {
      "cell_type": "markdown",
      "metadata": {
        "id": "TkiO9cClbJxj"
      },
      "source": [
        "# DataLoader"
      ]
    },
    {
      "cell_type": "code",
      "metadata": {
        "id": "X8jYMDsYej9g"
      },
      "source": [
        "train_loader = Data.DataLoader(dataset=train_dataset,\n",
        "                 batch_size=5,\n",
        "                 shuffle=True)\n",
        "test_loader = Data.DataLoader(dataset=test_dataset,\n",
        "                 batch_size=5,\n",
        "                 shuffle=False)"
      ],
      "execution_count": null,
      "outputs": []
    },
    {
      "cell_type": "code",
      "metadata": {
        "id": "zep2edVSgWE5",
        "colab": {
          "base_uri": "https://localhost:8080/"
        },
        "outputId": "145c1548-b571-4c9e-b0ae-e5bda035ad63"
      },
      "source": [
        "for i,(seqs,labels) in enumerate(test_loader):\n",
        "  print(seqs.shape)\n",
        "  #print(labels)"
      ],
      "execution_count": null,
      "outputs": [
        {
          "output_type": "stream",
          "text": [
            "torch.Size([5, 7, 1])\n",
            "torch.Size([5, 7, 1])\n",
            "torch.Size([5, 7, 1])\n",
            "torch.Size([5, 7, 1])\n",
            "torch.Size([1, 7, 1])\n"
          ],
          "name": "stdout"
        }
      ]
    },
    {
      "cell_type": "code",
      "metadata": {
        "id": "LsJctx-Kgxeo"
      },
      "source": [
        ""
      ],
      "execution_count": null,
      "outputs": []
    },
    {
      "cell_type": "markdown",
      "metadata": {
        "id": "1-sIWlgobRBM"
      },
      "source": [
        "# 建預測模型"
      ]
    },
    {
      "cell_type": "markdown",
      "metadata": {
        "id": "Chohp1FhbONU"
      },
      "source": [
        ""
      ]
    },
    {
      "cell_type": "code",
      "metadata": {
        "id": "QUCmMhIUzMWJ"
      },
      "source": [
        "input_size = 1\n",
        "hidden_size = 64\n",
        "num_layers = 2\n",
        "num_class = 1"
      ],
      "execution_count": null,
      "outputs": []
    },
    {
      "cell_type": "code",
      "metadata": {
        "id": "UoaiJAF2zMYq"
      },
      "source": [
        "import torch\n",
        "import torch.nn as nn\n",
        "from torch.autograd import Variable\n",
        "from torchsummary import summary"
      ],
      "execution_count": null,
      "outputs": []
    },
    {
      "cell_type": "code",
      "metadata": {
        "id": "0RQKTMD1zRCI"
      },
      "source": [
        "class LSTM_2_FC_3(nn.Module):\n",
        "  def __init__(self,input_size,hidden_size,num_layers,num_class):\n",
        "    super(LSTM_2_FC_3,self).__init__()#呼叫父類別建構子\n",
        "    self.hidden_size = hidden_size\n",
        "    self.num_layers = num_layers\n",
        "    #self.normal = nn.BatchNorm1d(num_features=7,affine=True) #5是前面定的batch_size affine normal調整\n",
        "    self.lstm = nn.LSTM( input_size = input_size,\n",
        "                hidden_size = hidden_size,\n",
        "                num_layers = num_layers,\n",
        "                #bidirectional = True,\n",
        "                batch_first = True)       #把第一個序列當batch\n",
        "\n",
        "  \n",
        "     \n",
        "    self.fc = nn.Linear(hidden_size,hidden_size//2)\n",
        "    self.fc1 = nn.Linear(hidden_size//2,hidden_size//4)\n",
        "    self.fc2 = nn.Linear(hidden_size//4,num_class)\n",
        "    \n",
        "    #self.relu = nn.ReLU()\n",
        "    #self.drop_out = nn.Dropout(0.1)  \n",
        "  def forward(self,x):\n",
        "    h0 = Variable(torch.zeros(num_layers,x.size(0),hidden_size))\n",
        "    c0 = Variable(torch.zeros(num_layers,x.size(0),hidden_size))\n",
        "    \n",
        "    #out = self.normal(x)\n",
        "    out,_ = self.lstm(x,(h0,c0))\n",
        "    #out = self.drop_out(out)\n",
        "    #out = self.relu(out)\n",
        "    out = self.fc(out)\n",
        "    out = self.fc1(out)\n",
        "    out = self.fc2(out)\n",
        "    \n",
        "    \n",
        "    return out"
      ],
      "execution_count": null,
      "outputs": []
    },
    {
      "cell_type": "code",
      "metadata": {
        "colab": {
          "base_uri": "https://localhost:8080/"
        },
        "id": "vKG-dY-T0Mk6",
        "outputId": "31b495a0-e7fd-4b72-a1d3-da03b5618b38"
      },
      "source": [
        "LSTM_2_FC_3 = LSTM_2_FC_3(input_size,hidden_size,num_layers,num_class)\n",
        "LSTM_2_FC_3"
      ],
      "execution_count": null,
      "outputs": [
        {
          "output_type": "execute_result",
          "data": {
            "text/plain": [
              "LSTM_2_FC_3(\n",
              "  (lstm): LSTM(1, 64, num_layers=2, batch_first=True)\n",
              "  (fc): Linear(in_features=64, out_features=32, bias=True)\n",
              "  (fc1): Linear(in_features=32, out_features=16, bias=True)\n",
              "  (fc2): Linear(in_features=16, out_features=1, bias=True)\n",
              ")"
            ]
          },
          "metadata": {
            "tags": []
          },
          "execution_count": 94
        }
      ]
    },
    {
      "cell_type": "markdown",
      "metadata": {
        "id": "AXHr4l4ybpR5"
      },
      "source": [
        "# 模型訓練"
      ]
    },
    {
      "cell_type": "code",
      "metadata": {
        "id": "uYArETy300II"
      },
      "source": [
        "import torch.optim as opt"
      ],
      "execution_count": null,
      "outputs": []
    },
    {
      "cell_type": "code",
      "metadata": {
        "id": "Rwa4agg82zRY"
      },
      "source": [
        "loss_fn = nn.MSELoss()\n",
        "mae = nn.L1Loss()\n",
        "optimizer = opt.Adam(LSTM_2_FC_3.parameters(),lr=0.00005) #要優化的參數"
      ],
      "execution_count": null,
      "outputs": []
    },
    {
      "cell_type": "code",
      "metadata": {
        "colab": {
          "base_uri": "https://localhost:8080/"
        },
        "id": "TBugtOAU27vH",
        "outputId": "3403be6d-ce74-43ba-ad52-2ef5fb12aba6"
      },
      "source": [
        "train_loss = []\n",
        "for epoch in range(1500):\n",
        "  for i,(seqs,labels) in enumerate(train_loader):\n",
        "    seqs = Variable(seqs)\n",
        "    labels = Variable(labels)\n",
        "    optimizer.zero_grad()\n",
        "    outputs = LSTM_2_FC_3(seqs)\n",
        "    loss = loss_fn(outputs,labels.float()) #預測放前答案放後\n",
        "    train_loss.append(loss.data)\n",
        "    loss.backward()\n",
        "    optimizer.step()\n",
        "\n",
        "    if (epoch+1)%100 == 0:\n",
        "      print('Epoch: %d, batch: %d, Loss: %4f'%(epoch+1,i+1,loss.data))"
      ],
      "execution_count": null,
      "outputs": [
        {
          "output_type": "stream",
          "text": [
            "Epoch: 100, batch: 1, Loss: 0.011977\n",
            "Epoch: 100, batch: 2, Loss: 0.008984\n",
            "Epoch: 100, batch: 3, Loss: 0.023037\n",
            "Epoch: 100, batch: 4, Loss: 0.018329\n",
            "Epoch: 100, batch: 5, Loss: 0.009047\n",
            "Epoch: 100, batch: 6, Loss: 0.005720\n",
            "Epoch: 100, batch: 7, Loss: 0.014893\n",
            "Epoch: 100, batch: 8, Loss: 0.005780\n",
            "Epoch: 100, batch: 9, Loss: 0.017964\n",
            "Epoch: 100, batch: 10, Loss: 0.015293\n",
            "Epoch: 200, batch: 1, Loss: 0.006559\n",
            "Epoch: 200, batch: 2, Loss: 0.007856\n",
            "Epoch: 200, batch: 3, Loss: 0.003194\n",
            "Epoch: 200, batch: 4, Loss: 0.008616\n",
            "Epoch: 200, batch: 5, Loss: 0.005984\n",
            "Epoch: 200, batch: 6, Loss: 0.008681\n",
            "Epoch: 200, batch: 7, Loss: 0.006523\n",
            "Epoch: 200, batch: 8, Loss: 0.003533\n",
            "Epoch: 200, batch: 9, Loss: 0.004156\n",
            "Epoch: 200, batch: 10, Loss: 0.004553\n",
            "Epoch: 300, batch: 1, Loss: 0.002615\n",
            "Epoch: 300, batch: 2, Loss: 0.001026\n",
            "Epoch: 300, batch: 3, Loss: 0.002503\n",
            "Epoch: 300, batch: 4, Loss: 0.002802\n",
            "Epoch: 300, batch: 5, Loss: 0.002199\n",
            "Epoch: 300, batch: 6, Loss: 0.002407\n",
            "Epoch: 300, batch: 7, Loss: 0.002430\n",
            "Epoch: 300, batch: 8, Loss: 0.003064\n",
            "Epoch: 300, batch: 9, Loss: 0.002380\n",
            "Epoch: 300, batch: 10, Loss: 0.000874\n",
            "Epoch: 400, batch: 1, Loss: 0.000647\n",
            "Epoch: 400, batch: 2, Loss: 0.000660\n",
            "Epoch: 400, batch: 3, Loss: 0.001238\n",
            "Epoch: 400, batch: 4, Loss: 0.000683\n",
            "Epoch: 400, batch: 5, Loss: 0.000653\n",
            "Epoch: 400, batch: 6, Loss: 0.001257\n",
            "Epoch: 400, batch: 7, Loss: 0.001012\n",
            "Epoch: 400, batch: 8, Loss: 0.000730\n",
            "Epoch: 400, batch: 9, Loss: 0.000835\n",
            "Epoch: 400, batch: 10, Loss: 0.000782\n",
            "Epoch: 500, batch: 1, Loss: 0.000149\n",
            "Epoch: 500, batch: 2, Loss: 0.000228\n",
            "Epoch: 500, batch: 3, Loss: 0.000139\n",
            "Epoch: 500, batch: 4, Loss: 0.000093\n",
            "Epoch: 500, batch: 5, Loss: 0.000099\n",
            "Epoch: 500, batch: 6, Loss: 0.000148\n",
            "Epoch: 500, batch: 7, Loss: 0.000125\n",
            "Epoch: 500, batch: 8, Loss: 0.000115\n",
            "Epoch: 500, batch: 9, Loss: 0.000113\n",
            "Epoch: 500, batch: 10, Loss: 0.000339\n",
            "Epoch: 600, batch: 1, Loss: 0.000008\n",
            "Epoch: 600, batch: 2, Loss: 0.000010\n",
            "Epoch: 600, batch: 3, Loss: 0.000010\n",
            "Epoch: 600, batch: 4, Loss: 0.000016\n",
            "Epoch: 600, batch: 5, Loss: 0.000013\n",
            "Epoch: 600, batch: 6, Loss: 0.000015\n",
            "Epoch: 600, batch: 7, Loss: 0.000010\n",
            "Epoch: 600, batch: 8, Loss: 0.000011\n",
            "Epoch: 600, batch: 9, Loss: 0.000011\n",
            "Epoch: 600, batch: 10, Loss: 0.000010\n",
            "Epoch: 700, batch: 1, Loss: 0.000003\n",
            "Epoch: 700, batch: 2, Loss: 0.000004\n",
            "Epoch: 700, batch: 3, Loss: 0.000002\n",
            "Epoch: 700, batch: 4, Loss: 0.000004\n",
            "Epoch: 700, batch: 5, Loss: 0.000004\n",
            "Epoch: 700, batch: 6, Loss: 0.000004\n",
            "Epoch: 700, batch: 7, Loss: 0.000006\n",
            "Epoch: 700, batch: 8, Loss: 0.000003\n",
            "Epoch: 700, batch: 9, Loss: 0.000005\n",
            "Epoch: 700, batch: 10, Loss: 0.000002\n",
            "Epoch: 800, batch: 1, Loss: 0.000003\n",
            "Epoch: 800, batch: 2, Loss: 0.000001\n",
            "Epoch: 800, batch: 3, Loss: 0.000004\n",
            "Epoch: 800, batch: 4, Loss: 0.000002\n",
            "Epoch: 800, batch: 5, Loss: 0.000003\n",
            "Epoch: 800, batch: 6, Loss: 0.000004\n",
            "Epoch: 800, batch: 7, Loss: 0.000004\n",
            "Epoch: 800, batch: 8, Loss: 0.000002\n",
            "Epoch: 800, batch: 9, Loss: 0.000002\n",
            "Epoch: 800, batch: 10, Loss: 0.000004\n",
            "Epoch: 900, batch: 1, Loss: 0.000001\n",
            "Epoch: 900, batch: 2, Loss: 0.000001\n",
            "Epoch: 900, batch: 3, Loss: 0.000003\n",
            "Epoch: 900, batch: 4, Loss: 0.000005\n",
            "Epoch: 900, batch: 5, Loss: 0.000002\n",
            "Epoch: 900, batch: 6, Loss: 0.000003\n",
            "Epoch: 900, batch: 7, Loss: 0.000004\n",
            "Epoch: 900, batch: 8, Loss: 0.000003\n",
            "Epoch: 900, batch: 9, Loss: 0.000003\n",
            "Epoch: 900, batch: 10, Loss: 0.000002\n",
            "Epoch: 1000, batch: 1, Loss: 0.000002\n",
            "Epoch: 1000, batch: 2, Loss: 0.000002\n",
            "Epoch: 1000, batch: 3, Loss: 0.000001\n",
            "Epoch: 1000, batch: 4, Loss: 0.000001\n",
            "Epoch: 1000, batch: 5, Loss: 0.000002\n",
            "Epoch: 1000, batch: 6, Loss: 0.000001\n",
            "Epoch: 1000, batch: 7, Loss: 0.000003\n",
            "Epoch: 1000, batch: 8, Loss: 0.000001\n",
            "Epoch: 1000, batch: 9, Loss: 0.000001\n",
            "Epoch: 1000, batch: 10, Loss: 0.000005\n",
            "Epoch: 1100, batch: 1, Loss: 0.000002\n",
            "Epoch: 1100, batch: 2, Loss: 0.000002\n",
            "Epoch: 1100, batch: 3, Loss: 0.000001\n",
            "Epoch: 1100, batch: 4, Loss: 0.000001\n",
            "Epoch: 1100, batch: 5, Loss: 0.000002\n",
            "Epoch: 1100, batch: 6, Loss: 0.000001\n",
            "Epoch: 1100, batch: 7, Loss: 0.000002\n",
            "Epoch: 1100, batch: 8, Loss: 0.000003\n",
            "Epoch: 1100, batch: 9, Loss: 0.000001\n",
            "Epoch: 1100, batch: 10, Loss: 0.000002\n",
            "Epoch: 1200, batch: 1, Loss: 0.000001\n",
            "Epoch: 1200, batch: 2, Loss: 0.000003\n",
            "Epoch: 1200, batch: 3, Loss: 0.000002\n",
            "Epoch: 1200, batch: 4, Loss: 0.000001\n",
            "Epoch: 1200, batch: 5, Loss: 0.000001\n",
            "Epoch: 1200, batch: 6, Loss: 0.000002\n",
            "Epoch: 1200, batch: 7, Loss: 0.000001\n",
            "Epoch: 1200, batch: 8, Loss: 0.000002\n",
            "Epoch: 1200, batch: 9, Loss: 0.000001\n",
            "Epoch: 1200, batch: 10, Loss: 0.000002\n",
            "Epoch: 1300, batch: 1, Loss: 0.000001\n",
            "Epoch: 1300, batch: 2, Loss: 0.000001\n",
            "Epoch: 1300, batch: 3, Loss: 0.000001\n",
            "Epoch: 1300, batch: 4, Loss: 0.000001\n",
            "Epoch: 1300, batch: 5, Loss: 0.000003\n",
            "Epoch: 1300, batch: 6, Loss: 0.000002\n",
            "Epoch: 1300, batch: 7, Loss: 0.000002\n",
            "Epoch: 1300, batch: 8, Loss: 0.000001\n",
            "Epoch: 1300, batch: 9, Loss: 0.000001\n",
            "Epoch: 1300, batch: 10, Loss: 0.000002\n",
            "Epoch: 1400, batch: 1, Loss: 0.000001\n",
            "Epoch: 1400, batch: 2, Loss: 0.000000\n",
            "Epoch: 1400, batch: 3, Loss: 0.000001\n",
            "Epoch: 1400, batch: 4, Loss: 0.000001\n",
            "Epoch: 1400, batch: 5, Loss: 0.000001\n",
            "Epoch: 1400, batch: 6, Loss: 0.000001\n",
            "Epoch: 1400, batch: 7, Loss: 0.000002\n",
            "Epoch: 1400, batch: 8, Loss: 0.000001\n",
            "Epoch: 1400, batch: 9, Loss: 0.000000\n",
            "Epoch: 1400, batch: 10, Loss: 0.000001\n",
            "Epoch: 1500, batch: 1, Loss: 0.000000\n",
            "Epoch: 1500, batch: 2, Loss: 0.000001\n",
            "Epoch: 1500, batch: 3, Loss: 0.000001\n",
            "Epoch: 1500, batch: 4, Loss: 0.000001\n",
            "Epoch: 1500, batch: 5, Loss: 0.000000\n",
            "Epoch: 1500, batch: 6, Loss: 0.000001\n",
            "Epoch: 1500, batch: 7, Loss: 0.000001\n",
            "Epoch: 1500, batch: 8, Loss: 0.000001\n",
            "Epoch: 1500, batch: 9, Loss: 0.000000\n",
            "Epoch: 1500, batch: 10, Loss: 0.000000\n"
          ],
          "name": "stdout"
        }
      ]
    },
    {
      "cell_type": "markdown",
      "metadata": {
        "id": "sImoECM4cPeu"
      },
      "source": [
        "# 結果可視化"
      ]
    },
    {
      "cell_type": "code",
      "metadata": {
        "id": "XhUN0cioyzeI"
      },
      "source": [
        "import matplotlib.pyplot as plt"
      ],
      "execution_count": null,
      "outputs": []
    },
    {
      "cell_type": "code",
      "metadata": {
        "id": "_BYoINdhZcKl"
      },
      "source": [
        "np.array(train_loss).shape\n",
        "train_mean_loss = []\n",
        "for i in range(0,len(train_loss),10):\n",
        "  loss =  (np.array(train_loss)[i:i+10]).sum() / 10\n",
        "  train_mean_loss.append(loss)"
      ],
      "execution_count": null,
      "outputs": []
    },
    {
      "cell_type": "code",
      "metadata": {
        "colab": {
          "base_uri": "https://localhost:8080/"
        },
        "id": "I1aFmIgtaKCd",
        "outputId": "8a6f2870-4f86-4466-a89d-144bb55b1d7a"
      },
      "source": [
        "np.array(train_mean_loss).shape"
      ],
      "execution_count": null,
      "outputs": [
        {
          "output_type": "execute_result",
          "data": {
            "text/plain": [
              "(1500,)"
            ]
          },
          "metadata": {
            "tags": []
          },
          "execution_count": 100
        }
      ]
    },
    {
      "cell_type": "code",
      "metadata": {
        "colab": {
          "base_uri": "https://localhost:8080/",
          "height": 295
        },
        "id": "E6vBtZ-BYyG_",
        "outputId": "935f4634-f638-4a64-9af7-fd0073676a24"
      },
      "source": [
        "\n",
        "plt.plot(train_mean_loss,label='train_loss')\n",
        "plt.legend(loc='best')\n",
        "plt.title('%s_train_loss(MSE)'%Country)\n",
        "plt.xlabel('epoch')\n",
        "plt.ylabel('MSE')\n",
        "\n",
        "plt.show()"
      ],
      "execution_count": null,
      "outputs": [
        {
          "output_type": "display_data",
          "data": {
            "image/png": "[encoded data removed]",
            "text/plain": [
              "<Figure size 432x288 with 1 Axes>"
            ]
          },
          "metadata": {
            "tags": [],
            "needs_background": "light"
          }
        }
      ]
    },
    {
      "cell_type": "code",
      "metadata": {
        "colab": {
          "base_uri": "https://localhost:8080/"
        },
        "id": "5uojEPkFtFVA",
        "outputId": "e38bc534-8935-4da1-c6cc-12b69d24aa66"
      },
      "source": [
        "\n",
        "LSTM_2_FC_3.eval()\n",
        "\n",
        "prediction = []\n",
        "test_loss = []\n",
        "for seqs,labels in test_loader:\n",
        "  seqs = Variable(seqs)\n",
        "  outputs = LSTM_2_FC_3(seqs)\n",
        "  prediction = prediction + list( (LSTM_2_FC_3(seqs).data.reshape(-1))*(Deaths_max-Deaths_min)+Deaths_min)\n",
        "  loss = loss_fn(outputs,labels.float())\n",
        "  test_loss.append(loss.data)\n",
        "\n",
        "print('%s_test_loss: '%Country,np.array(test_loss).sum()/len(test_loss))\n"
      ],
      "execution_count": null,
      "outputs": [
        {
          "output_type": "stream",
          "text": [
            "India_test_loss:  0.00037603664677590134\n"
          ],
          "name": "stdout"
        }
      ]
    },
    {
      "cell_type": "code",
      "metadata": {
        "colab": {
          "base_uri": "https://localhost:8080/"
        },
        "id": "Rwl4rUkPvOnS",
        "outputId": "c5304037-0db9-4483-cf47-cc7db0001fa3"
      },
      "source": [
        "prediction"
      ],
      "execution_count": null,
      "outputs": [
        {
          "output_type": "execute_result",
          "data": {
            "text/plain": [
              "[tensor(149502.7812),\n",
              " tensor(148913.4688),\n",
              " tensor(148509.4844),\n",
              " tensor(148726.7031),\n",
              " tensor(149341.4688),\n",
              " tensor(149597.3750),\n",
              " tensor(149812.4531),\n",
              " tensor(151197.6094),\n",
              " tensor(150474.4062),\n",
              " tensor(150295.0781),\n",
              " tensor(150228.6406),\n",
              " tensor(150870.3281),\n",
              " tensor(151062.8750),\n",
              " tensor(151249.5312),\n",
              " tensor(152629.3125),\n",
              " tensor(151835.0938),\n",
              " tensor(151594.7656),\n",
              " tensor(151705.3750),\n",
              " tensor(152092.2656),\n",
              " tensor(152296.5938),\n",
              " tensor(152442.5469),\n",
              " tensor(153832.3750),\n",
              " tensor(152949.8750),\n",
              " tensor(152669.6406),\n",
              " tensor(152757.8125),\n",
              " tensor(153123.2969),\n",
              " tensor(153316.0781),\n",
              " tensor(153442.9531),\n",
              " tensor(154850.2188),\n",
              " tensor(153904.9375),\n",
              " tensor(153613.6875),\n",
              " tensor(153685.2812),\n",
              " tensor(154027.7969),\n",
              " tensor(154210.3438),\n",
              " tensor(154315.0312),\n",
              " tensor(155732.4375),\n",
              " tensor(154741.1094),\n",
              " tensor(154395.3125),\n",
              " tensor(154428.7812),\n",
              " tensor(154727.1875),\n",
              " tensor(154879.0312),\n",
              " tensor(154968.0469),\n",
              " tensor(156396.1406),\n",
              " tensor(155383.6250),\n",
              " tensor(154994.5312),\n",
              " tensor(155039.3281),\n",
              " tensor(155350.9531),\n",
              " tensor(155509.2031),\n",
              " tensor(155601.9844),\n",
              " tensor(157064.8906),\n",
              " tensor(156022.4844),\n",
              " tensor(155634.8438),\n",
              " tensor(155676.),\n",
              " tensor(155988.5000),\n",
              " tensor(156141.0156),\n",
              " tensor(156231.7656),\n",
              " tensor(157726.5312),\n",
              " tensor(156700.3906),\n",
              " tensor(156322.2812),\n",
              " tensor(156374.0469),\n",
              " tensor(156711.2969),\n",
              " tensor(156886.3281),\n",
              " tensor(156990.2812),\n",
              " tensor(158514.6406),\n",
              " tensor(157410.2656),\n",
              " tensor(157019.5938),\n",
              " tensor(157064.7969),\n",
              " tensor(157391.9219),\n",
              " tensor(157559.8906),\n",
              " tensor(157650.7812),\n",
              " tensor(159240.),\n",
              " tensor(158149.3281),\n",
              " tensor(157747.6719),\n",
              " tensor(157825.5312),\n",
              " tensor(158212.),\n",
              " tensor(158399.3438),\n",
              " tensor(158544.9688),\n",
              " tensor(160232.3750),\n",
              " tensor(159155.4375),\n",
              " tensor(158771.4062),\n",
              " tensor(158894.4375),\n",
              " tensor(159316.9688),\n",
              " tensor(159597.2500),\n",
              " tensor(159806.0625),\n",
              " tensor(161645.5469),\n",
              " tensor(160601.7188),\n",
              " tensor(160292.3438),\n",
              " tensor(160508.8750),\n",
              " tensor(161044.9062),\n",
              " tensor(161401.9844),\n",
              " tensor(161683.5000),\n",
              " tensor(163695.9375),\n",
              " tensor(162796.7344),\n",
              " tensor(162647.3281),\n",
              " tensor(163268.4219),\n",
              " tensor(163981.2656),\n",
              " tensor(164532.9219),\n",
              " tensor(164985.2969),\n",
              " tensor(167447.1719),\n",
              " tensor(166647.4219),\n",
              " tensor(166729.6875),\n",
              " tensor(167401.2656),\n",
              " tensor(168453.7812),\n",
              " tensor(169404.3750),\n",
              " tensor(170269.6562),\n",
              " tensor(173421.0156),\n",
              " tensor(172763.1562),\n",
              " tensor(173118.5312),\n",
              " tensor(174296.4062),\n",
              " tensor(175984.5938),\n",
              " tensor(177616.5469),\n",
              " tensor(179325.0156),\n",
              " tensor(184000.0312),\n",
              " tensor(184028.8906),\n",
              " tensor(185162.8906),\n",
              " tensor(187516.1094),\n",
              " tensor(190400.8438),\n",
              " tensor(193168.8281),\n",
              " tensor(195838.7812),\n",
              " tensor(202807.2500),\n",
              " tensor(203600.1406),\n",
              " tensor(205421.7969),\n",
              " tensor(208538.3906),\n",
              " tensor(212340.3438),\n",
              " tensor(215676.6094),\n",
              " tensor(219001.7656),\n",
              " tensor(227971.1250),\n",
              " tensor(227797.9062),\n",
              " tensor(229486.4688),\n",
              " tensor(233170.5156),\n",
              " tensor(237366.4219),\n",
              " tensor(241062.0781),\n",
              " tensor(244784.8594),\n",
              " tensor(256032.3125),\n",
              " tensor(254310.3125),\n",
              " tensor(255485.7031),\n",
              " tensor(258822.1250),\n",
              " tensor(263163.7812),\n",
              " tensor(267190.5000),\n",
              " tensor(271310.7188),\n",
              " tensor(284948.0625),\n",
              " tensor(280985.6250),\n",
              " tensor(281850.3438),\n",
              " tensor(285388.0312),\n",
              " tensor(289511.8438),\n",
              " tensor(293964.0625),\n",
              " tensor(297270.)]"
            ]
          },
          "metadata": {
            "tags": []
          },
          "execution_count": 103
        }
      ]
    },
    {
      "cell_type": "code",
      "metadata": {
        "colab": {
          "base_uri": "https://localhost:8080/"
        },
        "id": "Lg2l_KjQOZ1Y",
        "outputId": "6e1d0b78-e6f4-43bb-80bc-9975a3b6105e"
      },
      "source": [
        "len(prediction)"
      ],
      "execution_count": null,
      "outputs": [
        {
          "output_type": "execute_result",
          "data": {
            "text/plain": [
              "147"
            ]
          },
          "metadata": {
            "tags": []
          },
          "execution_count": 104
        }
      ]
    },
    {
      "cell_type": "code",
      "metadata": {
        "colab": {
          "base_uri": "https://localhost:8080/",
          "height": 295
        },
        "id": "RCMkV160vOqP",
        "outputId": "e55628aa-1d12-4fab-fc9b-b7f15d8925d4"
      },
      "source": [
        "from scipy.interpolate import make_interp_spline\n",
        "\n",
        "plt.plot(np.array(us)[:,2]*(Deaths_max-Deaths_min)+Deaths_min, label='True Value',color = '#FF00FF')\n",
        "#plt.plot(prediction[:], label='LSTM fit')\n",
        "plt.plot(np.arange(test_data.shape[0]-len(prediction)+1, test_data.shape[0]+1, 1), prediction[:], label='LSTM pred',color='#FFD700')\n",
        "#print(len(data[:,2]))\n",
        "#print(len(prediction[90:]))\n",
        "plt.legend(loc='best')\n",
        "plt.title('Cumulative deaths prediction(%s)'%Country)\n",
        "plt.xlabel('Day')\n",
        "plt.ylabel('Cumulative Cases')\n",
        "\n",
        "plt.show()"
      ],
      "execution_count": null,
      "outputs": [
        {
          "output_type": "display_data",
          "data": {
            "image/png": "[encoded data removed]",
            "text/plain": [
              "<Figure size 432x288 with 1 Axes>"
            ]
          },
          "metadata": {
            "tags": [],
            "needs_background": "light"
          }
        }
      ]
    },
    {
      "cell_type": "code",
      "metadata": {
        "id": "B8-w2HWh7v7f"
      },
      "source": [
        "mae = nn.L1Loss()"
      ],
      "execution_count": null,
      "outputs": []
    },
    {
      "cell_type": "code",
      "metadata": {
        "colab": {
          "base_uri": "https://localhost:8080/"
        },
        "id": "LnVSaxeBn9cm",
        "outputId": "7fee4289-1ce3-4f26-afd0-51bd39f83c49"
      },
      "source": [
        "prediction = []\n",
        "test_mse_loss = []\n",
        "for seqs,labels in test_loader:\n",
        "  seqs = Variable(seqs)\n",
        "  outputs = LSTM_2_FC_3(seqs)\n",
        "  prediction = prediction + list( (LSTM_2_FC_3(seqs).data.reshape(-1))*(Deaths_max-Deaths_min)+Deaths_min)\n",
        "  loss = loss_fn(outputs,labels.float())\n",
        "  test_mse_loss.append(loss.data)\n",
        "\n",
        "print('%s_test_mse_loss: '%Country,np.array(test_mse_loss).sum()/len(test_mse_loss))\n"
      ],
      "execution_count": null,
      "outputs": [
        {
          "output_type": "stream",
          "text": [
            "India_test_mse_loss:  0.00037603664677590134\n"
          ],
          "name": "stdout"
        }
      ]
    },
    {
      "cell_type": "code",
      "metadata": {
        "colab": {
          "base_uri": "https://localhost:8080/"
        },
        "id": "dE_SrYwqgF7v",
        "outputId": "114f4bfd-8678-435e-b865-09d97b782595"
      },
      "source": [
        "prediction = []\n",
        "test_mae_loss = []\n",
        "for seqs,labels in test_loader:\n",
        "  seqs = Variable(seqs)\n",
        "  outputs = LSTM_2_FC_3(seqs)\n",
        "  prediction = prediction + list( (LSTM_2_FC_3(seqs).data.reshape(-1))*(Deaths_max-Deaths_min)+Deaths_min)\n",
        "  loss = mae(outputs,labels.float())\n",
        "  test_mae_loss.append(loss.data)\n",
        "\n",
        "print('%s_test_mae_loss: '%Country,np.array(test_mae_loss).sum()/len(test_mae_loss))\n",
        "print('還原實際人數mae_loss: ',(np.array(test_mae_loss).sum()/len(test_mae_loss))*(Deaths_max-Deaths_min)+Deaths_min )"
      ],
      "execution_count": null,
      "outputs": [
        {
          "output_type": "stream",
          "text": [
            "India_test_mae_loss:  0.011882785707712173\n",
            "還原實際人數mae_loss:  3873.4554227143526\n"
          ],
          "name": "stdout"
        }
      ]
    },
    {
      "cell_type": "code",
      "metadata": {
        "id": "nuS0uXzh3o4A"
      },
      "source": [
        ""
      ],
      "execution_count": null,
      "outputs": []
    }
  ]
}