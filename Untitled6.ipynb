{
  "nbformat": 4,
  "nbformat_minor": 0,
  "metadata": {
    "colab": {
      "name": "Untitled6.ipynb",
      "provenance": [],
      "collapsed_sections": [],
      "mount_file_id": "1rvuJ8WLj50jc7-7UQvSGeMWWHc8keklj",
      "authorship_tag": "ABX9TyOgewvxlyl3AnFKBgTst1dN",
      "include_colab_link": true
    },
    "kernelspec": {
      "name": "python3",
      "display_name": "Python 3"
    }
  },
  "cells": [
    {
      "cell_type": "markdown",
      "metadata": {
        "id": "view-in-github",
        "colab_type": "text"
      },
      "source": [
        "<a href=\"https://colab.research.google.com/github/wujulie/ML__homework/blob/main/Untitled6.ipynb\" target=\"_parent\"><img src=\"https://colab.research.google.com/assets/colab-badge.svg\" alt=\"Open In Colab\"/></a>"
      ]
    },
    {
      "cell_type": "code",
      "metadata": {
        "id": "haHmoy1s4nlv"
      },
      "source": [
        "import pandas as pd\r\n",
        "import numpy as np\r\n",
        "from keras.models import Sequential\r\n",
        "from keras.layers import Dense, Dropout, LSTM\r\n",
        "import matplotlib.pyplot as plt\r\n",
        "from sklearn.preprocessing import MinMaxScaler\r\n",
        "import keras\r\n",
        "\r\n",
        "\r\n",
        "sc = MinMaxScaler(feature_range=(0, 1))\r\n",
        "\r\n",
        "\r\n",
        "  def readTrain():\r\n",
        "      trains = pd.read_csv(\"/content/drive/MyDrive/stock.csv\")\r\n",
        "    return trains\r\n",
        "\r\n",
        "\r\n",
        "def augFeatures(trains):\r\n",
        "    trains[\"Date\"] = pd.to_datetime(trains[\"Date\"])\r\n",
        "    trains[\"year\"] = trains[\"Date\"].dt.year\r\n",
        "    trains[\"month\"] = trains[\"Date\"].dt.month\r\n",
        "    trains[\"date\"] = trains[\"Date\"].dt.day\r\n",
        "    trains[\"day\"] = trains[\"Date\"].dt.dayofweek\r\n",
        "    return trains\r\n",
        "\r\n",
        "\r\n",
        "def normalize(trains):\r\n",
        "    trains = trains.drop([\"Date\"], axis=1)\r\n",
        "    train_norm = trains.apply(lambda x: (x - np.mean(x)) / (np.max(x) - np.min(x)))\r\n",
        "    return train_norm\r\n",
        "\r\n",
        "\r\n",
        "def buildTrain(train_norm):\r\n",
        "    x_train = []  # 預測點的前 60 天的資料\r\n",
        "    y_train = []  # 預測點\r\n",
        "    for i in range(60, train_norm.shape[0]):\r\n",
        "        x_train.append(train_norm.iloc[i - 60:i, 0])\r\n",
        "        y_train.append(train_norm.iloc[i][\"Adj Close\"])\r\n",
        "    X_train, Y_train = np.array(x_train), np.array(y_train)\r\n",
        "\r\n",
        "    return np.array(X_train), np.array(Y_train)\r\n",
        "\r\n",
        "\r\n",
        "def shuffle(X, Y):\r\n",
        "    np.random.seed()\r\n",
        "    randomList = np.arange(X.shape[0])\r\n",
        "    np.random.shuffle(randomList)\r\n",
        "    return X[randomList], Y[randomList]\r\n",
        "\r\n",
        "\r\n",
        "def splitData(X, Y, rate):\r\n",
        "    X_train = X[int(X.shape[0] * rate):]\r\n",
        "    Y_train = Y[int(Y.shape[0] * rate):]\r\n",
        "    X_val = X[:int(X.shape[0] * rate)]\r\n",
        "    Y_val = Y[:int(Y.shape[0] * rate)]\r\n",
        "    return X_train, Y_train, X_val, Y_val\r\n",
        "\r\n",
        "\r\n",
        "def buildOneToOneModel(shape):\r\n",
        "    model = Sequential()\r\n",
        "    model.add(LSTM(units=50, input_shape=(shape[1], 1), return_sequences=True))\r\n",
        "    model.add(Dropout(0.2))\r\n",
        "    model.add(LSTM(units=50))\r\n",
        "    model.add(Dropout(0.2))\r\n",
        "    # output shape: (1, 1)\r\n",
        "    model.add(Dense(units=1))\r\n",
        "    model.compile(loss=\"mean_squared_error\", optimizer=\"adam\")\r\n",
        "    model.summary()\r\n",
        "    return model\r\n",
        "\r\n",
        "\r\n",
        "def EMA(day):\r\n",
        "    MA = []\r\n",
        "    testcsv = readTrain()\r\n",
        "    real_stock_price = testcsv.iloc[:, 1:2].values\r\n",
        "    for i in range(len(real_stock_price) - (day + 1)):\r\n",
        "        sumMA = 0.0\r\n",
        "        for j in range(day):\r\n",
        "            sumMA += float(real_stock_price[i + j:i + j + 1, 0])\r\n",
        "        MA.append(sumMA / day)\r\n",
        "\r\n",
        "    return MA\r\n",
        "\r\n",
        "\r\n",
        "def train_model():\r\n",
        "    # read SPY.csv\r\n",
        "    trains = readTrain()\r\n",
        "\r\n",
        "    # Augment the features (year, month, date, day)\r\n",
        "    train_Aug = augFeatures(trains)\r\n",
        "\r\n",
        "    # Normalization\r\n",
        "    train_norm = normalize(train_Aug)\r\n",
        "\r\n",
        "    # build Data, use last 30 days to predict next 5 days\r\n",
        "    X_train, Y_train = buildTrain(train_norm)\r\n",
        "\r\n",
        "    # shuffle the data, and random seed is 10\r\n",
        "    X_train, Y_train = shuffle(X_train, Y_train)\r\n",
        "\r\n",
        "    # split training data and validation data\r\n",
        "    X_train, Y_train, X_val, Y_val = splitData(X_train, Y_train, 0.1)\r\n",
        "\r\n",
        "    Y_train = Y_train[:, np.newaxis]\r\n",
        "    Y_val = Y_val[:, np.newaxis]\r\n",
        "    X_train = np.reshape(X_train, (X_train.shape[0], X_train.shape[1], 1))\r\n",
        "    model = buildOneToOneModel(X_train.shape)\r\n",
        "    model.fit(X_train, Y_train, epochs=1000, batch_size=32,verbose=2)\r\n",
        "    model.save('modelB.h5')\r\n",
        "\r\n",
        "\r\n",
        "def test_model():\r\n",
        "    testcsv = readTrain()\r\n",
        "    MA_day = 60  # 要>=60\r\n",
        "    MA = EMA(day=MA_day)\r\n",
        "    real_stock_price = testcsv.iloc[:, 1:2].values\r\n",
        "    real_stock_price2 = testcsv.iloc[60:(len(real_stock_price) - 5), 1:2].values\r\n",
        "    inputs = real_stock_price.reshape(-1, 1)\r\n",
        "    inputs = sc.fit_transform(inputs)  # Feature Scaling\r\n",
        "\r\n",
        "    X_test = []\r\n",
        "    for i in range(60, len(real_stock_price)):\r\n",
        "        X_test.append(inputs[i - 60:i, 0])\r\n",
        "    X_test = np.array(X_test)\r\n",
        "    X_test = np.reshape(X_test, (X_test.shape[0], X_test.shape[1], 1))  # Reshape 成 3-dimension\r\n",
        "    model = keras.models.load_model('/content/drive/MyDrive/modelB.h5')\r\n",
        "    predicted_stock_price = model.predict(X_test)\r\n",
        "    predicted_stock_price = sc.inverse_transform(predicted_stock_price)\r\n",
        "  \r\n",
        "   \r\n",
        "   \r\n",
        "\r\n",
        "    # Visualising the results\r\n",
        "    plt.plot(real_stock_price2, color='red', label='Real Stock Price')  # 紅線表示真實股價\r\n",
        "    plt.plot(predicted_stock_price, color='blue', label='Predicted Stock Price')  # 藍線表示預測股價\r\n",
        "    plt.plot(MA, color='black', label=str(MA_day) + \"MA\")\r\n",
        "    plt.title('Stock Price Prediction')\r\n",
        "    plt.xlabel('Time')\r\n",
        "    plt.ylabel('Stock Price')\r\n",
        "    plt.legend()\r\n",
        "    plt.show()\r\n",
        "\r\n",
        "\r\n",
        "# Main #\r\n",
        "# train_model()\r\n",
        "# test_model()\r\n"
      ],
      "execution_count": null,
      "outputs": []
    },
    {
      "cell_type": "code",
      "metadata": {
        "id": "Od2tn6ON5eAw",
        "colab": {
          "base_uri": "https://localhost:8080/",
          "height": 295
        },
        "outputId": "c4d83912-87b9-408c-86fd-4d7b0c4f272f"
      },
      "source": [
        "test_model()"
      ],
      "execution_count": null,
      "outputs": [
        {
          "output_type": "display_data",
          "data": {
            "image/png": "[encoded data removed]",
            "text/plain": [
              "<Figure size 432x288 with 1 Axes>"
            ]
          },
          "metadata": {
            "tags": [],
            "needs_background": "light"
          }
        }
      ]
    },
    {
      "cell_type": "code",
      "metadata": {
        "id": "5g61SiKfZRB_"
      },
      "source": [
        ""
      ],
      "execution_count": null,
      "outputs": []
    }
  ]
}