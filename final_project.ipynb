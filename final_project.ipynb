{
  "nbformat": 4,
  "nbformat_minor": 0,
  "metadata": {
    "accelerator": "GPU",
    "colab": {
      "name": "final_project.ipynb",
      "provenance": [],
      "collapsed_sections": [],
      "mount_file_id": "1nbF4N2TVLcUtt2IzTRMLRSSdF2nLqZhI",
      "authorship_tag": "ABX9TyNrokBYFFmBXUr9G0FrINRq",
      "include_colab_link": true
    },
    "kernelspec": {
      "display_name": "Python 3",
      "name": "python3"
    }
  },
  "cells": [
    {
      "cell_type": "markdown",
      "metadata": {
        "id": "view-in-github",
        "colab_type": "text"
      },
      "source": [
        "<a href=\"https://colab.research.google.com/github/wujulie/ML__homework/blob/main/final_project.ipynb\" target=\"_parent\"><img src=\"https://colab.research.google.com/assets/colab-badge.svg\" alt=\"Open In Colab\"/></a>"
      ]
    },
    {
      "cell_type": "code",
      "metadata": {
        "colab": {
          "base_uri": "https://localhost:8080/"
        },
        "id": "BRvyhQjUsiMM",
        "outputId": "82399ab0-c194-4604-d76d-34e7d298e80e"
      },
      "source": [
        "import numpy as np\n",
        "import pandas as pd\n",
        "train_data=pd.read_csv(\"/content/drive/MyDrive/ML_final/data.csv\",header='infer')\n",
        "pd.set_option('display.max_columns',None) \n",
        "print(train_data.shape)"
      ],
      "execution_count": null,
      "outputs": [
        {
          "output_type": "stream",
          "text": [
            "(93420, 12)\n"
          ],
          "name": "stdout"
        }
      ]
    },
    {
      "cell_type": "code",
      "metadata": {
        "colab": {
          "base_uri": "https://localhost:8080/",
          "height": 215
        },
        "id": "T-u5X_JL6imd",
        "outputId": "3dc9b5b3-4da6-4ab7-f396-9aa1528f3154"
      },
      "source": [
        "train_data.head()"
      ],
      "execution_count": null,
      "outputs": [
        {
          "output_type": "execute_result",
          "data": {
            "text/html": [
              "<div>\n",
              "<style scoped>\n",
              "    .dataframe tbody tr th:only-of-type {\n",
              "        vertical-align: middle;\n",
              "    }\n",
              "\n",
              "    .dataframe tbody tr th {\n",
              "        vertical-align: top;\n",
              "    }\n",
              "\n",
              "    .dataframe thead th {\n",
              "        text-align: right;\n",
              "    }\n",
              "</style>\n",
              "<table border=\"1\" class=\"dataframe\">\n",
              "  <thead>\n",
              "    <tr style=\"text-align: right;\">\n",
              "      <th></th>\n",
              "      <th>id</th>\n",
              "      <th>Gender</th>\n",
              "      <th>Age</th>\n",
              "      <th>Driving_License</th>\n",
              "      <th>Region_Code</th>\n",
              "      <th>Previously_Insured</th>\n",
              "      <th>Vehicle_Age</th>\n",
              "      <th>Vehicle_Damage</th>\n",
              "      <th>Annual_Premium</th>\n",
              "      <th>Policy_Sales_Channel</th>\n",
              "      <th>Vintage</th>\n",
              "      <th>Response</th>\n",
              "    </tr>\n",
              "  </thead>\n",
              "  <tbody>\n",
              "    <tr>\n",
              "      <th>0</th>\n",
              "      <td>89038</td>\n",
              "      <td>Male</td>\n",
              "      <td>57</td>\n",
              "      <td>1</td>\n",
              "      <td>28</td>\n",
              "      <td>0</td>\n",
              "      <td>1-2 Year</td>\n",
              "      <td>Yes</td>\n",
              "      <td>59191</td>\n",
              "      <td>26</td>\n",
              "      <td>104</td>\n",
              "      <td>1</td>\n",
              "    </tr>\n",
              "    <tr>\n",
              "      <th>1</th>\n",
              "      <td>291571</td>\n",
              "      <td>Female</td>\n",
              "      <td>30</td>\n",
              "      <td>1</td>\n",
              "      <td>35</td>\n",
              "      <td>1</td>\n",
              "      <td>&lt; 1 Year</td>\n",
              "      <td>No</td>\n",
              "      <td>2630</td>\n",
              "      <td>152</td>\n",
              "      <td>289</td>\n",
              "      <td>0</td>\n",
              "    </tr>\n",
              "    <tr>\n",
              "      <th>2</th>\n",
              "      <td>365519</td>\n",
              "      <td>Female</td>\n",
              "      <td>31</td>\n",
              "      <td>1</td>\n",
              "      <td>23</td>\n",
              "      <td>0</td>\n",
              "      <td>1-2 Year</td>\n",
              "      <td>Yes</td>\n",
              "      <td>2630</td>\n",
              "      <td>124</td>\n",
              "      <td>208</td>\n",
              "      <td>1</td>\n",
              "    </tr>\n",
              "    <tr>\n",
              "      <th>3</th>\n",
              "      <td>351543</td>\n",
              "      <td>Male</td>\n",
              "      <td>47</td>\n",
              "      <td>1</td>\n",
              "      <td>41</td>\n",
              "      <td>0</td>\n",
              "      <td>1-2 Year</td>\n",
              "      <td>Yes</td>\n",
              "      <td>35226</td>\n",
              "      <td>26</td>\n",
              "      <td>233</td>\n",
              "      <td>1</td>\n",
              "    </tr>\n",
              "    <tr>\n",
              "      <th>4</th>\n",
              "      <td>56879</td>\n",
              "      <td>Female</td>\n",
              "      <td>45</td>\n",
              "      <td>1</td>\n",
              "      <td>26</td>\n",
              "      <td>0</td>\n",
              "      <td>1-2 Year</td>\n",
              "      <td>Yes</td>\n",
              "      <td>35585</td>\n",
              "      <td>124</td>\n",
              "      <td>285</td>\n",
              "      <td>0</td>\n",
              "    </tr>\n",
              "  </tbody>\n",
              "</table>\n",
              "</div>"
            ],
            "text/plain": [
              "       id  Gender  Age  Driving_License  Region_Code  Previously_Insured  \\\n",
              "0   89038    Male   57                1           28                   0   \n",
              "1  291571  Female   30                1           35                   1   \n",
              "2  365519  Female   31                1           23                   0   \n",
              "3  351543    Male   47                1           41                   0   \n",
              "4   56879  Female   45                1           26                   0   \n",
              "\n",
              "  Vehicle_Age Vehicle_Damage  Annual_Premium  Policy_Sales_Channel  Vintage  \\\n",
              "0    1-2 Year            Yes           59191                    26      104   \n",
              "1    < 1 Year             No            2630                   152      289   \n",
              "2    1-2 Year            Yes            2630                   124      208   \n",
              "3    1-2 Year            Yes           35226                    26      233   \n",
              "4    1-2 Year            Yes           35585                   124      285   \n",
              "\n",
              "   Response  \n",
              "0         1  \n",
              "1         0  \n",
              "2         1  \n",
              "3         1  \n",
              "4         0  "
            ]
          },
          "metadata": {
            "tags": []
          },
          "execution_count": 2
        }
      ]
    },
    {
      "cell_type": "code",
      "metadata": {
        "colab": {
          "base_uri": "https://localhost:8080/"
        },
        "id": "am7vICD2ejru",
        "outputId": "73fb5f43-421f-42b6-88a3-a5aa55d32348"
      },
      "source": [
        "train_data['Response'].unique()"
      ],
      "execution_count": null,
      "outputs": [
        {
          "output_type": "execute_result",
          "data": {
            "text/plain": [
              "array([1, 0])"
            ]
          },
          "metadata": {
            "tags": []
          },
          "execution_count": 3
        }
      ]
    },
    {
      "cell_type": "code",
      "metadata": {
        "colab": {
          "base_uri": "https://localhost:8080/"
        },
        "id": "GrRsQpwGY7XJ",
        "outputId": "66e590d0-8d80-4a04-ef53-a4dad376b22e"
      },
      "source": [
        "train_data['Policy_Sales_Channel'].unique()"
      ],
      "execution_count": null,
      "outputs": [
        {
          "output_type": "execute_result",
          "data": {
            "text/plain": [
              "array([ 26, 152, 124, 160, 156,   8, 120, 157, 145, 155,  30, 122,   7,\n",
              "        31, 154,  13, 125, 163,   1,  25,  11,  55,  29,  16,   3,  89,\n",
              "         4,  14, 150, 148,  24,  93,  15,  12, 153,  42,  52, 151, 158,\n",
              "        61,  64,  37, 119,  60,  23, 136, 139,  44, 147, 107,  56, 116,\n",
              "       140, 106,  35,  10, 127,  53, 114,   9,  59,  54, 121, 111, 108,\n",
              "        40,  22, 133, 103,  96, 105,  19, 100,  65,  18, 135,  80,  21,\n",
              "       131, 128, 123,  66,  90,  91,  36,  38,  86,  47,  20, 130, 109,\n",
              "       132,  68,  51,  94,  45, 159,  49, 138,  88, 146, 113, 129,  43,\n",
              "        58,  92,  73,  95,  48,  63, 101,  81,  79,  17,  87,  97, 110,\n",
              "        39, 104,  99,  46,  83, 134,  78,  32,  62,  98, 118,  69, 137,\n",
              "        57,   2,  28,  76,  70,  27,  84])"
            ]
          },
          "metadata": {
            "tags": []
          },
          "execution_count": 4
        }
      ]
    },
    {
      "cell_type": "code",
      "metadata": {
        "colab": {
          "base_uri": "https://localhost:8080/"
        },
        "id": "NcvXcCtGvHm7",
        "outputId": "eed3b5e7-1cfc-4d0b-d3c0-6fcc28fcd0b8"
      },
      "source": [
        "train_data.isnull().sum()"
      ],
      "execution_count": null,
      "outputs": [
        {
          "output_type": "execute_result",
          "data": {
            "text/plain": [
              "id                      0\n",
              "Gender                  0\n",
              "Age                     0\n",
              "Driving_License         0\n",
              "Region_Code             0\n",
              "Previously_Insured      0\n",
              "Vehicle_Age             0\n",
              "Vehicle_Damage          0\n",
              "Annual_Premium          0\n",
              "Policy_Sales_Channel    0\n",
              "Vintage                 0\n",
              "Response                0\n",
              "dtype: int64"
            ]
          },
          "metadata": {
            "tags": []
          },
          "execution_count": 5
        }
      ]
    },
    {
      "cell_type": "code",
      "metadata": {
        "colab": {
          "base_uri": "https://localhost:8080/"
        },
        "id": "JDyKA5ZSvnLb",
        "outputId": "221e45a9-9673-48ab-dd6e-6f9bbc18a1e1"
      },
      "source": [
        "train_data.dtypes"
      ],
      "execution_count": null,
      "outputs": [
        {
          "output_type": "execute_result",
          "data": {
            "text/plain": [
              "id                       int64\n",
              "Gender                  object\n",
              "Age                      int64\n",
              "Driving_License          int64\n",
              "Region_Code              int64\n",
              "Previously_Insured       int64\n",
              "Vehicle_Age             object\n",
              "Vehicle_Damage          object\n",
              "Annual_Premium           int64\n",
              "Policy_Sales_Channel     int64\n",
              "Vintage                  int64\n",
              "Response                 int64\n",
              "dtype: object"
            ]
          },
          "metadata": {
            "tags": []
          },
          "execution_count": 6
        }
      ]
    },
    {
      "cell_type": "code",
      "metadata": {
        "colab": {
          "base_uri": "https://localhost:8080/"
        },
        "id": "Fbsa4Ucvvvb6",
        "outputId": "fab8f5cf-a064-46d2-cdb6-ee66ddea25c7"
      },
      "source": [
        "train_data['Gender'].unique()\n",
        "train_data['Vehicle_Age'].unique()\n",
        "train_data['Vehicle_Damage'].unique()\n"
      ],
      "execution_count": null,
      "outputs": [
        {
          "output_type": "execute_result",
          "data": {
            "text/plain": [
              "array(['Yes', 'No'], dtype=object)"
            ]
          },
          "metadata": {
            "tags": []
          },
          "execution_count": 7
        }
      ]
    },
    {
      "cell_type": "code",
      "metadata": {
        "colab": {
          "base_uri": "https://localhost:8080/"
        },
        "id": "rUUCk8sXQobP",
        "outputId": "344c33de-9cd7-46d0-8bad-3dc8f5e310d9"
      },
      "source": [
        "train_data.Age.unique()"
      ],
      "execution_count": null,
      "outputs": [
        {
          "output_type": "execute_result",
          "data": {
            "text/plain": [
              "array([57, 30, 31, 47, 45, 33, 20, 69, 22, 26, 51, 37, 29, 63, 61, 39, 43,\n",
              "       42, 38, 62, 34, 21, 72, 65, 35, 23, 49, 48, 25, 52, 36, 66, 40, 74,\n",
              "       27, 46, 68, 28, 60, 58, 53, 64, 24, 54, 50, 55, 41, 32, 44, 71, 78,\n",
              "       79, 73, 75, 59, 76, 67, 56, 77, 80, 70, 82, 81, 85, 83])"
            ]
          },
          "metadata": {
            "tags": []
          },
          "execution_count": 8
        }
      ]
    },
    {
      "cell_type": "code",
      "metadata": {
        "colab": {
          "base_uri": "https://localhost:8080/"
        },
        "id": "DJ_9SWoLPOAk",
        "outputId": "6bb5b4be-2435-4e3b-d514-bc1e68a438e9"
      },
      "source": [
        "print(train_data.head(3))"
      ],
      "execution_count": null,
      "outputs": [
        {
          "output_type": "stream",
          "text": [
            "       id  Gender  Age  Driving_License  Region_Code  Previously_Insured  \\\n",
            "0   89038    Male   57                1           28                   0   \n",
            "1  291571  Female   30                1           35                   1   \n",
            "2  365519  Female   31                1           23                   0   \n",
            "\n",
            "  Vehicle_Age Vehicle_Damage  Annual_Premium  Policy_Sales_Channel  Vintage  \\\n",
            "0    1-2 Year            Yes           59191                    26      104   \n",
            "1    < 1 Year             No            2630                   152      289   \n",
            "2    1-2 Year            Yes            2630                   124      208   \n",
            "\n",
            "   Response  \n",
            "0         1  \n",
            "1         0  \n",
            "2         1  \n"
          ],
          "name": "stdout"
        }
      ]
    },
    {
      "cell_type": "code",
      "metadata": {
        "id": "lAND-4VIwOe7"
      },
      "source": [
        "from sklearn.preprocessing import LabelEncoder\n",
        "LE=LabelEncoder()\n",
        "for col in train_data[['Gender','Vehicle_Age','Vehicle_Damage']]:\n",
        "   train_data[col]=LE.fit_transform(train_data[col])\n"
      ],
      "execution_count": null,
      "outputs": []
    },
    {
      "cell_type": "code",
      "metadata": {
        "colab": {
          "base_uri": "https://localhost:8080/",
          "height": 297
        },
        "id": "h3XjyCMZulb6",
        "outputId": "d0ee4e79-38dd-4460-ec8a-b4d3471fe17f"
      },
      "source": [
        "import seaborn as sns\n",
        "sns.countplot(x ='Response',data =train_data)\n"
      ],
      "execution_count": null,
      "outputs": [
        {
          "output_type": "execute_result",
          "data": {
            "text/plain": [
              "<matplotlib.axes._subplots.AxesSubplot at 0x7fef83011310>"
            ]
          },
          "metadata": {
            "tags": []
          },
          "execution_count": 11
        },
        {
          "output_type": "display_data",
          "data": {
            "image/png": "[encoded data removed]",
            "text/plain": [
              "<Figure size 432x288 with 1 Axes>"
            ]
          },
          "metadata": {
            "tags": [],
            "needs_background": "light"
          }
        }
      ]
    },
    {
      "cell_type": "code",
      "metadata": {
        "colab": {
          "base_uri": "https://localhost:8080/",
          "height": 297
        },
        "id": "Ia_d4LGDKcd1",
        "outputId": "87f378ed-ce92-4dae-8021-39decd44035b"
      },
      "source": [
        "sns.countplot(x ='Gender', hue='Response',data = train_data)"
      ],
      "execution_count": null,
      "outputs": [
        {
          "output_type": "execute_result",
          "data": {
            "text/plain": [
              "<matplotlib.axes._subplots.AxesSubplot at 0x7fef82878190>"
            ]
          },
          "metadata": {
            "tags": []
          },
          "execution_count": 12
        },
        {
          "output_type": "display_data",
          "data": {
            "image/png": "[encoded data removed]",
            "text/plain": [
              "<Figure size 432x288 with 1 Axes>"
            ]
          },
          "metadata": {
            "tags": [],
            "needs_background": "light"
          }
        }
      ]
    },
    {
      "cell_type": "code",
      "metadata": {
        "colab": {
          "base_uri": "https://localhost:8080/",
          "height": 370
        },
        "id": "DAjccSkAJWhC",
        "outputId": "4308574a-b40a-4780-a2fb-74c12fb2817b"
      },
      "source": [
        "import matplotlib\n",
        "import matplotlib.pyplot as plt\n",
        "plt.figure(figsize=(20,8))\n",
        "ax= sns.countplot(train_data['Age'],hue=train_data['Response'])\n",
        "plt.ylabel('Response')\n",
        "plt.show()"
      ],
      "execution_count": null,
      "outputs": [
        {
          "output_type": "stream",
          "text": [
            "/usr/local/lib/python3.7/dist-packages/seaborn/_decorators.py:43: FutureWarning: Pass the following variable as a keyword arg: x. From version 0.12, the only valid positional argument will be `data`, and passing other arguments without an explicit keyword will result in an error or misinterpretation.\n",
            "  FutureWarning\n"
          ],
          "name": "stderr"
        },
        {
          "output_type": "display_data",
          "data": {
            "image/png": "[encoded data removed]",
            "text/plain": [
              "<Figure size 1440x576 with 1 Axes>"
            ]
          },
          "metadata": {
            "tags": [],
            "needs_background": "light"
          }
        }
      ]
    },
    {
      "cell_type": "code",
      "metadata": {
        "colab": {
          "base_uri": "https://localhost:8080/",
          "height": 353
        },
        "id": "ColUF01eK6Jv",
        "outputId": "a5194be9-6c36-426d-fae4-26dbbe2dd76f"
      },
      "source": [
        "sns.countplot(train_data['Vehicle_Damage'],hue=train_data['Response'])"
      ],
      "execution_count": null,
      "outputs": [
        {
          "output_type": "stream",
          "text": [
            "/usr/local/lib/python3.7/dist-packages/seaborn/_decorators.py:43: FutureWarning: Pass the following variable as a keyword arg: x. From version 0.12, the only valid positional argument will be `data`, and passing other arguments without an explicit keyword will result in an error or misinterpretation.\n",
            "  FutureWarning\n"
          ],
          "name": "stderr"
        },
        {
          "output_type": "execute_result",
          "data": {
            "text/plain": [
              "<matplotlib.axes._subplots.AxesSubplot at 0x7fef81804b90>"
            ]
          },
          "metadata": {
            "tags": []
          },
          "execution_count": 14
        },
        {
          "output_type": "display_data",
          "data": {
            "image/png": "[encoded data removed]",
            "text/plain": [
              "<Figure size 432x288 with 1 Axes>"
            ]
          },
          "metadata": {
            "tags": [],
            "needs_background": "light"
          }
        }
      ]
    },
    {
      "cell_type": "code",
      "metadata": {
        "colab": {
          "base_uri": "https://localhost:8080/",
          "height": 353
        },
        "id": "TF_CisMteV4m",
        "outputId": "101049d2-227c-48e4-b9e6-765b7f9f0a94"
      },
      "source": [
        "sns.countplot(train_data['Vehicle_Age'],hue=train_data['Response'])"
      ],
      "execution_count": null,
      "outputs": [
        {
          "output_type": "stream",
          "text": [
            "/usr/local/lib/python3.7/dist-packages/seaborn/_decorators.py:43: FutureWarning: Pass the following variable as a keyword arg: x. From version 0.12, the only valid positional argument will be `data`, and passing other arguments without an explicit keyword will result in an error or misinterpretation.\n",
            "  FutureWarning\n"
          ],
          "name": "stderr"
        },
        {
          "output_type": "execute_result",
          "data": {
            "text/plain": [
              "<matplotlib.axes._subplots.AxesSubplot at 0x7fef814be5d0>"
            ]
          },
          "metadata": {
            "tags": []
          },
          "execution_count": 15
        },
        {
          "output_type": "display_data",
          "data": {
            "image/png": "[encoded data removed]",
            "text/plain": [
              "<Figure size 432x288 with 1 Axes>"
            ]
          },
          "metadata": {
            "tags": [],
            "needs_background": "light"
          }
        }
      ]
    },
    {
      "cell_type": "code",
      "metadata": {
        "colab": {
          "base_uri": "https://localhost:8080/"
        },
        "id": "iB5Ierl4w1_F",
        "outputId": "5e985aac-3a4e-4a2f-c130-77739d694b24"
      },
      "source": [
        "print(train_data.head(3))"
      ],
      "execution_count": null,
      "outputs": [
        {
          "output_type": "stream",
          "text": [
            "       id  Gender  Age  Driving_License  Region_Code  Previously_Insured  \\\n",
            "0   89038       1   57                1           28                   0   \n",
            "1  291571       0   30                1           35                   1   \n",
            "2  365519       0   31                1           23                   0   \n",
            "\n",
            "   Vehicle_Age  Vehicle_Damage  Annual_Premium  Policy_Sales_Channel  Vintage  \\\n",
            "0            0               1           59191                    26      104   \n",
            "1            1               0            2630                   152      289   \n",
            "2            0               1            2630                   124      208   \n",
            "\n",
            "   Response  \n",
            "0         1  \n",
            "1         0  \n",
            "2         1  \n"
          ],
          "name": "stdout"
        }
      ]
    },
    {
      "cell_type": "code",
      "metadata": {
        "id": "E0fTuIoJX9vy"
      },
      "source": [
        "X = train_data.iloc[:,:-1]\n",
        "Y= train_data.iloc[:,-1]\n",
        "#X_train=train_data\n",
        "#Y_train=predict.iloc[:,-1]"
      ],
      "execution_count": null,
      "outputs": []
    },
    {
      "cell_type": "code",
      "metadata": {
        "colab": {
          "base_uri": "https://localhost:8080/",
          "height": 940
        },
        "id": "A15cI0M-X5Zb",
        "outputId": "63848b36-053e-4ee2-9a1f-9ad9f866bb45"
      },
      "source": [
        "import matplotlib\n",
        "import matplotlib.pyplot as plt\n",
        "import seaborn as sns\n",
        "import xgboost\n",
        "from xgboost import XGBClassifier\n",
        "clf = XGBClassifier()\n",
        "clf.fit(X, Y)\n",
        "clf.feature_importances_\n",
        "feature_importances = pd.DataFrame(clf.feature_importances_,\n",
        "                              index = X.columns,\n",
        "                              columns=['importance']).sort_values('importance', ascending=False)                                 \n",
        "print(feature_importances)\n",
        "fig, ax = plt.subplots(1,1, figsize=(10,10))\n",
        "sns.barplot(x='importance', y='index', color='#eb093e',data=feature_importances.reset_index())\n",
        "plt.title('Feature Importance', fontsize=20,pad=5)#設置繪圖區邊緣與畫布邊緣的距離大小\n",
        "#plt.savefig('./feature-importance.jpg')\n",
        "plt.tight_layout()#自動調整繪圖區之間的間隔將重疊部分減少到最小\n",
        "plt.show()"
      ],
      "execution_count": null,
      "outputs": [
        {
          "output_type": "stream",
          "text": [
            "                      importance\n",
            "Previously_Insured      0.533442\n",
            "Vehicle_Damage          0.391694\n",
            "Age                     0.031790\n",
            "Vehicle_Age             0.014205\n",
            "Policy_Sales_Channel    0.009005\n",
            "Region_Code             0.006936\n",
            "Driving_License         0.003914\n",
            "Gender                  0.003144\n",
            "Annual_Premium          0.003037\n",
            "id                      0.001567\n",
            "Vintage                 0.001265\n"
          ],
          "name": "stdout"
        },
        {
          "output_type": "display_data",
          "data": {
            "image/png": "[encoded data removed]",
            "text/plain": [
              "<Figure size 720x720 with 1 Axes>"
            ]
          },
          "metadata": {
            "tags": [],
            "needs_background": "light"
          }
        }
      ]
    },
    {
      "cell_type": "code",
      "metadata": {
        "colab": {
          "base_uri": "https://localhost:8080/",
          "height": 1000
        },
        "id": "sTGqGrmq4Tok",
        "outputId": "2157769b-7f89-4b75-d8a3-e40f6bc022d5"
      },
      "source": [
        "import  seaborn as sns\n",
        "cor=X.corr()\n",
        "print(cor)\n",
        "sns.heatmap(cor)"
      ],
      "execution_count": null,
      "outputs": [
        {
          "output_type": "stream",
          "text": [
            "                            id    Gender       Age  Driving_License  \\\n",
            "id                    1.000000  0.004139  0.000984         0.001666   \n",
            "Gender                0.004139  1.000000  0.131189        -0.015071   \n",
            "Age                   0.000984  0.131189  1.000000        -0.065282   \n",
            "Driving_License       0.001666 -0.015071 -0.065282         1.000000   \n",
            "Region_Code          -0.000376 -0.003974  0.035326        -0.000389   \n",
            "Previously_Insured    0.001335 -0.092889 -0.264094         0.006194   \n",
            "Vehicle_Age          -0.000499 -0.064597 -0.349950         0.018555   \n",
            "Vehicle_Damage       -0.000137  0.099176  0.277422        -0.010735   \n",
            "Annual_Premium        0.003008  0.008753  0.094002        -0.006405   \n",
            "Policy_Sales_Channel  0.001480 -0.089868 -0.520106         0.031774   \n",
            "Vintage               0.002464  0.003079 -0.001096        -0.002136   \n",
            "\n",
            "                      Region_Code  Previously_Insured  Vehicle_Age  \\\n",
            "id                      -0.000376            0.001335    -0.000499   \n",
            "Gender                  -0.003974           -0.092889    -0.064597   \n",
            "Age                      0.035326           -0.264094    -0.349950   \n",
            "Driving_License         -0.000389            0.006194     0.018555   \n",
            "Region_Code              1.000000           -0.027257    -0.015858   \n",
            "Previously_Insured      -0.027257            1.000000     0.169903   \n",
            "Vehicle_Age             -0.015858            0.169903     1.000000   \n",
            "Vehicle_Damage           0.029037           -0.853530    -0.169885   \n",
            "Annual_Premium          -0.002482           -0.013844     0.046993   \n",
            "Policy_Sales_Channel    -0.035356            0.231209     0.224178   \n",
            "Vintage                 -0.003587            0.002297     0.004291   \n",
            "\n",
            "                      Vehicle_Damage  Annual_Premium  Policy_Sales_Channel  \\\n",
            "id                         -0.000137        0.003008              0.001480   \n",
            "Gender                      0.099176        0.008753             -0.089868   \n",
            "Age                         0.277422        0.094002             -0.520106   \n",
            "Driving_License            -0.010735       -0.006405              0.031774   \n",
            "Region_Code                 0.029037       -0.002482             -0.035356   \n",
            "Previously_Insured         -0.853530       -0.013844              0.231209   \n",
            "Vehicle_Age                -0.169885        0.046993              0.224178   \n",
            "Vehicle_Damage              1.000000        0.028889             -0.240500   \n",
            "Annual_Premium              0.028889        1.000000             -0.162605   \n",
            "Policy_Sales_Channel       -0.240500       -0.162605              1.000000   \n",
            "Vintage                     0.000324        0.004159             -0.000740   \n",
            "\n",
            "                       Vintage  \n",
            "id                    0.002464  \n",
            "Gender                0.003079  \n",
            "Age                  -0.001096  \n",
            "Driving_License      -0.002136  \n",
            "Region_Code          -0.003587  \n",
            "Previously_Insured    0.002297  \n",
            "Vehicle_Age           0.004291  \n",
            "Vehicle_Damage        0.000324  \n",
            "Annual_Premium        0.004159  \n",
            "Policy_Sales_Channel -0.000740  \n",
            "Vintage               1.000000  \n"
          ],
          "name": "stdout"
        },
        {
          "output_type": "execute_result",
          "data": {
            "text/plain": [
              "<matplotlib.axes._subplots.AxesSubplot at 0x7fef8144bb50>"
            ]
          },
          "metadata": {
            "tags": []
          },
          "execution_count": 19
        },
        {
          "output_type": "display_data",
          "data": {
            "image/png": "[encoded data removed]",
            "text/plain": [
              "<Figure size 432x288 with 2 Axes>"
            ]
          },
          "metadata": {
            "tags": [],
            "needs_background": "light"
          }
        }
      ]
    },
    {
      "cell_type": "code",
      "metadata": {
        "colab": {
          "base_uri": "https://localhost:8080/"
        },
        "id": "xAELu9ixl2H9",
        "outputId": "fe09c56d-543c-430b-bf44-6bbb0a54dec1"
      },
      "source": [
        "X=X.drop(['id'], axis=1)\n",
        "X=X.drop(['Gender'], axis=1)\n",
        "X=X.drop(['Driving_License'], axis=1)\n",
        "X=X.drop(['Region_Code'], axis=1)\n",
        "X=X.drop(['Vehicle_Age'], axis=1)\n",
        "X=X.drop(['Annual_Premium'], axis=1)\n",
        "X=X.drop(['Policy_Sales_Channel'], axis=1)\n",
        "X=X.drop(['Vintage'], axis=1)\n",
        "X.shape"
      ],
      "execution_count": null,
      "outputs": [
        {
          "output_type": "execute_result",
          "data": {
            "text/plain": [
              "(93420, 3)"
            ]
          },
          "metadata": {
            "tags": []
          },
          "execution_count": 19
        }
      ]
    },
    {
      "cell_type": "code",
      "metadata": {
        "colab": {
          "base_uri": "https://localhost:8080/",
          "height": 35
        },
        "id": "VXYHeRBiecyR",
        "outputId": "d3b6b387-3698-45ed-d257-dce40c89540c"
      },
      "source": [
        "'''new_data=bef_Y==0\n",
        "no_interest = bef_Y[new_data]\n",
        "no_interest = no_interest.sample(n=9263, random_state=1)\n",
        "print(no_interest.unique)\n",
        "print(no_interest.shape)'''\n"
      ],
      "execution_count": null,
      "outputs": [
        {
          "output_type": "execute_result",
          "data": {
            "application/vnd.google.colaboratory.intrinsic+json": {
              "type": "string"
            },
            "text/plain": [
              "'new_data=bef_Y==0\\nno_interest = bef_Y[new_data]\\nno_interest = no_interest.sample(n=9263, random_state=1)\\nprint(no_interest.unique)\\nprint(no_interest.shape)'"
            ]
          },
          "metadata": {
            "tags": []
          },
          "execution_count": 20
        }
      ]
    },
    {
      "cell_type": "code",
      "metadata": {
        "colab": {
          "base_uri": "https://localhost:8080/",
          "height": 35
        },
        "id": "PWTUcs-5jEYc",
        "outputId": "f126ded0-9922-4296-f4d6-40520b769872"
      },
      "source": [
        "'''X=bef_X.sample(n=18526, random_state=1)\n",
        "X.shape'''"
      ],
      "execution_count": null,
      "outputs": [
        {
          "output_type": "execute_result",
          "data": {
            "application/vnd.google.colaboratory.intrinsic+json": {
              "type": "string"
            },
            "text/plain": [
              "'X=bef_X.sample(n=18526, random_state=1)\\nX.shape'"
            ]
          },
          "metadata": {
            "tags": []
          },
          "execution_count": 21
        }
      ]
    },
    {
      "cell_type": "code",
      "metadata": {
        "colab": {
          "base_uri": "https://localhost:8080/",
          "height": 35
        },
        "id": "0pSUJryshLGq",
        "outputId": "05c28314-1910-4cbd-fe9e-f10b38c304a5"
      },
      "source": [
        "'''new_data_2=bef_Y==1\n",
        "interest = bef_Y[new_data_2]\n",
        "interest = interest.sample(n=9263, random_state=1)\n",
        "print('1:',interest.shape)\n",
        "Y = pd.concat([no_interest,interest],axis=0)\n",
        "print('3:',Y.shape)'''"
      ],
      "execution_count": null,
      "outputs": [
        {
          "output_type": "execute_result",
          "data": {
            "application/vnd.google.colaboratory.intrinsic+json": {
              "type": "string"
            },
            "text/plain": [
              "\"new_data_2=bef_Y==1\\ninterest = bef_Y[new_data_2]\\ninterest = interest.sample(n=9263, random_state=1)\\nprint('1:',interest.shape)\\nY = pd.concat([no_interest,interest],axis=0)\\nprint('3:',Y.shape)\""
            ]
          },
          "metadata": {
            "tags": []
          },
          "execution_count": 22
        }
      ]
    },
    {
      "cell_type": "code",
      "metadata": {
        "colab": {
          "base_uri": "https://localhost:8080/"
        },
        "id": "bdpFzWn2_8gT",
        "outputId": "5516e162-3ce5-4685-8ce8-53514bb84df4"
      },
      "source": [
        "from sklearn.preprocessing import StandardScaler\n",
        "X_std = StandardScaler().fit_transform(X)\n",
        "print(X_std.var(axis=1))\n",
        "from sklearn.decomposition import PCA\n",
        "pca = PCA(n_components=3)\n",
        "x_pca = pca.fit_transform(X_std)\n",
        "x_pca.shape"
      ],
      "execution_count": null,
      "outputs": [
        {
          "output_type": "stream",
          "text": [
            "[0.53389895 1.85376424 0.37004747 ... 2.04203102 0.2883098  2.00526049]\n"
          ],
          "name": "stdout"
        },
        {
          "output_type": "execute_result",
          "data": {
            "text/plain": [
              "(93420, 3)"
            ]
          },
          "metadata": {
            "tags": []
          },
          "execution_count": 23
        }
      ]
    },
    {
      "cell_type": "code",
      "metadata": {
        "colab": {
          "base_uri": "https://localhost:8080/"
        },
        "id": "QQZLB9A2wycc",
        "outputId": "ba292278-24f0-456d-9ff1-ec4ca7ea621c"
      },
      "source": [
        "from sklearn.model_selection import train_test_split,cross_val_score\n",
        "X_train, X_test, Y_train, Y_test = train_test_split(x_pca, Y,test_size=0.4,random_state=1000)\n",
        "X_train.shape"
      ],
      "execution_count": null,
      "outputs": [
        {
          "output_type": "execute_result",
          "data": {
            "text/plain": [
              "(74736, 3)"
            ]
          },
          "metadata": {
            "tags": []
          },
          "execution_count": 24
        }
      ]
    },
    {
      "cell_type": "code",
      "metadata": {
        "colab": {
          "base_uri": "https://localhost:8080/"
        },
        "id": "c1yVauiIYI_3",
        "outputId": "2e5466d9-d4e8-4f39-efbb-8c726ae2953f"
      },
      "source": [
        "from sklearn.naive_bayes import BernoulliNB\n",
        "from sklearn.metrics import confusion_matrix, classification_report\n",
        "from sklearn.datasets import make_classification\n",
        "from sklearn.metrics import accuracy_score\n",
        "bnb = BernoulliNB()\n",
        "bnb.fit(X_train, Y_train)\n",
        "print(\"BernoulliNB cross_val_score:\",cross_val_score(bnb,X,Y,scoring='accuracy',cv=10).mean())\n",
        "bnb_predict = bnb.predict(X_test)\n",
        "bnb_score = accuracy_score(Y_test, bnb_predict)\n",
        "print(\"BernoulliNB_score:\",bnb_score)\n",
        "print(classification_report(Y_test, bnb_predict))\n",
        "print(\"BernoulliNB_Confusion Matrix : \\n\",confusion_matrix(Y_test,bnb_predict))\n",
        "        "
      ],
      "execution_count": null,
      "outputs": [
        {
          "output_type": "stream",
          "text": [
            "BernoulliNB cross_val_score: 0.7880646542496252\n",
            "BernoulliNB_score: 0.7856989937914793\n",
            "              precision    recall  f1-score   support\n",
            "\n",
            "           0       0.96      0.60      0.74      9341\n",
            "           1       0.71      0.98      0.82      9343\n",
            "\n",
            "    accuracy                           0.79     18684\n",
            "   macro avg       0.83      0.79      0.78     18684\n",
            "weighted avg       0.83      0.79      0.78     18684\n",
            "\n",
            "BernoulliNB_Confusion Matrix : \n",
            " [[5569 3772]\n",
            " [ 232 9111]]\n"
          ],
          "name": "stdout"
        }
      ]
    },
    {
      "cell_type": "code",
      "metadata": {
        "id": "YUDmyw0ApRNI"
      },
      "source": [
        "from sklearn.metrics import roc_curve, auc\n",
        "fpr_gnb, tpr_gnb,thresholds_gnb = roc_curve(Y_test, bnb_predict )"
      ],
      "execution_count": null,
      "outputs": []
    },
    {
      "cell_type": "code",
      "metadata": {
        "colab": {
          "base_uri": "https://localhost:8080/"
        },
        "id": "apoLSGmCYY_R",
        "outputId": "5ccbb6cd-8d51-47fc-b709-19df0ea5f4cc"
      },
      "source": [
        "from sklearn.naive_bayes import GaussianNB\n",
        "from sklearn.datasets import make_classification\n",
        "from sklearn.model_selection import train_test_split\n",
        "from sklearn.metrics import confusion_matrix, classification_report\n",
        "from sklearn.metrics import accuracy_score\n",
        "gnb = GaussianNB()\n",
        "gnb.fit(X_train, Y_train)\n",
        "print(\"GaussianNB cross_val_score:\",cross_val_score(gnb,X,Y,scoring='accuracy',cv=10).mean())\n",
        "gnb_predict = gnb.predict(X_test)\n",
        "gnb_score = accuracy_score(Y_test, gnb_predict)\n",
        "print(\"GaussianNB_score:\",gnb_score)\n",
        "print(classification_report(Y_test, gnb_predict))\n",
        "print(\"GaussianNB_Confusion Matrix : \\n\",confusion_matrix(Y_test,gnb_predict))\n",
        "        "
      ],
      "execution_count": null,
      "outputs": [
        {
          "output_type": "stream",
          "text": [
            "GaussianNB cross_val_score: 0.7880646542496252\n",
            "GaussianNB_score: 0.7866088631984586\n",
            "              precision    recall  f1-score   support\n",
            "\n",
            "           0       0.95      0.61      0.74      9341\n",
            "           1       0.71      0.97      0.82      9343\n",
            "\n",
            "    accuracy                           0.79     18684\n",
            "   macro avg       0.83      0.79      0.78     18684\n",
            "weighted avg       0.83      0.79      0.78     18684\n",
            "\n",
            "GaussianNB_Confusion Matrix : \n",
            " [[5658 3683]\n",
            " [ 304 9039]]\n"
          ],
          "name": "stdout"
        }
      ]
    },
    {
      "cell_type": "code",
      "metadata": {
        "id": "VzapZKsmphj0"
      },
      "source": [
        "from sklearn.metrics import roc_curve, auc\n",
        "fpr_gnb, tpr_gnb,thresholds_gnb = roc_curve(Y_test, gnb_predict )\n"
      ],
      "execution_count": null,
      "outputs": []
    },
    {
      "cell_type": "code",
      "metadata": {
        "colab": {
          "base_uri": "https://localhost:8080/"
        },
        "id": "MrcXvuxQ1PH1",
        "outputId": "acc2d361-fc70-4ffb-e099-4b1a4f945558"
      },
      "source": [
        "from sklearn.svm import SVC\n",
        "from sklearn.model_selection import cross_val_score\n",
        "from sklearn.metrics import accuracy_score\n",
        "from sklearn.metrics import roc_curve, auc\n",
        "from sklearn.metrics import confusion_matrix, classification_report\n",
        "svc = SVC(C=1,kernel='sigmoid',max_iter=5000)\n",
        "svc.fit(X_train,Y_train)\n",
        "score = cross_val_score(svc, X_train, Y_train, scoring='accuracy',cv=10).mean()\n",
        "SVM_predictions=svc.predict(X_test)\n",
        "SVM_score = accuracy_score(Y_test,SVM_predictions)\n",
        "fpr_gnb, tpr_gnb,thresholds_gnb = roc_curve(Y_test, SVM_predictions)\n",
        "print(classification_report(Y_test, SVM_predictions))\n",
        "print('SVM_score:',SVM_score)\n",
        "print(\"SVM_Confusion Matrix : \\n\",confusion_matrix(Y_test,SVM_predictions))\n",
        "print('SVM_AUC score:',auc(fpr_gnb,tpr_gnb))"
      ],
      "execution_count": null,
      "outputs": [
        {
          "output_type": "stream",
          "text": [
            "/usr/local/lib/python3.6/dist-packages/sklearn/svm/_base.py:231: ConvergenceWarning: Solver terminated early (max_iter=5000).  Consider pre-processing your data with StandardScaler or MinMaxScaler.\n",
            "  % self.max_iter, ConvergenceWarning)\n",
            "/usr/local/lib/python3.6/dist-packages/sklearn/svm/_base.py:231: ConvergenceWarning: Solver terminated early (max_iter=5000).  Consider pre-processing your data with StandardScaler or MinMaxScaler.\n",
            "  % self.max_iter, ConvergenceWarning)\n",
            "/usr/local/lib/python3.6/dist-packages/sklearn/svm/_base.py:231: ConvergenceWarning: Solver terminated early (max_iter=5000).  Consider pre-processing your data with StandardScaler or MinMaxScaler.\n",
            "  % self.max_iter, ConvergenceWarning)\n",
            "/usr/local/lib/python3.6/dist-packages/sklearn/svm/_base.py:231: ConvergenceWarning: Solver terminated early (max_iter=5000).  Consider pre-processing your data with StandardScaler or MinMaxScaler.\n",
            "  % self.max_iter, ConvergenceWarning)\n",
            "/usr/local/lib/python3.6/dist-packages/sklearn/svm/_base.py:231: ConvergenceWarning: Solver terminated early (max_iter=5000).  Consider pre-processing your data with StandardScaler or MinMaxScaler.\n",
            "  % self.max_iter, ConvergenceWarning)\n",
            "/usr/local/lib/python3.6/dist-packages/sklearn/svm/_base.py:231: ConvergenceWarning: Solver terminated early (max_iter=5000).  Consider pre-processing your data with StandardScaler or MinMaxScaler.\n",
            "  % self.max_iter, ConvergenceWarning)\n",
            "/usr/local/lib/python3.6/dist-packages/sklearn/svm/_base.py:231: ConvergenceWarning: Solver terminated early (max_iter=5000).  Consider pre-processing your data with StandardScaler or MinMaxScaler.\n",
            "  % self.max_iter, ConvergenceWarning)\n",
            "/usr/local/lib/python3.6/dist-packages/sklearn/svm/_base.py:231: ConvergenceWarning: Solver terminated early (max_iter=5000).  Consider pre-processing your data with StandardScaler or MinMaxScaler.\n",
            "  % self.max_iter, ConvergenceWarning)\n",
            "/usr/local/lib/python3.6/dist-packages/sklearn/svm/_base.py:231: ConvergenceWarning: Solver terminated early (max_iter=5000).  Consider pre-processing your data with StandardScaler or MinMaxScaler.\n",
            "  % self.max_iter, ConvergenceWarning)\n",
            "/usr/local/lib/python3.6/dist-packages/sklearn/svm/_base.py:231: ConvergenceWarning: Solver terminated early (max_iter=5000).  Consider pre-processing your data with StandardScaler or MinMaxScaler.\n",
            "  % self.max_iter, ConvergenceWarning)\n",
            "/usr/local/lib/python3.6/dist-packages/sklearn/svm/_base.py:231: ConvergenceWarning: Solver terminated early (max_iter=5000).  Consider pre-processing your data with StandardScaler or MinMaxScaler.\n",
            "  % self.max_iter, ConvergenceWarning)\n"
          ],
          "name": "stderr"
        },
        {
          "output_type": "stream",
          "text": [
            "              precision    recall  f1-score   support\n",
            "\n",
            "           0       0.86      0.61      0.72      9341\n",
            "           1       0.70      0.90      0.79      9343\n",
            "\n",
            "    accuracy                           0.76     18684\n",
            "   macro avg       0.78      0.76      0.75     18684\n",
            "weighted avg       0.78      0.76      0.75     18684\n",
            "\n",
            "SVM_score: 0.7566902162277885\n",
            "SVM_Confusion Matrix : \n",
            " [[5723 3618]\n",
            " [ 928 8415]]\n",
            "SVM_AUC score: 0.7566748020231648\n"
          ],
          "name": "stdout"
        }
      ]
    },
    {
      "cell_type": "code",
      "metadata": {
        "colab": {
          "base_uri": "https://localhost:8080/"
        },
        "id": "9yDcgUQFyb1G",
        "outputId": "de306fd0-cf96-49f7-9479-c7e9b4d4e442"
      },
      "source": [
        "from tensorflow.keras import Sequential\n",
        "from tensorflow.keras.layers import Dense\n",
        "model=Sequential()\n",
        "model.add(Dense(30, activation='sigmoid', input_shape=(3,)))\n",
        "model.add(Dense(10, activation='sigmoid'))\n",
        "model.add(Dense(1, activation='sigmoid'))\n",
        "model.compile(optimizer='adam', loss='binary_crossentropy', metrics=['accuracy'])\n",
        "history = model.fit(X_train, Y_train, epochs=50, batch_size=64)\n",
        "model.summary()#輸出模型架構"
      ],
      "execution_count": null,
      "outputs": [
        {
          "output_type": "stream",
          "text": [
            "Epoch 1/50\n",
            "1168/1168 [==============================] - 4s 2ms/step - loss: 0.5634 - accuracy: 0.7314\n",
            "Epoch 2/50\n",
            "1168/1168 [==============================] - 3s 2ms/step - loss: 0.4483 - accuracy: 0.7864\n",
            "Epoch 3/50\n",
            "1168/1168 [==============================] - 3s 2ms/step - loss: 0.4409 - accuracy: 0.7860\n",
            "Epoch 4/50\n",
            "1168/1168 [==============================] - 3s 2ms/step - loss: 0.4308 - accuracy: 0.7912\n",
            "Epoch 5/50\n",
            "1168/1168 [==============================] - 3s 2ms/step - loss: 0.4378 - accuracy: 0.7872\n",
            "Epoch 6/50\n",
            "1168/1168 [==============================] - 3s 2ms/step - loss: 0.4303 - accuracy: 0.7928\n",
            "Epoch 7/50\n",
            "1168/1168 [==============================] - 3s 2ms/step - loss: 0.4324 - accuracy: 0.7930\n",
            "Epoch 8/50\n",
            "1168/1168 [==============================] - 3s 2ms/step - loss: 0.4320 - accuracy: 0.7939\n",
            "Epoch 9/50\n",
            "1168/1168 [==============================] - 3s 3ms/step - loss: 0.4307 - accuracy: 0.7946\n",
            "Epoch 10/50\n",
            "1168/1168 [==============================] - 3s 2ms/step - loss: 0.4311 - accuracy: 0.7938\n",
            "Epoch 11/50\n",
            "1168/1168 [==============================] - 3s 3ms/step - loss: 0.4301 - accuracy: 0.7939\n",
            "Epoch 12/50\n",
            "1168/1168 [==============================] - 3s 2ms/step - loss: 0.4310 - accuracy: 0.7945\n",
            "Epoch 13/50\n",
            "1168/1168 [==============================] - 3s 3ms/step - loss: 0.4276 - accuracy: 0.7957\n",
            "Epoch 14/50\n",
            "1168/1168 [==============================] - 3s 3ms/step - loss: 0.4298 - accuracy: 0.7969\n",
            "Epoch 15/50\n",
            "1168/1168 [==============================] - 3s 3ms/step - loss: 0.4292 - accuracy: 0.7964\n",
            "Epoch 16/50\n",
            "1168/1168 [==============================] - 3s 3ms/step - loss: 0.4320 - accuracy: 0.7932\n",
            "Epoch 17/50\n",
            "1168/1168 [==============================] - 3s 2ms/step - loss: 0.4315 - accuracy: 0.7919\n",
            "Epoch 18/50\n",
            "1168/1168 [==============================] - 3s 3ms/step - loss: 0.4294 - accuracy: 0.7942\n",
            "Epoch 19/50\n",
            "1168/1168 [==============================] - 3s 2ms/step - loss: 0.4311 - accuracy: 0.7931\n",
            "Epoch 20/50\n",
            "1168/1168 [==============================] - 3s 3ms/step - loss: 0.4336 - accuracy: 0.7896\n",
            "Epoch 21/50\n",
            "1168/1168 [==============================] - 3s 2ms/step - loss: 0.4272 - accuracy: 0.7950\n",
            "Epoch 22/50\n",
            "1168/1168 [==============================] - 3s 2ms/step - loss: 0.4265 - accuracy: 0.7964\n",
            "Epoch 23/50\n",
            "1168/1168 [==============================] - 3s 2ms/step - loss: 0.4305 - accuracy: 0.7935\n",
            "Epoch 24/50\n",
            "1168/1168 [==============================] - 3s 3ms/step - loss: 0.4297 - accuracy: 0.7941\n",
            "Epoch 25/50\n",
            "1168/1168 [==============================] - 3s 2ms/step - loss: 0.4279 - accuracy: 0.7954\n",
            "Epoch 26/50\n",
            "1168/1168 [==============================] - 3s 2ms/step - loss: 0.4302 - accuracy: 0.7946\n",
            "Epoch 27/50\n",
            "1168/1168 [==============================] - 3s 3ms/step - loss: 0.4291 - accuracy: 0.7944\n",
            "Epoch 28/50\n",
            "1168/1168 [==============================] - 3s 2ms/step - loss: 0.4304 - accuracy: 0.7930\n",
            "Epoch 29/50\n",
            "1168/1168 [==============================] - 3s 2ms/step - loss: 0.4287 - accuracy: 0.7959\n",
            "Epoch 30/50\n",
            "1168/1168 [==============================] - 3s 2ms/step - loss: 0.4307 - accuracy: 0.7951\n",
            "Epoch 31/50\n",
            "1168/1168 [==============================] - 3s 3ms/step - loss: 0.4321 - accuracy: 0.7932\n",
            "Epoch 32/50\n",
            "1168/1168 [==============================] - 3s 2ms/step - loss: 0.4290 - accuracy: 0.7924\n",
            "Epoch 33/50\n",
            "1168/1168 [==============================] - 3s 2ms/step - loss: 0.4262 - accuracy: 0.7950\n",
            "Epoch 34/50\n",
            "1168/1168 [==============================] - 3s 2ms/step - loss: 0.4265 - accuracy: 0.7949\n",
            "Epoch 35/50\n",
            "1168/1168 [==============================] - 3s 2ms/step - loss: 0.4262 - accuracy: 0.7966\n",
            "Epoch 36/50\n",
            "1168/1168 [==============================] - 3s 2ms/step - loss: 0.4323 - accuracy: 0.7927\n",
            "Epoch 37/50\n",
            "1168/1168 [==============================] - 3s 2ms/step - loss: 0.4307 - accuracy: 0.7922\n",
            "Epoch 38/50\n",
            "1168/1168 [==============================] - 3s 2ms/step - loss: 0.4275 - accuracy: 0.7943\n",
            "Epoch 39/50\n",
            "1168/1168 [==============================] - 3s 2ms/step - loss: 0.4302 - accuracy: 0.7928\n",
            "Epoch 40/50\n",
            "1168/1168 [==============================] - 3s 2ms/step - loss: 0.4309 - accuracy: 0.7930\n",
            "Epoch 41/50\n",
            "1168/1168 [==============================] - 3s 2ms/step - loss: 0.4288 - accuracy: 0.7945\n",
            "Epoch 42/50\n",
            "1168/1168 [==============================] - 3s 2ms/step - loss: 0.4277 - accuracy: 0.7947\n",
            "Epoch 43/50\n",
            "1168/1168 [==============================] - 3s 2ms/step - loss: 0.4244 - accuracy: 0.7976\n",
            "Epoch 44/50\n",
            "1168/1168 [==============================] - 3s 2ms/step - loss: 0.4278 - accuracy: 0.7944\n",
            "Epoch 45/50\n",
            "1168/1168 [==============================] - 3s 3ms/step - loss: 0.4321 - accuracy: 0.7900\n",
            "Epoch 46/50\n",
            "1168/1168 [==============================] - 3s 2ms/step - loss: 0.4288 - accuracy: 0.7948\n",
            "Epoch 47/50\n",
            "1168/1168 [==============================] - 3s 3ms/step - loss: 0.4288 - accuracy: 0.7949\n",
            "Epoch 48/50\n",
            "1168/1168 [==============================] - 3s 2ms/step - loss: 0.4277 - accuracy: 0.7954\n",
            "Epoch 49/50\n",
            "1168/1168 [==============================] - 3s 2ms/step - loss: 0.4306 - accuracy: 0.7934\n",
            "Epoch 50/50\n",
            "1168/1168 [==============================] - 3s 2ms/step - loss: 0.4304 - accuracy: 0.7945\n",
            "Model: \"sequential\"\n",
            "_________________________________________________________________\n",
            "Layer (type)                 Output Shape              Param #   \n",
            "=================================================================\n",
            "dense (Dense)                (None, 30)                120       \n",
            "_________________________________________________________________\n",
            "dense_1 (Dense)              (None, 10)                310       \n",
            "_________________________________________________________________\n",
            "dense_2 (Dense)              (None, 1)                 11        \n",
            "=================================================================\n",
            "Total params: 441\n",
            "Trainable params: 441\n",
            "Non-trainable params: 0\n",
            "_________________________________________________________________\n"
          ],
          "name": "stdout"
        }
      ]
    },
    {
      "cell_type": "code",
      "metadata": {
        "colab": {
          "base_uri": "https://localhost:8080/"
        },
        "id": "klKZy6moQNKZ",
        "outputId": "d82bd6a0-dcee-45ad-ed73-7ad50cde293c"
      },
      "source": [
        "from sklearn.metrics import confusion_matrix, classification_report\n",
        "predictions = model.predict(X_test)\n",
        "index = 0\n",
        "for i in predictions:\n",
        "    if i >0.5:\n",
        "      predictions[index]=1\n",
        "    else:\n",
        "      predictions[index]=0\n",
        "    index+=1\n",
        "print(classification_report(Y_test, predictions))\n",
        "print(\"MLNN_Confusion Matrix : \\n\",confusion_matrix(Y_test,predictions))"
      ],
      "execution_count": null,
      "outputs": [
        {
          "output_type": "stream",
          "text": [
            "              precision    recall  f1-score   support\n",
            "\n",
            "           0       0.89      0.67      0.76      9341\n",
            "           1       0.73      0.92      0.82      9343\n",
            "\n",
            "    accuracy                           0.79     18684\n",
            "   macro avg       0.81      0.79      0.79     18684\n",
            "weighted avg       0.81      0.79      0.79     18684\n",
            "\n",
            "MLNN_Confusion Matrix : \n",
            " [[6248 3093]\n",
            " [ 767 8576]]\n"
          ],
          "name": "stdout"
        }
      ]
    },
    {
      "cell_type": "code",
      "metadata": {
        "colab": {
          "base_uri": "https://localhost:8080/"
        },
        "id": "mjItFMiFo8Zo",
        "outputId": "92ef5bd8-ea61-4ef0-853f-f7711ff6dfc6"
      },
      "source": [
        "from sklearn.metrics import roc_curve, auc\n",
        "fpr_gnb, tpr_gnb,thresholds_gnb = roc_curve(Y_test, predictions )\n",
        "print('MLNN_AUC score:',auc(fpr_gnb,tpr_gnb))"
      ],
      "execution_count": null,
      "outputs": [
        {
          "output_type": "stream",
          "text": [
            "MLNN_AUC score: 0.793392794513004\n"
          ],
          "name": "stdout"
        }
      ]
    },
    {
      "cell_type": "code",
      "metadata": {
        "id": "2VpDivGddsIx",
        "colab": {
          "base_uri": "https://localhost:8080/"
        },
        "outputId": "8e834e95-5bcf-4548-8917-9cb1ad74a14f"
      },
      "source": [
        "print(model.evaluate(X_train, Y_train))\n",
        "print(model.evaluate(X_test, Y_test))"
      ],
      "execution_count": null,
      "outputs": [
        {
          "output_type": "stream",
          "text": [
            "2336/2336 [==============================] - 4s 2ms/step - loss: 0.4282 - accuracy: 0.7941\n",
            "[0.4281803071498871, 0.7940885424613953]\n",
            "584/584 [==============================] - 1s 2ms/step - loss: 0.4306 - accuracy: 0.7934\n",
            "[0.4306125342845917, 0.7934061288833618]\n"
          ],
          "name": "stdout"
        }
      ]
    },
    {
      "cell_type": "code",
      "metadata": {
        "colab": {
          "base_uri": "https://localhost:8080/",
          "height": 312
        },
        "id": "B4R6iVbivYL8",
        "outputId": "1eef50ff-9c04-4990-d8e5-1f098fe6737d"
      },
      "source": [
        "import matplotlib.pyplot as plt\n",
        "plt.title('MLNN_accuracy')\n",
        "plt.ylabel('accuracy')\n",
        "plt.xlabel('epoch')\n",
        "plt.plot(history.history['accuracy'])\n"
      ],
      "execution_count": null,
      "outputs": [
        {
          "output_type": "execute_result",
          "data": {
            "text/plain": [
              "[<matplotlib.lines.Line2D at 0x7f6a2044d8d0>]"
            ]
          },
          "metadata": {
            "tags": []
          },
          "execution_count": 34
        },
        {
          "output_type": "display_data",
          "data": {
            "image/png": "[encoded data removed]",
            "text/plain": [
              "<Figure size 432x288 with 1 Axes>"
            ]
          },
          "metadata": {
            "tags": [],
            "needs_background": "light"
          }
        }
      ]
    },
    {
      "cell_type": "code",
      "metadata": {
        "colab": {
          "base_uri": "https://localhost:8080/",
          "height": 312
        },
        "id": "_Jzc3zKRvfUz",
        "outputId": "d58164fb-5f75-49d0-fc39-17c3c4002656"
      },
      "source": [
        "import matplotlib.pyplot as plt\n",
        "plt.title('MLNN_loss')\n",
        "plt.ylabel('loss')\n",
        "plt.xlabel('epoch')\n",
        "plt.plot(history.history['loss'])"
      ],
      "execution_count": null,
      "outputs": [
        {
          "output_type": "execute_result",
          "data": {
            "text/plain": [
              "[<matplotlib.lines.Line2D at 0x7f6ab40626a0>]"
            ]
          },
          "metadata": {
            "tags": []
          },
          "execution_count": 35
        },
        {
          "output_type": "display_data",
          "data": {
            "image/png": "[encoded data removed]",
            "text/plain": [
              "<Figure size 432x288 with 1 Axes>"
            ]
          },
          "metadata": {
            "tags": [],
            "needs_background": "light"
          }
        }
      ]
    },
    {
      "cell_type": "code",
      "metadata": {
        "colab": {
          "base_uri": "https://localhost:8080/"
        },
        "id": "7-pMrhUSsDPK",
        "outputId": "36376770-2ddd-431a-ad61-acd280fa4d29"
      },
      "source": [
        "from sklearn.model_selection import cross_val_score\n",
        "from sklearn.tree import DecisionTreeClassifier\n",
        "from sklearn.metrics import confusion_matrix, classification_report\n",
        "import sklearn.metrics as metrics\n",
        "from sklearn.metrics import make_scorer, accuracy_score, roc_auc_score\n",
        "dt = DecisionTreeClassifier(max_depth=4)\n",
        "dt.fit(X_train, Y_train)\n",
        "dt_predict = dt.predict(X_test)\n",
        "print(classification_report(Y_test, dt_predict))\n",
        "dt_accuracy = accuracy_score(Y_test, dt_predict)\n",
        "print(\"Accuracy of decision tree\" + ' : ' + str(dt_accuracy))\n",
        "print(\"DecisionTree_Confusion Matrix : \\n\",confusion_matrix(Y_test,dt_predict))\n",
        "\n"
      ],
      "execution_count": null,
      "outputs": [
        {
          "output_type": "stream",
          "text": [
            "              precision    recall  f1-score   support\n",
            "\n",
            "           0       0.92      0.64      0.76      9341\n",
            "           1       0.73      0.94      0.82      9343\n",
            "\n",
            "    accuracy                           0.79     18684\n",
            "   macro avg       0.82      0.79      0.79     18684\n",
            "weighted avg       0.82      0.79      0.79     18684\n",
            "\n",
            "Accuracy of decision tree : 0.7931920359666025\n",
            "DecisionTree_Confusion Matrix : \n",
            " [[5998 3343]\n",
            " [ 521 8822]]\n"
          ],
          "name": "stdout"
        }
      ]
    },
    {
      "cell_type": "code",
      "metadata": {
        "colab": {
          "base_uri": "https://localhost:8080/"
        },
        "id": "ogrTn3lvpHmU",
        "outputId": "a37564f1-d13a-4018-bd8e-10833d6803ad"
      },
      "source": [
        "from sklearn.metrics import roc_curve, auc\n",
        "fpr_gnb, tpr_gnb,thresholds_gnb = roc_curve(Y_test, dt_predict )\n",
        "print('DecisionTree score:',auc(fpr_gnb,tpr_gnb))"
      ],
      "execution_count": null,
      "outputs": [
        {
          "output_type": "stream",
          "text": [
            "DecisionTree score: 0.7931758659322704\n"
          ],
          "name": "stdout"
        }
      ]
    },
    {
      "cell_type": "code",
      "metadata": {
        "colab": {
          "base_uri": "https://localhost:8080/"
        },
        "id": "-gDF0KJctS96",
        "outputId": "a8b12238-3ea1-41de-c4e8-9598c2e071de"
      },
      "source": [
        "from sklearn.linear_model import LogisticRegression\n",
        "lr = LogisticRegression()\n",
        "lr.fit(X_train, Y_train)\n",
        "lr_predict = lr.predict(X_test)\n",
        "print(classification_report(Y_test, lr_predict))\n",
        "lr_accuracy = accuracy_score(Y_test, lr_predict)\n",
        "print(\"Accuracy of Logistic Regression\" + ' : ' + str(lr_accuracy))\n",
        "print(\"LogisticRegression_Confusion Matrix : \\n\",confusion_matrix(Y_test,lr_predict))\n",
        "  "
      ],
      "execution_count": null,
      "outputs": [
        {
          "output_type": "stream",
          "text": [
            "              precision    recall  f1-score   support\n",
            "\n",
            "           0       0.96      0.60      0.74      9341\n",
            "           1       0.71      0.98      0.82      9343\n",
            "\n",
            "    accuracy                           0.79     18684\n",
            "   macro avg       0.84      0.79      0.78     18684\n",
            "weighted avg       0.84      0.79      0.78     18684\n",
            "\n",
            "Accuracy of Logistic Regression : 0.7867159066581032\n",
            "LogisticRegression_Confusion Matrix : \n",
            " [[5565 3776]\n",
            " [ 209 9134]]\n"
          ],
          "name": "stdout"
        }
      ]
    },
    {
      "cell_type": "code",
      "metadata": {
        "id": "aVkWsOt3orUQ"
      },
      "source": [
        "# #Feature Importance Filter \n",
        "# from sklearn.feature_selection import SelectKBest,f_regression\n",
        "# kb_regr = SelectKBest(f_regression)\n",
        "# x_b = kb_regr.fit_transform(X_train,Y_train)\n",
        "# print(x_b.shape,'\\n',kb_regr.scores_)\n",
        "# x_b.shape"
      ],
      "execution_count": null,
      "outputs": []
    },
    {
      "cell_type": "code",
      "metadata": {
        "colab": {
          "base_uri": "https://localhost:8080/"
        },
        "id": "EuDC2su4qAQH",
        "outputId": "10709e06-6b46-4a62-9671-99460f5ef8bf"
      },
      "source": [
        "#Low Variance Filter\n",
        "from sklearn.preprocessing import Normalizer \n",
        "no = Normalizer()  ##預設是 l2 norm \n",
        "scaled_data = no.fit_transform(X_train)\n",
        "from sklearn.feature_selection import VarianceThreshold\n",
        "vt = VarianceThreshold(threshold=1e-05) \n",
        "X_t = vt.fit_transform(scaled_data) \n",
        "print(X_t.var(axis=0))"
      ],
      "execution_count": null,
      "outputs": [
        {
          "output_type": "stream",
          "text": [
            "[0.59241524 0.28694715 0.03881862]\n"
          ],
          "name": "stdout"
        }
      ]
    },
    {
      "cell_type": "code",
      "metadata": {
        "id": "pIa2YkuonWku"
      },
      "source": [
        "from sklearn.model_selection import train_test_split\n",
        "from sklearn.linear_model import LogisticRegression,LinearRegression\n",
        "from sklearn.metrics import mean_squared_error\n",
        "from sklearn.metrics import accuracy_score\n",
        "from sklearn.metrics import confusion_matrix, classification_report\n",
        "from sklearn.metrics import roc_curve, auc\n",
        "def model(x,y):\n",
        "  X_train, X_test, y_train, y_test = train_test_split(x, y, test_size=0.2,random_state=1000)\n",
        "  model = LinearRegression() \n",
        "  model.fit(X_train, y_train) \n",
        "  y_pred = model.predict(X_test)\n",
        "  print('Y_pred', y_pred)\n",
        "  index = 0\n",
        "  for i in y_pred:\n",
        "    if i >0.5:\n",
        "      y_pred[index]=1\n",
        "    else:\n",
        "      y_pred[index]=0\n",
        "    index+=1\n",
        "  fpr_gnb, tpr_gnb,thresholds_gnb = roc_curve(y_test, y_pred)\n",
        "  print(classification_report(y_test, y_pred))\n",
        "  print('accuracy:', accuracy_score(y_test,y_pred))\n",
        "  print(\"Linear_Confusion Matrix : \\n\",confusion_matrix(y_test,y_pred))\n",
        "  \n",
        "  print('classfy y_pred: ', y_pred)\n",
        " \n",
        "  print('Linear_AUC score:',auc(fpr_gnb,tpr_gnb))\n",
        "\n"
      ],
      "execution_count": null,
      "outputs": []
    },
    {
      "cell_type": "code",
      "metadata": {
        "colab": {
          "base_uri": "https://localhost:8080/"
        },
        "id": "Xd7yZtV_pTwY",
        "outputId": "7b0f445f-6701-4007-ce77-83cd522e3fb7"
      },
      "source": [
        "# print('\\n---use Feature Importance Filter ---')\n",
        "# model(x_b,Y_train)\n",
        "print('\\n---use Low Variance Filter---')\n",
        "model(X_t,Y_train)\n"
      ],
      "execution_count": null,
      "outputs": [
        {
          "output_type": "stream",
          "text": [
            "\n",
            "---use Low Variance Filter---\n",
            "Y_pred [0.76631273 0.58257467 0.7341623  ... 0.78084018 0.80200985 0.68621298]\n",
            "              precision    recall  f1-score   support\n",
            "\n",
            "           0       0.96      0.59      0.73      7553\n",
            "           1       0.70      0.97      0.82      7395\n",
            "\n",
            "    accuracy                           0.78     14948\n",
            "   macro avg       0.83      0.78      0.77     14948\n",
            "weighted avg       0.83      0.78      0.77     14948\n",
            "\n",
            "accuracy: 0.7821113192400321\n",
            "Linear_Confusion Matrix : \n",
            " [[4493 3060]\n",
            " [ 197 7198]]\n",
            "classfy y_pred:  [1. 1. 1. ... 1. 1. 1.]\n",
            "Linear_AUC score: 0.7841116734955782\n"
          ],
          "name": "stdout"
        }
      ]
    },
    {
      "cell_type": "code",
      "metadata": {
        "colab": {
          "base_uri": "https://localhost:8080/"
        },
        "id": "Eh4YltWW72xU",
        "outputId": "15b2fdb5-c513-4c47-f4c6-081f98eec555"
      },
      "source": [
        "from sklearn.metrics import classification_report\n",
        "from sklearn.metrics import confusion_matrix\n",
        "from sklearn.metrics import accuracy_score\n",
        "from sklearn.metrics import roc_curve, auc\n",
        "print(\"Logitsic Regression_Confusion Matrix : \\n\",confusion_matrix(Y_test,lr_predict ))\n",
        "fpr_gnb, tpr_gnb,thresholds_gnb = roc_curve(Y_test, lr_predict )\n",
        "print('Logitsic Regression_AUC score:',auc(fpr_gnb,tpr_gnb))"
      ],
      "execution_count": null,
      "outputs": [
        {
          "output_type": "stream",
          "text": [
            "Logitsic Regression_Confusion Matrix : \n",
            " [[5565 3776]\n",
            " [ 209 9134]]\n",
            "Logitsic Regression_AUC score: 0.7866954683319277\n"
          ],
          "name": "stdout"
        }
      ]
    }
  ]
}