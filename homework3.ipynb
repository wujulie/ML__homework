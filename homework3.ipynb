{
  "nbformat": 4,
  "nbformat_minor": 0,
  "metadata": {
    "colab": {
      "name": "homework3.ipynb",
      "provenance": [],
      "mount_file_id": "1Ysiegns3P9iEDf_ZBsKlRuNAwl4ZNC2Z",
      "authorship_tag": "ABX9TyPgDfIxF1pOVOAY+zXmBp88",
      "include_colab_link": true
    },
    "kernelspec": {
      "name": "python3",
      "display_name": "Python 3"
    },
    "accelerator": "GPU"
  },
  "cells": [
    {
      "cell_type": "markdown",
      "metadata": {
        "id": "view-in-github",
        "colab_type": "text"
      },
      "source": [
        "<a href=\"https://colab.research.google.com/github/wujulie/ML__homework/blob/main/homework3.ipynb\" target=\"_parent\"><img src=\"https://colab.research.google.com/assets/colab-badge.svg\" alt=\"Open In Colab\"/></a>"
      ]
    },
    {
      "cell_type": "code",
      "metadata": {
        "id": "LIBumKhZ1SH4",
        "colab": {
          "base_uri": "https://localhost:8080/"
        },
        "outputId": "6c6d827c-fc04-4653-e8cb-65365769ca9e"
      },
      "source": [
        "import numpy as np\n",
        "import pandas as pd\n",
        "data=pd.read_csv(\"/content/drive/My Drive/dermatology.csv\")\n",
        "data=pd.DataFrame(data)\n",
        "print(data.shape)\n",
        "pd.set_option('display.max_columns',None)#顯示所有列"
      ],
      "execution_count": 81,
      "outputs": [
        {
          "output_type": "stream",
          "text": [
            "(366, 35)\n"
          ],
          "name": "stdout"
        }
      ]
    },
    {
      "cell_type": "code",
      "metadata": {
        "id": "mMGR9MwT3ImE",
        "colab": {
          "base_uri": "https://localhost:8080/"
        },
        "outputId": "470caa1c-5414-48fe-dd74-62c5261ae5ad"
      },
      "source": [
        "print(data)\n",
        "data.isnull().sum()"
      ],
      "execution_count": 82,
      "outputs": [
        {
          "output_type": "stream",
          "text": [
            "     erythema  scaling  definite_borders  itching  koebner_phenomenon  \\\n",
            "0           2        2                 0        3                   0   \n",
            "1           3        3                 3        2                   1   \n",
            "2           2        1                 2        3                   1   \n",
            "3           2        2                 2        0                   0   \n",
            "4           2        3                 2        2                   2   \n",
            "..        ...      ...               ...      ...                 ...   \n",
            "361         2        1                 1        0                   1   \n",
            "362         3        2                 1        0                   1   \n",
            "363         3        2                 2        2                   3   \n",
            "364         2        1                 3        1                   2   \n",
            "365         3        2                 2        0                   0   \n",
            "\n",
            "     polygonal_papules  follicular_papules  oral_mucosal_involvement  \\\n",
            "0                    0                   0                         0   \n",
            "1                    0                   0                         0   \n",
            "2                    3                   0                         3   \n",
            "3                    0                   0                         0   \n",
            "4                    2                   0                         2   \n",
            "..                 ...                 ...                       ...   \n",
            "361                  0                   0                         0   \n",
            "362                  0                   0                         0   \n",
            "363                  2                   0                         2   \n",
            "364                  3                   0                         2   \n",
            "365                  0                   0                         0   \n",
            "\n",
            "     knee_and_elbow_involvement  scalp_involvement  family_history  \\\n",
            "0                             1                  0               0   \n",
            "1                             1                  1               1   \n",
            "2                             0                  0               0   \n",
            "3                             3                  2               0   \n",
            "4                             0                  0               0   \n",
            "..                          ...                ...             ...   \n",
            "361                           0                  0               0   \n",
            "362                           0                  0               0   \n",
            "363                           0                  0               0   \n",
            "364                           0                  0               0   \n",
            "365                           3                  3               0   \n",
            "\n",
            "     melanin_incontinence  eosinophils_in_the_infiltrate  pnl_infiltrate  \\\n",
            "0                       0                              0               0   \n",
            "1                       0                              0               1   \n",
            "2                       1                              0               0   \n",
            "3                       0                              0               3   \n",
            "4                       1                              0               0   \n",
            "..                    ...                            ...             ...   \n",
            "361                     0                              0               1   \n",
            "362                     0                              0               0   \n",
            "363                     2                              2               0   \n",
            "364                     2                              0               0   \n",
            "365                     0                              0               1   \n",
            "\n",
            "     fibrosis_of_the_papillary_dermis  exocytosis  acanthosis  hyperkeratosis  \\\n",
            "0                                   0           3           2               0   \n",
            "1                                   0           1           2               0   \n",
            "2                                   0           1           2               0   \n",
            "3                                   0           0           2               0   \n",
            "4                                   0           1           2               0   \n",
            "..                                ...         ...         ...             ...   \n",
            "361                                 0           1           1               0   \n",
            "362                                 0           2           2               0   \n",
            "363                                 0           3           3               0   \n",
            "364                                 0           3           2               0   \n",
            "365                                 0           0           2               0   \n",
            "\n",
            "     parakeratosis  clubbing_of_the_rete_ridges  \\\n",
            "0                0                            0   \n",
            "1                2                            2   \n",
            "2                2                            0   \n",
            "3                3                            2   \n",
            "4                0                            0   \n",
            "..             ...                          ...   \n",
            "361              0                            0   \n",
            "362              0                            0   \n",
            "363              0                            0   \n",
            "364              0                            0   \n",
            "365              2                            3   \n",
            "\n",
            "     elongation_of_the_rete_ridges  thinning_of_the_suprapapillary_epidermis  \\\n",
            "0                                0                                         0   \n",
            "1                                2                                         2   \n",
            "2                                0                                         0   \n",
            "3                                2                                         2   \n",
            "4                                0                                         0   \n",
            "..                             ...                                       ...   \n",
            "361                              0                                         0   \n",
            "362                              0                                         0   \n",
            "363                              0                                         0   \n",
            "364                              0                                         0   \n",
            "365                              2                                         3   \n",
            "\n",
            "     spongiform_pustule  munro_microabcess  focal_hypergranulosis  \\\n",
            "0                     0                  0                      0   \n",
            "1                     2                  1                      0   \n",
            "2                     0                  0                      2   \n",
            "3                     2                  0                      0   \n",
            "4                     0                  0                      2   \n",
            "..                  ...                ...                    ...   \n",
            "361                   0                  0                      0   \n",
            "362                   0                  0                      0   \n",
            "363                   0                  0                      3   \n",
            "364                   0                  0                      3   \n",
            "365                   0                  2                      0   \n",
            "\n",
            "     disappearance_of_the_granular_layer  \\\n",
            "0                                      0   \n",
            "1                                      0   \n",
            "2                                      0   \n",
            "3                                      3   \n",
            "4                                      2   \n",
            "..                                   ...   \n",
            "361                                    0   \n",
            "362                                    1   \n",
            "363                                    0   \n",
            "364                                    0   \n",
            "365                                    2   \n",
            "\n",
            "     vacuolisation_and_damage_of_basal_layer  spongiosis  \\\n",
            "0                                          0           3   \n",
            "1                                          0           0   \n",
            "2                                          2           3   \n",
            "3                                          0           0   \n",
            "4                                          3           2   \n",
            "..                                       ...         ...   \n",
            "361                                        0           1   \n",
            "362                                        0           1   \n",
            "363                                        3           0   \n",
            "364                                        2           0   \n",
            "365                                        0           0   \n",
            "\n",
            "     saw-tooth_appearance_of_retes  follicular_horn_plug  \\\n",
            "0                                0                     0   \n",
            "1                                0                     0   \n",
            "2                                2                     0   \n",
            "3                                0                     0   \n",
            "4                                3                     0   \n",
            "..                             ...                   ...   \n",
            "361                              0                     0   \n",
            "362                              0                     0   \n",
            "363                              3                     0   \n",
            "364                              1                     0   \n",
            "365                              0                     0   \n",
            "\n",
            "     perifollicular_parakeratosis  inflammatory_monoluclear_inflitrate  \\\n",
            "0                               0                                    1   \n",
            "1                               0                                    1   \n",
            "2                               0                                    2   \n",
            "3                               0                                    3   \n",
            "4                               0                                    2   \n",
            "..                            ...                                  ...   \n",
            "361                             0                                    2   \n",
            "362                             0                                    2   \n",
            "363                             0                                    2   \n",
            "364                             0                                    2   \n",
            "365                             0                                    3   \n",
            "\n",
            "     band-like_infiltrate   age  class  \n",
            "0                       0  55.0      2  \n",
            "1                       0   8.0      1  \n",
            "2                       3  26.0      3  \n",
            "3                       0  40.0      1  \n",
            "4                       3  45.0      3  \n",
            "..                    ...   ...    ...  \n",
            "361                     0  25.0      4  \n",
            "362                     0  36.0      4  \n",
            "363                     3  28.0      3  \n",
            "364                     3  50.0      3  \n",
            "365                     0  35.0      1  \n",
            "\n",
            "[366 rows x 35 columns]\n"
          ],
          "name": "stdout"
        },
        {
          "output_type": "execute_result",
          "data": {
            "text/plain": [
              "erythema                                    0\n",
              "scaling                                     0\n",
              "definite_borders                            0\n",
              "itching                                     0\n",
              "koebner_phenomenon                          0\n",
              "polygonal_papules                           0\n",
              "follicular_papules                          0\n",
              "oral_mucosal_involvement                    0\n",
              "knee_and_elbow_involvement                  0\n",
              "scalp_involvement                           0\n",
              "family_history                              0\n",
              "melanin_incontinence                        0\n",
              "eosinophils_in_the_infiltrate               0\n",
              "pnl_infiltrate                              0\n",
              "fibrosis_of_the_papillary_dermis            0\n",
              "exocytosis                                  0\n",
              "acanthosis                                  0\n",
              "hyperkeratosis                              0\n",
              "parakeratosis                               0\n",
              "clubbing_of_the_rete_ridges                 0\n",
              "elongation_of_the_rete_ridges               0\n",
              "thinning_of_the_suprapapillary_epidermis    0\n",
              "spongiform_pustule                          0\n",
              "munro_microabcess                           0\n",
              "focal_hypergranulosis                       0\n",
              "disappearance_of_the_granular_layer         0\n",
              "vacuolisation_and_damage_of_basal_layer     0\n",
              "spongiosis                                  0\n",
              "saw-tooth_appearance_of_retes               0\n",
              "follicular_horn_plug                        0\n",
              "perifollicular_parakeratosis                0\n",
              "inflammatory_monoluclear_inflitrate         0\n",
              "band-like_infiltrate                        0\n",
              "age                                         8\n",
              "class                                       0\n",
              "dtype: int64"
            ]
          },
          "metadata": {
            "tags": []
          },
          "execution_count": 82
        }
      ]
    },
    {
      "cell_type": "code",
      "metadata": {
        "id": "-ejmFMMB10N4",
        "colab": {
          "base_uri": "https://localhost:8080/"
        },
        "outputId": "af117709-1cda-4e2c-a8b6-f86615329b6e"
      },
      "source": [
        "from sklearn.impute import SimpleImputer \n",
        "from sklearn import preprocessing\n",
        "imp = SimpleImputer(strategy=\"most_frequent\")\n",
        "data[\"age\"] = imp.fit_transform(data[[\"age\"]])\n",
        "data.isnull().sum()"
      ],
      "execution_count": 83,
      "outputs": [
        {
          "output_type": "execute_result",
          "data": {
            "text/plain": [
              "erythema                                    0\n",
              "scaling                                     0\n",
              "definite_borders                            0\n",
              "itching                                     0\n",
              "koebner_phenomenon                          0\n",
              "polygonal_papules                           0\n",
              "follicular_papules                          0\n",
              "oral_mucosal_involvement                    0\n",
              "knee_and_elbow_involvement                  0\n",
              "scalp_involvement                           0\n",
              "family_history                              0\n",
              "melanin_incontinence                        0\n",
              "eosinophils_in_the_infiltrate               0\n",
              "pnl_infiltrate                              0\n",
              "fibrosis_of_the_papillary_dermis            0\n",
              "exocytosis                                  0\n",
              "acanthosis                                  0\n",
              "hyperkeratosis                              0\n",
              "parakeratosis                               0\n",
              "clubbing_of_the_rete_ridges                 0\n",
              "elongation_of_the_rete_ridges               0\n",
              "thinning_of_the_suprapapillary_epidermis    0\n",
              "spongiform_pustule                          0\n",
              "munro_microabcess                           0\n",
              "focal_hypergranulosis                       0\n",
              "disappearance_of_the_granular_layer         0\n",
              "vacuolisation_and_damage_of_basal_layer     0\n",
              "spongiosis                                  0\n",
              "saw-tooth_appearance_of_retes               0\n",
              "follicular_horn_plug                        0\n",
              "perifollicular_parakeratosis                0\n",
              "inflammatory_monoluclear_inflitrate         0\n",
              "band-like_infiltrate                        0\n",
              "age                                         0\n",
              "class                                       0\n",
              "dtype: int64"
            ]
          },
          "metadata": {
            "tags": []
          },
          "execution_count": 83
        }
      ]
    },
    {
      "cell_type": "code",
      "metadata": {
        "id": "Eh5WvKB73vL9",
        "colab": {
          "base_uri": "https://localhost:8080/"
        },
        "outputId": "b2308364-a9e4-4197-f77d-3dcf341bea3c"
      },
      "source": [
        "X=data.iloc[:,:-1]\n",
        "Y=data.iloc[:,-1]\n",
        "print(X.shape)\n",
        "print(Y.shape)"
      ],
      "execution_count": 84,
      "outputs": [
        {
          "output_type": "stream",
          "text": [
            "(366, 34)\n",
            "(366,)\n"
          ],
          "name": "stdout"
        }
      ]
    },
    {
      "cell_type": "code",
      "metadata": {
        "id": "QGz_em_xz9yO",
        "colab": {
          "base_uri": "https://localhost:8080/"
        },
        "outputId": "1e3eee73-f110-45d9-c7e2-d0851da917e2"
      },
      "source": [
        "from sklearn.naive_bayes import MultinomialNB\n",
        "from sklearn.model_selection import train_test_split,cross_val_score\n",
        "X_train, X_test, Y_train, Y_test = train_test_split(X, Y,test_size=0.25)\n",
        "mnb = MultinomialNB(alpha=0.01)\n",
        "mnb.fit(X_train,Y_train)\n",
        "print(\"MultinomialNB score:\",mnb.score(X_test,Y_test))\n"
      ],
      "execution_count": 85,
      "outputs": [
        {
          "output_type": "stream",
          "text": [
            "MultinomialNB score: 0.9782608695652174\n"
          ],
          "name": "stdout"
        }
      ]
    },
    {
      "cell_type": "code",
      "metadata": {
        "id": "ymGEVRHnNSW0",
        "colab": {
          "base_uri": "https://localhost:8080/"
        },
        "outputId": "eed68af2-e5a9-46cc-8220-97c850c8d6ae"
      },
      "source": [
        "print(\"MultinomialNB score cross_val_score:\",cross_val_score(mnb,X,Y,scoring='accuracy',cv=10).mean())"
      ],
      "execution_count": 86,
      "outputs": [
        {
          "output_type": "stream",
          "text": [
            "MultinomialNB score cross_val_score: 0.9780030030030028\n"
          ],
          "name": "stdout"
        }
      ]
    },
    {
      "cell_type": "code",
      "metadata": {
        "id": "0zzzZLCzL0WD",
        "colab": {
          "base_uri": "https://localhost:8080/"
        },
        "outputId": "2d76ba51-e4cc-4fdb-f32b-fbcc30c7fec5"
      },
      "source": [
        "from sklearn.metrics import confusion_matrix\n",
        "cm = confusion_matrix(y_true=Y_test,y_pred=lr.predict(X_test))\n",
        "print(cm)\n",
        "print(\"\\n\")\n",
        "print(cm.transpose()[::-1,::-1])\n",
        "print(\"\\n\")\n",
        "print(cm[::-1,::-1])"
      ],
      "execution_count": 87,
      "outputs": [
        {
          "output_type": "stream",
          "text": [
            "[[24  0  0  0  0  0]\n",
            " [ 0 17  0  0  0  0]\n",
            " [ 0  0 19  0  0  0]\n",
            " [ 0  0  0 12  0  0]\n",
            " [ 0  0  0  0 12  0]\n",
            " [ 0  0  0  0  0  8]]\n",
            "\n",
            "\n",
            "[[ 8  0  0  0  0  0]\n",
            " [ 0 12  0  0  0  0]\n",
            " [ 0  0 12  0  0  0]\n",
            " [ 0  0  0 19  0  0]\n",
            " [ 0  0  0  0 17  0]\n",
            " [ 0  0  0  0  0 24]]\n",
            "\n",
            "\n",
            "[[ 8  0  0  0  0  0]\n",
            " [ 0 12  0  0  0  0]\n",
            " [ 0  0 12  0  0  0]\n",
            " [ 0  0  0 19  0  0]\n",
            " [ 0  0  0  0 17  0]\n",
            " [ 0  0  0  0  0 24]]\n"
          ],
          "name": "stdout"
        }
      ]
    },
    {
      "cell_type": "code",
      "metadata": {
        "colab": {
          "base_uri": "https://localhost:8080/"
        },
        "id": "wS4_PDSo4YJ6",
        "outputId": "a5a7298e-ff01-450f-dc00-cb04fad8bd29"
      },
      "source": [
        "from sklearn.metrics import classification_report\n",
        "target_names = ['class1','class2','class3','class4','class5','class6']\n",
        "y_true=Y_test\n",
        "y_pred=lr.predict(X_test)\n",
        "print(classification_report(y_true, y_pred, target_names=target_names))"
      ],
      "execution_count": 89,
      "outputs": [
        {
          "output_type": "stream",
          "text": [
            "              precision    recall  f1-score   support\n",
            "\n",
            "      class1       1.00      1.00      1.00        24\n",
            "      class2       1.00      1.00      1.00        17\n",
            "      class3       1.00      1.00      1.00        19\n",
            "      class4       1.00      1.00      1.00        12\n",
            "      class5       1.00      1.00      1.00        12\n",
            "      class6       1.00      1.00      1.00         8\n",
            "\n",
            "    accuracy                           1.00        92\n",
            "   macro avg       1.00      1.00      1.00        92\n",
            "weighted avg       1.00      1.00      1.00        92\n",
            "\n"
          ],
          "name": "stdout"
        }
      ]
    },
    {
      "cell_type": "code",
      "metadata": {
        "id": "l9GpTCqH3KZ6",
        "colab": {
          "base_uri": "https://localhost:8080/"
        },
        "outputId": "938a9547-c590-4493-8754-79c146551a33"
      },
      "source": [
        "from sklearn.model_selection import train_test_split,cross_val_score\n",
        "from sklearn.linear_model import LogisticRegression\n",
        "# Split dataset\n",
        "X_train, X_test, Y_train, Y_test = train_test_split(X, Y,test_size=0.25)\n",
        "# Create logistic regressor\n",
        "lr = LogisticRegression()\n",
        "lr.fit(X_train, Y_train)\n",
        "print('Logistic regression score: %.3f' % lr.score(X_test,Y_test))\n"
      ],
      "execution_count": 90,
      "outputs": [
        {
          "output_type": "stream",
          "text": [
            "Logistic regression score: 0.989\n"
          ],
          "name": "stdout"
        },
        {
          "output_type": "stream",
          "text": [
            "/usr/local/lib/python3.6/dist-packages/sklearn/linear_model/_logistic.py:940: ConvergenceWarning: lbfgs failed to converge (status=1):\n",
            "STOP: TOTAL NO. of ITERATIONS REACHED LIMIT.\n",
            "\n",
            "Increase the number of iterations (max_iter) or scale the data as shown in:\n",
            "    https://scikit-learn.org/stable/modules/preprocessing.html\n",
            "Please also refer to the documentation for alternative solver options:\n",
            "    https://scikit-learn.org/stable/modules/linear_model.html#logistic-regression\n",
            "  extra_warning_msg=_LOGISTIC_SOLVER_CONVERGENCE_MSG)\n"
          ],
          "name": "stderr"
        }
      ]
    },
    {
      "cell_type": "code",
      "metadata": {
        "id": "nZ7WwxINi6Wd",
        "colab": {
          "base_uri": "https://localhost:8080/"
        },
        "outputId": "b9a76d91-abb5-41d2-fc4a-9d16f1d6d4f8"
      },
      "source": [
        "print(\"Logistic regression cross_val_score:\",cross_val_score(lr,X,Y,scoring='accuracy',cv=10).mean())"
      ],
      "execution_count": 91,
      "outputs": [
        {
          "output_type": "stream",
          "text": [
            "/usr/local/lib/python3.6/dist-packages/sklearn/linear_model/_logistic.py:940: ConvergenceWarning: lbfgs failed to converge (status=1):\n",
            "STOP: TOTAL NO. of ITERATIONS REACHED LIMIT.\n",
            "\n",
            "Increase the number of iterations (max_iter) or scale the data as shown in:\n",
            "    https://scikit-learn.org/stable/modules/preprocessing.html\n",
            "Please also refer to the documentation for alternative solver options:\n",
            "    https://scikit-learn.org/stable/modules/linear_model.html#logistic-regression\n",
            "  extra_warning_msg=_LOGISTIC_SOLVER_CONVERGENCE_MSG)\n",
            "/usr/local/lib/python3.6/dist-packages/sklearn/linear_model/_logistic.py:940: ConvergenceWarning: lbfgs failed to converge (status=1):\n",
            "STOP: TOTAL NO. of ITERATIONS REACHED LIMIT.\n",
            "\n",
            "Increase the number of iterations (max_iter) or scale the data as shown in:\n",
            "    https://scikit-learn.org/stable/modules/preprocessing.html\n",
            "Please also refer to the documentation for alternative solver options:\n",
            "    https://scikit-learn.org/stable/modules/linear_model.html#logistic-regression\n",
            "  extra_warning_msg=_LOGISTIC_SOLVER_CONVERGENCE_MSG)\n",
            "/usr/local/lib/python3.6/dist-packages/sklearn/linear_model/_logistic.py:940: ConvergenceWarning: lbfgs failed to converge (status=1):\n",
            "STOP: TOTAL NO. of ITERATIONS REACHED LIMIT.\n",
            "\n",
            "Increase the number of iterations (max_iter) or scale the data as shown in:\n",
            "    https://scikit-learn.org/stable/modules/preprocessing.html\n",
            "Please also refer to the documentation for alternative solver options:\n",
            "    https://scikit-learn.org/stable/modules/linear_model.html#logistic-regression\n",
            "  extra_warning_msg=_LOGISTIC_SOLVER_CONVERGENCE_MSG)\n",
            "/usr/local/lib/python3.6/dist-packages/sklearn/linear_model/_logistic.py:940: ConvergenceWarning: lbfgs failed to converge (status=1):\n",
            "STOP: TOTAL NO. of ITERATIONS REACHED LIMIT.\n",
            "\n",
            "Increase the number of iterations (max_iter) or scale the data as shown in:\n",
            "    https://scikit-learn.org/stable/modules/preprocessing.html\n",
            "Please also refer to the documentation for alternative solver options:\n",
            "    https://scikit-learn.org/stable/modules/linear_model.html#logistic-regression\n",
            "  extra_warning_msg=_LOGISTIC_SOLVER_CONVERGENCE_MSG)\n",
            "/usr/local/lib/python3.6/dist-packages/sklearn/linear_model/_logistic.py:940: ConvergenceWarning: lbfgs failed to converge (status=1):\n",
            "STOP: TOTAL NO. of ITERATIONS REACHED LIMIT.\n",
            "\n",
            "Increase the number of iterations (max_iter) or scale the data as shown in:\n",
            "    https://scikit-learn.org/stable/modules/preprocessing.html\n",
            "Please also refer to the documentation for alternative solver options:\n",
            "    https://scikit-learn.org/stable/modules/linear_model.html#logistic-regression\n",
            "  extra_warning_msg=_LOGISTIC_SOLVER_CONVERGENCE_MSG)\n",
            "/usr/local/lib/python3.6/dist-packages/sklearn/linear_model/_logistic.py:940: ConvergenceWarning: lbfgs failed to converge (status=1):\n",
            "STOP: TOTAL NO. of ITERATIONS REACHED LIMIT.\n",
            "\n",
            "Increase the number of iterations (max_iter) or scale the data as shown in:\n",
            "    https://scikit-learn.org/stable/modules/preprocessing.html\n",
            "Please also refer to the documentation for alternative solver options:\n",
            "    https://scikit-learn.org/stable/modules/linear_model.html#logistic-regression\n",
            "  extra_warning_msg=_LOGISTIC_SOLVER_CONVERGENCE_MSG)\n",
            "/usr/local/lib/python3.6/dist-packages/sklearn/linear_model/_logistic.py:940: ConvergenceWarning: lbfgs failed to converge (status=1):\n",
            "STOP: TOTAL NO. of ITERATIONS REACHED LIMIT.\n",
            "\n",
            "Increase the number of iterations (max_iter) or scale the data as shown in:\n",
            "    https://scikit-learn.org/stable/modules/preprocessing.html\n",
            "Please also refer to the documentation for alternative solver options:\n",
            "    https://scikit-learn.org/stable/modules/linear_model.html#logistic-regression\n",
            "  extra_warning_msg=_LOGISTIC_SOLVER_CONVERGENCE_MSG)\n",
            "/usr/local/lib/python3.6/dist-packages/sklearn/linear_model/_logistic.py:940: ConvergenceWarning: lbfgs failed to converge (status=1):\n",
            "STOP: TOTAL NO. of ITERATIONS REACHED LIMIT.\n",
            "\n",
            "Increase the number of iterations (max_iter) or scale the data as shown in:\n",
            "    https://scikit-learn.org/stable/modules/preprocessing.html\n",
            "Please also refer to the documentation for alternative solver options:\n",
            "    https://scikit-learn.org/stable/modules/linear_model.html#logistic-regression\n",
            "  extra_warning_msg=_LOGISTIC_SOLVER_CONVERGENCE_MSG)\n",
            "/usr/local/lib/python3.6/dist-packages/sklearn/linear_model/_logistic.py:940: ConvergenceWarning: lbfgs failed to converge (status=1):\n",
            "STOP: TOTAL NO. of ITERATIONS REACHED LIMIT.\n",
            "\n",
            "Increase the number of iterations (max_iter) or scale the data as shown in:\n",
            "    https://scikit-learn.org/stable/modules/preprocessing.html\n",
            "Please also refer to the documentation for alternative solver options:\n",
            "    https://scikit-learn.org/stable/modules/linear_model.html#logistic-regression\n",
            "  extra_warning_msg=_LOGISTIC_SOLVER_CONVERGENCE_MSG)\n"
          ],
          "name": "stderr"
        },
        {
          "output_type": "stream",
          "text": [
            "Logistic regression cross_val_score: 0.9698948948948949\n"
          ],
          "name": "stdout"
        },
        {
          "output_type": "stream",
          "text": [
            "/usr/local/lib/python3.6/dist-packages/sklearn/linear_model/_logistic.py:940: ConvergenceWarning: lbfgs failed to converge (status=1):\n",
            "STOP: TOTAL NO. of ITERATIONS REACHED LIMIT.\n",
            "\n",
            "Increase the number of iterations (max_iter) or scale the data as shown in:\n",
            "    https://scikit-learn.org/stable/modules/preprocessing.html\n",
            "Please also refer to the documentation for alternative solver options:\n",
            "    https://scikit-learn.org/stable/modules/linear_model.html#logistic-regression\n",
            "  extra_warning_msg=_LOGISTIC_SOLVER_CONVERGENCE_MSG)\n"
          ],
          "name": "stderr"
        }
      ]
    },
    {
      "cell_type": "code",
      "metadata": {
        "id": "IFz2w83CeQu4",
        "colab": {
          "base_uri": "https://localhost:8080/"
        },
        "outputId": "8fca4225-75d5-4a71-e25d-2287d8d3f3f9"
      },
      "source": [
        "print(lr.intercept_)"
      ],
      "execution_count": 92,
      "outputs": [
        {
          "output_type": "stream",
          "text": [
            "[-0.36763033 -0.44382243 -0.24579933  0.70332364  0.05772872  0.29619973]\n"
          ],
          "name": "stdout"
        }
      ]
    },
    {
      "cell_type": "code",
      "metadata": {
        "id": "hyq7rlnIekfF",
        "colab": {
          "base_uri": "https://localhost:8080/"
        },
        "outputId": "ff46f5ec-7a14-4eae-dcf3-67d4b2e99a7d"
      },
      "source": [
        "print(lr.coef_)\n"
      ],
      "execution_count": 93,
      "outputs": [
        {
          "output_type": "stream",
          "text": [
            "[[-7.03353154e-03  1.18834746e-01  2.39293959e-01 -1.32236355e-01\n",
            "   9.95975109e-02 -7.68172854e-02 -2.42378273e-01 -5.95249359e-02\n",
            "   4.42474026e-01  3.79816331e-01  2.13184857e-02 -6.73305541e-02\n",
            "  -5.82488406e-02  4.67193411e-01 -4.04645365e-01 -4.45600993e-01\n",
            "  -2.26183125e-01 -2.02066983e-02  1.73953564e-01  7.95901968e-01\n",
            "   6.22358188e-01  9.15153511e-01  4.04311692e-01  3.66805219e-01\n",
            "  -6.28932102e-02  2.38306123e-01 -7.25011523e-02 -7.07182779e-01\n",
            "  -1.26137086e-01 -1.60510748e-01 -1.63747259e-01 -8.08944465e-02\n",
            "  -7.41790604e-02  3.08656582e-02]\n",
            " [ 1.59745317e-01  5.16954628e-01 -2.04141084e-02  4.31609689e-01\n",
            "  -8.70526721e-01 -1.79345329e-01 -3.68319227e-01 -8.50752069e-02\n",
            "  -8.64114450e-02 -1.06428481e-01 -4.43475973e-03 -1.31346673e-01\n",
            "   5.30267729e-01  9.33965452e-01 -4.76009655e-01  3.93736869e-01\n",
            "   5.63883097e-02 -3.86917641e-01 -3.85854857e-01 -3.32396092e-01\n",
            "  -3.74885846e-01 -3.16959155e-01  7.67507810e-03 -1.02160226e-01\n",
            "  -1.48261391e-01 -1.29389508e+00 -1.72916471e-01  7.45747778e-01\n",
            "  -1.82890689e-01 -2.19840588e-01 -2.39514767e-01 -1.99550478e-01\n",
            "  -2.25766263e-01  2.01582658e-02]\n",
            " [-2.10932031e-01 -2.45700506e-01  7.06164621e-02  2.07130483e-01\n",
            "   1.31527719e-01  6.58362739e-01 -8.34115239e-02  4.52453661e-01\n",
            "  -1.00625162e-01 -1.50279973e-02 -2.54470086e-02  4.37596011e-01\n",
            "  -7.66985166e-03 -1.78685041e-01 -4.01280193e-03  8.85768539e-03\n",
            "  -9.44019616e-02 -2.17554980e-02 -6.92835924e-02 -7.95291337e-02\n",
            "  -1.84418466e-01 -7.12580582e-02 -5.02042579e-02  1.18582809e-01\n",
            "   4.06280902e-01  1.07012278e-01  5.07284636e-01 -8.08326914e-02\n",
            "   5.94731230e-01 -4.55724228e-02 -4.99362693e-02 -2.41962048e-02\n",
            "   7.08141025e-01  6.03587471e-04]\n",
            " [-5.00651684e-02 -4.38030807e-01 -3.45431215e-02 -7.82429295e-01\n",
            "   1.08943249e+00 -3.06114570e-01 -1.89125195e-01 -2.43299997e-01\n",
            "  -5.21686562e-01 -2.05518986e-01 -1.07440827e-01 -1.62801633e-01\n",
            "  -1.95151153e-01 -6.00000915e-01 -4.10056230e-01  4.75874886e-01\n",
            "  -1.76896212e-01  7.57955292e-02  2.37895757e-01 -2.02100698e-01\n",
            "  -6.19165420e-01 -1.93654415e-01 -2.33570839e-01 -1.70023525e-01\n",
            "  -1.21135281e-01  1.15463608e+00 -1.71465735e-01  5.67856165e-01\n",
            "  -1.77083958e-01 -1.54823599e-01 -1.63421067e-01  1.20784988e-01\n",
            "  -3.36996153e-01  4.69374307e-02]\n",
            " [-1.15241371e-01 -2.44774470e-01 -2.66428171e-01  2.61868231e-01\n",
            "  -3.33618234e-01 -8.22486272e-02  1.15931853e-01 -5.39368180e-02\n",
            "  -2.10694889e-01 -1.42471805e-01 -5.24265780e-02 -6.41524342e-02\n",
            "  -2.17827326e-01 -5.07070599e-01  1.34374357e+00 -4.96314730e-01\n",
            "   2.39671905e-01  1.89119548e-01 -1.01417746e-01 -1.86290344e-01\n",
            "   5.95491794e-01 -2.65111814e-01 -1.01033728e-01 -1.55286454e-01\n",
            "  -6.25924155e-02 -1.73265070e-01 -7.68466333e-02 -6.15572279e-01\n",
            "  -9.50515069e-02 -2.53145048e-02 -8.40339884e-02 -4.18641440e-04\n",
            "  -4.03414582e-02  6.31960307e-02]\n",
            " [ 2.23526785e-01  2.92716409e-01  1.14749797e-02  1.40572474e-02\n",
            "  -1.16412762e-01 -1.38369270e-02  7.67302366e-01 -1.06167034e-02\n",
            "   4.76944032e-01  8.96309382e-02  1.68430688e-01 -1.19647170e-02\n",
            "  -5.13705579e-02 -1.15402309e-01 -4.90195133e-02  6.34462827e-02\n",
            "   2.01421084e-01  1.63964761e-01  1.44706873e-01  4.41429916e-03\n",
            "  -3.93802504e-02 -6.81700692e-02 -2.71779451e-02 -5.79178223e-02\n",
            "  -1.13986045e-02 -3.27943404e-02 -1.35546447e-02  8.99838062e-02\n",
            "  -1.35679904e-02  6.06061862e-01  7.00653351e-01  1.84274783e-01\n",
            "  -3.08580903e-02 -1.61760973e-01]]\n"
          ],
          "name": "stdout"
        }
      ]
    },
    {
      "cell_type": "code",
      "metadata": {
        "id": "UagrdIyVc_J4",
        "colab": {
          "base_uri": "https://localhost:8080/"
        },
        "outputId": "aa5031be-5309-4430-9bd2-338a532b3a3c"
      },
      "source": [
        "from sklearn.linear_model import SGDClassifier\n",
        "sgd = SGDClassifier(loss='log', max_iter=1000)\n",
        "sgd.fit(X_train, Y_train)\n",
        "print(\"SGDClassifier score:\",sgd.score(X_test, Y_test))\n",
        "print(\"SGDClassifier cross_val_score:\",cross_val_score(sgd,X,Y,scoring='accuracy',cv=10).mean())"
      ],
      "execution_count": 94,
      "outputs": [
        {
          "output_type": "stream",
          "text": [
            "SGDClassifier score: 0.8695652173913043\n",
            "SGDClassifier cross_val_score: 0.8844594594594597\n"
          ],
          "name": "stdout"
        }
      ]
    },
    {
      "cell_type": "code",
      "metadata": {
        "id": "71ThwMg8dYKm",
        "colab": {
          "base_uri": "https://localhost:8080/"
        },
        "outputId": "5579e249-71ab-4ce4-b113-94f8b0ebf6af"
      },
      "source": [
        "from sklearn.linear_model import Perceptron\n",
        "perc=Perceptron(tol=1e-3, random_state=0)\n",
        "perc.fit(X_train, Y_train)\n",
        "print(\"Perceptron score:\",perc.score(X_test,Y_test))\n",
        "print(\"Perceptron cross_val_score:\",cross_val_score(perc,X,Y,scoring='accuracy',cv=10).mean())"
      ],
      "execution_count": 95,
      "outputs": [
        {
          "output_type": "stream",
          "text": [
            "Perceptron score: 0.8478260869565217\n",
            "Perceptron cross_val_score: 0.9012012012012012\n"
          ],
          "name": "stdout"
        }
      ]
    },
    {
      "cell_type": "code",
      "metadata": {
        "id": "-6Eat6BQje90",
        "colab": {
          "base_uri": "https://localhost:8080/"
        },
        "outputId": "8a3dee83-015c-44bc-b966-645129823bb9"
      },
      "source": [
        "from sklearn.naive_bayes import BernoulliNB\n",
        "bnb = BernoulliNB()\n",
        "bnb.fit(X_train, Y_train)\n",
        "print(\"BernoulliNB score:\",bnb.score(X_test, Y_test))\n",
        "print(\"BernoulliNB cross_val_score:\",cross_val_score(bnb,X,Y,scoring='accuracy',cv=10).mean())"
      ],
      "execution_count": 96,
      "outputs": [
        {
          "output_type": "stream",
          "text": [
            "BernoulliNB score: 0.9891304347826086\n",
            "BernoulliNB cross_val_score: 0.9781531531531531\n"
          ],
          "name": "stdout"
        }
      ]
    },
    {
      "cell_type": "code",
      "metadata": {
        "id": "Gd-gJpITjUNI",
        "colab": {
          "base_uri": "https://localhost:8080/"
        },
        "outputId": "4d17062c-35ce-4407-c7f9-9c0fedb335b1"
      },
      "source": [
        "from sklearn.naive_bayes import GaussianNB\n",
        "from sklearn.datasets import make_classification\n",
        "from sklearn.model_selection import train_test_split\n",
        "nb_samples = 366\n",
        "X, Y = make_classification(n_samples=nb_samples, n_features=34, n_informative=2, n_redundant=0)\n",
        "X_train, X_test, Y_train, Y_test = train_test_split(X, Y, test_size=0.25)\n",
        "gnb = GaussianNB()\n",
        "gnb.fit(X_train, Y_train)\n",
        "print(\"GaussianNB score:\",gnb.score(X_test, Y_test))\n",
        "print(\"GaussianNB cross_val_score:\",cross_val_score(gnb,X,Y,scoring='accuracy',cv=10).mean())\n"
      ],
      "execution_count": 97,
      "outputs": [
        {
          "output_type": "stream",
          "text": [
            "GaussianNB score: 0.8804347826086957\n",
            "GaussianNB cross_val_score: 0.8527777777777779\n"
          ],
          "name": "stdout"
        }
      ]
    },
    {
      "cell_type": "code",
      "metadata": {
        "id": "UVvZw70jD5Hb",
        "colab": {
          "base_uri": "https://localhost:8080/"
        },
        "outputId": "b0b1cec6-ea71-426a-980f-8327119cff2f"
      },
      "source": [
        "Y_gnb_score = gnb.predict_proba(X_test)\n",
        "Y_lr_score = lr.predict_proba(X_test)\n",
        "from sklearn.metrics import roc_curve, auc\n",
        "fpr_gnb, tpr_gnb, thresholds_gnb = roc_curve(Y_test, Y_gnb_score[:, 1])\n",
        "fpr_lr, tpr_lr, thresholds_lr = roc_curve(Y_test, Y_lr_score[:,1])\n",
        "auc(fpr_gnb, tpr_gnb)\n",
        "auc(fpr_lr, tpr_lr)"
      ],
      "execution_count": 98,
      "outputs": [
        {
          "output_type": "execute_result",
          "data": {
            "text/plain": [
              "0.5309692671394799"
            ]
          },
          "metadata": {
            "tags": []
          },
          "execution_count": 98
        }
      ]
    },
    {
      "cell_type": "code",
      "metadata": {
        "id": "8MXU09NtzlfQ",
        "colab": {
          "base_uri": "https://localhost:8080/"
        },
        "outputId": "b633a6bc-647c-4cd8-b148-7307a7671f55"
      },
      "source": [
        "from sklearn.model_selection import GridSearchCV\n",
        "param_grid = [{'penalty': [ 'l1', 'l2' ],'C': [ 0.5, 1.0, 1.5, 1.8, 2.0, 2.5]}]\n",
        "gs = GridSearchCV(estimator=LogisticRegression(), param_grid=param_grid, scoring='accuracy', cv=10)\n",
        "gs.fit(X_train,Y_train)\n",
        "gs.best_estimator_\n",
        "print(\"GridSearchCV score:\",gs.score(X_test,Y_test))\n",
        "print(\"GridSearchCV cross_val_score:\",cross_val_score(gs.best_estimator_, X_test, Y_test, scoring='accuracy', cv=10).mean())\n"
      ],
      "execution_count": 99,
      "outputs": [
        {
          "output_type": "stream",
          "text": [
            "/usr/local/lib/python3.6/dist-packages/sklearn/model_selection/_validation.py:536: FitFailedWarning: Estimator fit failed. The score on this train-test partition for these parameters will be set to nan. Details: \n",
            "ValueError: Solver lbfgs supports only 'l2' or 'none' penalties, got l1 penalty.\n",
            "\n",
            "  FitFailedWarning)\n",
            "/usr/local/lib/python3.6/dist-packages/sklearn/model_selection/_validation.py:536: FitFailedWarning: Estimator fit failed. The score on this train-test partition for these parameters will be set to nan. Details: \n",
            "ValueError: Solver lbfgs supports only 'l2' or 'none' penalties, got l1 penalty.\n",
            "\n",
            "  FitFailedWarning)\n",
            "/usr/local/lib/python3.6/dist-packages/sklearn/model_selection/_validation.py:536: FitFailedWarning: Estimator fit failed. The score on this train-test partition for these parameters will be set to nan. Details: \n",
            "ValueError: Solver lbfgs supports only 'l2' or 'none' penalties, got l1 penalty.\n",
            "\n",
            "  FitFailedWarning)\n",
            "/usr/local/lib/python3.6/dist-packages/sklearn/model_selection/_validation.py:536: FitFailedWarning: Estimator fit failed. The score on this train-test partition for these parameters will be set to nan. Details: \n",
            "ValueError: Solver lbfgs supports only 'l2' or 'none' penalties, got l1 penalty.\n",
            "\n",
            "  FitFailedWarning)\n",
            "/usr/local/lib/python3.6/dist-packages/sklearn/model_selection/_validation.py:536: FitFailedWarning: Estimator fit failed. The score on this train-test partition for these parameters will be set to nan. Details: \n",
            "ValueError: Solver lbfgs supports only 'l2' or 'none' penalties, got l1 penalty.\n",
            "\n",
            "  FitFailedWarning)\n"
          ],
          "name": "stderr"
        },
        {
          "output_type": "stream",
          "text": [
            "GridSearchCV score: 0.8260869565217391\n",
            "GridSearchCV cross_val_score: 0.8566666666666667\n"
          ],
          "name": "stdout"
        },
        {
          "output_type": "stream",
          "text": [
            "/usr/local/lib/python3.6/dist-packages/sklearn/model_selection/_validation.py:536: FitFailedWarning: Estimator fit failed. The score on this train-test partition for these parameters will be set to nan. Details: \n",
            "ValueError: Solver lbfgs supports only 'l2' or 'none' penalties, got l1 penalty.\n",
            "\n",
            "  FitFailedWarning)\n"
          ],
          "name": "stderr"
        }
      ]
    },
    {
      "cell_type": "code",
      "metadata": {
        "id": "bsdKdLoXKa0C",
        "colab": {
          "base_uri": "https://localhost:8080/"
        },
        "outputId": "be5ad8a3-f0a8-4009-9dbd-611a43d838d6"
      },
      "source": [
        "Y_test_result=np.array(Y_test)\n",
        "print(Y_test_result)"
      ],
      "execution_count": 100,
      "outputs": [
        {
          "output_type": "stream",
          "text": [
            "[0 0 0 1 0 1 0 1 1 0 0 1 0 0 0 1 0 0 0 1 0 1 1 1 0 0 1 0 0 1 1 0 0 0 1 0 1\n",
            " 1 0 1 1 1 1 0 1 1 1 0 0 1 1 1 1 1 0 0 1 1 0 1 0 0 1 0 0 0 1 1 1 1 0 1 1 0\n",
            " 0 1 0 0 1 1 1 1 1 0 0 0 0 0 0 1 1 1]\n"
          ],
          "name": "stdout"
        }
      ]
    },
    {
      "cell_type": "code",
      "metadata": {
        "id": "ft8uz7T8KbPz",
        "colab": {
          "base_uri": "https://localhost:8080/"
        },
        "outputId": "f219e3b0-d3f6-4c3b-83c7-4eec9a7f8821"
      },
      "source": [
        "print(lr.predict(X_test))"
      ],
      "execution_count": 101,
      "outputs": [
        {
          "output_type": "stream",
          "text": [
            "[4 2 5 4 2 4 1 2 1 4 4 6 6 4 2 5 4 1 4 4 1 3 5 5 2 4 2 4 4 2 4 2 5 5 4 1 2\n",
            " 2 5 4 2 2 4 6 3 2 6 4 2 1 4 5 1 2 1 4 4 2 6 5 2 5 5 2 1 5 6 5 2 1 4 4 2 6\n",
            " 4 4 4 1 4 4 6 5 2 2 4 4 1 1 4 5 4 2]\n"
          ],
          "name": "stdout"
        }
      ]
    },
    {
      "cell_type": "code",
      "metadata": {
        "id": "yfkokx4v4j-x"
      },
      "source": [
        ""
      ],
      "execution_count": 101,
      "outputs": []
    }
  ]
}