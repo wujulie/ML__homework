{
  "nbformat": 4,
  "nbformat_minor": 0,
  "metadata": {
    "colab": {
      "name": "homework_1.ipynb",
      "provenance": [],
      "collapsed_sections": [],
      "mount_file_id": "1nm1o5IIt_aiygqYuH-GdUFNEyuaCQzhq",
      "authorship_tag": "ABX9TyOwTnNIVw9xgdmzZ2xbt5vV",
      "include_colab_link": true
    },
    "kernelspec": {
      "name": "python3",
      "display_name": "Python 3"
    },
    "accelerator": "GPU"
  },
  "cells": [
    {
      "cell_type": "markdown",
      "metadata": {
        "id": "view-in-github",
        "colab_type": "text"
      },
      "source": [
        "<a href=\"https://colab.research.google.com/github/wujulie/ML__homework/blob/main/homework_1.ipynb\" target=\"_parent\"><img src=\"https://colab.research.google.com/assets/colab-badge.svg\" alt=\"Open In Colab\"/></a>"
      ]
    },
    {
      "cell_type": "code",
      "metadata": {
        "id": "2Tqq35KX7jG1",
        "colab": {
          "base_uri": "https://localhost:8080/"
        },
        "outputId": "aa0b660b-87c2-4672-a399-87deab5cbd0b"
      },
      "source": [
        "\n",
        "import pandas as pd\n",
        "import numpy as np\n",
        "from sklearn.impute import SimpleImputer \n",
        "from sklearn import preprocessing\n",
        "from sklearn.preprocessing import LabelEncoder\n",
        "train = pd.read_csv(\"/content/drive/My Drive/機器學習作業/Train.csv\")#讀取資料\n",
        "pd.set_option('display.max_columns',None)#顯示所有列\n",
        "train_data=pd.DataFrame(train)\n",
        "train_data.replace(['low fat','Low Fat','LF','reg','Regular'],[0,0,0,1,1],inplace=True)#將重複值整合並進行編碼\n",
        "imp=SimpleImputer(missing_values=np.nan,strategy=\"mean\")#以平均值12.85做填補值\n",
        "train_data[\"Item_Weight\"] =imp.fit_transform(train_data[[\"Item_Weight\"]])#先將數值轉成2D再進行填補\n",
        "print(train_data[\"Item_Weight\"].head(10))#印出train_data[\"Item_Weight\"]前十筆資料\n",
        "train_data.replace([\"Medium\", \"High\", \"Small\"],['0','1','2'],inplace=True)#2代表Small,0代表Medium，1代表High\n",
        "imp = SimpleImputer(strategy=\"most_frequent\")#用頻率最多的數值取代空值\n",
        "train_data['Outlet_Size'] = imp.fit_transform(train_data[[\"Outlet_Size\"]])#取代空值\n",
        "print(train_data[[\"Outlet_Size\"]].shape)\n",
        "print(train_data[\"Outlet_Size\"].head(10))#印出train_data[\"Outlet_Size\"]前十筆資料\n",
        "train_data.isnull().sum()#檢查是否還有空值"
      ],
      "execution_count": null,
      "outputs": [
        {
          "output_type": "stream",
          "text": [
            "0     9.300000\n",
            "1     5.920000\n",
            "2    17.500000\n",
            "3    19.200000\n",
            "4     8.930000\n",
            "5    10.395000\n",
            "6    13.650000\n",
            "7    12.857645\n",
            "8    16.200000\n",
            "9    19.200000\n",
            "Name: Item_Weight, dtype: float64\n",
            "(8523, 1)\n",
            "0    0\n",
            "1    0\n",
            "2    0\n",
            "3    0\n",
            "4    1\n",
            "5    0\n",
            "6    1\n",
            "7    0\n",
            "8    0\n",
            "9    0\n",
            "Name: Outlet_Size, dtype: object\n"
          ],
          "name": "stdout"
        },
        {
          "output_type": "execute_result",
          "data": {
            "text/plain": [
              "Item_Identifier              0\n",
              "Item_Weight                  0\n",
              "Item_Fat_Content             0\n",
              "Item_Visibility              0\n",
              "Item_Type                    0\n",
              "Item_MRP                     0\n",
              "Outlet_Identifier            0\n",
              "Outlet_Establishment_Year    0\n",
              "Outlet_Size                  0\n",
              "Outlet_Location_Type         0\n",
              "Outlet_Type                  0\n",
              "Item_Outlet_Sales            0\n",
              "dtype: int64"
            ]
          },
          "metadata": {
            "tags": []
          },
          "execution_count": 1
        }
      ]
    },
    {
      "cell_type": "code",
      "metadata": {
        "id": "QL4xxss8eGMW",
        "colab": {
          "base_uri": "https://localhost:8080/",
          "height": 153
        },
        "outputId": "f26cbf46-c375-4fae-c05a-1aec965044ef"
      },
      "source": [
        "#觀察各項Categorical data有幾個類別\n",
        "print(train_data['Item_Fat_Content'].unique())\n",
        "print(train_data['Item_Type'].unique())\n",
        "print(train_data['Outlet_Location_Type'].unique())\n",
        "print(train_data['Outlet_Type'].unique())"
      ],
      "execution_count": null,
      "outputs": [
        {
          "output_type": "stream",
          "text": [
            "[0 1]\n",
            "['Dairy' 'Soft Drinks' 'Meat' 'Fruits and Vegetables' 'Household'\n",
            " 'Baking Goods' 'Snack Foods' 'Frozen Foods' 'Breakfast'\n",
            " 'Health and Hygiene' 'Hard Drinks' 'Canned' 'Breads' 'Starchy Foods'\n",
            " 'Others' 'Seafood']\n",
            "['Tier 1' 'Tier 3' 'Tier 2']\n",
            "['Supermarket Type1' 'Supermarket Type2' 'Grocery Store'\n",
            " 'Supermarket Type3']\n"
          ],
          "name": "stdout"
        }
      ]
    },
    {
      "cell_type": "code",
      "metadata": {
        "id": "ahD76ZQpfmld"
      },
      "source": [
        "train_data.replace([\"Dairy\", \"Soft Drinks\", \"Meat\",\"Fruits and Vegetables\",\"Household\",\n",
        "                     \"Baking Goods\",\"Snack Foods\" ,\"Frozen Foods\",\"Breakfast\",\n",
        "                      \"Health and Hygiene\",\"Hard Drinks\",\n",
        "                      \"Canned\",\"Breads\",\"Starchy Foods\",\"Others\",\"Seafood\"],\n",
        "                      [0,1,2,3,4,5,6,7,8,9,10,11,12,13,14,15],inplace=True)#對欄位名稱為Item_Type的內容進行編碼\n",
        "train_data.replace([\"Tier 1\",\"Tier 2\",\"Tier 3\"],[0,1,2],inplace=True)#對欄位名稱為Outlet_Location_Type的內容進行編碼\n",
        "train_data.replace([\"Supermarket Type1\",\"Supermarket Type2\",\"Supermarket Type3\",\"Grocery Store\"],[0,1,2,3],inplace=True)#對欄位名稱為Outlet_Type的內容進行編碼"
      ],
      "execution_count": null,
      "outputs": []
    },
    {
      "cell_type": "code",
      "metadata": {
        "id": "KZacjsH-j6Z1"
      },
      "source": [
        "train_data.to_csv(\"test_2.csv\",index=True,sep=',')#輸出csv，檢查輸出"
      ],
      "execution_count": null,
      "outputs": []
    }
  ]
}