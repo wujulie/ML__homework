{
  "nbformat": 4,
  "nbformat_minor": 0,
  "metadata": {
    "colab": {
      "name": "clusting.ipynb",
      "provenance": [],
      "collapsed_sections": [],
      "authorship_tag": "ABX9TyMX7aVewtS58hufOArRrlDz",
      "include_colab_link": true
    },
    "kernelspec": {
      "name": "python3",
      "display_name": "Python 3"
    }
  },
  "cells": [
    {
      "cell_type": "markdown",
      "metadata": {
        "id": "view-in-github",
        "colab_type": "text"
      },
      "source": [
        "<a href=\"https://colab.research.google.com/github/wujulie/ML__homework/blob/main/clusting.ipynb\" target=\"_parent\"><img src=\"https://colab.research.google.com/assets/colab-badge.svg\" alt=\"Open In Colab\"/></a>"
      ]
    },
    {
      "cell_type": "code",
      "metadata": {
        "colab": {
          "base_uri": "https://localhost:8080/"
        },
        "id": "mIUOB8OSJbRZ",
        "outputId": "379e2ab4-1064-4208-d97d-e114e20ac108"
      },
      "source": [
        "import numpy as np\n",
        "import pandas as pd\n",
        "from sklearn.datasets import load_digits\n",
        "digits = load_digits()\n",
        "print(digits.data.shape)"
      ],
      "execution_count": null,
      "outputs": [
        {
          "output_type": "stream",
          "text": [
            "(1797, 64)\n"
          ],
          "name": "stdout"
        }
      ]
    },
    {
      "cell_type": "code",
      "metadata": {
        "colab": {
          "base_uri": "https://localhost:8080/"
        },
        "id": "x5PwL4DEJb_-",
        "outputId": "5af48716-50d3-4d3d-e364-7518c61b239e"
      },
      "source": [
        "# Get the keys of the `digits` data\n",
        "print(digits.keys())\n",
        "# Print out the data\n",
        "print(digits.data)"
      ],
      "execution_count": null,
      "outputs": [
        {
          "output_type": "stream",
          "text": [
            "dict_keys(['data', 'target', 'target_names', 'images', 'DESCR'])\n",
            "[[ 0.  0.  5. ...  0.  0.  0.]\n",
            " [ 0.  0.  0. ... 10.  0.  0.]\n",
            " [ 0.  0.  0. ... 16.  9.  0.]\n",
            " ...\n",
            " [ 0.  0.  1. ...  6.  0.  0.]\n",
            " [ 0.  0.  2. ... 12.  0.  0.]\n",
            " [ 0.  0. 10. ... 12.  1.  0.]]\n"
          ],
          "name": "stdout"
        }
      ]
    },
    {
      "cell_type": "code",
      "metadata": {
        "colab": {
          "base_uri": "https://localhost:8080/"
        },
        "id": "UvEEGV83Jfeh",
        "outputId": "509dafec-5858-452d-9947-b9dbc987edeb"
      },
      "source": [
        "# Print out the target values\n",
        "print(digits.target)\n",
        "Y=digits.target\n",
        "number_digits = len(np.unique(digits.target))\n",
        "print(number_digits)#得知所有的目標值有10個相異值"
      ],
      "execution_count": null,
      "outputs": [
        {
          "output_type": "stream",
          "text": [
            "[0 1 2 ... 8 9 8]\n",
            "10\n"
          ],
          "name": "stdout"
        }
      ]
    },
    {
      "cell_type": "code",
      "metadata": {
        "id": "eOZCMRSHJhUN"
      },
      "source": [
        "from sklearn.cluster import KMeans\n",
        "nb_clusters = [2, 3, 5, 6, 7, 8, 9, 10]\n",
        "inertias = []\n",
        "for n in nb_clusters:\n",
        "    km = KMeans(n_clusters=n)\n",
        "    km.fit(digits.data)\n",
        "    inertias.append(km.inertia_)\n"
      ],
      "execution_count": null,
      "outputs": []
    },
    {
      "cell_type": "code",
      "metadata": {
        "colab": {
          "base_uri": "https://localhost:8080/",
          "height": 282
        },
        "id": "R6hi6lprKod7",
        "outputId": "cd32701d-5978-4271-eb5d-6c7c5aad3ec4"
      },
      "source": [
        "from sklearn.metrics import silhouette_score\n",
        "import matplotlib.pyplot as plt \n",
        "avg_silhouettes = []\n",
        "for n in nb_clusters:\n",
        "    km = KMeans(n_clusters=n)\n",
        "    Yk = km.fit_predict(digits.data)\n",
        "    avg_silhouettes.append(silhouette_score(digits.data, Yk))\n",
        "plt.plot(nb_clusters, avg_silhouettes)"
      ],
      "execution_count": null,
      "outputs": [
        {
          "output_type": "execute_result",
          "data": {
            "text/plain": [
              "[<matplotlib.lines.Line2D at 0x7f4e385e4a20>]"
            ]
          },
          "metadata": {
            "tags": []
          },
          "execution_count": 5
        },
        {
          "output_type": "display_data",
          "data": {
            "image/png": "[encoded data removed]",
            "text/plain": [
              "<Figure size 432x288 with 1 Axes>"
            ]
          },
          "metadata": {
            "tags": [],
            "needs_background": "light"
          }
        }
      ]
    },
    {
      "cell_type": "code",
      "metadata": {
        "colab": {
          "base_uri": "https://localhost:8080/",
          "height": 584
        },
        "id": "hI6PHOktLtaP",
        "outputId": "c8f35131-515b-4f85-929a-135dd9838898"
      },
      "source": [
        "from sklearn.metrics import calinski_harabaz_score\n",
        "ch_scores = []\n",
        "for n in nb_clusters:\n",
        "    km = KMeans(n_clusters=n)\n",
        "    Yk = km.fit_predict(digits.data)\n",
        "    ch_scores.append(calinski_harabaz_score(digits.data, Yk))\n",
        "plt.plot(nb_clusters, ch_scores)"
      ],
      "execution_count": null,
      "outputs": [
        {
          "output_type": "stream",
          "text": [
            "/usr/local/lib/python3.6/dist-packages/sklearn/utils/deprecation.py:87: FutureWarning: Function calinski_harabaz_score is deprecated; Function 'calinski_harabaz_score' has been renamed to 'calinski_harabasz_score' and will be removed in version 0.23.\n",
            "  warnings.warn(msg, category=FutureWarning)\n",
            "/usr/local/lib/python3.6/dist-packages/sklearn/utils/deprecation.py:87: FutureWarning: Function calinski_harabaz_score is deprecated; Function 'calinski_harabaz_score' has been renamed to 'calinski_harabasz_score' and will be removed in version 0.23.\n",
            "  warnings.warn(msg, category=FutureWarning)\n",
            "/usr/local/lib/python3.6/dist-packages/sklearn/utils/deprecation.py:87: FutureWarning: Function calinski_harabaz_score is deprecated; Function 'calinski_harabaz_score' has been renamed to 'calinski_harabasz_score' and will be removed in version 0.23.\n",
            "  warnings.warn(msg, category=FutureWarning)\n",
            "/usr/local/lib/python3.6/dist-packages/sklearn/utils/deprecation.py:87: FutureWarning: Function calinski_harabaz_score is deprecated; Function 'calinski_harabaz_score' has been renamed to 'calinski_harabasz_score' and will be removed in version 0.23.\n",
            "  warnings.warn(msg, category=FutureWarning)\n",
            "/usr/local/lib/python3.6/dist-packages/sklearn/utils/deprecation.py:87: FutureWarning: Function calinski_harabaz_score is deprecated; Function 'calinski_harabaz_score' has been renamed to 'calinski_harabasz_score' and will be removed in version 0.23.\n",
            "  warnings.warn(msg, category=FutureWarning)\n",
            "/usr/local/lib/python3.6/dist-packages/sklearn/utils/deprecation.py:87: FutureWarning: Function calinski_harabaz_score is deprecated; Function 'calinski_harabaz_score' has been renamed to 'calinski_harabasz_score' and will be removed in version 0.23.\n",
            "  warnings.warn(msg, category=FutureWarning)\n",
            "/usr/local/lib/python3.6/dist-packages/sklearn/utils/deprecation.py:87: FutureWarning: Function calinski_harabaz_score is deprecated; Function 'calinski_harabaz_score' has been renamed to 'calinski_harabasz_score' and will be removed in version 0.23.\n",
            "  warnings.warn(msg, category=FutureWarning)\n",
            "/usr/local/lib/python3.6/dist-packages/sklearn/utils/deprecation.py:87: FutureWarning: Function calinski_harabaz_score is deprecated; Function 'calinski_harabaz_score' has been renamed to 'calinski_harabasz_score' and will be removed in version 0.23.\n",
            "  warnings.warn(msg, category=FutureWarning)\n"
          ],
          "name": "stderr"
        },
        {
          "output_type": "execute_result",
          "data": {
            "text/plain": [
              "[<matplotlib.lines.Line2D at 0x7f4e311855f8>]"
            ]
          },
          "metadata": {
            "tags": []
          },
          "execution_count": 6
        },
        {
          "output_type": "display_data",
          "data": {
            "image/png": "[encoded data removed]",
            "text/plain": [
              "<Figure size 432x288 with 1 Axes>"
            ]
          },
          "metadata": {
            "tags": [],
            "needs_background": "light"
          }
        }
      ]
    },
    {
      "cell_type": "code",
      "metadata": {
        "colab": {
          "base_uri": "https://localhost:8080/"
        },
        "id": "ece8_tjgLC8M",
        "outputId": "8580f84e-bd61-431d-ddc8-4915903f2a83"
      },
      "source": [
        "from sklearn.metrics import homogeneity_score\n",
        "from sklearn.cluster import KMeans\n",
        "from sklearn.metrics import completeness_score\n",
        "from sklearn.metrics import adjusted_rand_score\n",
        "km = KMeans(n_clusters=10)\n",
        "Yk = km.fit_predict(digits.data)\n",
        "print('KMeans')\n",
        "print('Homogeneity score:',homogeneity_score(Y, Yk))\n",
        "print('Completeness_score:',completeness_score(Y, Yk))\n",
        "print('Adjusted_rand_score:',adjusted_rand_score(Y, Yk))\n"
      ],
      "execution_count": null,
      "outputs": [
        {
          "output_type": "stream",
          "text": [
            "KMeans_homogeneity score: 0.7364793130062923\n",
            "KMeans_completeness_score: 0.7435437307079215\n",
            "KMeans_adjusted_rand_score: 0.6641872101826876\n"
          ],
          "name": "stdout"
        }
      ]
    },
    {
      "cell_type": "code",
      "metadata": {
        "colab": {
          "base_uri": "https://localhost:8080/"
        },
        "id": "eiFQvbDONOOU",
        "outputId": "e27eda8b-83f3-405e-c2dc-74b3cbdfec5f"
      },
      "source": [
        "from sklearn.cluster import DBSCAN\n",
        "dbs = DBSCAN(eps=0.1)\n",
        "Yp = dbs.fit_predict(digits.data)\n",
        "print('DBSCAN')\n",
        "print('Homogeneity score:',homogeneity_score(Y, Yp))\n",
        "print('Completeness_score:',completeness_score(Y, Yp))\n",
        "print('Adjusted_rand_score:',adjusted_rand_score(Y, Yp))"
      ],
      "execution_count": null,
      "outputs": [
        {
          "output_type": "stream",
          "text": [
            "DBSCAN\n",
            "Homogeneity score: 3.616394280070181e-17\n",
            "Completeness_score: 1.0\n",
            "Adjusted_rand_score: 0.0\n"
          ],
          "name": "stdout"
        }
      ]
    },
    {
      "cell_type": "code",
      "metadata": {
        "id": "gHsNm-dBPHHf",
        "colab": {
          "base_uri": "https://localhost:8080/"
        },
        "outputId": "762d2c4c-a1e6-49c9-be01-b9abaff427d6"
      },
      "source": [
        "from sklearn.cluster import SpectralClustering\n",
        "sc = SpectralClustering(n_clusters=10, affinity='nearest_neighbors')\n",
        "Ys = sc.fit_predict(digits.data)\n",
        "print('SpectralClustering')\n",
        "print('Homogeneity score:',homogeneity_score(Y, Ys))\n",
        "#print('calinski harabaz score:',calinski_harabaz_score(Y,Yk))\n",
        "print('Completeness_score:',completeness_score(Y, Ys))\n",
        "print('Adjusted_rand_score:',adjusted_rand_score(Y, Ys))"
      ],
      "execution_count": null,
      "outputs": [
        {
          "output_type": "stream",
          "text": [
            "SpectralClustering\n",
            "Homogeneity score: 0.8316906184695789\n",
            "Completeness_score: 0.8766144929016135\n",
            "Adjusted_rand_score: 0.7564608880380487\n"
          ],
          "name": "stdout"
        }
      ]
    },
    {
      "cell_type": "code",
      "metadata": {
        "id": "aD6oR2suorIl"
      },
      "source": [
        "from sklearn.cluster import AgglomerativeClustering\r\n",
        "# complete linkage\r\n",
        "ac = AgglomerativeClustering(n_clusters=10, linkage='complete')\r\n",
        "Y_ac = ac.fit_predict(digits.data)"
      ],
      "execution_count": null,
      "outputs": []
    },
    {
      "cell_type": "code",
      "metadata": {
        "id": "97yuGGado-Uc",
        "colab": {
          "base_uri": "https://localhost:8080/"
        },
        "outputId": "dc8ef683-43dc-4a5b-fed8-fedf7d982e2d"
      },
      "source": [
        "print('AgglomerativeClustering')\r\n",
        "print('Homogeneity_score::',homogeneity_score(Y, Y_ac))\r\n",
        "print('completeness_score:',completeness_score(Y, Y_ac))\r\n",
        "print('adjusted_rand_score:',adjusted_rand_score(Y, Y_ac))"
      ],
      "execution_count": null,
      "outputs": [
        {
          "output_type": "stream",
          "text": [
            "AgglomerativeClustering\n",
            "Homogeneity_score:: 0.5905493882538358\n",
            "completeness_score: 0.6377720419796353\n",
            "adjusted_rand_score: 0.4286888142937745\n"
          ],
          "name": "stdout"
        }
      ]
    },
    {
      "cell_type": "code",
      "metadata": {
        "id": "b95Vb7HKPyMM",
        "colab": {
          "base_uri": "https://localhost:8080/",
          "height": 406
        },
        "outputId": "e29852b1-064c-445b-d937-1d26bf40706e"
      },
      "source": [
        "from time import time\n",
        "import numpy as np\n",
        "import matplotlib.pyplot as plt\n",
        "\n",
        "from sklearn import metrics\n",
        "from sklearn.cluster import KMeans\n",
        "from sklearn.datasets import load_digits\n",
        "from sklearn.decomposition import PCA\n",
        "from sklearn.preprocessing import scale\n",
        "\n",
        "np.random.seed(42)\n",
        "\n",
        "X_digits, y_digits = load_digits(return_X_y=True)\n",
        "data = scale(X_digits)\n",
        "\n",
        "n_samples, n_features = data.shape\n",
        "n_digits = len(np.unique(y_digits))\n",
        "labels = y_digits\n",
        "\n",
        "sample_size = 300\n",
        "\n",
        "print(\"n_digits: %d, \\t n_samples %d, \\t n_features %d\"\n",
        "      % (n_digits, n_samples, n_features))\n",
        "\n",
        "\n",
        "print(82 * '_')\n",
        "print('init\\t\\ttime\\tinertia\\thomo\\tcompl\\tv-meas\\tARI\\tAMI\\tsilhouette')\n",
        "\n",
        "\n",
        "def bench_k_means(estimator, name, data):\n",
        "    t0 = time()\n",
        "    estimator.fit(data)\n",
        "    print('%-9s\\t%.2fs\\t%i\\t%.3f\\t%.3f\\t%.3f\\t%.3f\\t%.3f\\t%.3f'\n",
        "          % (name, (time() - t0), estimator.inertia_,\n",
        "             metrics.homogeneity_score(labels, estimator.labels_),\n",
        "             metrics.completeness_score(labels, estimator.labels_),\n",
        "             metrics.v_measure_score(labels, estimator.labels_),\n",
        "             metrics.adjusted_rand_score(labels, estimator.labels_),\n",
        "             metrics.adjusted_mutual_info_score(labels,  estimator.labels_),\n",
        "             metrics.silhouette_score(data, estimator.labels_,\n",
        "                                      metric='euclidean',\n",
        "                                      sample_size=sample_size)))\n",
        "\n",
        "bench_k_means(KMeans(init='k-means++', n_clusters=n_digits, n_init=10),\n",
        "              name=\"k-means++\", data=data)\n",
        "\n",
        "bench_k_means(KMeans(init='random', n_clusters=n_digits, n_init=10),\n",
        "              name=\"random\", data=data)\n",
        "\n",
        "# in this case the seeding of the centers is deterministic, hence we run the\n",
        "# kmeans algorithm only once with n_init=1\n",
        "pca = PCA(n_components=n_digits).fit(data)\n",
        "bench_k_means(KMeans(init=pca.components_, n_clusters=n_digits, n_init=1),\n",
        "              name=\"PCA-based\",\n",
        "              data=data)\n",
        "print(82 * '_')\n",
        "\n",
        "# #############################################################################\n",
        "# Visualize the results on PCA-reduced data\n",
        "\n",
        "reduced_data = PCA(n_components=2).fit_transform(data)\n",
        "kmeans = KMeans(init='k-means++', n_clusters=n_digits, n_init=10)\n",
        "kmeans.fit(reduced_data)\n",
        "\n",
        "# Step size of the mesh. Decrease to increase the quality of the VQ.\n",
        "h = .02     # point in the mesh [x_min, x_max]x[y_min, y_max].\n",
        "\n",
        "# Plot the decision boundary. For that, we will assign a color to each\n",
        "x_min, x_max = reduced_data[:, 0].min() - 1, reduced_data[:, 0].max() + 1\n",
        "y_min, y_max = reduced_data[:, 1].min() - 1, reduced_data[:, 1].max() + 1\n",
        "xx, yy = np.meshgrid(np.arange(x_min, x_max, h), np.arange(y_min, y_max, h))\n",
        "\n",
        "# Obtain labels for each point in mesh. Use last trained model.\n",
        "Z = kmeans.predict(np.c_[xx.ravel(), yy.ravel()])\n",
        "\n",
        "# Put the result into a color plot\n",
        "Z = Z.reshape(xx.shape)\n",
        "plt.figure(1)\n",
        "plt.clf()\n",
        "plt.imshow(Z, interpolation='nearest',\n",
        "           extent=(xx.min(), xx.max(), yy.min(), yy.max()),\n",
        "           cmap=plt.cm.Paired,\n",
        "           aspect='auto', origin='lower')\n",
        "\n",
        "plt.plot(reduced_data[:, 0], reduced_data[:, 1], 'k.', markersize=2)\n",
        "# Plot the centroids as a white X\n",
        "centroids = kmeans.cluster_centers_\n",
        "plt.scatter(centroids[:, 0], centroids[:, 1],\n",
        "            marker='x', s=169, linewidths=3,\n",
        "            color='w', zorder=10)\n",
        "plt.title('K-means clustering on the digits dataset (PCA-reduced data)\\n'\n",
        "          'Centroids are marked with white cross')\n",
        "plt.xlim(x_min, x_max)\n",
        "plt.ylim(y_min, y_max)\n",
        "plt.xticks(())\n",
        "plt.yticks(())\n",
        "plt.show()"
      ],
      "execution_count": null,
      "outputs": [
        {
          "output_type": "stream",
          "text": [
            "n_digits: 10, \t n_samples 1797, \t n_features 64\n",
            "__________________________________________________________________________________\n",
            "init\t\ttime\tinertia\thomo\tcompl\tv-meas\tARI\tAMI\tsilhouette\n",
            "k-means++\t0.38s\t69510\t0.610\t0.657\t0.633\t0.481\t0.629\t0.129\n",
            "random   \t0.29s\t69907\t0.633\t0.674\t0.653\t0.518\t0.649\t0.131\n",
            "PCA-based\t0.05s\t70768\t0.668\t0.695\t0.681\t0.558\t0.678\t0.142\n",
            "__________________________________________________________________________________\n"
          ],
          "name": "stdout"
        },
        {
          "output_type": "display_data",
          "data": {
            "image/png": "[encoded data removed]",
            "text/plain": [
              "<Figure size 432x288 with 1 Axes>"
            ]
          },
          "metadata": {
            "tags": []
          }
        }
      ]
    }
  ]
}