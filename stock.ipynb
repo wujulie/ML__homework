{
  "nbformat": 4,
  "nbformat_minor": 0,
  "metadata": {
    "accelerator": "GPU",
    "colab": {
      "name": "stock.ipynb",
      "provenance": [],
      "mount_file_id": "17GFbraxwcRGdIaqBW2R-ii4zW79ENvbG",
      "authorship_tag": "ABX9TyPE+ZZRoiy/XhCJ7FV2cm50",
      "include_colab_link": true
    },
    "kernelspec": {
      "display_name": "Python 3",
      "name": "python3"
    },
    "widgets": {
      "application/vnd.jupyter.widget-state+json": {
        "636edede7b884bc6a67659a042dae6ef": {
          "model_module": "@jupyter-widgets/controls",
          "model_name": "HBoxModel",
          "state": {
            "_view_name": "HBoxView",
            "_dom_classes": [],
            "_model_name": "HBoxModel",
            "_view_module": "@jupyter-widgets/controls",
            "_model_module_version": "1.5.0",
            "_view_count": null,
            "_view_module_version": "1.5.0",
            "box_style": "",
            "layout": "IPY_MODEL_15eb3e61372a4c9fac87297aaa091e17",
            "_model_module": "@jupyter-widgets/controls",
            "children": [
              "IPY_MODEL_d72e1634fa244929970ee00e512cce53",
              "IPY_MODEL_74776266bfad4d07905faf098d538081"
            ]
          }
        },
        "15eb3e61372a4c9fac87297aaa091e17": {
          "model_module": "@jupyter-widgets/base",
          "model_name": "LayoutModel",
          "state": {
            "_view_name": "LayoutView",
            "grid_template_rows": null,
            "right": null,
            "justify_content": null,
            "_view_module": "@jupyter-widgets/base",
            "overflow": null,
            "_model_module_version": "1.2.0",
            "_view_count": null,
            "flex_flow": null,
            "width": null,
            "min_width": null,
            "border": null,
            "align_items": null,
            "bottom": null,
            "_model_module": "@jupyter-widgets/base",
            "top": null,
            "grid_column": null,
            "overflow_y": null,
            "overflow_x": null,
            "grid_auto_flow": null,
            "grid_area": null,
            "grid_template_columns": null,
            "flex": null,
            "_model_name": "LayoutModel",
            "justify_items": null,
            "grid_row": null,
            "max_height": null,
            "align_content": null,
            "visibility": null,
            "align_self": null,
            "height": null,
            "min_height": null,
            "padding": null,
            "grid_auto_rows": null,
            "grid_gap": null,
            "max_width": null,
            "order": null,
            "_view_module_version": "1.2.0",
            "grid_template_areas": null,
            "object_position": null,
            "object_fit": null,
            "grid_auto_columns": null,
            "margin": null,
            "display": null,
            "left": null
          }
        },
        "d72e1634fa244929970ee00e512cce53": {
          "model_module": "@jupyter-widgets/controls",
          "model_name": "FloatProgressModel",
          "state": {
            "_view_name": "ProgressView",
            "style": "IPY_MODEL_771aa501893f453586cec11d7e4e42f2",
            "_dom_classes": [],
            "description": "100%",
            "_model_name": "FloatProgressModel",
            "bar_style": "success",
            "max": 2687,
            "_view_module": "@jupyter-widgets/controls",
            "_model_module_version": "1.5.0",
            "value": 2687,
            "_view_count": null,
            "_view_module_version": "1.5.0",
            "orientation": "horizontal",
            "min": 0,
            "description_tooltip": null,
            "_model_module": "@jupyter-widgets/controls",
            "layout": "IPY_MODEL_a6c1cf9fa039423aa6890050c8cec860"
          }
        },
        "74776266bfad4d07905faf098d538081": {
          "model_module": "@jupyter-widgets/controls",
          "model_name": "HTMLModel",
          "state": {
            "_view_name": "HTMLView",
            "style": "IPY_MODEL_9b4ed4c2beda4950b222285c40104f01",
            "_dom_classes": [],
            "description": "",
            "_model_name": "HTMLModel",
            "placeholder": "​",
            "_view_module": "@jupyter-widgets/controls",
            "_model_module_version": "1.5.0",
            "value": " 2687/2687 [00:01&lt;00:00, 2121.86it/s]",
            "_view_count": null,
            "_view_module_version": "1.5.0",
            "description_tooltip": null,
            "_model_module": "@jupyter-widgets/controls",
            "layout": "IPY_MODEL_82228d7b19cf450f8c0865645f6b8441"
          }
        },
        "771aa501893f453586cec11d7e4e42f2": {
          "model_module": "@jupyter-widgets/controls",
          "model_name": "ProgressStyleModel",
          "state": {
            "_view_name": "StyleView",
            "_model_name": "ProgressStyleModel",
            "description_width": "initial",
            "_view_module": "@jupyter-widgets/base",
            "_model_module_version": "1.5.0",
            "_view_count": null,
            "_view_module_version": "1.2.0",
            "bar_color": null,
            "_model_module": "@jupyter-widgets/controls"
          }
        },
        "a6c1cf9fa039423aa6890050c8cec860": {
          "model_module": "@jupyter-widgets/base",
          "model_name": "LayoutModel",
          "state": {
            "_view_name": "LayoutView",
            "grid_template_rows": null,
            "right": null,
            "justify_content": null,
            "_view_module": "@jupyter-widgets/base",
            "overflow": null,
            "_model_module_version": "1.2.0",
            "_view_count": null,
            "flex_flow": null,
            "width": null,
            "min_width": null,
            "border": null,
            "align_items": null,
            "bottom": null,
            "_model_module": "@jupyter-widgets/base",
            "top": null,
            "grid_column": null,
            "overflow_y": null,
            "overflow_x": null,
            "grid_auto_flow": null,
            "grid_area": null,
            "grid_template_columns": null,
            "flex": null,
            "_model_name": "LayoutModel",
            "justify_items": null,
            "grid_row": null,
            "max_height": null,
            "align_content": null,
            "visibility": null,
            "align_self": null,
            "height": null,
            "min_height": null,
            "padding": null,
            "grid_auto_rows": null,
            "grid_gap": null,
            "max_width": null,
            "order": null,
            "_view_module_version": "1.2.0",
            "grid_template_areas": null,
            "object_position": null,
            "object_fit": null,
            "grid_auto_columns": null,
            "margin": null,
            "display": null,
            "left": null
          }
        },
        "9b4ed4c2beda4950b222285c40104f01": {
          "model_module": "@jupyter-widgets/controls",
          "model_name": "DescriptionStyleModel",
          "state": {
            "_view_name": "StyleView",
            "_model_name": "DescriptionStyleModel",
            "description_width": "",
            "_view_module": "@jupyter-widgets/base",
            "_model_module_version": "1.5.0",
            "_view_count": null,
            "_view_module_version": "1.2.0",
            "_model_module": "@jupyter-widgets/controls"
          }
        },
        "82228d7b19cf450f8c0865645f6b8441": {
          "model_module": "@jupyter-widgets/base",
          "model_name": "LayoutModel",
          "state": {
            "_view_name": "LayoutView",
            "grid_template_rows": null,
            "right": null,
            "justify_content": null,
            "_view_module": "@jupyter-widgets/base",
            "overflow": null,
            "_model_module_version": "1.2.0",
            "_view_count": null,
            "flex_flow": null,
            "width": null,
            "min_width": null,
            "border": null,
            "align_items": null,
            "bottom": null,
            "_model_module": "@jupyter-widgets/base",
            "top": null,
            "grid_column": null,
            "overflow_y": null,
            "overflow_x": null,
            "grid_auto_flow": null,
            "grid_area": null,
            "grid_template_columns": null,
            "flex": null,
            "_model_name": "LayoutModel",
            "justify_items": null,
            "grid_row": null,
            "max_height": null,
            "align_content": null,
            "visibility": null,
            "align_self": null,
            "height": null,
            "min_height": null,
            "padding": null,
            "grid_auto_rows": null,
            "grid_gap": null,
            "max_width": null,
            "order": null,
            "_view_module_version": "1.2.0",
            "grid_template_areas": null,
            "object_position": null,
            "object_fit": null,
            "grid_auto_columns": null,
            "margin": null,
            "display": null,
            "left": null
          }
        }
      }
    }
  },
  "cells": [
    {
      "cell_type": "markdown",
      "metadata": {
        "id": "view-in-github",
        "colab_type": "text"
      },
      "source": [
        "<a href=\"https://colab.research.google.com/github/wujulie/ML__homework/blob/main/stock.ipynb\" target=\"_parent\"><img src=\"https://colab.research.google.com/assets/colab-badge.svg\" alt=\"Open In Colab\"/></a>"
      ]
    },
    {
      "cell_type": "code",
      "metadata": {
        "id": "e6eCe1IvTIkT"
      },
      "source": [
        "from sklearn.metrics import classification_report\r\n",
        "from sklearn.utils import shuffle\r\n",
        "import numpy as np \r\n",
        "import pandas as pd \r\n",
        "from sklearn.model_selection import cross_val_score\r\n",
        "import keras \r\n",
        "from keras.models import Sequential\r\n",
        "from keras.layers import Dense, Dropout,Activation ,Flatten\r\n",
        "from keras.utils import np_utils\r\n",
        "from keras.utils import to_categorical \r\n",
        "from keras.layers import LSTM\r\n",
        "from keras.optimizers import RMSprop\r\n",
        "import pandas_datareader.data as web\r\n",
        "import datetime\r\n",
        "start=datetime.datetime(2010,1,1)\r\n",
        "end=datetime.datetime(2020,12,15)\r\n",
        "number='2330'\r\n",
        "df=web.DataReader(number+'.TW','yahoo',start,end)\r\n",
        "df.tail(5)\r\n",
        "\r\n",
        "df.to_csv('stock.csv')"
      ],
      "execution_count": 1,
      "outputs": []
    },
    {
      "cell_type": "code",
      "metadata": {
        "colab": {
          "base_uri": "https://localhost:8080/"
        },
        "id": "swtVUc82Mkld",
        "outputId": "78ac456e-9085-4323-80d7-132984f6a535"
      },
      "source": [
        "df=df[['Open','Low','High','Volume','Close']]\r\n",
        "df.shape"
      ],
      "execution_count": 2,
      "outputs": [
        {
          "output_type": "execute_result",
          "data": {
            "text/plain": [
              "(2690, 5)"
            ]
          },
          "metadata": {
            "tags": []
          },
          "execution_count": 2
        }
      ]
    },
    {
      "cell_type": "code",
      "metadata": {
        "colab": {
          "base_uri": "https://localhost:8080/",
          "height": 286
        },
        "id": "SXLYPV9xM4cK",
        "outputId": "f29582a8-1c7a-44de-832f-991e4855fdef"
      },
      "source": [
        "df.Close.plot()"
      ],
      "execution_count": 3,
      "outputs": [
        {
          "output_type": "execute_result",
          "data": {
            "text/plain": [
              "<matplotlib.axes._subplots.AxesSubplot at 0x7f58021b25c0>"
            ]
          },
          "metadata": {
            "tags": []
          },
          "execution_count": 3
        },
        {
          "output_type": "display_data",
          "data": {
            "image/png": "[encoded data removed]",
            "text/plain": [
              "<Figure size 432x288 with 1 Axes>"
            ]
          },
          "metadata": {
            "tags": [],
            "needs_background": "light"
          }
        }
      ]
    },
    {
      "cell_type": "code",
      "metadata": {
        "id": "_yssmWESHCKn"
      },
      "source": [
        "n=1\r\n",
        "df['return']=df['Close'].shift(-n)-df['Close']\r\n",
        "df.tail()\r\n",
        "df.to_csv('test.csv')"
      ],
      "execution_count": 17,
      "outputs": []
    },
    {
      "cell_type": "code",
      "metadata": {
        "colab": {
          "base_uri": "https://localhost:8080/",
          "height": 235
        },
        "id": "PRHHSR4hYPzN",
        "outputId": "39df860e-67b0-42d8-cb58-39726d6cb2d5"
      },
      "source": [
        "from sklearn.preprocessing import  StandardScaler\r\n",
        "ss=StandardScaler()\r\n",
        "df_scaled=ss.fit_transform(df)\r\n",
        "df_scaled=pd.DataFrame(df_scaled,index=df.index,columns=df.columns)\r\n",
        "df_scaled['return']=df['return']\r\n",
        "df_scaled.tail()  "
      ],
      "execution_count": 5,
      "outputs": [
        {
          "output_type": "execute_result",
          "data": {
            "text/html": [
              "<div>\n",
              "<style scoped>\n",
              "    .dataframe tbody tr th:only-of-type {\n",
              "        vertical-align: middle;\n",
              "    }\n",
              "\n",
              "    .dataframe tbody tr th {\n",
              "        vertical-align: top;\n",
              "    }\n",
              "\n",
              "    .dataframe thead th {\n",
              "        text-align: right;\n",
              "    }\n",
              "</style>\n",
              "<table border=\"1\" class=\"dataframe\">\n",
              "  <thead>\n",
              "    <tr style=\"text-align: right;\">\n",
              "      <th></th>\n",
              "      <th>Open</th>\n",
              "      <th>Low</th>\n",
              "      <th>High</th>\n",
              "      <th>Volume</th>\n",
              "      <th>Close</th>\n",
              "      <th>return</th>\n",
              "    </tr>\n",
              "    <tr>\n",
              "      <th>Date</th>\n",
              "      <th></th>\n",
              "      <th></th>\n",
              "      <th></th>\n",
              "      <th></th>\n",
              "      <th></th>\n",
              "      <th></th>\n",
              "    </tr>\n",
              "  </thead>\n",
              "  <tbody>\n",
              "    <tr>\n",
              "      <th>2020-12-10</th>\n",
              "      <td>3.671663</td>\n",
              "      <td>3.707361</td>\n",
              "      <td>3.676731</td>\n",
              "      <td>0.265490</td>\n",
              "      <td>3.686440</td>\n",
              "      <td>4.0</td>\n",
              "    </tr>\n",
              "    <tr>\n",
              "      <th>2020-12-11</th>\n",
              "      <td>3.735372</td>\n",
              "      <td>3.653807</td>\n",
              "      <td>3.697825</td>\n",
              "      <td>0.428151</td>\n",
              "      <td>3.728959</td>\n",
              "      <td>-8.0</td>\n",
              "    </tr>\n",
              "    <tr>\n",
              "      <th>2020-12-14</th>\n",
              "      <td>3.682281</td>\n",
              "      <td>3.685940</td>\n",
              "      <td>3.655638</td>\n",
              "      <td>-0.378882</td>\n",
              "      <td>3.643921</td>\n",
              "      <td>-4.0</td>\n",
              "    </tr>\n",
              "    <tr>\n",
              "      <th>2020-12-15</th>\n",
              "      <td>3.629189</td>\n",
              "      <td>3.643096</td>\n",
              "      <td>3.623997</td>\n",
              "      <td>0.123763</td>\n",
              "      <td>3.601401</td>\n",
              "      <td>8.0</td>\n",
              "    </tr>\n",
              "    <tr>\n",
              "      <th>2020-12-16</th>\n",
              "      <td>3.650426</td>\n",
              "      <td>3.675229</td>\n",
              "      <td>3.676731</td>\n",
              "      <td>0.760984</td>\n",
              "      <td>3.686440</td>\n",
              "      <td>NaN</td>\n",
              "    </tr>\n",
              "  </tbody>\n",
              "</table>\n",
              "</div>"
            ],
            "text/plain": [
              "                Open       Low      High    Volume     Close  return\n",
              "Date                                                                \n",
              "2020-12-10  3.671663  3.707361  3.676731  0.265490  3.686440     4.0\n",
              "2020-12-11  3.735372  3.653807  3.697825  0.428151  3.728959    -8.0\n",
              "2020-12-14  3.682281  3.685940  3.655638 -0.378882  3.643921    -4.0\n",
              "2020-12-15  3.629189  3.643096  3.623997  0.123763  3.601401     8.0\n",
              "2020-12-16  3.650426  3.675229  3.676731  0.760984  3.686440     NaN"
            ]
          },
          "metadata": {
            "tags": []
          },
          "execution_count": 5
        }
      ]
    },
    {
      "cell_type": "code",
      "metadata": {
        "colab": {
          "base_uri": "https://localhost:8080/",
          "height": 35
        },
        "id": "nCc9teT_UaFH",
        "outputId": "ca122d48-e2a0-47c5-e50a-812f2cabddf9"
      },
      "source": [
        "'''y=pd.DataFrame(df[['return']])\n",
        "y[y <= 0] = 0\t\t  #將小於等於0的資料改為0\t\n",
        "y[y > 0 ]=1\n",
        "print(y)'''\n"
      ],
      "execution_count": 6,
      "outputs": [
        {
          "output_type": "execute_result",
          "data": {
            "application/vnd.google.colaboratory.intrinsic+json": {
              "type": "string"
            },
            "text/plain": [
              "\"y=pd.DataFrame(df[['return']])\\ny[y <= 0] = 0\\t\\t  #將小於等於0的資料改為0\\t\\ny[y > 0 ]=1\\nprint(y)\""
            ]
          },
          "metadata": {
            "tags": []
          },
          "execution_count": 6
        }
      ]
    },
    {
      "cell_type": "code",
      "metadata": {
        "colab": {
          "base_uri": "https://localhost:8080/",
          "height": 137,
          "referenced_widgets": [
            "636edede7b884bc6a67659a042dae6ef",
            "15eb3e61372a4c9fac87297aaa091e17",
            "d72e1634fa244929970ee00e512cce53",
            "74776266bfad4d07905faf098d538081",
            "771aa501893f453586cec11d7e4e42f2",
            "a6c1cf9fa039423aa6890050c8cec860",
            "9b4ed4c2beda4950b222285c40104f01",
            "82228d7b19cf450f8c0865645f6b8441"
          ]
        },
        "id": "yBfgxhwqZIYK",
        "outputId": "0905ba5d-ae29-4a84-8531-72a8a44802f4"
      },
      "source": [
        "import tqdm\r\n",
        "n=3\r\n",
        "feature_names=list(df_scaled.drop('return',axis=1).columns)\r\n",
        "X=[]\r\n",
        "y=[]\r\n",
        "indexes=[]\r\n",
        "df_scaled_x=df_scaled[feature_names]\r\n",
        "for i in tqdm.tqdm_notebook(range(0,len(df_scaled)-n)):#len(df_scaled)-n\r\n",
        "  X.append(df_scaled_x.iloc[i:i+n].values)\r\n",
        "  y.append(df_scaled['return'].iloc[i+n-1])\r\n",
        "  indexes.append(df_scaled.index[i+n-1])"
      ],
      "execution_count": 7,
      "outputs": [
        {
          "output_type": "stream",
          "text": [
            "/usr/local/lib/python3.6/dist-packages/ipykernel_launcher.py:8: TqdmDeprecationWarning: This function will be removed in tqdm==5.0.0\n",
            "Please use `tqdm.notebook.tqdm` instead of `tqdm.tqdm_notebook`\n",
            "  \n"
          ],
          "name": "stderr"
        },
        {
          "output_type": "display_data",
          "data": {
            "application/vnd.jupyter.widget-view+json": {
              "model_id": "636edede7b884bc6a67659a042dae6ef",
              "version_minor": 0,
              "version_major": 2
            },
            "text/plain": [
              "HBox(children=(FloatProgress(value=0.0, max=2687.0), HTML(value='')))"
            ]
          },
          "metadata": {
            "tags": []
          }
        },
        {
          "output_type": "stream",
          "text": [
            "\n"
          ],
          "name": "stdout"
        }
      ]
    },
    {
      "cell_type": "code",
      "metadata": {
        "id": "A4Zd3o4rRDx3"
      },
      "source": [
        ""
      ],
      "execution_count": 7,
      "outputs": []
    },
    {
      "cell_type": "code",
      "metadata": {
        "colab": {
          "base_uri": "https://localhost:8080/"
        },
        "id": "VSJ2IjuiZOp8",
        "outputId": "cc4dbce2-113b-4f3f-e4f3-fc0e53278c03"
      },
      "source": [
        "print(indexes)\r\n",
        "print(type(indexes))\r\n",
        "print(indexes[1725])"
      ],
      "execution_count": 8,
      "outputs": [
        {
          "output_type": "stream",
          "text": [
            "[Timestamp('2010-01-06 00:00:00'), Timestamp('2010-01-07 00:00:00'), Timestamp('2010-01-08 00:00:00'), Timestamp('2010-01-11 00:00:00'), Timestamp('2010-01-12 00:00:00'), Timestamp('2010-01-13 00:00:00'), Timestamp('2010-01-14 00:00:00'), Timestamp('2010-01-15 00:00:00'), Timestamp('2010-01-18 00:00:00'), Timestamp('2010-01-19 00:00:00'), Timestamp('2010-01-20 00:00:00'), Timestamp('2010-01-21 00:00:00'), Timestamp('2010-01-22 00:00:00'), Timestamp('2010-01-25 00:00:00'), Timestamp('2010-01-26 00:00:00'), Timestamp('2010-01-27 00:00:00'), Timestamp('2010-01-28 00:00:00'), Timestamp('2010-01-29 00:00:00'), Timestamp('2010-02-01 00:00:00'), Timestamp('2010-02-02 00:00:00'), Timestamp('2010-02-03 00:00:00'), Timestamp('2010-02-04 00:00:00'), Timestamp('2010-02-05 00:00:00'), Timestamp('2010-02-08 00:00:00'), Timestamp('2010-02-09 00:00:00'), Timestamp('2010-02-10 00:00:00'), Timestamp('2010-02-22 00:00:00'), Timestamp('2010-02-23 00:00:00'), Timestamp('2010-02-24 00:00:00'), Timestamp('2010-02-25 00:00:00'), Timestamp('2010-02-26 00:00:00'), Timestamp('2010-03-01 00:00:00'), Timestamp('2010-03-02 00:00:00'), Timestamp('2010-03-03 00:00:00'), Timestamp('2010-03-04 00:00:00'), Timestamp('2010-03-05 00:00:00'), Timestamp('2010-03-08 00:00:00'), Timestamp('2010-03-09 00:00:00'), Timestamp('2010-03-10 00:00:00'), Timestamp('2010-03-11 00:00:00'), Timestamp('2010-03-12 00:00:00'), Timestamp('2010-03-15 00:00:00'), Timestamp('2010-03-16 00:00:00'), Timestamp('2010-03-17 00:00:00'), Timestamp('2010-03-18 00:00:00'), Timestamp('2010-03-19 00:00:00'), Timestamp('2010-03-22 00:00:00'), Timestamp('2010-03-23 00:00:00'), Timestamp('2010-03-24 00:00:00'), Timestamp('2010-03-25 00:00:00'), Timestamp('2010-03-26 00:00:00'), Timestamp('2010-03-29 00:00:00'), Timestamp('2010-03-30 00:00:00'), Timestamp('2010-03-31 00:00:00'), Timestamp('2010-04-01 00:00:00'), Timestamp('2010-04-02 00:00:00'), Timestamp('2010-04-06 00:00:00'), Timestamp('2010-04-07 00:00:00'), Timestamp('2010-04-08 00:00:00'), Timestamp('2010-04-09 00:00:00'), Timestamp('2010-04-12 00:00:00'), Timestamp('2010-04-13 00:00:00'), Timestamp('2010-04-14 00:00:00'), Timestamp('2010-04-15 00:00:00'), Timestamp('2010-04-16 00:00:00'), Timestamp('2010-04-19 00:00:00'), Timestamp('2010-04-20 00:00:00'), Timestamp('2010-04-21 00:00:00'), Timestamp('2010-04-22 00:00:00'), Timestamp('2010-04-23 00:00:00'), Timestamp('2010-04-26 00:00:00'), Timestamp('2010-04-27 00:00:00'), Timestamp('2010-04-28 00:00:00'), Timestamp('2010-04-29 00:00:00'), Timestamp('2010-04-30 00:00:00'), Timestamp('2010-05-03 00:00:00'), Timestamp('2010-05-04 00:00:00'), Timestamp('2010-05-05 00:00:00'), Timestamp('2010-05-06 00:00:00'), Timestamp('2010-05-07 00:00:00'), Timestamp('2010-05-10 00:00:00'), Timestamp('2010-05-11 00:00:00'), Timestamp('2010-05-12 00:00:00'), Timestamp('2010-05-13 00:00:00'), Timestamp('2010-05-14 00:00:00'), Timestamp('2010-05-17 00:00:00'), Timestamp('2010-05-18 00:00:00'), Timestamp('2010-05-19 00:00:00'), Timestamp('2010-05-20 00:00:00'), Timestamp('2010-05-21 00:00:00'), Timestamp('2010-05-24 00:00:00'), Timestamp('2010-05-25 00:00:00'), Timestamp('2010-05-26 00:00:00'), Timestamp('2010-05-27 00:00:00'), Timestamp('2010-05-28 00:00:00'), Timestamp('2010-05-31 00:00:00'), Timestamp('2010-06-01 00:00:00'), Timestamp('2010-06-02 00:00:00'), Timestamp('2010-06-03 00:00:00'), Timestamp('2010-06-04 00:00:00'), Timestamp('2010-06-07 00:00:00'), Timestamp('2010-06-08 00:00:00'), Timestamp('2010-06-09 00:00:00'), Timestamp('2010-06-10 00:00:00'), Timestamp('2010-06-11 00:00:00'), Timestamp('2010-06-14 00:00:00'), Timestamp('2010-06-15 00:00:00'), Timestamp('2010-06-17 00:00:00'), Timestamp('2010-06-18 00:00:00'), Timestamp('2010-06-21 00:00:00'), Timestamp('2010-06-22 00:00:00'), Timestamp('2010-06-23 00:00:00'), Timestamp('2010-06-24 00:00:00'), Timestamp('2010-06-25 00:00:00'), Timestamp('2010-06-28 00:00:00'), Timestamp('2010-06-29 00:00:00'), Timestamp('2010-06-30 00:00:00'), Timestamp('2010-07-01 00:00:00'), Timestamp('2010-07-02 00:00:00'), Timestamp('2010-07-05 00:00:00'), Timestamp('2010-07-06 00:00:00'), Timestamp('2010-07-07 00:00:00'), Timestamp('2010-07-08 00:00:00'), Timestamp('2010-07-09 00:00:00'), Timestamp('2010-07-12 00:00:00'), Timestamp('2010-07-13 00:00:00'), Timestamp('2010-07-14 00:00:00'), Timestamp('2010-07-15 00:00:00'), Timestamp('2010-07-16 00:00:00'), Timestamp('2010-07-19 00:00:00'), Timestamp('2010-07-20 00:00:00'), Timestamp('2010-07-21 00:00:00'), Timestamp('2010-07-22 00:00:00'), Timestamp('2010-07-23 00:00:00'), Timestamp('2010-07-26 00:00:00'), Timestamp('2010-07-27 00:00:00'), Timestamp('2010-07-28 00:00:00'), Timestamp('2010-07-29 00:00:00'), Timestamp('2010-07-30 00:00:00'), Timestamp('2010-08-02 00:00:00'), Timestamp('2010-08-03 00:00:00'), Timestamp('2010-08-04 00:00:00'), Timestamp('2010-08-05 00:00:00'), Timestamp('2010-08-06 00:00:00'), Timestamp('2010-08-09 00:00:00'), Timestamp('2010-08-10 00:00:00'), Timestamp('2010-08-11 00:00:00'), Timestamp('2010-08-12 00:00:00'), Timestamp('2010-08-13 00:00:00'), Timestamp('2010-08-16 00:00:00'), Timestamp('2010-08-17 00:00:00'), Timestamp('2010-08-18 00:00:00'), Timestamp('2010-08-19 00:00:00'), Timestamp('2010-08-20 00:00:00'), Timestamp('2010-08-23 00:00:00'), Timestamp('2010-08-24 00:00:00'), Timestamp('2010-08-25 00:00:00'), Timestamp('2010-08-26 00:00:00'), Timestamp('2010-08-27 00:00:00'), Timestamp('2010-08-30 00:00:00'), Timestamp('2010-08-31 00:00:00'), Timestamp('2010-09-01 00:00:00'), Timestamp('2010-09-02 00:00:00'), Timestamp('2010-09-03 00:00:00'), Timestamp('2010-09-06 00:00:00'), Timestamp('2010-09-07 00:00:00'), Timestamp('2010-09-08 00:00:00'), Timestamp('2010-09-09 00:00:00'), Timestamp('2010-09-10 00:00:00'), Timestamp('2010-09-13 00:00:00'), Timestamp('2010-09-14 00:00:00'), Timestamp('2010-09-15 00:00:00'), Timestamp('2010-09-16 00:00:00'), Timestamp('2010-09-17 00:00:00'), Timestamp('2010-09-20 00:00:00'), Timestamp('2010-09-21 00:00:00'), Timestamp('2010-09-23 00:00:00'), Timestamp('2010-09-24 00:00:00'), Timestamp('2010-09-27 00:00:00'), Timestamp('2010-09-28 00:00:00'), Timestamp('2010-09-29 00:00:00'), Timestamp('2010-09-30 00:00:00'), Timestamp('2010-10-01 00:00:00'), Timestamp('2010-10-04 00:00:00'), Timestamp('2010-10-05 00:00:00'), Timestamp('2010-10-06 00:00:00'), Timestamp('2010-10-07 00:00:00'), Timestamp('2010-10-08 00:00:00'), Timestamp('2010-10-11 00:00:00'), Timestamp('2010-10-12 00:00:00'), Timestamp('2010-10-13 00:00:00'), Timestamp('2010-10-14 00:00:00'), Timestamp('2010-10-15 00:00:00'), Timestamp('2010-10-18 00:00:00'), Timestamp('2010-10-19 00:00:00'), Timestamp('2010-10-20 00:00:00'), Timestamp('2010-10-21 00:00:00'), Timestamp('2010-10-22 00:00:00'), Timestamp('2010-10-25 00:00:00'), Timestamp('2010-10-26 00:00:00'), Timestamp('2010-10-27 00:00:00'), Timestamp('2010-10-28 00:00:00'), Timestamp('2010-10-29 00:00:00'), Timestamp('2010-11-01 00:00:00'), Timestamp('2010-11-02 00:00:00'), Timestamp('2010-11-03 00:00:00'), Timestamp('2010-11-04 00:00:00'), Timestamp('2010-11-05 00:00:00'), Timestamp('2010-11-08 00:00:00'), Timestamp('2010-11-09 00:00:00'), Timestamp('2010-11-10 00:00:00'), Timestamp('2010-11-11 00:00:00'), Timestamp('2010-11-12 00:00:00'), Timestamp('2010-11-15 00:00:00'), Timestamp('2010-11-16 00:00:00'), Timestamp('2010-11-17 00:00:00'), Timestamp('2010-11-18 00:00:00'), Timestamp('2010-11-19 00:00:00'), Timestamp('2010-11-22 00:00:00'), Timestamp('2010-11-23 00:00:00'), Timestamp('2010-11-24 00:00:00'), Timestamp('2010-11-25 00:00:00'), Timestamp('2010-11-26 00:00:00'), Timestamp('2010-11-29 00:00:00'), Timestamp('2010-11-30 00:00:00'), Timestamp('2010-12-01 00:00:00'), Timestamp('2010-12-02 00:00:00'), Timestamp('2010-12-03 00:00:00'), Timestamp('2010-12-06 00:00:00'), Timestamp('2010-12-07 00:00:00'), Timestamp('2010-12-08 00:00:00'), Timestamp('2010-12-09 00:00:00'), Timestamp('2010-12-10 00:00:00'), Timestamp('2010-12-13 00:00:00'), Timestamp('2010-12-14 00:00:00'), Timestamp('2010-12-15 00:00:00'), Timestamp('2010-12-16 00:00:00'), Timestamp('2010-12-17 00:00:00'), Timestamp('2010-12-20 00:00:00'), Timestamp('2010-12-21 00:00:00'), Timestamp('2010-12-22 00:00:00'), Timestamp('2010-12-23 00:00:00'), Timestamp('2010-12-24 00:00:00'), Timestamp('2010-12-27 00:00:00'), Timestamp('2010-12-28 00:00:00'), Timestamp('2010-12-29 00:00:00'), Timestamp('2010-12-30 00:00:00'), Timestamp('2010-12-31 00:00:00'), Timestamp('2011-01-03 00:00:00'), Timestamp('2011-01-04 00:00:00'), Timestamp('2011-01-05 00:00:00'), Timestamp('2011-01-06 00:00:00'), Timestamp('2011-01-07 00:00:00'), Timestamp('2011-01-10 00:00:00'), Timestamp('2011-01-11 00:00:00'), Timestamp('2011-01-12 00:00:00'), Timestamp('2011-01-13 00:00:00'), Timestamp('2011-01-14 00:00:00'), Timestamp('2011-01-17 00:00:00'), Timestamp('2011-01-18 00:00:00'), Timestamp('2011-01-19 00:00:00'), Timestamp('2011-01-20 00:00:00'), Timestamp('2011-01-21 00:00:00'), Timestamp('2011-01-24 00:00:00'), Timestamp('2011-01-25 00:00:00'), Timestamp('2011-01-26 00:00:00'), Timestamp('2011-01-27 00:00:00'), Timestamp('2011-01-28 00:00:00'), Timestamp('2011-02-08 00:00:00'), Timestamp('2011-02-09 00:00:00'), Timestamp('2011-02-10 00:00:00'), Timestamp('2011-02-11 00:00:00'), Timestamp('2011-02-14 00:00:00'), Timestamp('2011-02-15 00:00:00'), Timestamp('2011-02-16 00:00:00'), Timestamp('2011-02-17 00:00:00'), Timestamp('2011-02-18 00:00:00'), Timestamp('2011-02-21 00:00:00'), Timestamp('2011-02-22 00:00:00'), Timestamp('2011-02-23 00:00:00'), Timestamp('2011-02-24 00:00:00'), Timestamp('2011-02-25 00:00:00'), Timestamp('2011-03-01 00:00:00'), Timestamp('2011-03-02 00:00:00'), Timestamp('2011-03-03 00:00:00'), Timestamp('2011-03-04 00:00:00'), Timestamp('2011-03-07 00:00:00'), Timestamp('2011-03-08 00:00:00'), Timestamp('2011-03-09 00:00:00'), Timestamp('2011-03-10 00:00:00'), Timestamp('2011-03-11 00:00:00'), Timestamp('2011-03-14 00:00:00'), Timestamp('2011-03-15 00:00:00'), Timestamp('2011-03-16 00:00:00'), Timestamp('2011-03-17 00:00:00'), Timestamp('2011-03-18 00:00:00'), Timestamp('2011-03-21 00:00:00'), Timestamp('2011-03-22 00:00:00'), Timestamp('2011-03-23 00:00:00'), Timestamp('2011-03-24 00:00:00'), Timestamp('2011-03-25 00:00:00'), Timestamp('2011-03-28 00:00:00'), Timestamp('2011-03-29 00:00:00'), Timestamp('2011-03-30 00:00:00'), Timestamp('2011-03-31 00:00:00'), Timestamp('2011-04-01 00:00:00'), Timestamp('2011-04-06 00:00:00'), Timestamp('2011-04-07 00:00:00'), Timestamp('2011-04-08 00:00:00'), Timestamp('2011-04-11 00:00:00'), Timestamp('2011-04-12 00:00:00'), Timestamp('2011-04-13 00:00:00'), Timestamp('2011-04-14 00:00:00'), Timestamp('2011-04-15 00:00:00'), Timestamp('2011-04-18 00:00:00'), Timestamp('2011-04-19 00:00:00'), Timestamp('2011-04-20 00:00:00'), Timestamp('2011-04-21 00:00:00'), Timestamp('2011-04-22 00:00:00'), Timestamp('2011-04-25 00:00:00'), Timestamp('2011-04-26 00:00:00'), Timestamp('2011-04-27 00:00:00'), Timestamp('2011-04-28 00:00:00'), Timestamp('2011-04-29 00:00:00'), Timestamp('2011-05-03 00:00:00'), Timestamp('2011-05-04 00:00:00'), Timestamp('2011-05-05 00:00:00'), Timestamp('2011-05-06 00:00:00'), Timestamp('2011-05-09 00:00:00'), Timestamp('2011-05-10 00:00:00'), Timestamp('2011-05-11 00:00:00'), Timestamp('2011-05-12 00:00:00'), Timestamp('2011-05-13 00:00:00'), Timestamp('2011-05-16 00:00:00'), Timestamp('2011-05-17 00:00:00'), Timestamp('2011-05-18 00:00:00'), Timestamp('2011-05-19 00:00:00'), Timestamp('2011-05-20 00:00:00'), Timestamp('2011-05-23 00:00:00'), Timestamp('2011-05-24 00:00:00'), Timestamp('2011-05-25 00:00:00'), Timestamp('2011-05-26 00:00:00'), Timestamp('2011-05-27 00:00:00'), Timestamp('2011-05-30 00:00:00'), Timestamp('2011-05-31 00:00:00'), Timestamp('2011-06-01 00:00:00'), Timestamp('2011-06-02 00:00:00'), Timestamp('2011-06-03 00:00:00'), Timestamp('2011-06-07 00:00:00'), Timestamp('2011-06-08 00:00:00'), Timestamp('2011-06-09 00:00:00'), Timestamp('2011-06-10 00:00:00'), Timestamp('2011-06-13 00:00:00'), Timestamp('2011-06-14 00:00:00'), Timestamp('2011-06-15 00:00:00'), Timestamp('2011-06-16 00:00:00'), Timestamp('2011-06-17 00:00:00'), Timestamp('2011-06-20 00:00:00'), Timestamp('2011-06-21 00:00:00'), Timestamp('2011-06-22 00:00:00'), Timestamp('2011-06-23 00:00:00'), Timestamp('2011-06-24 00:00:00'), Timestamp('2011-06-27 00:00:00'), Timestamp('2011-06-28 00:00:00'), Timestamp('2011-06-29 00:00:00'), Timestamp('2011-06-30 00:00:00'), Timestamp('2011-07-01 00:00:00'), Timestamp('2011-07-04 00:00:00'), Timestamp('2011-07-05 00:00:00'), Timestamp('2011-07-06 00:00:00'), Timestamp('2011-07-07 00:00:00'), Timestamp('2011-07-08 00:00:00'), Timestamp('2011-07-11 00:00:00'), Timestamp('2011-07-12 00:00:00'), Timestamp('2011-07-13 00:00:00'), Timestamp('2011-07-14 00:00:00'), Timestamp('2011-07-15 00:00:00'), Timestamp('2011-07-18 00:00:00'), Timestamp('2011-07-19 00:00:00'), Timestamp('2011-07-20 00:00:00'), Timestamp('2011-07-21 00:00:00'), Timestamp('2011-07-22 00:00:00'), Timestamp('2011-07-25 00:00:00'), Timestamp('2011-07-26 00:00:00'), Timestamp('2011-07-27 00:00:00'), Timestamp('2011-07-28 00:00:00'), Timestamp('2011-07-29 00:00:00'), Timestamp('2011-08-01 00:00:00'), Timestamp('2011-08-02 00:00:00'), Timestamp('2011-08-03 00:00:00'), Timestamp('2011-08-04 00:00:00'), Timestamp('2011-08-05 00:00:00'), Timestamp('2011-08-08 00:00:00'), Timestamp('2011-08-09 00:00:00'), Timestamp('2011-08-10 00:00:00'), Timestamp('2011-08-11 00:00:00'), Timestamp('2011-08-12 00:00:00'), Timestamp('2011-08-15 00:00:00'), Timestamp('2011-08-16 00:00:00'), Timestamp('2011-08-17 00:00:00'), Timestamp('2011-08-18 00:00:00'), Timestamp('2011-08-19 00:00:00'), Timestamp('2011-08-22 00:00:00'), Timestamp('2011-08-23 00:00:00'), Timestamp('2011-08-24 00:00:00'), Timestamp('2011-08-25 00:00:00'), Timestamp('2011-08-26 00:00:00'), Timestamp('2011-08-29 00:00:00'), Timestamp('2011-08-30 00:00:00'), Timestamp('2011-08-31 00:00:00'), Timestamp('2011-09-01 00:00:00'), Timestamp('2011-09-02 00:00:00'), Timestamp('2011-09-05 00:00:00'), Timestamp('2011-09-06 00:00:00'), Timestamp('2011-09-07 00:00:00'), Timestamp('2011-09-08 00:00:00'), Timestamp('2011-09-09 00:00:00'), Timestamp('2011-09-13 00:00:00'), Timestamp('2011-09-14 00:00:00'), Timestamp('2011-09-15 00:00:00'), Timestamp('2011-09-16 00:00:00'), Timestamp('2011-09-19 00:00:00'), Timestamp('2011-09-20 00:00:00'), Timestamp('2011-09-21 00:00:00'), Timestamp('2011-09-22 00:00:00'), Timestamp('2011-09-23 00:00:00'), Timestamp('2011-09-26 00:00:00'), Timestamp('2011-09-27 00:00:00'), Timestamp('2011-09-28 00:00:00'), Timestamp('2011-09-29 00:00:00'), Timestamp('2011-09-30 00:00:00'), Timestamp('2011-10-03 00:00:00'), Timestamp('2011-10-04 00:00:00'), Timestamp('2011-10-05 00:00:00'), Timestamp('2011-10-06 00:00:00'), Timestamp('2011-10-07 00:00:00'), Timestamp('2011-10-11 00:00:00'), Timestamp('2011-10-12 00:00:00'), Timestamp('2011-10-13 00:00:00'), Timestamp('2011-10-14 00:00:00'), Timestamp('2011-10-17 00:00:00'), Timestamp('2011-10-18 00:00:00'), Timestamp('2011-10-19 00:00:00'), Timestamp('2011-10-20 00:00:00'), Timestamp('2011-10-21 00:00:00'), Timestamp('2011-10-24 00:00:00'), Timestamp('2011-10-25 00:00:00'), Timestamp('2011-10-26 00:00:00'), Timestamp('2011-10-27 00:00:00'), Timestamp('2011-10-28 00:00:00'), Timestamp('2011-10-31 00:00:00'), Timestamp('2011-11-01 00:00:00'), Timestamp('2011-11-02 00:00:00'), Timestamp('2011-11-03 00:00:00'), Timestamp('2011-11-04 00:00:00'), Timestamp('2011-11-07 00:00:00'), Timestamp('2011-11-08 00:00:00'), Timestamp('2011-11-09 00:00:00'), Timestamp('2011-11-10 00:00:00'), Timestamp('2011-11-11 00:00:00'), Timestamp('2011-11-14 00:00:00'), Timestamp('2011-11-15 00:00:00'), Timestamp('2011-11-16 00:00:00'), Timestamp('2011-11-17 00:00:00'), Timestamp('2011-11-18 00:00:00'), Timestamp('2011-11-21 00:00:00'), Timestamp('2011-11-22 00:00:00'), Timestamp('2011-11-23 00:00:00'), Timestamp('2011-11-24 00:00:00'), Timestamp('2011-11-25 00:00:00'), Timestamp('2011-11-28 00:00:00'), Timestamp('2011-11-29 00:00:00'), Timestamp('2011-11-30 00:00:00'), Timestamp('2011-12-01 00:00:00'), Timestamp('2011-12-02 00:00:00'), Timestamp('2011-12-05 00:00:00'), Timestamp('2011-12-06 00:00:00'), Timestamp('2011-12-07 00:00:00'), Timestamp('2011-12-08 00:00:00'), Timestamp('2011-12-09 00:00:00'), Timestamp('2011-12-12 00:00:00'), Timestamp('2011-12-13 00:00:00'), Timestamp('2011-12-14 00:00:00'), Timestamp('2011-12-15 00:00:00'), Timestamp('2011-12-16 00:00:00'), Timestamp('2011-12-19 00:00:00'), Timestamp('2011-12-20 00:00:00'), Timestamp('2011-12-21 00:00:00'), Timestamp('2011-12-22 00:00:00'), Timestamp('2011-12-23 00:00:00'), Timestamp('2011-12-26 00:00:00'), Timestamp('2011-12-27 00:00:00'), Timestamp('2011-12-28 00:00:00'), Timestamp('2011-12-29 00:00:00'), Timestamp('2011-12-30 00:00:00'), Timestamp('2012-01-02 00:00:00'), Timestamp('2012-01-03 00:00:00'), Timestamp('2012-01-04 00:00:00'), Timestamp('2012-01-05 00:00:00'), Timestamp('2012-01-06 00:00:00'), Timestamp('2012-01-09 00:00:00'), Timestamp('2012-01-10 00:00:00'), Timestamp('2012-01-11 00:00:00'), Timestamp('2012-01-12 00:00:00'), Timestamp('2012-01-13 00:00:00'), Timestamp('2012-01-16 00:00:00'), Timestamp('2012-01-17 00:00:00'), Timestamp('2012-01-18 00:00:00'), Timestamp('2012-01-30 00:00:00'), Timestamp('2012-01-31 00:00:00'), Timestamp('2012-02-01 00:00:00'), Timestamp('2012-02-02 00:00:00'), Timestamp('2012-02-03 00:00:00'), Timestamp('2012-02-06 00:00:00'), Timestamp('2012-02-07 00:00:00'), Timestamp('2012-02-08 00:00:00'), Timestamp('2012-02-09 00:00:00'), Timestamp('2012-02-10 00:00:00'), Timestamp('2012-02-13 00:00:00'), Timestamp('2012-02-14 00:00:00'), Timestamp('2012-02-15 00:00:00'), Timestamp('2012-02-16 00:00:00'), Timestamp('2012-02-17 00:00:00'), Timestamp('2012-02-20 00:00:00'), Timestamp('2012-02-21 00:00:00'), Timestamp('2012-02-22 00:00:00'), Timestamp('2012-02-23 00:00:00'), Timestamp('2012-02-24 00:00:00'), Timestamp('2012-02-29 00:00:00'), Timestamp('2012-03-01 00:00:00'), Timestamp('2012-03-02 00:00:00'), Timestamp('2012-03-05 00:00:00'), Timestamp('2012-03-06 00:00:00'), Timestamp('2012-03-07 00:00:00'), Timestamp('2012-03-08 00:00:00'), Timestamp('2012-03-09 00:00:00'), Timestamp('2012-03-12 00:00:00'), Timestamp('2012-03-13 00:00:00'), Timestamp('2012-03-14 00:00:00'), Timestamp('2012-03-15 00:00:00'), Timestamp('2012-03-16 00:00:00'), Timestamp('2012-03-19 00:00:00'), Timestamp('2012-03-20 00:00:00'), Timestamp('2012-03-21 00:00:00'), Timestamp('2012-03-22 00:00:00'), Timestamp('2012-03-23 00:00:00'), Timestamp('2012-03-26 00:00:00'), Timestamp('2012-03-27 00:00:00'), Timestamp('2012-03-28 00:00:00'), Timestamp('2012-03-29 00:00:00'), Timestamp('2012-03-30 00:00:00'), Timestamp('2012-04-02 00:00:00'), Timestamp('2012-04-03 00:00:00'), Timestamp('2012-04-05 00:00:00'), Timestamp('2012-04-06 00:00:00'), Timestamp('2012-04-09 00:00:00'), Timestamp('2012-04-10 00:00:00'), Timestamp('2012-04-11 00:00:00'), Timestamp('2012-04-12 00:00:00'), Timestamp('2012-04-13 00:00:00'), Timestamp('2012-04-16 00:00:00'), Timestamp('2012-04-17 00:00:00'), Timestamp('2012-04-18 00:00:00'), Timestamp('2012-04-19 00:00:00'), Timestamp('2012-04-20 00:00:00'), Timestamp('2012-04-23 00:00:00'), Timestamp('2012-04-24 00:00:00'), Timestamp('2012-04-25 00:00:00'), Timestamp('2012-04-26 00:00:00'), Timestamp('2012-04-27 00:00:00'), Timestamp('2012-04-30 00:00:00'), Timestamp('2012-05-02 00:00:00'), Timestamp('2012-05-03 00:00:00'), Timestamp('2012-05-04 00:00:00'), Timestamp('2012-05-07 00:00:00'), Timestamp('2012-05-08 00:00:00'), Timestamp('2012-05-09 00:00:00'), Timestamp('2012-05-10 00:00:00'), Timestamp('2012-05-11 00:00:00'), Timestamp('2012-05-14 00:00:00'), Timestamp('2012-05-15 00:00:00'), Timestamp('2012-05-16 00:00:00'), Timestamp('2012-05-17 00:00:00'), Timestamp('2012-05-18 00:00:00'), Timestamp('2012-05-21 00:00:00'), Timestamp('2012-05-22 00:00:00'), Timestamp('2012-05-23 00:00:00'), Timestamp('2012-05-24 00:00:00'), Timestamp('2012-05-25 00:00:00'), Timestamp('2012-05-28 00:00:00'), Timestamp('2012-05-29 00:00:00'), Timestamp('2012-05-30 00:00:00'), Timestamp('2012-05-31 00:00:00'), Timestamp('2012-06-01 00:00:00'), Timestamp('2012-06-04 00:00:00'), Timestamp('2012-06-05 00:00:00'), Timestamp('2012-06-06 00:00:00'), Timestamp('2012-06-07 00:00:00'), Timestamp('2012-06-08 00:00:00'), Timestamp('2012-06-11 00:00:00'), Timestamp('2012-06-12 00:00:00'), Timestamp('2012-06-13 00:00:00'), Timestamp('2012-06-14 00:00:00'), Timestamp('2012-06-15 00:00:00'), Timestamp('2012-06-18 00:00:00'), Timestamp('2012-06-19 00:00:00'), Timestamp('2012-06-20 00:00:00'), Timestamp('2012-06-21 00:00:00'), Timestamp('2012-06-22 00:00:00'), Timestamp('2012-06-25 00:00:00'), Timestamp('2012-06-26 00:00:00'), Timestamp('2012-06-27 00:00:00'), Timestamp('2012-06-28 00:00:00'), Timestamp('2012-06-29 00:00:00'), Timestamp('2012-07-02 00:00:00'), Timestamp('2012-07-03 00:00:00'), Timestamp('2012-07-04 00:00:00'), Timestamp('2012-07-05 00:00:00'), Timestamp('2012-07-06 00:00:00'), Timestamp('2012-07-09 00:00:00'), Timestamp('2012-07-10 00:00:00'), Timestamp('2012-07-11 00:00:00'), Timestamp('2012-07-12 00:00:00'), Timestamp('2012-07-13 00:00:00'), Timestamp('2012-07-16 00:00:00'), Timestamp('2012-07-17 00:00:00'), Timestamp('2012-07-18 00:00:00'), Timestamp('2012-07-19 00:00:00'), Timestamp('2012-07-20 00:00:00'), Timestamp('2012-07-23 00:00:00'), Timestamp('2012-07-24 00:00:00'), Timestamp('2012-07-25 00:00:00'), Timestamp('2012-07-26 00:00:00'), Timestamp('2012-07-27 00:00:00'), Timestamp('2012-07-30 00:00:00'), Timestamp('2012-07-31 00:00:00'), Timestamp('2012-08-01 00:00:00'), Timestamp('2012-08-02 00:00:00'), Timestamp('2012-08-03 00:00:00'), Timestamp('2012-08-06 00:00:00'), Timestamp('2012-08-07 00:00:00'), Timestamp('2012-08-08 00:00:00'), Timestamp('2012-08-09 00:00:00'), Timestamp('2012-08-10 00:00:00'), Timestamp('2012-08-13 00:00:00'), Timestamp('2012-08-14 00:00:00'), Timestamp('2012-08-15 00:00:00'), Timestamp('2012-08-16 00:00:00'), Timestamp('2012-08-17 00:00:00'), Timestamp('2012-08-20 00:00:00'), Timestamp('2012-08-21 00:00:00'), Timestamp('2012-08-22 00:00:00'), Timestamp('2012-08-23 00:00:00'), Timestamp('2012-08-24 00:00:00'), Timestamp('2012-08-27 00:00:00'), Timestamp('2012-08-28 00:00:00'), Timestamp('2012-08-29 00:00:00'), Timestamp('2012-08-30 00:00:00'), Timestamp('2012-08-31 00:00:00'), Timestamp('2012-09-03 00:00:00'), Timestamp('2012-09-04 00:00:00'), Timestamp('2012-09-05 00:00:00'), Timestamp('2012-09-06 00:00:00'), Timestamp('2012-09-07 00:00:00'), Timestamp('2012-09-10 00:00:00'), Timestamp('2012-09-11 00:00:00'), Timestamp('2012-09-12 00:00:00'), Timestamp('2012-09-13 00:00:00'), Timestamp('2012-09-14 00:00:00'), Timestamp('2012-09-17 00:00:00'), Timestamp('2012-09-18 00:00:00'), Timestamp('2012-09-19 00:00:00'), Timestamp('2012-09-20 00:00:00'), Timestamp('2012-09-21 00:00:00'), Timestamp('2012-09-24 00:00:00'), Timestamp('2012-09-25 00:00:00'), Timestamp('2012-09-26 00:00:00'), Timestamp('2012-09-27 00:00:00'), Timestamp('2012-09-28 00:00:00'), Timestamp('2012-10-01 00:00:00'), Timestamp('2012-10-02 00:00:00'), Timestamp('2012-10-03 00:00:00'), Timestamp('2012-10-04 00:00:00'), Timestamp('2012-10-05 00:00:00'), Timestamp('2012-10-08 00:00:00'), Timestamp('2012-10-09 00:00:00'), Timestamp('2012-10-11 00:00:00'), Timestamp('2012-10-12 00:00:00'), Timestamp('2012-10-15 00:00:00'), Timestamp('2012-10-16 00:00:00'), Timestamp('2012-10-17 00:00:00'), Timestamp('2012-10-18 00:00:00'), Timestamp('2012-10-19 00:00:00'), Timestamp('2012-10-22 00:00:00'), Timestamp('2012-10-23 00:00:00'), Timestamp('2012-10-24 00:00:00'), Timestamp('2012-10-25 00:00:00'), Timestamp('2012-10-26 00:00:00'), Timestamp('2012-10-29 00:00:00'), Timestamp('2012-10-30 00:00:00'), Timestamp('2012-10-31 00:00:00'), Timestamp('2012-11-01 00:00:00'), Timestamp('2012-11-02 00:00:00'), Timestamp('2012-11-05 00:00:00'), Timestamp('2012-11-06 00:00:00'), Timestamp('2012-11-07 00:00:00'), Timestamp('2012-11-08 00:00:00'), Timestamp('2012-11-09 00:00:00'), Timestamp('2012-11-12 00:00:00'), Timestamp('2012-11-13 00:00:00'), Timestamp('2012-11-14 00:00:00'), Timestamp('2012-11-15 00:00:00'), Timestamp('2012-11-16 00:00:00'), Timestamp('2012-11-19 00:00:00'), Timestamp('2012-11-20 00:00:00'), Timestamp('2012-11-21 00:00:00'), Timestamp('2012-11-22 00:00:00'), Timestamp('2012-11-23 00:00:00'), Timestamp('2012-11-26 00:00:00'), Timestamp('2012-11-27 00:00:00'), Timestamp('2012-11-28 00:00:00'), Timestamp('2012-11-29 00:00:00'), Timestamp('2012-11-30 00:00:00'), Timestamp('2012-12-03 00:00:00'), Timestamp('2012-12-04 00:00:00'), Timestamp('2012-12-05 00:00:00'), Timestamp('2012-12-06 00:00:00'), Timestamp('2012-12-07 00:00:00'), Timestamp('2012-12-10 00:00:00'), Timestamp('2012-12-11 00:00:00'), Timestamp('2012-12-12 00:00:00'), Timestamp('2012-12-13 00:00:00'), Timestamp('2012-12-14 00:00:00'), Timestamp('2012-12-17 00:00:00'), Timestamp('2012-12-18 00:00:00'), Timestamp('2012-12-19 00:00:00'), Timestamp('2012-12-20 00:00:00'), Timestamp('2012-12-21 00:00:00'), Timestamp('2012-12-24 00:00:00'), Timestamp('2012-12-25 00:00:00'), Timestamp('2012-12-26 00:00:00'), Timestamp('2012-12-27 00:00:00'), Timestamp('2012-12-28 00:00:00'), Timestamp('2013-01-02 00:00:00'), Timestamp('2013-01-03 00:00:00'), Timestamp('2013-01-04 00:00:00'), Timestamp('2013-01-07 00:00:00'), Timestamp('2013-01-08 00:00:00'), Timestamp('2013-01-09 00:00:00'), Timestamp('2013-01-10 00:00:00'), Timestamp('2013-01-11 00:00:00'), Timestamp('2013-01-14 00:00:00'), Timestamp('2013-01-15 00:00:00'), Timestamp('2013-01-16 00:00:00'), Timestamp('2013-01-17 00:00:00'), Timestamp('2013-01-18 00:00:00'), Timestamp('2013-01-21 00:00:00'), Timestamp('2013-01-22 00:00:00'), Timestamp('2013-01-23 00:00:00'), Timestamp('2013-01-24 00:00:00'), Timestamp('2013-01-25 00:00:00'), Timestamp('2013-01-28 00:00:00'), Timestamp('2013-01-29 00:00:00'), Timestamp('2013-01-30 00:00:00'), Timestamp('2013-01-31 00:00:00'), Timestamp('2013-02-01 00:00:00'), Timestamp('2013-02-04 00:00:00'), Timestamp('2013-02-05 00:00:00'), Timestamp('2013-02-06 00:00:00'), Timestamp('2013-02-18 00:00:00'), Timestamp('2013-02-19 00:00:00'), Timestamp('2013-02-20 00:00:00'), Timestamp('2013-02-21 00:00:00'), Timestamp('2013-02-22 00:00:00'), Timestamp('2013-02-25 00:00:00'), Timestamp('2013-02-26 00:00:00'), Timestamp('2013-02-27 00:00:00'), Timestamp('2013-03-01 00:00:00'), Timestamp('2013-03-04 00:00:00'), Timestamp('2013-03-05 00:00:00'), Timestamp('2013-03-06 00:00:00'), Timestamp('2013-03-07 00:00:00'), Timestamp('2013-03-08 00:00:00'), Timestamp('2013-03-11 00:00:00'), Timestamp('2013-03-12 00:00:00'), Timestamp('2013-03-13 00:00:00'), Timestamp('2013-03-14 00:00:00'), Timestamp('2013-03-15 00:00:00'), Timestamp('2013-03-18 00:00:00'), Timestamp('2013-03-19 00:00:00'), Timestamp('2013-03-20 00:00:00'), Timestamp('2013-03-21 00:00:00'), Timestamp('2013-03-22 00:00:00'), Timestamp('2013-03-25 00:00:00'), Timestamp('2013-03-26 00:00:00'), Timestamp('2013-03-27 00:00:00'), Timestamp('2013-03-28 00:00:00'), Timestamp('2013-03-29 00:00:00'), Timestamp('2013-04-01 00:00:00'), Timestamp('2013-04-02 00:00:00'), Timestamp('2013-04-03 00:00:00'), Timestamp('2013-04-08 00:00:00'), Timestamp('2013-04-09 00:00:00'), Timestamp('2013-04-10 00:00:00'), Timestamp('2013-04-11 00:00:00'), Timestamp('2013-04-12 00:00:00'), Timestamp('2013-04-15 00:00:00'), Timestamp('2013-04-16 00:00:00'), Timestamp('2013-04-17 00:00:00'), Timestamp('2013-04-18 00:00:00'), Timestamp('2013-04-19 00:00:00'), Timestamp('2013-04-22 00:00:00'), Timestamp('2013-04-23 00:00:00'), Timestamp('2013-04-24 00:00:00'), Timestamp('2013-04-25 00:00:00'), Timestamp('2013-04-26 00:00:00'), Timestamp('2013-04-29 00:00:00'), Timestamp('2013-04-30 00:00:00'), Timestamp('2013-05-02 00:00:00'), Timestamp('2013-05-03 00:00:00'), Timestamp('2013-05-06 00:00:00'), Timestamp('2013-05-07 00:00:00'), Timestamp('2013-05-08 00:00:00'), Timestamp('2013-05-09 00:00:00'), Timestamp('2013-05-10 00:00:00'), Timestamp('2013-05-13 00:00:00'), Timestamp('2013-05-14 00:00:00'), Timestamp('2013-05-15 00:00:00'), Timestamp('2013-05-16 00:00:00'), Timestamp('2013-05-17 00:00:00'), Timestamp('2013-05-20 00:00:00'), Timestamp('2013-05-21 00:00:00'), Timestamp('2013-05-22 00:00:00'), Timestamp('2013-05-23 00:00:00'), Timestamp('2013-05-24 00:00:00'), Timestamp('2013-05-27 00:00:00'), Timestamp('2013-05-28 00:00:00'), Timestamp('2013-05-29 00:00:00'), Timestamp('2013-05-30 00:00:00'), Timestamp('2013-05-31 00:00:00'), Timestamp('2013-06-03 00:00:00'), Timestamp('2013-06-04 00:00:00'), Timestamp('2013-06-05 00:00:00'), Timestamp('2013-06-06 00:00:00'), Timestamp('2013-06-07 00:00:00'), Timestamp('2013-06-10 00:00:00'), Timestamp('2013-06-11 00:00:00'), Timestamp('2013-06-13 00:00:00'), Timestamp('2013-06-14 00:00:00'), Timestamp('2013-06-17 00:00:00'), Timestamp('2013-06-18 00:00:00'), Timestamp('2013-06-19 00:00:00'), Timestamp('2013-06-20 00:00:00'), Timestamp('2013-06-21 00:00:00'), Timestamp('2013-06-24 00:00:00'), Timestamp('2013-06-25 00:00:00'), Timestamp('2013-06-26 00:00:00'), Timestamp('2013-06-27 00:00:00'), Timestamp('2013-06-28 00:00:00'), Timestamp('2013-07-01 00:00:00'), Timestamp('2013-07-02 00:00:00'), Timestamp('2013-07-03 00:00:00'), Timestamp('2013-07-04 00:00:00'), Timestamp('2013-07-05 00:00:00'), Timestamp('2013-07-08 00:00:00'), Timestamp('2013-07-09 00:00:00'), Timestamp('2013-07-10 00:00:00'), Timestamp('2013-07-11 00:00:00'), Timestamp('2013-07-12 00:00:00'), Timestamp('2013-07-15 00:00:00'), Timestamp('2013-07-16 00:00:00'), Timestamp('2013-07-17 00:00:00'), Timestamp('2013-07-18 00:00:00'), Timestamp('2013-07-19 00:00:00'), Timestamp('2013-07-22 00:00:00'), Timestamp('2013-07-23 00:00:00'), Timestamp('2013-07-24 00:00:00'), Timestamp('2013-07-25 00:00:00'), Timestamp('2013-07-26 00:00:00'), Timestamp('2013-07-29 00:00:00'), Timestamp('2013-07-30 00:00:00'), Timestamp('2013-07-31 00:00:00'), Timestamp('2013-08-01 00:00:00'), Timestamp('2013-08-02 00:00:00'), Timestamp('2013-08-05 00:00:00'), Timestamp('2013-08-06 00:00:00'), Timestamp('2013-08-07 00:00:00'), Timestamp('2013-08-08 00:00:00'), Timestamp('2013-08-09 00:00:00'), Timestamp('2013-08-12 00:00:00'), Timestamp('2013-08-13 00:00:00'), Timestamp('2013-08-14 00:00:00'), Timestamp('2013-08-15 00:00:00'), Timestamp('2013-08-16 00:00:00'), Timestamp('2013-08-19 00:00:00'), Timestamp('2013-08-20 00:00:00'), Timestamp('2013-08-22 00:00:00'), Timestamp('2013-08-23 00:00:00'), Timestamp('2013-08-26 00:00:00'), Timestamp('2013-08-27 00:00:00'), Timestamp('2013-08-28 00:00:00'), Timestamp('2013-08-29 00:00:00'), Timestamp('2013-08-30 00:00:00'), Timestamp('2013-09-02 00:00:00'), Timestamp('2013-09-03 00:00:00'), Timestamp('2013-09-04 00:00:00'), Timestamp('2013-09-05 00:00:00'), Timestamp('2013-09-06 00:00:00'), Timestamp('2013-09-09 00:00:00'), Timestamp('2013-09-10 00:00:00'), Timestamp('2013-09-11 00:00:00'), Timestamp('2013-09-12 00:00:00'), Timestamp('2013-09-13 00:00:00'), Timestamp('2013-09-16 00:00:00'), Timestamp('2013-09-17 00:00:00'), Timestamp('2013-09-18 00:00:00'), Timestamp('2013-09-23 00:00:00'), Timestamp('2013-09-24 00:00:00'), Timestamp('2013-09-25 00:00:00'), Timestamp('2013-09-26 00:00:00'), Timestamp('2013-09-27 00:00:00'), Timestamp('2013-09-30 00:00:00'), Timestamp('2013-10-01 00:00:00'), Timestamp('2013-10-02 00:00:00'), Timestamp('2013-10-03 00:00:00'), Timestamp('2013-10-04 00:00:00'), Timestamp('2013-10-07 00:00:00'), Timestamp('2013-10-08 00:00:00'), Timestamp('2013-10-09 00:00:00'), Timestamp('2013-10-11 00:00:00'), Timestamp('2013-10-14 00:00:00'), Timestamp('2013-10-15 00:00:00'), Timestamp('2013-10-16 00:00:00'), Timestamp('2013-10-17 00:00:00'), Timestamp('2013-10-18 00:00:00'), Timestamp('2013-10-21 00:00:00'), Timestamp('2013-10-22 00:00:00'), Timestamp('2013-10-23 00:00:00'), Timestamp('2013-10-24 00:00:00'), Timestamp('2013-10-25 00:00:00'), Timestamp('2013-10-28 00:00:00'), Timestamp('2013-10-29 00:00:00'), Timestamp('2013-10-30 00:00:00'), Timestamp('2013-10-31 00:00:00'), Timestamp('2013-11-01 00:00:00'), Timestamp('2013-11-04 00:00:00'), Timestamp('2013-11-05 00:00:00'), Timestamp('2013-11-06 00:00:00'), Timestamp('2013-11-07 00:00:00'), Timestamp('2013-11-08 00:00:00'), Timestamp('2013-11-11 00:00:00'), Timestamp('2013-11-12 00:00:00'), Timestamp('2013-11-13 00:00:00'), Timestamp('2013-11-14 00:00:00'), Timestamp('2013-11-15 00:00:00'), Timestamp('2013-11-18 00:00:00'), Timestamp('2013-11-19 00:00:00'), Timestamp('2013-11-20 00:00:00'), Timestamp('2013-11-21 00:00:00'), Timestamp('2013-11-22 00:00:00'), Timestamp('2013-11-25 00:00:00'), Timestamp('2013-11-26 00:00:00'), Timestamp('2013-11-27 00:00:00'), Timestamp('2013-11-28 00:00:00'), Timestamp('2013-11-29 00:00:00'), Timestamp('2013-12-02 00:00:00'), Timestamp('2013-12-03 00:00:00'), Timestamp('2013-12-04 00:00:00'), Timestamp('2013-12-05 00:00:00'), Timestamp('2013-12-06 00:00:00'), Timestamp('2013-12-09 00:00:00'), Timestamp('2013-12-10 00:00:00'), Timestamp('2013-12-11 00:00:00'), Timestamp('2013-12-12 00:00:00'), Timestamp('2013-12-13 00:00:00'), Timestamp('2013-12-16 00:00:00'), Timestamp('2013-12-17 00:00:00'), Timestamp('2013-12-18 00:00:00'), Timestamp('2013-12-19 00:00:00'), Timestamp('2013-12-20 00:00:00'), Timestamp('2013-12-23 00:00:00'), Timestamp('2013-12-24 00:00:00'), Timestamp('2013-12-25 00:00:00'), Timestamp('2013-12-26 00:00:00'), Timestamp('2013-12-27 00:00:00'), Timestamp('2013-12-30 00:00:00'), Timestamp('2013-12-31 00:00:00'), Timestamp('2014-01-02 00:00:00'), Timestamp('2014-01-03 00:00:00'), Timestamp('2014-01-06 00:00:00'), Timestamp('2014-01-07 00:00:00'), Timestamp('2014-01-08 00:00:00'), Timestamp('2014-01-09 00:00:00'), Timestamp('2014-01-10 00:00:00'), Timestamp('2014-01-13 00:00:00'), Timestamp('2014-01-14 00:00:00'), Timestamp('2014-01-15 00:00:00'), Timestamp('2014-01-16 00:00:00'), Timestamp('2014-01-17 00:00:00'), Timestamp('2014-01-20 00:00:00'), Timestamp('2014-01-21 00:00:00'), Timestamp('2014-01-22 00:00:00'), Timestamp('2014-01-23 00:00:00'), Timestamp('2014-01-24 00:00:00'), Timestamp('2014-01-27 00:00:00'), Timestamp('2014-02-05 00:00:00'), Timestamp('2014-02-06 00:00:00'), Timestamp('2014-02-07 00:00:00'), Timestamp('2014-02-10 00:00:00'), Timestamp('2014-02-11 00:00:00'), Timestamp('2014-02-12 00:00:00'), Timestamp('2014-02-13 00:00:00'), Timestamp('2014-02-14 00:00:00'), Timestamp('2014-02-17 00:00:00'), Timestamp('2014-02-18 00:00:00'), Timestamp('2014-02-19 00:00:00'), Timestamp('2014-02-20 00:00:00'), Timestamp('2014-02-21 00:00:00'), Timestamp('2014-02-24 00:00:00'), Timestamp('2014-02-25 00:00:00'), Timestamp('2014-02-26 00:00:00'), Timestamp('2014-02-27 00:00:00'), Timestamp('2014-03-03 00:00:00'), Timestamp('2014-03-04 00:00:00'), Timestamp('2014-03-05 00:00:00'), Timestamp('2014-03-06 00:00:00'), Timestamp('2014-03-07 00:00:00'), Timestamp('2014-03-10 00:00:00'), Timestamp('2014-03-11 00:00:00'), Timestamp('2014-03-12 00:00:00'), Timestamp('2014-03-13 00:00:00'), Timestamp('2014-03-14 00:00:00'), Timestamp('2014-03-17 00:00:00'), Timestamp('2014-03-18 00:00:00'), Timestamp('2014-03-19 00:00:00'), Timestamp('2014-03-20 00:00:00'), Timestamp('2014-03-21 00:00:00'), Timestamp('2014-03-24 00:00:00'), Timestamp('2014-03-25 00:00:00'), Timestamp('2014-03-26 00:00:00'), Timestamp('2014-03-27 00:00:00'), Timestamp('2014-03-28 00:00:00'), Timestamp('2014-03-31 00:00:00'), Timestamp('2014-04-01 00:00:00'), Timestamp('2014-04-02 00:00:00'), Timestamp('2014-04-03 00:00:00'), Timestamp('2014-04-07 00:00:00'), Timestamp('2014-04-08 00:00:00'), Timestamp('2014-04-09 00:00:00'), Timestamp('2014-04-10 00:00:00'), Timestamp('2014-04-11 00:00:00'), Timestamp('2014-04-14 00:00:00'), Timestamp('2014-04-15 00:00:00'), Timestamp('2014-04-16 00:00:00'), Timestamp('2014-04-17 00:00:00'), Timestamp('2014-04-18 00:00:00'), Timestamp('2014-04-21 00:00:00'), Timestamp('2014-04-22 00:00:00'), Timestamp('2014-04-23 00:00:00'), Timestamp('2014-04-24 00:00:00'), Timestamp('2014-04-25 00:00:00'), Timestamp('2014-04-28 00:00:00'), Timestamp('2014-04-29 00:00:00'), Timestamp('2014-04-30 00:00:00'), Timestamp('2014-05-02 00:00:00'), Timestamp('2014-05-05 00:00:00'), Timestamp('2014-05-06 00:00:00'), Timestamp('2014-05-07 00:00:00'), Timestamp('2014-05-08 00:00:00'), Timestamp('2014-05-09 00:00:00'), Timestamp('2014-05-12 00:00:00'), Timestamp('2014-05-13 00:00:00'), Timestamp('2014-05-14 00:00:00'), Timestamp('2014-05-15 00:00:00'), Timestamp('2014-05-16 00:00:00'), Timestamp('2014-05-19 00:00:00'), Timestamp('2014-05-20 00:00:00'), Timestamp('2014-05-21 00:00:00'), Timestamp('2014-05-22 00:00:00'), Timestamp('2014-05-23 00:00:00'), Timestamp('2014-05-26 00:00:00'), Timestamp('2014-05-27 00:00:00'), Timestamp('2014-05-28 00:00:00'), Timestamp('2014-05-29 00:00:00'), Timestamp('2014-05-30 00:00:00'), Timestamp('2014-06-03 00:00:00'), Timestamp('2014-06-04 00:00:00'), Timestamp('2014-06-05 00:00:00'), Timestamp('2014-06-06 00:00:00'), Timestamp('2014-06-09 00:00:00'), Timestamp('2014-06-10 00:00:00'), Timestamp('2014-06-11 00:00:00'), Timestamp('2014-06-12 00:00:00'), Timestamp('2014-06-13 00:00:00'), Timestamp('2014-06-16 00:00:00'), Timestamp('2014-06-17 00:00:00'), Timestamp('2014-06-18 00:00:00'), Timestamp('2014-06-19 00:00:00'), Timestamp('2014-06-20 00:00:00'), Timestamp('2014-06-23 00:00:00'), Timestamp('2014-06-24 00:00:00'), Timestamp('2014-06-25 00:00:00'), Timestamp('2014-06-26 00:00:00'), Timestamp('2014-06-27 00:00:00'), Timestamp('2014-06-30 00:00:00'), Timestamp('2014-07-01 00:00:00'), Timestamp('2014-07-02 00:00:00'), Timestamp('2014-07-03 00:00:00'), Timestamp('2014-07-04 00:00:00'), Timestamp('2014-07-07 00:00:00'), Timestamp('2014-07-08 00:00:00'), Timestamp('2014-07-09 00:00:00'), Timestamp('2014-07-10 00:00:00'), Timestamp('2014-07-11 00:00:00'), Timestamp('2014-07-14 00:00:00'), Timestamp('2014-07-15 00:00:00'), Timestamp('2014-07-16 00:00:00'), Timestamp('2014-07-17 00:00:00'), Timestamp('2014-07-18 00:00:00'), Timestamp('2014-07-21 00:00:00'), Timestamp('2014-07-22 00:00:00'), Timestamp('2014-07-23 00:00:00'), Timestamp('2014-07-24 00:00:00'), Timestamp('2014-07-25 00:00:00'), Timestamp('2014-07-28 00:00:00'), Timestamp('2014-07-29 00:00:00'), Timestamp('2014-07-30 00:00:00'), Timestamp('2014-07-31 00:00:00'), Timestamp('2014-08-01 00:00:00'), Timestamp('2014-08-04 00:00:00'), Timestamp('2014-08-05 00:00:00'), Timestamp('2014-08-06 00:00:00'), Timestamp('2014-08-07 00:00:00'), Timestamp('2014-08-08 00:00:00'), Timestamp('2014-08-11 00:00:00'), Timestamp('2014-08-12 00:00:00'), Timestamp('2014-08-13 00:00:00'), Timestamp('2014-08-14 00:00:00'), Timestamp('2014-08-15 00:00:00'), Timestamp('2014-08-18 00:00:00'), Timestamp('2014-08-19 00:00:00'), Timestamp('2014-08-20 00:00:00'), Timestamp('2014-08-21 00:00:00'), Timestamp('2014-08-22 00:00:00'), Timestamp('2014-08-25 00:00:00'), Timestamp('2014-08-26 00:00:00'), Timestamp('2014-08-27 00:00:00'), Timestamp('2014-08-28 00:00:00'), Timestamp('2014-08-29 00:00:00'), Timestamp('2014-09-01 00:00:00'), Timestamp('2014-09-02 00:00:00'), Timestamp('2014-09-03 00:00:00'), Timestamp('2014-09-04 00:00:00'), Timestamp('2014-09-05 00:00:00'), Timestamp('2014-09-09 00:00:00'), Timestamp('2014-09-10 00:00:00'), Timestamp('2014-09-11 00:00:00'), Timestamp('2014-09-12 00:00:00'), Timestamp('2014-09-15 00:00:00'), Timestamp('2014-09-16 00:00:00'), Timestamp('2014-09-17 00:00:00'), Timestamp('2014-09-18 00:00:00'), Timestamp('2014-09-19 00:00:00'), Timestamp('2014-09-22 00:00:00'), Timestamp('2014-09-23 00:00:00'), Timestamp('2014-09-24 00:00:00'), Timestamp('2014-09-25 00:00:00'), Timestamp('2014-09-26 00:00:00'), Timestamp('2014-09-29 00:00:00'), Timestamp('2014-09-30 00:00:00'), Timestamp('2014-10-01 00:00:00'), Timestamp('2014-10-02 00:00:00'), Timestamp('2014-10-03 00:00:00'), Timestamp('2014-10-06 00:00:00'), Timestamp('2014-10-07 00:00:00'), Timestamp('2014-10-08 00:00:00'), Timestamp('2014-10-09 00:00:00'), Timestamp('2014-10-13 00:00:00'), Timestamp('2014-10-14 00:00:00'), Timestamp('2014-10-15 00:00:00'), Timestamp('2014-10-16 00:00:00'), Timestamp('2014-10-17 00:00:00'), Timestamp('2014-10-20 00:00:00'), Timestamp('2014-10-21 00:00:00'), Timestamp('2014-10-22 00:00:00'), Timestamp('2014-10-23 00:00:00'), Timestamp('2014-10-24 00:00:00'), Timestamp('2014-10-27 00:00:00'), Timestamp('2014-10-28 00:00:00'), Timestamp('2014-10-29 00:00:00'), Timestamp('2014-10-30 00:00:00'), Timestamp('2014-10-31 00:00:00'), Timestamp('2014-11-03 00:00:00'), Timestamp('2014-11-04 00:00:00'), Timestamp('2014-11-05 00:00:00'), Timestamp('2014-11-06 00:00:00'), Timestamp('2014-11-07 00:00:00'), Timestamp('2014-11-10 00:00:00'), Timestamp('2014-11-11 00:00:00'), Timestamp('2014-11-12 00:00:00'), Timestamp('2014-11-13 00:00:00'), Timestamp('2014-11-14 00:00:00'), Timestamp('2014-11-17 00:00:00'), Timestamp('2014-11-18 00:00:00'), Timestamp('2014-11-19 00:00:00'), Timestamp('2014-11-20 00:00:00'), Timestamp('2014-11-21 00:00:00'), Timestamp('2014-11-24 00:00:00'), Timestamp('2014-11-25 00:00:00'), Timestamp('2014-11-26 00:00:00'), Timestamp('2014-11-27 00:00:00'), Timestamp('2014-11-28 00:00:00'), Timestamp('2014-12-01 00:00:00'), Timestamp('2014-12-02 00:00:00'), Timestamp('2014-12-03 00:00:00'), Timestamp('2014-12-04 00:00:00'), Timestamp('2014-12-05 00:00:00'), Timestamp('2014-12-08 00:00:00'), Timestamp('2014-12-09 00:00:00'), Timestamp('2014-12-10 00:00:00'), Timestamp('2014-12-11 00:00:00'), Timestamp('2014-12-12 00:00:00'), Timestamp('2014-12-15 00:00:00'), Timestamp('2014-12-16 00:00:00'), Timestamp('2014-12-17 00:00:00'), Timestamp('2014-12-18 00:00:00'), Timestamp('2014-12-19 00:00:00'), Timestamp('2014-12-22 00:00:00'), Timestamp('2014-12-23 00:00:00'), Timestamp('2014-12-24 00:00:00'), Timestamp('2014-12-25 00:00:00'), Timestamp('2014-12-26 00:00:00'), Timestamp('2014-12-29 00:00:00'), Timestamp('2014-12-30 00:00:00'), Timestamp('2014-12-31 00:00:00'), Timestamp('2015-01-05 00:00:00'), Timestamp('2015-01-06 00:00:00'), Timestamp('2015-01-07 00:00:00'), Timestamp('2015-01-08 00:00:00'), Timestamp('2015-01-09 00:00:00'), Timestamp('2015-01-12 00:00:00'), Timestamp('2015-01-13 00:00:00'), Timestamp('2015-01-14 00:00:00'), Timestamp('2015-01-15 00:00:00'), Timestamp('2015-01-16 00:00:00'), Timestamp('2015-01-19 00:00:00'), Timestamp('2015-01-20 00:00:00'), Timestamp('2015-01-21 00:00:00'), Timestamp('2015-01-22 00:00:00'), Timestamp('2015-01-23 00:00:00'), Timestamp('2015-01-26 00:00:00'), Timestamp('2015-01-27 00:00:00'), Timestamp('2015-01-28 00:00:00'), Timestamp('2015-01-29 00:00:00'), Timestamp('2015-01-30 00:00:00'), Timestamp('2015-02-02 00:00:00'), Timestamp('2015-02-03 00:00:00'), Timestamp('2015-02-04 00:00:00'), Timestamp('2015-02-05 00:00:00'), Timestamp('2015-02-06 00:00:00'), Timestamp('2015-02-09 00:00:00'), Timestamp('2015-02-10 00:00:00'), Timestamp('2015-02-11 00:00:00'), Timestamp('2015-02-12 00:00:00'), Timestamp('2015-02-13 00:00:00'), Timestamp('2015-02-24 00:00:00'), Timestamp('2015-02-25 00:00:00'), Timestamp('2015-02-26 00:00:00'), Timestamp('2015-03-02 00:00:00'), Timestamp('2015-03-03 00:00:00'), Timestamp('2015-03-04 00:00:00'), Timestamp('2015-03-05 00:00:00'), Timestamp('2015-03-06 00:00:00'), Timestamp('2015-03-09 00:00:00'), Timestamp('2015-03-10 00:00:00'), Timestamp('2015-03-11 00:00:00'), Timestamp('2015-03-12 00:00:00'), Timestamp('2015-03-13 00:00:00'), Timestamp('2015-03-16 00:00:00'), Timestamp('2015-03-17 00:00:00'), Timestamp('2015-03-18 00:00:00'), Timestamp('2015-03-19 00:00:00'), Timestamp('2015-03-20 00:00:00'), Timestamp('2015-03-23 00:00:00'), Timestamp('2015-03-24 00:00:00'), Timestamp('2015-03-25 00:00:00'), Timestamp('2015-03-26 00:00:00'), Timestamp('2015-03-27 00:00:00'), Timestamp('2015-03-30 00:00:00'), Timestamp('2015-03-31 00:00:00'), Timestamp('2015-04-01 00:00:00'), Timestamp('2015-04-02 00:00:00'), Timestamp('2015-04-07 00:00:00'), Timestamp('2015-04-08 00:00:00'), Timestamp('2015-04-09 00:00:00'), Timestamp('2015-04-10 00:00:00'), Timestamp('2015-04-13 00:00:00'), Timestamp('2015-04-14 00:00:00'), Timestamp('2015-04-15 00:00:00'), Timestamp('2015-04-16 00:00:00'), Timestamp('2015-04-17 00:00:00'), Timestamp('2015-04-20 00:00:00'), Timestamp('2015-04-21 00:00:00'), Timestamp('2015-04-22 00:00:00'), Timestamp('2015-04-23 00:00:00'), Timestamp('2015-04-24 00:00:00'), Timestamp('2015-04-27 00:00:00'), Timestamp('2015-04-28 00:00:00'), Timestamp('2015-04-29 00:00:00'), Timestamp('2015-04-30 00:00:00'), Timestamp('2015-05-04 00:00:00'), Timestamp('2015-05-05 00:00:00'), Timestamp('2015-05-06 00:00:00'), Timestamp('2015-05-07 00:00:00'), Timestamp('2015-05-08 00:00:00'), Timestamp('2015-05-11 00:00:00'), Timestamp('2015-05-12 00:00:00'), Timestamp('2015-05-13 00:00:00'), Timestamp('2015-05-14 00:00:00'), Timestamp('2015-05-15 00:00:00'), Timestamp('2015-05-18 00:00:00'), Timestamp('2015-05-19 00:00:00'), Timestamp('2015-05-20 00:00:00'), Timestamp('2015-05-21 00:00:00'), Timestamp('2015-05-22 00:00:00'), Timestamp('2015-05-25 00:00:00'), Timestamp('2015-05-26 00:00:00'), Timestamp('2015-05-27 00:00:00'), Timestamp('2015-05-28 00:00:00'), Timestamp('2015-05-29 00:00:00'), Timestamp('2015-06-01 00:00:00'), Timestamp('2015-06-02 00:00:00'), Timestamp('2015-06-03 00:00:00'), Timestamp('2015-06-04 00:00:00'), Timestamp('2015-06-05 00:00:00'), Timestamp('2015-06-08 00:00:00'), Timestamp('2015-06-09 00:00:00'), Timestamp('2015-06-10 00:00:00'), Timestamp('2015-06-11 00:00:00'), Timestamp('2015-06-12 00:00:00'), Timestamp('2015-06-15 00:00:00'), Timestamp('2015-06-16 00:00:00'), Timestamp('2015-06-17 00:00:00'), Timestamp('2015-06-18 00:00:00'), Timestamp('2015-06-22 00:00:00'), Timestamp('2015-06-23 00:00:00'), Timestamp('2015-06-24 00:00:00'), Timestamp('2015-06-25 00:00:00'), Timestamp('2015-06-26 00:00:00'), Timestamp('2015-06-29 00:00:00'), Timestamp('2015-06-30 00:00:00'), Timestamp('2015-07-01 00:00:00'), Timestamp('2015-07-02 00:00:00'), Timestamp('2015-07-03 00:00:00'), Timestamp('2015-07-06 00:00:00'), Timestamp('2015-07-07 00:00:00'), Timestamp('2015-07-08 00:00:00'), Timestamp('2015-07-09 00:00:00'), Timestamp('2015-07-10 00:00:00'), Timestamp('2015-07-13 00:00:00'), Timestamp('2015-07-14 00:00:00'), Timestamp('2015-07-15 00:00:00'), Timestamp('2015-07-16 00:00:00'), Timestamp('2015-07-17 00:00:00'), Timestamp('2015-07-20 00:00:00'), Timestamp('2015-07-21 00:00:00'), Timestamp('2015-07-22 00:00:00'), Timestamp('2015-07-23 00:00:00'), Timestamp('2015-07-24 00:00:00'), Timestamp('2015-07-27 00:00:00'), Timestamp('2015-07-28 00:00:00'), Timestamp('2015-07-29 00:00:00'), Timestamp('2015-07-30 00:00:00'), Timestamp('2015-07-31 00:00:00'), Timestamp('2015-08-03 00:00:00'), Timestamp('2015-08-04 00:00:00'), Timestamp('2015-08-05 00:00:00'), Timestamp('2015-08-06 00:00:00'), Timestamp('2015-08-07 00:00:00'), Timestamp('2015-08-10 00:00:00'), Timestamp('2015-08-11 00:00:00'), Timestamp('2015-08-12 00:00:00'), Timestamp('2015-08-13 00:00:00'), Timestamp('2015-08-14 00:00:00'), Timestamp('2015-08-17 00:00:00'), Timestamp('2015-08-18 00:00:00'), Timestamp('2015-08-19 00:00:00'), Timestamp('2015-08-20 00:00:00'), Timestamp('2015-08-21 00:00:00'), Timestamp('2015-08-24 00:00:00'), Timestamp('2015-08-25 00:00:00'), Timestamp('2015-08-26 00:00:00'), Timestamp('2015-08-27 00:00:00'), Timestamp('2015-08-28 00:00:00'), Timestamp('2015-08-31 00:00:00'), Timestamp('2015-09-01 00:00:00'), Timestamp('2015-09-02 00:00:00'), Timestamp('2015-09-03 00:00:00'), Timestamp('2015-09-04 00:00:00'), Timestamp('2015-09-07 00:00:00'), Timestamp('2015-09-08 00:00:00'), Timestamp('2015-09-09 00:00:00'), Timestamp('2015-09-10 00:00:00'), Timestamp('2015-09-11 00:00:00'), Timestamp('2015-09-14 00:00:00'), Timestamp('2015-09-15 00:00:00'), Timestamp('2015-09-16 00:00:00'), Timestamp('2015-09-17 00:00:00'), Timestamp('2015-09-18 00:00:00'), Timestamp('2015-09-21 00:00:00'), Timestamp('2015-09-22 00:00:00'), Timestamp('2015-09-23 00:00:00'), Timestamp('2015-09-24 00:00:00'), Timestamp('2015-09-25 00:00:00'), Timestamp('2015-09-29 00:00:00'), Timestamp('2015-09-30 00:00:00'), Timestamp('2015-10-01 00:00:00'), Timestamp('2015-10-02 00:00:00'), Timestamp('2015-10-05 00:00:00'), Timestamp('2015-10-06 00:00:00'), Timestamp('2015-10-07 00:00:00'), Timestamp('2015-10-08 00:00:00'), Timestamp('2015-10-12 00:00:00'), Timestamp('2015-10-13 00:00:00'), Timestamp('2015-10-14 00:00:00'), Timestamp('2015-10-15 00:00:00'), Timestamp('2015-10-16 00:00:00'), Timestamp('2015-10-19 00:00:00'), Timestamp('2015-10-20 00:00:00'), Timestamp('2015-10-21 00:00:00'), Timestamp('2015-10-22 00:00:00'), Timestamp('2015-10-23 00:00:00'), Timestamp('2015-10-26 00:00:00'), Timestamp('2015-10-27 00:00:00'), Timestamp('2015-10-28 00:00:00'), Timestamp('2015-10-29 00:00:00'), Timestamp('2015-10-30 00:00:00'), Timestamp('2015-11-02 00:00:00'), Timestamp('2015-11-03 00:00:00'), Timestamp('2015-11-04 00:00:00'), Timestamp('2015-11-05 00:00:00'), Timestamp('2015-11-06 00:00:00'), Timestamp('2015-11-09 00:00:00'), Timestamp('2015-11-10 00:00:00'), Timestamp('2015-11-11 00:00:00'), Timestamp('2015-11-12 00:00:00'), Timestamp('2015-11-13 00:00:00'), Timestamp('2015-11-16 00:00:00'), Timestamp('2015-11-17 00:00:00'), Timestamp('2015-11-18 00:00:00'), Timestamp('2015-11-19 00:00:00'), Timestamp('2015-11-20 00:00:00'), Timestamp('2015-11-23 00:00:00'), Timestamp('2015-11-24 00:00:00'), Timestamp('2015-11-25 00:00:00'), Timestamp('2015-11-26 00:00:00'), Timestamp('2015-11-27 00:00:00'), Timestamp('2015-11-30 00:00:00'), Timestamp('2015-12-01 00:00:00'), Timestamp('2015-12-02 00:00:00'), Timestamp('2015-12-03 00:00:00'), Timestamp('2015-12-04 00:00:00'), Timestamp('2015-12-07 00:00:00'), Timestamp('2015-12-08 00:00:00'), Timestamp('2015-12-09 00:00:00'), Timestamp('2015-12-10 00:00:00'), Timestamp('2015-12-11 00:00:00'), Timestamp('2015-12-14 00:00:00'), Timestamp('2015-12-15 00:00:00'), Timestamp('2015-12-16 00:00:00'), Timestamp('2015-12-17 00:00:00'), Timestamp('2015-12-18 00:00:00'), Timestamp('2015-12-21 00:00:00'), Timestamp('2015-12-22 00:00:00'), Timestamp('2015-12-23 00:00:00'), Timestamp('2015-12-24 00:00:00'), Timestamp('2015-12-25 00:00:00'), Timestamp('2015-12-28 00:00:00'), Timestamp('2015-12-29 00:00:00'), Timestamp('2015-12-30 00:00:00'), Timestamp('2015-12-31 00:00:00'), Timestamp('2016-01-04 00:00:00'), Timestamp('2016-01-05 00:00:00'), Timestamp('2016-01-06 00:00:00'), Timestamp('2016-01-07 00:00:00'), Timestamp('2016-01-08 00:00:00'), Timestamp('2016-01-11 00:00:00'), Timestamp('2016-01-12 00:00:00'), Timestamp('2016-01-13 00:00:00'), Timestamp('2016-01-14 00:00:00'), Timestamp('2016-01-15 00:00:00'), Timestamp('2016-01-18 00:00:00'), Timestamp('2016-01-19 00:00:00'), Timestamp('2016-01-20 00:00:00'), Timestamp('2016-01-21 00:00:00'), Timestamp('2016-01-22 00:00:00'), Timestamp('2016-01-25 00:00:00'), Timestamp('2016-01-26 00:00:00'), Timestamp('2016-01-27 00:00:00'), Timestamp('2016-01-28 00:00:00'), Timestamp('2016-01-29 00:00:00'), Timestamp('2016-02-01 00:00:00'), Timestamp('2016-02-02 00:00:00'), Timestamp('2016-02-03 00:00:00'), Timestamp('2016-02-15 00:00:00'), Timestamp('2016-02-16 00:00:00'), Timestamp('2016-02-17 00:00:00'), Timestamp('2016-02-18 00:00:00'), Timestamp('2016-02-19 00:00:00'), Timestamp('2016-02-22 00:00:00'), Timestamp('2016-02-23 00:00:00'), Timestamp('2016-02-24 00:00:00'), Timestamp('2016-02-25 00:00:00'), Timestamp('2016-02-26 00:00:00'), Timestamp('2016-03-01 00:00:00'), Timestamp('2016-03-02 00:00:00'), Timestamp('2016-03-03 00:00:00'), Timestamp('2016-03-04 00:00:00'), Timestamp('2016-03-07 00:00:00'), Timestamp('2016-03-08 00:00:00'), Timestamp('2016-03-09 00:00:00'), Timestamp('2016-03-10 00:00:00'), Timestamp('2016-03-11 00:00:00'), Timestamp('2016-03-14 00:00:00'), Timestamp('2016-03-15 00:00:00'), Timestamp('2016-03-16 00:00:00'), Timestamp('2016-03-17 00:00:00'), Timestamp('2016-03-18 00:00:00'), Timestamp('2016-03-21 00:00:00'), Timestamp('2016-03-22 00:00:00'), Timestamp('2016-03-23 00:00:00'), Timestamp('2016-03-24 00:00:00'), Timestamp('2016-03-25 00:00:00'), Timestamp('2016-03-28 00:00:00'), Timestamp('2016-03-29 00:00:00'), Timestamp('2016-03-30 00:00:00'), Timestamp('2016-03-31 00:00:00'), Timestamp('2016-04-01 00:00:00'), Timestamp('2016-04-06 00:00:00'), Timestamp('2016-04-07 00:00:00'), Timestamp('2016-04-08 00:00:00'), Timestamp('2016-04-11 00:00:00'), Timestamp('2016-04-12 00:00:00'), Timestamp('2016-04-13 00:00:00'), Timestamp('2016-04-14 00:00:00'), Timestamp('2016-04-15 00:00:00'), Timestamp('2016-04-18 00:00:00'), Timestamp('2016-04-19 00:00:00'), Timestamp('2016-04-20 00:00:00'), Timestamp('2016-04-21 00:00:00'), Timestamp('2016-04-22 00:00:00'), Timestamp('2016-04-25 00:00:00'), Timestamp('2016-04-26 00:00:00'), Timestamp('2016-04-27 00:00:00'), Timestamp('2016-04-28 00:00:00'), Timestamp('2016-04-29 00:00:00'), Timestamp('2016-05-03 00:00:00'), Timestamp('2016-05-04 00:00:00'), Timestamp('2016-05-05 00:00:00'), Timestamp('2016-05-06 00:00:00'), Timestamp('2016-05-09 00:00:00'), Timestamp('2016-05-10 00:00:00'), Timestamp('2016-05-11 00:00:00'), Timestamp('2016-05-12 00:00:00'), Timestamp('2016-05-13 00:00:00'), Timestamp('2016-05-16 00:00:00'), Timestamp('2016-05-17 00:00:00'), Timestamp('2016-05-18 00:00:00'), Timestamp('2016-05-19 00:00:00'), Timestamp('2016-05-20 00:00:00'), Timestamp('2016-05-23 00:00:00'), Timestamp('2016-05-24 00:00:00'), Timestamp('2016-05-25 00:00:00'), Timestamp('2016-05-26 00:00:00'), Timestamp('2016-05-27 00:00:00'), Timestamp('2016-05-30 00:00:00'), Timestamp('2016-05-31 00:00:00'), Timestamp('2016-06-01 00:00:00'), Timestamp('2016-06-02 00:00:00'), Timestamp('2016-06-03 00:00:00'), Timestamp('2016-06-06 00:00:00'), Timestamp('2016-06-07 00:00:00'), Timestamp('2016-06-08 00:00:00'), Timestamp('2016-06-13 00:00:00'), Timestamp('2016-06-14 00:00:00'), Timestamp('2016-06-15 00:00:00'), Timestamp('2016-06-16 00:00:00'), Timestamp('2016-06-17 00:00:00'), Timestamp('2016-06-20 00:00:00'), Timestamp('2016-06-21 00:00:00'), Timestamp('2016-06-22 00:00:00'), Timestamp('2016-06-23 00:00:00'), Timestamp('2016-06-24 00:00:00'), Timestamp('2016-06-27 00:00:00'), Timestamp('2016-06-28 00:00:00'), Timestamp('2016-06-29 00:00:00'), Timestamp('2016-06-30 00:00:00'), Timestamp('2016-07-01 00:00:00'), Timestamp('2016-07-04 00:00:00'), Timestamp('2016-07-05 00:00:00'), Timestamp('2016-07-06 00:00:00'), Timestamp('2016-07-07 00:00:00'), Timestamp('2016-07-08 00:00:00'), Timestamp('2016-07-11 00:00:00'), Timestamp('2016-07-12 00:00:00'), Timestamp('2016-07-13 00:00:00'), Timestamp('2016-07-14 00:00:00'), Timestamp('2016-07-15 00:00:00'), Timestamp('2016-07-18 00:00:00'), Timestamp('2016-07-19 00:00:00'), Timestamp('2016-07-20 00:00:00'), Timestamp('2016-07-21 00:00:00'), Timestamp('2016-07-22 00:00:00'), Timestamp('2016-07-25 00:00:00'), Timestamp('2016-07-26 00:00:00'), Timestamp('2016-07-27 00:00:00'), Timestamp('2016-07-28 00:00:00'), Timestamp('2016-07-29 00:00:00'), Timestamp('2016-08-01 00:00:00'), Timestamp('2016-08-02 00:00:00'), Timestamp('2016-08-03 00:00:00'), Timestamp('2016-08-04 00:00:00'), Timestamp('2016-08-05 00:00:00'), Timestamp('2016-08-08 00:00:00'), Timestamp('2016-08-09 00:00:00'), Timestamp('2016-08-10 00:00:00'), Timestamp('2016-08-11 00:00:00'), Timestamp('2016-08-12 00:00:00'), Timestamp('2016-08-15 00:00:00'), Timestamp('2016-08-16 00:00:00'), Timestamp('2016-08-17 00:00:00'), Timestamp('2016-08-18 00:00:00'), Timestamp('2016-08-19 00:00:00'), Timestamp('2016-08-22 00:00:00'), Timestamp('2016-08-23 00:00:00'), Timestamp('2016-08-24 00:00:00'), Timestamp('2016-08-25 00:00:00'), Timestamp('2016-08-26 00:00:00'), Timestamp('2016-08-29 00:00:00'), Timestamp('2016-08-30 00:00:00'), Timestamp('2016-08-31 00:00:00'), Timestamp('2016-09-01 00:00:00'), Timestamp('2016-09-02 00:00:00'), Timestamp('2016-09-05 00:00:00'), Timestamp('2016-09-06 00:00:00'), Timestamp('2016-09-07 00:00:00'), Timestamp('2016-09-08 00:00:00'), Timestamp('2016-09-09 00:00:00'), Timestamp('2016-09-12 00:00:00'), Timestamp('2016-09-13 00:00:00'), Timestamp('2016-09-14 00:00:00'), Timestamp('2016-09-19 00:00:00'), Timestamp('2016-09-20 00:00:00'), Timestamp('2016-09-21 00:00:00'), Timestamp('2016-09-22 00:00:00'), Timestamp('2016-09-23 00:00:00'), Timestamp('2016-09-26 00:00:00'), Timestamp('2016-09-27 00:00:00'), Timestamp('2016-09-28 00:00:00'), Timestamp('2016-09-29 00:00:00'), Timestamp('2016-09-30 00:00:00'), Timestamp('2016-10-03 00:00:00'), Timestamp('2016-10-04 00:00:00'), Timestamp('2016-10-05 00:00:00'), Timestamp('2016-10-06 00:00:00'), Timestamp('2016-10-07 00:00:00'), Timestamp('2016-10-11 00:00:00'), Timestamp('2016-10-12 00:00:00'), Timestamp('2016-10-13 00:00:00'), Timestamp('2016-10-14 00:00:00'), Timestamp('2016-10-17 00:00:00'), Timestamp('2016-10-18 00:00:00'), Timestamp('2016-10-19 00:00:00'), Timestamp('2016-10-20 00:00:00'), Timestamp('2016-10-21 00:00:00'), Timestamp('2016-10-24 00:00:00'), Timestamp('2016-10-25 00:00:00'), Timestamp('2016-10-26 00:00:00'), Timestamp('2016-10-27 00:00:00'), Timestamp('2016-10-28 00:00:00'), Timestamp('2016-10-31 00:00:00'), Timestamp('2016-11-01 00:00:00'), Timestamp('2016-11-02 00:00:00'), Timestamp('2016-11-03 00:00:00'), Timestamp('2016-11-04 00:00:00'), Timestamp('2016-11-07 00:00:00'), Timestamp('2016-11-08 00:00:00'), Timestamp('2016-11-09 00:00:00'), Timestamp('2016-11-10 00:00:00'), Timestamp('2016-11-11 00:00:00'), Timestamp('2016-11-14 00:00:00'), Timestamp('2016-11-15 00:00:00'), Timestamp('2016-11-16 00:00:00'), Timestamp('2016-11-17 00:00:00'), Timestamp('2016-11-18 00:00:00'), Timestamp('2016-11-21 00:00:00'), Timestamp('2016-11-22 00:00:00'), Timestamp('2016-11-23 00:00:00'), Timestamp('2016-11-24 00:00:00'), Timestamp('2016-11-25 00:00:00'), Timestamp('2016-11-28 00:00:00'), Timestamp('2016-11-29 00:00:00'), Timestamp('2016-11-30 00:00:00'), Timestamp('2016-12-01 00:00:00'), Timestamp('2016-12-02 00:00:00'), Timestamp('2016-12-05 00:00:00'), Timestamp('2016-12-06 00:00:00'), Timestamp('2016-12-07 00:00:00'), Timestamp('2016-12-08 00:00:00'), Timestamp('2016-12-09 00:00:00'), Timestamp('2016-12-12 00:00:00'), Timestamp('2016-12-13 00:00:00'), Timestamp('2016-12-14 00:00:00'), Timestamp('2016-12-15 00:00:00'), Timestamp('2016-12-16 00:00:00'), Timestamp('2016-12-19 00:00:00'), Timestamp('2016-12-20 00:00:00'), Timestamp('2016-12-21 00:00:00'), Timestamp('2016-12-22 00:00:00'), Timestamp('2016-12-23 00:00:00'), Timestamp('2016-12-26 00:00:00'), Timestamp('2016-12-27 00:00:00'), Timestamp('2016-12-28 00:00:00'), Timestamp('2016-12-29 00:00:00'), Timestamp('2016-12-30 00:00:00'), Timestamp('2017-01-03 00:00:00'), Timestamp('2017-01-04 00:00:00'), Timestamp('2017-01-05 00:00:00'), Timestamp('2017-01-06 00:00:00'), Timestamp('2017-01-09 00:00:00'), Timestamp('2017-01-10 00:00:00'), Timestamp('2017-01-11 00:00:00'), Timestamp('2017-01-12 00:00:00'), Timestamp('2017-01-13 00:00:00'), Timestamp('2017-01-16 00:00:00'), Timestamp('2017-01-17 00:00:00'), Timestamp('2017-01-18 00:00:00'), Timestamp('2017-01-19 00:00:00'), Timestamp('2017-01-20 00:00:00'), Timestamp('2017-01-23 00:00:00'), Timestamp('2017-01-24 00:00:00'), Timestamp('2017-02-02 00:00:00'), Timestamp('2017-02-03 00:00:00'), Timestamp('2017-02-06 00:00:00'), Timestamp('2017-02-07 00:00:00'), Timestamp('2017-02-08 00:00:00'), Timestamp('2017-02-09 00:00:00'), Timestamp('2017-02-10 00:00:00'), Timestamp('2017-02-13 00:00:00'), Timestamp('2017-02-14 00:00:00'), Timestamp('2017-02-15 00:00:00'), Timestamp('2017-02-16 00:00:00'), Timestamp('2017-02-17 00:00:00'), Timestamp('2017-02-20 00:00:00'), Timestamp('2017-02-21 00:00:00'), Timestamp('2017-02-22 00:00:00'), Timestamp('2017-02-23 00:00:00'), Timestamp('2017-02-24 00:00:00'), Timestamp('2017-03-01 00:00:00'), Timestamp('2017-03-02 00:00:00'), Timestamp('2017-03-03 00:00:00'), Timestamp('2017-03-06 00:00:00'), Timestamp('2017-03-07 00:00:00'), Timestamp('2017-03-08 00:00:00'), Timestamp('2017-03-09 00:00:00'), Timestamp('2017-03-10 00:00:00'), Timestamp('2017-03-13 00:00:00'), Timestamp('2017-03-14 00:00:00'), Timestamp('2017-03-15 00:00:00'), Timestamp('2017-03-16 00:00:00'), Timestamp('2017-03-17 00:00:00'), Timestamp('2017-03-20 00:00:00'), Timestamp('2017-03-21 00:00:00'), Timestamp('2017-03-22 00:00:00'), Timestamp('2017-03-23 00:00:00'), Timestamp('2017-03-24 00:00:00'), Timestamp('2017-03-27 00:00:00'), Timestamp('2017-03-28 00:00:00'), Timestamp('2017-03-29 00:00:00'), Timestamp('2017-03-30 00:00:00'), Timestamp('2017-03-31 00:00:00'), Timestamp('2017-04-05 00:00:00'), Timestamp('2017-04-06 00:00:00'), Timestamp('2017-04-07 00:00:00'), Timestamp('2017-04-10 00:00:00'), Timestamp('2017-04-11 00:00:00'), Timestamp('2017-04-12 00:00:00'), Timestamp('2017-04-13 00:00:00'), Timestamp('2017-04-14 00:00:00'), Timestamp('2017-04-17 00:00:00'), Timestamp('2017-04-18 00:00:00'), Timestamp('2017-04-19 00:00:00'), Timestamp('2017-04-20 00:00:00'), Timestamp('2017-04-21 00:00:00'), Timestamp('2017-04-24 00:00:00'), Timestamp('2017-04-25 00:00:00'), Timestamp('2017-04-26 00:00:00'), Timestamp('2017-04-27 00:00:00'), Timestamp('2017-04-28 00:00:00'), Timestamp('2017-05-02 00:00:00'), Timestamp('2017-05-03 00:00:00'), Timestamp('2017-05-04 00:00:00'), Timestamp('2017-05-05 00:00:00'), Timestamp('2017-05-08 00:00:00'), Timestamp('2017-05-09 00:00:00'), Timestamp('2017-05-10 00:00:00'), Timestamp('2017-05-11 00:00:00'), Timestamp('2017-05-12 00:00:00'), Timestamp('2017-05-15 00:00:00'), Timestamp('2017-05-16 00:00:00'), Timestamp('2017-05-17 00:00:00'), Timestamp('2017-05-18 00:00:00'), Timestamp('2017-05-19 00:00:00'), Timestamp('2017-05-22 00:00:00'), Timestamp('2017-05-23 00:00:00'), Timestamp('2017-05-24 00:00:00'), Timestamp('2017-05-25 00:00:00'), Timestamp('2017-05-26 00:00:00'), Timestamp('2017-05-31 00:00:00'), Timestamp('2017-06-01 00:00:00'), Timestamp('2017-06-02 00:00:00'), Timestamp('2017-06-05 00:00:00'), Timestamp('2017-06-06 00:00:00'), Timestamp('2017-06-07 00:00:00'), Timestamp('2017-06-08 00:00:00'), Timestamp('2017-06-09 00:00:00'), Timestamp('2017-06-12 00:00:00'), Timestamp('2017-06-13 00:00:00'), Timestamp('2017-06-14 00:00:00'), Timestamp('2017-06-15 00:00:00'), Timestamp('2017-06-16 00:00:00'), Timestamp('2017-06-19 00:00:00'), Timestamp('2017-06-20 00:00:00'), Timestamp('2017-06-21 00:00:00'), Timestamp('2017-06-22 00:00:00'), Timestamp('2017-06-23 00:00:00'), Timestamp('2017-06-26 00:00:00'), Timestamp('2017-06-27 00:00:00'), Timestamp('2017-06-28 00:00:00'), Timestamp('2017-06-29 00:00:00'), Timestamp('2017-06-30 00:00:00'), Timestamp('2017-07-03 00:00:00'), Timestamp('2017-07-04 00:00:00'), Timestamp('2017-07-05 00:00:00'), Timestamp('2017-07-06 00:00:00'), Timestamp('2017-07-07 00:00:00'), Timestamp('2017-07-10 00:00:00'), Timestamp('2017-07-11 00:00:00'), Timestamp('2017-07-12 00:00:00'), Timestamp('2017-07-13 00:00:00'), Timestamp('2017-07-14 00:00:00'), Timestamp('2017-07-17 00:00:00'), Timestamp('2017-07-18 00:00:00'), Timestamp('2017-07-19 00:00:00'), Timestamp('2017-07-20 00:00:00'), Timestamp('2017-07-21 00:00:00'), Timestamp('2017-07-24 00:00:00'), Timestamp('2017-07-25 00:00:00'), Timestamp('2017-07-26 00:00:00'), Timestamp('2017-07-27 00:00:00'), Timestamp('2017-07-28 00:00:00'), Timestamp('2017-07-31 00:00:00'), Timestamp('2017-08-01 00:00:00'), Timestamp('2017-08-02 00:00:00'), Timestamp('2017-08-03 00:00:00'), Timestamp('2017-08-04 00:00:00'), Timestamp('2017-08-07 00:00:00'), Timestamp('2017-08-08 00:00:00'), Timestamp('2017-08-09 00:00:00'), Timestamp('2017-08-10 00:00:00'), Timestamp('2017-08-11 00:00:00'), Timestamp('2017-08-14 00:00:00'), Timestamp('2017-08-15 00:00:00'), Timestamp('2017-08-16 00:00:00'), Timestamp('2017-08-17 00:00:00'), Timestamp('2017-08-18 00:00:00'), Timestamp('2017-08-21 00:00:00'), Timestamp('2017-08-22 00:00:00'), Timestamp('2017-08-23 00:00:00'), Timestamp('2017-08-24 00:00:00'), Timestamp('2017-08-25 00:00:00'), Timestamp('2017-08-28 00:00:00'), Timestamp('2017-08-29 00:00:00'), Timestamp('2017-08-30 00:00:00'), Timestamp('2017-08-31 00:00:00'), Timestamp('2017-09-01 00:00:00'), Timestamp('2017-09-04 00:00:00'), Timestamp('2017-09-05 00:00:00'), Timestamp('2017-09-06 00:00:00'), Timestamp('2017-09-07 00:00:00'), Timestamp('2017-09-08 00:00:00'), Timestamp('2017-09-11 00:00:00'), Timestamp('2017-09-12 00:00:00'), Timestamp('2017-09-13 00:00:00'), Timestamp('2017-09-14 00:00:00'), Timestamp('2017-09-15 00:00:00'), Timestamp('2017-09-18 00:00:00'), Timestamp('2017-09-19 00:00:00'), Timestamp('2017-09-20 00:00:00'), Timestamp('2017-09-21 00:00:00'), Timestamp('2017-09-22 00:00:00'), Timestamp('2017-09-25 00:00:00'), Timestamp('2017-09-26 00:00:00'), Timestamp('2017-09-27 00:00:00'), Timestamp('2017-09-28 00:00:00'), Timestamp('2017-09-29 00:00:00'), Timestamp('2017-10-02 00:00:00'), Timestamp('2017-10-03 00:00:00'), Timestamp('2017-10-05 00:00:00'), Timestamp('2017-10-06 00:00:00'), Timestamp('2017-10-11 00:00:00'), Timestamp('2017-10-12 00:00:00'), Timestamp('2017-10-13 00:00:00'), Timestamp('2017-10-16 00:00:00'), Timestamp('2017-10-17 00:00:00'), Timestamp('2017-10-18 00:00:00'), Timestamp('2017-10-19 00:00:00'), Timestamp('2017-10-20 00:00:00'), Timestamp('2017-10-23 00:00:00'), Timestamp('2017-10-24 00:00:00'), Timestamp('2017-10-25 00:00:00'), Timestamp('2017-10-26 00:00:00'), Timestamp('2017-10-27 00:00:00'), Timestamp('2017-10-30 00:00:00'), Timestamp('2017-10-31 00:00:00'), Timestamp('2017-11-01 00:00:00'), Timestamp('2017-11-02 00:00:00'), Timestamp('2017-11-03 00:00:00'), Timestamp('2017-11-06 00:00:00'), Timestamp('2017-11-07 00:00:00'), Timestamp('2017-11-08 00:00:00'), Timestamp('2017-11-09 00:00:00'), Timestamp('2017-11-10 00:00:00'), Timestamp('2017-11-13 00:00:00'), Timestamp('2017-11-14 00:00:00'), Timestamp('2017-11-15 00:00:00'), Timestamp('2017-11-16 00:00:00'), Timestamp('2017-11-17 00:00:00'), Timestamp('2017-11-20 00:00:00'), Timestamp('2017-11-21 00:00:00'), Timestamp('2017-11-22 00:00:00'), Timestamp('2017-11-23 00:00:00'), Timestamp('2017-11-24 00:00:00'), Timestamp('2017-11-27 00:00:00'), Timestamp('2017-11-28 00:00:00'), Timestamp('2017-11-29 00:00:00'), Timestamp('2017-11-30 00:00:00'), Timestamp('2017-12-01 00:00:00'), Timestamp('2017-12-04 00:00:00'), Timestamp('2017-12-05 00:00:00'), Timestamp('2017-12-06 00:00:00'), Timestamp('2017-12-07 00:00:00'), Timestamp('2017-12-08 00:00:00'), Timestamp('2017-12-11 00:00:00'), Timestamp('2017-12-12 00:00:00'), Timestamp('2017-12-13 00:00:00'), Timestamp('2017-12-14 00:00:00'), Timestamp('2017-12-15 00:00:00'), Timestamp('2017-12-18 00:00:00'), Timestamp('2017-12-19 00:00:00'), Timestamp('2017-12-20 00:00:00'), Timestamp('2017-12-21 00:00:00'), Timestamp('2017-12-22 00:00:00'), Timestamp('2017-12-25 00:00:00'), Timestamp('2017-12-26 00:00:00'), Timestamp('2017-12-27 00:00:00'), Timestamp('2017-12-28 00:00:00'), Timestamp('2017-12-29 00:00:00'), Timestamp('2018-01-02 00:00:00'), Timestamp('2018-01-03 00:00:00'), Timestamp('2018-01-04 00:00:00'), Timestamp('2018-01-05 00:00:00'), Timestamp('2018-01-08 00:00:00'), Timestamp('2018-01-09 00:00:00'), Timestamp('2018-01-10 00:00:00'), Timestamp('2018-01-11 00:00:00'), Timestamp('2018-01-12 00:00:00'), Timestamp('2018-01-15 00:00:00'), Timestamp('2018-01-16 00:00:00'), Timestamp('2018-01-17 00:00:00'), Timestamp('2018-01-18 00:00:00'), Timestamp('2018-01-19 00:00:00'), Timestamp('2018-01-22 00:00:00'), Timestamp('2018-01-23 00:00:00'), Timestamp('2018-01-24 00:00:00'), Timestamp('2018-01-25 00:00:00'), Timestamp('2018-01-26 00:00:00'), Timestamp('2018-01-29 00:00:00'), Timestamp('2018-01-30 00:00:00'), Timestamp('2018-01-31 00:00:00'), Timestamp('2018-02-01 00:00:00'), Timestamp('2018-02-02 00:00:00'), Timestamp('2018-02-05 00:00:00'), Timestamp('2018-02-06 00:00:00'), Timestamp('2018-02-07 00:00:00'), Timestamp('2018-02-08 00:00:00'), Timestamp('2018-02-09 00:00:00'), Timestamp('2018-02-12 00:00:00'), Timestamp('2018-02-21 00:00:00'), Timestamp('2018-02-22 00:00:00'), Timestamp('2018-02-23 00:00:00'), Timestamp('2018-02-26 00:00:00'), Timestamp('2018-02-27 00:00:00'), Timestamp('2018-03-01 00:00:00'), Timestamp('2018-03-02 00:00:00'), Timestamp('2018-03-05 00:00:00'), Timestamp('2018-03-06 00:00:00'), Timestamp('2018-03-07 00:00:00'), Timestamp('2018-03-08 00:00:00'), Timestamp('2018-03-09 00:00:00'), Timestamp('2018-03-12 00:00:00'), Timestamp('2018-03-13 00:00:00'), Timestamp('2018-03-14 00:00:00'), Timestamp('2018-03-15 00:00:00'), Timestamp('2018-03-16 00:00:00'), Timestamp('2018-03-19 00:00:00'), Timestamp('2018-03-20 00:00:00'), Timestamp('2018-03-21 00:00:00'), Timestamp('2018-03-22 00:00:00'), Timestamp('2018-03-23 00:00:00'), Timestamp('2018-03-26 00:00:00'), Timestamp('2018-03-27 00:00:00'), Timestamp('2018-03-28 00:00:00'), Timestamp('2018-03-29 00:00:00'), Timestamp('2018-03-30 00:00:00'), Timestamp('2018-04-02 00:00:00'), Timestamp('2018-04-03 00:00:00'), Timestamp('2018-04-09 00:00:00'), Timestamp('2018-04-10 00:00:00'), Timestamp('2018-04-11 00:00:00'), Timestamp('2018-04-12 00:00:00'), Timestamp('2018-04-13 00:00:00'), Timestamp('2018-04-16 00:00:00'), Timestamp('2018-04-17 00:00:00'), Timestamp('2018-04-18 00:00:00'), Timestamp('2018-04-19 00:00:00'), Timestamp('2018-04-20 00:00:00'), Timestamp('2018-04-23 00:00:00'), Timestamp('2018-04-24 00:00:00'), Timestamp('2018-04-25 00:00:00'), Timestamp('2018-04-26 00:00:00'), Timestamp('2018-04-27 00:00:00'), Timestamp('2018-04-30 00:00:00'), Timestamp('2018-05-02 00:00:00'), Timestamp('2018-05-03 00:00:00'), Timestamp('2018-05-04 00:00:00'), Timestamp('2018-05-07 00:00:00'), Timestamp('2018-05-08 00:00:00'), Timestamp('2018-05-09 00:00:00'), Timestamp('2018-05-10 00:00:00'), Timestamp('2018-05-11 00:00:00'), Timestamp('2018-05-14 00:00:00'), Timestamp('2018-05-15 00:00:00'), Timestamp('2018-05-16 00:00:00'), Timestamp('2018-05-17 00:00:00'), Timestamp('2018-05-18 00:00:00'), Timestamp('2018-05-21 00:00:00'), Timestamp('2018-05-22 00:00:00'), Timestamp('2018-05-23 00:00:00'), Timestamp('2018-05-24 00:00:00'), Timestamp('2018-05-25 00:00:00'), Timestamp('2018-05-28 00:00:00'), Timestamp('2018-05-29 00:00:00'), Timestamp('2018-05-30 00:00:00'), Timestamp('2018-05-31 00:00:00'), Timestamp('2018-06-01 00:00:00'), Timestamp('2018-06-04 00:00:00'), Timestamp('2018-06-05 00:00:00'), Timestamp('2018-06-06 00:00:00'), Timestamp('2018-06-07 00:00:00'), Timestamp('2018-06-08 00:00:00'), Timestamp('2018-06-11 00:00:00'), Timestamp('2018-06-12 00:00:00'), Timestamp('2018-06-13 00:00:00'), Timestamp('2018-06-14 00:00:00'), Timestamp('2018-06-15 00:00:00'), Timestamp('2018-06-19 00:00:00'), Timestamp('2018-06-20 00:00:00'), Timestamp('2018-06-21 00:00:00'), Timestamp('2018-06-22 00:00:00'), Timestamp('2018-06-25 00:00:00'), Timestamp('2018-06-26 00:00:00'), Timestamp('2018-06-27 00:00:00'), Timestamp('2018-06-28 00:00:00'), Timestamp('2018-06-29 00:00:00'), Timestamp('2018-07-02 00:00:00'), Timestamp('2018-07-03 00:00:00'), Timestamp('2018-07-04 00:00:00'), Timestamp('2018-07-05 00:00:00'), Timestamp('2018-07-06 00:00:00'), Timestamp('2018-07-09 00:00:00'), Timestamp('2018-07-10 00:00:00'), Timestamp('2018-07-11 00:00:00'), Timestamp('2018-07-12 00:00:00'), Timestamp('2018-07-13 00:00:00'), Timestamp('2018-07-16 00:00:00'), Timestamp('2018-07-17 00:00:00'), Timestamp('2018-07-18 00:00:00'), Timestamp('2018-07-19 00:00:00'), Timestamp('2018-07-20 00:00:00'), Timestamp('2018-07-23 00:00:00'), Timestamp('2018-07-24 00:00:00'), Timestamp('2018-07-25 00:00:00'), Timestamp('2018-07-26 00:00:00'), Timestamp('2018-07-27 00:00:00'), Timestamp('2018-07-30 00:00:00'), Timestamp('2018-07-31 00:00:00'), Timestamp('2018-08-01 00:00:00'), Timestamp('2018-08-02 00:00:00'), Timestamp('2018-08-03 00:00:00'), Timestamp('2018-08-06 00:00:00'), Timestamp('2018-08-07 00:00:00'), Timestamp('2018-08-08 00:00:00'), Timestamp('2018-08-09 00:00:00'), Timestamp('2018-08-10 00:00:00'), Timestamp('2018-08-13 00:00:00'), Timestamp('2018-08-14 00:00:00'), Timestamp('2018-08-15 00:00:00'), Timestamp('2018-08-16 00:00:00'), Timestamp('2018-08-17 00:00:00'), Timestamp('2018-08-20 00:00:00'), Timestamp('2018-08-21 00:00:00'), Timestamp('2018-08-22 00:00:00'), Timestamp('2018-08-23 00:00:00'), Timestamp('2018-08-24 00:00:00'), Timestamp('2018-08-27 00:00:00'), Timestamp('2018-08-28 00:00:00'), Timestamp('2018-08-29 00:00:00'), Timestamp('2018-08-30 00:00:00'), Timestamp('2018-08-31 00:00:00'), Timestamp('2018-09-03 00:00:00'), Timestamp('2018-09-04 00:00:00'), Timestamp('2018-09-05 00:00:00'), Timestamp('2018-09-06 00:00:00'), Timestamp('2018-09-07 00:00:00'), Timestamp('2018-09-10 00:00:00'), Timestamp('2018-09-11 00:00:00'), Timestamp('2018-09-12 00:00:00'), Timestamp('2018-09-13 00:00:00'), Timestamp('2018-09-14 00:00:00'), Timestamp('2018-09-17 00:00:00'), Timestamp('2018-09-18 00:00:00'), Timestamp('2018-09-19 00:00:00'), Timestamp('2018-09-20 00:00:00'), Timestamp('2018-09-21 00:00:00'), Timestamp('2018-09-25 00:00:00'), Timestamp('2018-09-26 00:00:00'), Timestamp('2018-09-27 00:00:00'), Timestamp('2018-09-28 00:00:00'), Timestamp('2018-10-01 00:00:00'), Timestamp('2018-10-02 00:00:00'), Timestamp('2018-10-03 00:00:00'), Timestamp('2018-10-04 00:00:00'), Timestamp('2018-10-05 00:00:00'), Timestamp('2018-10-08 00:00:00'), Timestamp('2018-10-09 00:00:00'), Timestamp('2018-10-11 00:00:00'), Timestamp('2018-10-12 00:00:00'), Timestamp('2018-10-15 00:00:00'), Timestamp('2018-10-16 00:00:00'), Timestamp('2018-10-17 00:00:00'), Timestamp('2018-10-18 00:00:00'), Timestamp('2018-10-19 00:00:00'), Timestamp('2018-10-22 00:00:00'), Timestamp('2018-10-23 00:00:00'), Timestamp('2018-10-24 00:00:00'), Timestamp('2018-10-25 00:00:00'), Timestamp('2018-10-26 00:00:00'), Timestamp('2018-10-29 00:00:00'), Timestamp('2018-10-30 00:00:00'), Timestamp('2018-10-31 00:00:00'), Timestamp('2018-11-01 00:00:00'), Timestamp('2018-11-02 00:00:00'), Timestamp('2018-11-05 00:00:00'), Timestamp('2018-11-06 00:00:00'), Timestamp('2018-11-07 00:00:00'), Timestamp('2018-11-08 00:00:00'), Timestamp('2018-11-09 00:00:00'), Timestamp('2018-11-12 00:00:00'), Timestamp('2018-11-13 00:00:00'), Timestamp('2018-11-14 00:00:00'), Timestamp('2018-11-15 00:00:00'), Timestamp('2018-11-16 00:00:00'), Timestamp('2018-11-19 00:00:00'), Timestamp('2018-11-20 00:00:00'), Timestamp('2018-11-21 00:00:00'), Timestamp('2018-11-22 00:00:00'), Timestamp('2018-11-23 00:00:00'), Timestamp('2018-11-26 00:00:00'), Timestamp('2018-11-27 00:00:00'), Timestamp('2018-11-28 00:00:00'), Timestamp('2018-11-29 00:00:00'), Timestamp('2018-11-30 00:00:00'), Timestamp('2018-12-03 00:00:00'), Timestamp('2018-12-04 00:00:00'), Timestamp('2018-12-05 00:00:00'), Timestamp('2018-12-06 00:00:00'), Timestamp('2018-12-07 00:00:00'), Timestamp('2018-12-10 00:00:00'), Timestamp('2018-12-11 00:00:00'), Timestamp('2018-12-12 00:00:00'), Timestamp('2018-12-13 00:00:00'), Timestamp('2018-12-14 00:00:00'), Timestamp('2018-12-17 00:00:00'), Timestamp('2018-12-18 00:00:00'), Timestamp('2018-12-19 00:00:00'), Timestamp('2018-12-20 00:00:00'), Timestamp('2018-12-21 00:00:00'), Timestamp('2018-12-24 00:00:00'), Timestamp('2018-12-25 00:00:00'), Timestamp('2018-12-26 00:00:00'), Timestamp('2018-12-27 00:00:00'), Timestamp('2018-12-28 00:00:00'), Timestamp('2019-01-02 00:00:00'), Timestamp('2019-01-03 00:00:00'), Timestamp('2019-01-04 00:00:00'), Timestamp('2019-01-07 00:00:00'), Timestamp('2019-01-08 00:00:00'), Timestamp('2019-01-09 00:00:00'), Timestamp('2019-01-10 00:00:00'), Timestamp('2019-01-11 00:00:00'), Timestamp('2019-01-14 00:00:00'), Timestamp('2019-01-15 00:00:00'), Timestamp('2019-01-16 00:00:00'), Timestamp('2019-01-17 00:00:00'), Timestamp('2019-01-18 00:00:00'), Timestamp('2019-01-21 00:00:00'), Timestamp('2019-01-22 00:00:00'), Timestamp('2019-01-23 00:00:00'), Timestamp('2019-01-24 00:00:00'), Timestamp('2019-01-25 00:00:00'), Timestamp('2019-01-28 00:00:00'), Timestamp('2019-01-29 00:00:00'), Timestamp('2019-01-30 00:00:00'), Timestamp('2019-02-11 00:00:00'), Timestamp('2019-02-12 00:00:00'), Timestamp('2019-02-13 00:00:00'), Timestamp('2019-02-14 00:00:00'), Timestamp('2019-02-15 00:00:00'), Timestamp('2019-02-18 00:00:00'), Timestamp('2019-02-19 00:00:00'), Timestamp('2019-02-20 00:00:00'), Timestamp('2019-02-21 00:00:00'), Timestamp('2019-02-22 00:00:00'), Timestamp('2019-02-25 00:00:00'), Timestamp('2019-02-26 00:00:00'), Timestamp('2019-02-27 00:00:00'), Timestamp('2019-03-04 00:00:00'), Timestamp('2019-03-05 00:00:00'), Timestamp('2019-03-06 00:00:00'), Timestamp('2019-03-07 00:00:00'), Timestamp('2019-03-08 00:00:00'), Timestamp('2019-03-11 00:00:00'), Timestamp('2019-03-12 00:00:00'), Timestamp('2019-03-13 00:00:00'), Timestamp('2019-03-14 00:00:00'), Timestamp('2019-03-15 00:00:00'), Timestamp('2019-03-18 00:00:00'), Timestamp('2019-03-19 00:00:00'), Timestamp('2019-03-20 00:00:00'), Timestamp('2019-03-21 00:00:00'), Timestamp('2019-03-22 00:00:00'), Timestamp('2019-03-25 00:00:00'), Timestamp('2019-03-26 00:00:00'), Timestamp('2019-03-27 00:00:00'), Timestamp('2019-03-28 00:00:00'), Timestamp('2019-03-29 00:00:00'), Timestamp('2019-04-01 00:00:00'), Timestamp('2019-04-02 00:00:00'), Timestamp('2019-04-03 00:00:00'), Timestamp('2019-04-08 00:00:00'), Timestamp('2019-04-09 00:00:00'), Timestamp('2019-04-10 00:00:00'), Timestamp('2019-04-11 00:00:00'), Timestamp('2019-04-12 00:00:00'), Timestamp('2019-04-15 00:00:00'), Timestamp('2019-04-16 00:00:00'), Timestamp('2019-04-17 00:00:00'), Timestamp('2019-04-18 00:00:00'), Timestamp('2019-04-19 00:00:00'), Timestamp('2019-04-22 00:00:00'), Timestamp('2019-04-23 00:00:00'), Timestamp('2019-04-24 00:00:00'), Timestamp('2019-04-25 00:00:00'), Timestamp('2019-04-26 00:00:00'), Timestamp('2019-04-29 00:00:00'), Timestamp('2019-04-30 00:00:00'), Timestamp('2019-05-02 00:00:00'), Timestamp('2019-05-03 00:00:00'), Timestamp('2019-05-06 00:00:00'), Timestamp('2019-05-07 00:00:00'), Timestamp('2019-05-08 00:00:00'), Timestamp('2019-05-09 00:00:00'), Timestamp('2019-05-10 00:00:00'), Timestamp('2019-05-13 00:00:00'), Timestamp('2019-05-14 00:00:00'), Timestamp('2019-05-15 00:00:00'), Timestamp('2019-05-16 00:00:00'), Timestamp('2019-05-17 00:00:00'), Timestamp('2019-05-20 00:00:00'), Timestamp('2019-05-21 00:00:00'), Timestamp('2019-05-22 00:00:00'), Timestamp('2019-05-23 00:00:00'), Timestamp('2019-05-24 00:00:00'), Timestamp('2019-05-27 00:00:00'), Timestamp('2019-05-28 00:00:00'), Timestamp('2019-05-29 00:00:00'), Timestamp('2019-05-30 00:00:00'), Timestamp('2019-05-31 00:00:00'), Timestamp('2019-06-03 00:00:00'), Timestamp('2019-06-04 00:00:00'), Timestamp('2019-06-05 00:00:00'), Timestamp('2019-06-06 00:00:00'), Timestamp('2019-06-10 00:00:00'), Timestamp('2019-06-11 00:00:00'), Timestamp('2019-06-12 00:00:00'), Timestamp('2019-06-13 00:00:00'), Timestamp('2019-06-14 00:00:00'), Timestamp('2019-06-17 00:00:00'), Timestamp('2019-06-18 00:00:00'), Timestamp('2019-06-19 00:00:00'), Timestamp('2019-06-20 00:00:00'), Timestamp('2019-06-21 00:00:00'), Timestamp('2019-06-24 00:00:00'), Timestamp('2019-06-25 00:00:00'), Timestamp('2019-06-26 00:00:00'), Timestamp('2019-06-27 00:00:00'), Timestamp('2019-06-28 00:00:00'), Timestamp('2019-07-01 00:00:00'), Timestamp('2019-07-02 00:00:00'), Timestamp('2019-07-03 00:00:00'), Timestamp('2019-07-04 00:00:00'), Timestamp('2019-07-05 00:00:00'), Timestamp('2019-07-08 00:00:00'), Timestamp('2019-07-09 00:00:00'), Timestamp('2019-07-10 00:00:00'), Timestamp('2019-07-11 00:00:00'), Timestamp('2019-07-12 00:00:00'), Timestamp('2019-07-15 00:00:00'), Timestamp('2019-07-16 00:00:00'), Timestamp('2019-07-17 00:00:00'), Timestamp('2019-07-18 00:00:00'), Timestamp('2019-07-19 00:00:00'), Timestamp('2019-07-22 00:00:00'), Timestamp('2019-07-23 00:00:00'), Timestamp('2019-07-24 00:00:00'), Timestamp('2019-07-25 00:00:00'), Timestamp('2019-07-26 00:00:00'), Timestamp('2019-07-29 00:00:00'), Timestamp('2019-07-30 00:00:00'), Timestamp('2019-07-31 00:00:00'), Timestamp('2019-08-01 00:00:00'), Timestamp('2019-08-02 00:00:00'), Timestamp('2019-08-05 00:00:00'), Timestamp('2019-08-06 00:00:00'), Timestamp('2019-08-07 00:00:00'), Timestamp('2019-08-08 00:00:00'), Timestamp('2019-08-12 00:00:00'), Timestamp('2019-08-13 00:00:00'), Timestamp('2019-08-14 00:00:00'), Timestamp('2019-08-15 00:00:00'), Timestamp('2019-08-16 00:00:00'), Timestamp('2019-08-19 00:00:00'), Timestamp('2019-08-20 00:00:00'), Timestamp('2019-08-21 00:00:00'), Timestamp('2019-08-22 00:00:00'), Timestamp('2019-08-23 00:00:00'), Timestamp('2019-08-26 00:00:00'), Timestamp('2019-08-27 00:00:00'), Timestamp('2019-08-28 00:00:00'), Timestamp('2019-08-29 00:00:00'), Timestamp('2019-08-30 00:00:00'), Timestamp('2019-09-02 00:00:00'), Timestamp('2019-09-03 00:00:00'), Timestamp('2019-09-04 00:00:00'), Timestamp('2019-09-05 00:00:00'), Timestamp('2019-09-06 00:00:00'), Timestamp('2019-09-10 00:00:00'), Timestamp('2019-09-11 00:00:00'), Timestamp('2019-09-12 00:00:00'), Timestamp('2019-09-16 00:00:00'), Timestamp('2019-09-17 00:00:00'), Timestamp('2019-09-18 00:00:00'), Timestamp('2019-09-19 00:00:00'), Timestamp('2019-09-20 00:00:00'), Timestamp('2019-09-23 00:00:00'), Timestamp('2019-09-24 00:00:00'), Timestamp('2019-09-25 00:00:00'), Timestamp('2019-09-26 00:00:00'), Timestamp('2019-09-27 00:00:00'), Timestamp('2019-10-01 00:00:00'), Timestamp('2019-10-02 00:00:00'), Timestamp('2019-10-03 00:00:00'), Timestamp('2019-10-04 00:00:00'), Timestamp('2019-10-07 00:00:00'), Timestamp('2019-10-08 00:00:00'), Timestamp('2019-10-09 00:00:00'), Timestamp('2019-10-14 00:00:00'), Timestamp('2019-10-15 00:00:00'), Timestamp('2019-10-16 00:00:00'), Timestamp('2019-10-17 00:00:00'), Timestamp('2019-10-18 00:00:00'), Timestamp('2019-10-21 00:00:00'), Timestamp('2019-10-22 00:00:00'), Timestamp('2019-10-23 00:00:00'), Timestamp('2019-10-24 00:00:00'), Timestamp('2019-10-25 00:00:00'), Timestamp('2019-10-28 00:00:00'), Timestamp('2019-10-29 00:00:00'), Timestamp('2019-10-30 00:00:00'), Timestamp('2019-10-31 00:00:00'), Timestamp('2019-11-01 00:00:00'), Timestamp('2019-11-04 00:00:00'), Timestamp('2019-11-05 00:00:00'), Timestamp('2019-11-06 00:00:00'), Timestamp('2019-11-07 00:00:00'), Timestamp('2019-11-08 00:00:00'), Timestamp('2019-11-11 00:00:00'), Timestamp('2019-11-12 00:00:00'), Timestamp('2019-11-13 00:00:00'), Timestamp('2019-11-14 00:00:00'), Timestamp('2019-11-15 00:00:00'), Timestamp('2019-11-18 00:00:00'), Timestamp('2019-11-19 00:00:00'), Timestamp('2019-11-20 00:00:00'), Timestamp('2019-11-21 00:00:00'), Timestamp('2019-11-22 00:00:00'), Timestamp('2019-11-25 00:00:00'), Timestamp('2019-11-26 00:00:00'), Timestamp('2019-11-27 00:00:00'), Timestamp('2019-11-28 00:00:00'), Timestamp('2019-11-29 00:00:00'), Timestamp('2019-12-02 00:00:00'), Timestamp('2019-12-03 00:00:00'), Timestamp('2019-12-04 00:00:00'), Timestamp('2019-12-05 00:00:00'), Timestamp('2019-12-06 00:00:00'), Timestamp('2019-12-09 00:00:00'), Timestamp('2019-12-10 00:00:00'), Timestamp('2019-12-11 00:00:00'), Timestamp('2019-12-12 00:00:00'), Timestamp('2019-12-13 00:00:00'), Timestamp('2019-12-16 00:00:00'), Timestamp('2019-12-17 00:00:00'), Timestamp('2019-12-18 00:00:00'), Timestamp('2019-12-19 00:00:00'), Timestamp('2019-12-20 00:00:00'), Timestamp('2019-12-23 00:00:00'), Timestamp('2019-12-24 00:00:00'), Timestamp('2019-12-25 00:00:00'), Timestamp('2019-12-26 00:00:00'), Timestamp('2019-12-27 00:00:00'), Timestamp('2019-12-30 00:00:00'), Timestamp('2019-12-31 00:00:00'), Timestamp('2020-01-02 00:00:00'), Timestamp('2020-01-03 00:00:00'), Timestamp('2020-01-06 00:00:00'), Timestamp('2020-01-07 00:00:00'), Timestamp('2020-01-08 00:00:00'), Timestamp('2020-01-09 00:00:00'), Timestamp('2020-01-10 00:00:00'), Timestamp('2020-01-13 00:00:00'), Timestamp('2020-01-14 00:00:00'), Timestamp('2020-01-15 00:00:00'), Timestamp('2020-01-16 00:00:00'), Timestamp('2020-01-17 00:00:00'), Timestamp('2020-01-20 00:00:00'), Timestamp('2020-01-30 00:00:00'), Timestamp('2020-01-31 00:00:00'), Timestamp('2020-02-03 00:00:00'), Timestamp('2020-02-04 00:00:00'), Timestamp('2020-02-05 00:00:00'), Timestamp('2020-02-06 00:00:00'), Timestamp('2020-02-07 00:00:00'), Timestamp('2020-02-10 00:00:00'), Timestamp('2020-02-11 00:00:00'), Timestamp('2020-02-12 00:00:00'), Timestamp('2020-02-13 00:00:00'), Timestamp('2020-02-14 00:00:00'), Timestamp('2020-02-17 00:00:00'), Timestamp('2020-02-18 00:00:00'), Timestamp('2020-02-19 00:00:00'), Timestamp('2020-02-20 00:00:00'), Timestamp('2020-02-21 00:00:00'), Timestamp('2020-02-24 00:00:00'), Timestamp('2020-02-25 00:00:00'), Timestamp('2020-02-26 00:00:00'), Timestamp('2020-02-27 00:00:00'), Timestamp('2020-03-02 00:00:00'), Timestamp('2020-03-03 00:00:00'), Timestamp('2020-03-04 00:00:00'), Timestamp('2020-03-05 00:00:00'), Timestamp('2020-03-06 00:00:00'), Timestamp('2020-03-09 00:00:00'), Timestamp('2020-03-10 00:00:00'), Timestamp('2020-03-11 00:00:00'), Timestamp('2020-03-12 00:00:00'), Timestamp('2020-03-13 00:00:00'), Timestamp('2020-03-16 00:00:00'), Timestamp('2020-03-17 00:00:00'), Timestamp('2020-03-18 00:00:00'), Timestamp('2020-03-19 00:00:00'), Timestamp('2020-03-20 00:00:00'), Timestamp('2020-03-23 00:00:00'), Timestamp('2020-03-24 00:00:00'), Timestamp('2020-03-25 00:00:00'), Timestamp('2020-03-26 00:00:00'), Timestamp('2020-03-27 00:00:00'), Timestamp('2020-03-30 00:00:00'), Timestamp('2020-03-31 00:00:00'), Timestamp('2020-04-01 00:00:00'), Timestamp('2020-04-06 00:00:00'), Timestamp('2020-04-07 00:00:00'), Timestamp('2020-04-08 00:00:00'), Timestamp('2020-04-09 00:00:00'), Timestamp('2020-04-10 00:00:00'), Timestamp('2020-04-13 00:00:00'), Timestamp('2020-04-14 00:00:00'), Timestamp('2020-04-15 00:00:00'), Timestamp('2020-04-16 00:00:00'), Timestamp('2020-04-17 00:00:00'), Timestamp('2020-04-20 00:00:00'), Timestamp('2020-04-21 00:00:00'), Timestamp('2020-04-22 00:00:00'), Timestamp('2020-04-23 00:00:00'), Timestamp('2020-04-24 00:00:00'), Timestamp('2020-04-27 00:00:00'), Timestamp('2020-04-28 00:00:00'), Timestamp('2020-04-29 00:00:00'), Timestamp('2020-04-30 00:00:00'), Timestamp('2020-05-04 00:00:00'), Timestamp('2020-05-05 00:00:00'), Timestamp('2020-05-06 00:00:00'), Timestamp('2020-05-07 00:00:00'), Timestamp('2020-05-08 00:00:00'), Timestamp('2020-05-11 00:00:00'), Timestamp('2020-05-12 00:00:00'), Timestamp('2020-05-13 00:00:00'), Timestamp('2020-05-14 00:00:00'), Timestamp('2020-05-15 00:00:00'), Timestamp('2020-05-18 00:00:00'), Timestamp('2020-05-19 00:00:00'), Timestamp('2020-05-20 00:00:00'), Timestamp('2020-05-21 00:00:00'), Timestamp('2020-05-22 00:00:00'), Timestamp('2020-05-25 00:00:00'), Timestamp('2020-05-26 00:00:00'), Timestamp('2020-05-27 00:00:00'), Timestamp('2020-05-28 00:00:00'), Timestamp('2020-05-29 00:00:00'), Timestamp('2020-06-01 00:00:00'), Timestamp('2020-06-02 00:00:00'), Timestamp('2020-06-03 00:00:00'), Timestamp('2020-06-04 00:00:00'), Timestamp('2020-06-05 00:00:00'), Timestamp('2020-06-08 00:00:00'), Timestamp('2020-06-09 00:00:00'), Timestamp('2020-06-10 00:00:00'), Timestamp('2020-06-11 00:00:00'), Timestamp('2020-06-12 00:00:00'), Timestamp('2020-06-15 00:00:00'), Timestamp('2020-06-16 00:00:00'), Timestamp('2020-06-17 00:00:00'), Timestamp('2020-06-18 00:00:00'), Timestamp('2020-06-19 00:00:00'), Timestamp('2020-06-22 00:00:00'), Timestamp('2020-06-23 00:00:00'), Timestamp('2020-06-24 00:00:00'), Timestamp('2020-06-29 00:00:00'), Timestamp('2020-06-30 00:00:00'), Timestamp('2020-07-01 00:00:00'), Timestamp('2020-07-02 00:00:00'), Timestamp('2020-07-03 00:00:00'), Timestamp('2020-07-06 00:00:00'), Timestamp('2020-07-07 00:00:00'), Timestamp('2020-07-08 00:00:00'), Timestamp('2020-07-09 00:00:00'), Timestamp('2020-07-10 00:00:00'), Timestamp('2020-07-13 00:00:00'), Timestamp('2020-07-14 00:00:00'), Timestamp('2020-07-15 00:00:00'), Timestamp('2020-07-16 00:00:00'), Timestamp('2020-07-17 00:00:00'), Timestamp('2020-07-20 00:00:00'), Timestamp('2020-07-21 00:00:00'), Timestamp('2020-07-22 00:00:00'), Timestamp('2020-07-23 00:00:00'), Timestamp('2020-07-24 00:00:00'), Timestamp('2020-07-27 00:00:00'), Timestamp('2020-07-28 00:00:00'), Timestamp('2020-07-29 00:00:00'), Timestamp('2020-07-30 00:00:00'), Timestamp('2020-07-31 00:00:00'), Timestamp('2020-08-03 00:00:00'), Timestamp('2020-08-04 00:00:00'), Timestamp('2020-08-05 00:00:00'), Timestamp('2020-08-06 00:00:00'), Timestamp('2020-08-07 00:00:00'), Timestamp('2020-08-10 00:00:00'), Timestamp('2020-08-11 00:00:00'), Timestamp('2020-08-12 00:00:00'), Timestamp('2020-08-13 00:00:00'), Timestamp('2020-08-14 00:00:00'), Timestamp('2020-08-17 00:00:00'), Timestamp('2020-08-18 00:00:00'), Timestamp('2020-08-19 00:00:00'), Timestamp('2020-08-20 00:00:00'), Timestamp('2020-08-21 00:00:00'), Timestamp('2020-08-24 00:00:00'), Timestamp('2020-08-25 00:00:00'), Timestamp('2020-08-26 00:00:00'), Timestamp('2020-08-27 00:00:00'), Timestamp('2020-08-28 00:00:00'), Timestamp('2020-08-31 00:00:00'), Timestamp('2020-09-01 00:00:00'), Timestamp('2020-09-02 00:00:00'), Timestamp('2020-09-03 00:00:00'), Timestamp('2020-09-04 00:00:00'), Timestamp('2020-09-07 00:00:00'), Timestamp('2020-09-08 00:00:00'), Timestamp('2020-09-09 00:00:00'), Timestamp('2020-09-10 00:00:00'), Timestamp('2020-09-11 00:00:00'), Timestamp('2020-09-14 00:00:00'), Timestamp('2020-09-15 00:00:00'), Timestamp('2020-09-16 00:00:00'), Timestamp('2020-09-17 00:00:00'), Timestamp('2020-09-18 00:00:00'), Timestamp('2020-09-21 00:00:00'), Timestamp('2020-09-22 00:00:00'), Timestamp('2020-09-23 00:00:00'), Timestamp('2020-09-24 00:00:00'), Timestamp('2020-09-25 00:00:00'), Timestamp('2020-09-28 00:00:00'), Timestamp('2020-09-29 00:00:00'), Timestamp('2020-09-30 00:00:00'), Timestamp('2020-10-05 00:00:00'), Timestamp('2020-10-06 00:00:00'), Timestamp('2020-10-07 00:00:00'), Timestamp('2020-10-08 00:00:00'), Timestamp('2020-10-12 00:00:00'), Timestamp('2020-10-13 00:00:00'), Timestamp('2020-10-14 00:00:00'), Timestamp('2020-10-15 00:00:00'), Timestamp('2020-10-16 00:00:00'), Timestamp('2020-10-19 00:00:00'), Timestamp('2020-10-20 00:00:00'), Timestamp('2020-10-21 00:00:00'), Timestamp('2020-10-22 00:00:00'), Timestamp('2020-10-23 00:00:00'), Timestamp('2020-10-26 00:00:00'), Timestamp('2020-10-27 00:00:00'), Timestamp('2020-10-28 00:00:00'), Timestamp('2020-10-29 00:00:00'), Timestamp('2020-10-30 00:00:00'), Timestamp('2020-11-02 00:00:00'), Timestamp('2020-11-03 00:00:00'), Timestamp('2020-11-04 00:00:00'), Timestamp('2020-11-05 00:00:00'), Timestamp('2020-11-06 00:00:00'), Timestamp('2020-11-09 00:00:00'), Timestamp('2020-11-10 00:00:00'), Timestamp('2020-11-11 00:00:00'), Timestamp('2020-11-12 00:00:00'), Timestamp('2020-11-13 00:00:00'), Timestamp('2020-11-16 00:00:00'), Timestamp('2020-11-17 00:00:00'), Timestamp('2020-11-18 00:00:00'), Timestamp('2020-11-19 00:00:00'), Timestamp('2020-11-20 00:00:00'), Timestamp('2020-11-23 00:00:00'), Timestamp('2020-11-24 00:00:00'), Timestamp('2020-11-25 00:00:00'), Timestamp('2020-11-26 00:00:00'), Timestamp('2020-11-27 00:00:00'), Timestamp('2020-11-30 00:00:00'), Timestamp('2020-12-01 00:00:00'), Timestamp('2020-12-02 00:00:00'), Timestamp('2020-12-03 00:00:00'), Timestamp('2020-12-04 00:00:00'), Timestamp('2020-12-07 00:00:00'), Timestamp('2020-12-08 00:00:00'), Timestamp('2020-12-09 00:00:00'), Timestamp('2020-12-10 00:00:00'), Timestamp('2020-12-11 00:00:00'), Timestamp('2020-12-14 00:00:00'), Timestamp('2020-12-15 00:00:00')]\n",
            "<class 'list'>\n",
            "2017-01-03 00:00:00\n"
          ],
          "name": "stdout"
        }
      ]
    },
    {
      "cell_type": "code",
      "metadata": {
        "colab": {
          "base_uri": "https://localhost:8080/"
        },
        "id": "3kHdmaZqan0K",
        "outputId": "497de1c9-7e69-410d-ee87-f6a87fff0548"
      },
      "source": [
        "X=np.array(X)\r\n",
        "y=np.array(y)\r\n",
        "print(X.shape)\r\n",
        "print(y.shape)\r\n",
        "print(X)"
      ],
      "execution_count": 9,
      "outputs": [
        {
          "output_type": "stream",
          "text": [
            "(2687, 3, 5)\n",
            "(2687,)\n",
            "[[[-1.06409934 -1.06967687 -1.06934238  0.10042425 -1.06615129]\n",
            "  [-1.06409934 -1.07074794 -1.06828772 -0.01847841 -1.07040323]\n",
            "  [-1.06940849 -1.07289011 -1.07039705  0.61680452 -1.06615129]]\n",
            "\n",
            " [[-1.06409934 -1.07074794 -1.06828772 -0.01847841 -1.07040323]\n",
            "  [-1.06940849 -1.07289011 -1.07039705  0.61680452 -1.06615129]\n",
            "  [-1.06516116 -1.06753473 -1.06934238  0.24332754 -1.07359221]]\n",
            "\n",
            " [[-1.06940849 -1.07289011 -1.07039705  0.61680452 -1.06615129]\n",
            "  [-1.06516116 -1.06753473 -1.06934238  0.24332754 -1.07359221]\n",
            "  [-1.08002679 -1.07503229 -1.07672513  0.44990061 -1.07571814]]\n",
            "\n",
            " ...\n",
            "\n",
            " [[ 3.77784558  3.81446985  3.77165292  0.30516924  3.77147852]\n",
            "  [ 3.67166258  3.70736137  3.67673144  0.26549018  3.68643998]\n",
            "  [ 3.73537238  3.65380713  3.69782511  0.42815122  3.72895925]]\n",
            "\n",
            " [[ 3.67166258  3.70736137  3.67673144  0.26549018  3.68643998]\n",
            "  [ 3.73537238  3.65380713  3.69782511  0.42815122  3.72895925]\n",
            "  [ 3.68228088  3.68593967  3.65563778 -0.3788816   3.64392071]]\n",
            "\n",
            " [[ 3.73537238  3.65380713  3.69782511  0.42815122  3.72895925]\n",
            "  [ 3.68228088  3.68593967  3.65563778 -0.3788816   3.64392071]\n",
            "  [ 3.62918937  3.64309628  3.62399729  0.12376281  3.60140144]]]\n"
          ],
          "name": "stdout"
        }
      ]
    },
    {
      "cell_type": "code",
      "metadata": {
        "colab": {
          "base_uri": "https://localhost:8080/"
        },
        "id": "eAlV98cOQG_D",
        "outputId": "2daf5dab-6ff9-4ea9-9070-3b18d7422bcc"
      },
      "source": [
        "model=keras.models.Sequential()\r\n",
        "model.add(keras.layers.LSTM(200,return_sequences=True,input_shape=X[0].shape))\r\n",
        "model.add(keras.layers.LSTM(100))\r\n",
        "model.add(keras.layers.Dense(8))\r\n",
        "model.add(keras.layers.Dense(1,kernel_initializer=\"uniform\",activation='linear'))\r\n",
        "adam=keras.optimizers.Adam(0.0006)\r\n",
        "model.compile(optimizer=adam,loss=\"binary_crossentropy\",metrics=[\"accuracy\"])\r\n",
        "model.summary()"
      ],
      "execution_count": 10,
      "outputs": [
        {
          "output_type": "stream",
          "text": [
            "Model: \"sequential\"\n",
            "_________________________________________________________________\n",
            "Layer (type)                 Output Shape              Param #   \n",
            "=================================================================\n",
            "lstm (LSTM)                  (None, 3, 200)            164800    \n",
            "_________________________________________________________________\n",
            "lstm_1 (LSTM)                (None, 100)               120400    \n",
            "_________________________________________________________________\n",
            "dense (Dense)                (None, 8)                 808       \n",
            "_________________________________________________________________\n",
            "dense_1 (Dense)              (None, 1)                 9         \n",
            "=================================================================\n",
            "Total params: 286,017\n",
            "Trainable params: 286,017\n",
            "Non-trainable params: 0\n",
            "_________________________________________________________________\n"
          ],
          "name": "stdout"
        }
      ]
    },
    {
      "cell_type": "code",
      "metadata": {
        "id": "lbcQEyVZmWVD"
      },
      "source": [
        "y[y <= 0] = 0\t\r\n",
        "y[y > 0 ]=1\t"
      ],
      "execution_count": 11,
      "outputs": []
    },
    {
      "cell_type": "code",
      "metadata": {
        "colab": {
          "base_uri": "https://localhost:8080/"
        },
        "id": "f7b2gQNbRSmo",
        "outputId": "3d2f830c-64f8-4f80-a33c-36f130e708b3"
      },
      "source": [
        "date = '2015-1-1'\r\n",
        "a=datetime.datetime.strptime(date,\"%Y-%m-%d\")\r\n",
        "print(a)\r\n",
        "b=[]\r\n",
        "for i in indexes:\r\n",
        "  if i<a:\r\n",
        "    b.append(i)\r\n",
        "#print(b)\r\n",
        "X_train=X[:1725]\r\n",
        "y_train=y[:1725]\r\n",
        "get_best_model=keras.callbacks.ModelCheckpoint(\"lstm.mdl\",monitor=\"val_acc\")\r\n",
        "history=model.fit(\r\n",
        "    X_train,\r\n",
        "    y_train,\r\n",
        "    batch_size=1000,\r\n",
        "    epochs=50,\r\n",
        "    validation_split=0.2,\r\n",
        "    callbacks=[get_best_model]\r\n",
        ")\r\n",
        "\r\n",
        "  \r\n",
        "\r\n"
      ],
      "execution_count": 12,
      "outputs": [
        {
          "output_type": "stream",
          "text": [
            "2015-01-01 00:00:00\n",
            "Epoch 1/50\n",
            "2/2 [==============================] - 5s 864ms/step - loss: 3.9951 - accuracy: 0.5248 - val_loss: 2.9978 - val_accuracy: 0.5043\n"
          ],
          "name": "stdout"
        },
        {
          "output_type": "stream",
          "text": [
            "WARNING:absl:Found untraced functions such as lstm_cell_layer_call_and_return_conditional_losses, lstm_cell_layer_call_fn, lstm_cell_1_layer_call_and_return_conditional_losses, lstm_cell_1_layer_call_fn, lstm_cell_layer_call_fn while saving (showing 5 of 10). These functions will not be directly callable after loading.\n",
            "WARNING:absl:Found untraced functions such as lstm_cell_layer_call_and_return_conditional_losses, lstm_cell_layer_call_fn, lstm_cell_1_layer_call_and_return_conditional_losses, lstm_cell_1_layer_call_fn, lstm_cell_layer_call_fn while saving (showing 5 of 10). These functions will not be directly callable after loading.\n"
          ],
          "name": "stderr"
        },
        {
          "output_type": "stream",
          "text": [
            "INFO:tensorflow:Assets written to: lstm.mdl/assets\n"
          ],
          "name": "stdout"
        },
        {
          "output_type": "stream",
          "text": [
            "INFO:tensorflow:Assets written to: lstm.mdl/assets\n"
          ],
          "name": "stderr"
        },
        {
          "output_type": "stream",
          "text": [
            "Epoch 2/50\n",
            "2/2 [==============================] - 0s 35ms/step - loss: 2.3267 - accuracy: 0.5254 - val_loss: 2.7662 - val_accuracy: 0.5043\n"
          ],
          "name": "stdout"
        },
        {
          "output_type": "stream",
          "text": [
            "WARNING:absl:Found untraced functions such as lstm_cell_layer_call_and_return_conditional_losses, lstm_cell_layer_call_fn, lstm_cell_1_layer_call_and_return_conditional_losses, lstm_cell_1_layer_call_fn, lstm_cell_layer_call_fn while saving (showing 5 of 10). These functions will not be directly callable after loading.\n",
            "WARNING:absl:Found untraced functions such as lstm_cell_layer_call_and_return_conditional_losses, lstm_cell_layer_call_fn, lstm_cell_1_layer_call_and_return_conditional_losses, lstm_cell_1_layer_call_fn, lstm_cell_layer_call_fn while saving (showing 5 of 10). These functions will not be directly callable after loading.\n"
          ],
          "name": "stderr"
        },
        {
          "output_type": "stream",
          "text": [
            "INFO:tensorflow:Assets written to: lstm.mdl/assets\n"
          ],
          "name": "stdout"
        },
        {
          "output_type": "stream",
          "text": [
            "INFO:tensorflow:Assets written to: lstm.mdl/assets\n"
          ],
          "name": "stderr"
        },
        {
          "output_type": "stream",
          "text": [
            "Epoch 3/50\n",
            "2/2 [==============================] - 0s 36ms/step - loss: 2.1215 - accuracy: 0.5248 - val_loss: 2.6496 - val_accuracy: 0.5043\n"
          ],
          "name": "stdout"
        },
        {
          "output_type": "stream",
          "text": [
            "WARNING:absl:Found untraced functions such as lstm_cell_layer_call_and_return_conditional_losses, lstm_cell_layer_call_fn, lstm_cell_1_layer_call_and_return_conditional_losses, lstm_cell_1_layer_call_fn, lstm_cell_layer_call_fn while saving (showing 5 of 10). These functions will not be directly callable after loading.\n",
            "WARNING:absl:Found untraced functions such as lstm_cell_layer_call_and_return_conditional_losses, lstm_cell_layer_call_fn, lstm_cell_1_layer_call_and_return_conditional_losses, lstm_cell_1_layer_call_fn, lstm_cell_layer_call_fn while saving (showing 5 of 10). These functions will not be directly callable after loading.\n"
          ],
          "name": "stderr"
        },
        {
          "output_type": "stream",
          "text": [
            "INFO:tensorflow:Assets written to: lstm.mdl/assets\n"
          ],
          "name": "stdout"
        },
        {
          "output_type": "stream",
          "text": [
            "INFO:tensorflow:Assets written to: lstm.mdl/assets\n"
          ],
          "name": "stderr"
        },
        {
          "output_type": "stream",
          "text": [
            "Epoch 4/50\n",
            "2/2 [==============================] - 0s 35ms/step - loss: 2.0285 - accuracy: 0.5208 - val_loss: 2.5755 - val_accuracy: 0.5043\n"
          ],
          "name": "stdout"
        },
        {
          "output_type": "stream",
          "text": [
            "WARNING:absl:Found untraced functions such as lstm_cell_layer_call_and_return_conditional_losses, lstm_cell_layer_call_fn, lstm_cell_1_layer_call_and_return_conditional_losses, lstm_cell_1_layer_call_fn, lstm_cell_layer_call_fn while saving (showing 5 of 10). These functions will not be directly callable after loading.\n",
            "WARNING:absl:Found untraced functions such as lstm_cell_layer_call_and_return_conditional_losses, lstm_cell_layer_call_fn, lstm_cell_1_layer_call_and_return_conditional_losses, lstm_cell_1_layer_call_fn, lstm_cell_layer_call_fn while saving (showing 5 of 10). These functions will not be directly callable after loading.\n"
          ],
          "name": "stderr"
        },
        {
          "output_type": "stream",
          "text": [
            "INFO:tensorflow:Assets written to: lstm.mdl/assets\n"
          ],
          "name": "stdout"
        },
        {
          "output_type": "stream",
          "text": [
            "INFO:tensorflow:Assets written to: lstm.mdl/assets\n"
          ],
          "name": "stderr"
        },
        {
          "output_type": "stream",
          "text": [
            "Epoch 5/50\n",
            "2/2 [==============================] - 0s 36ms/step - loss: 1.9259 - accuracy: 0.5264 - val_loss: 2.5234 - val_accuracy: 0.5043\n"
          ],
          "name": "stdout"
        },
        {
          "output_type": "stream",
          "text": [
            "WARNING:absl:Found untraced functions such as lstm_cell_layer_call_and_return_conditional_losses, lstm_cell_layer_call_fn, lstm_cell_1_layer_call_and_return_conditional_losses, lstm_cell_1_layer_call_fn, lstm_cell_layer_call_fn while saving (showing 5 of 10). These functions will not be directly callable after loading.\n",
            "WARNING:absl:Found untraced functions such as lstm_cell_layer_call_and_return_conditional_losses, lstm_cell_layer_call_fn, lstm_cell_1_layer_call_and_return_conditional_losses, lstm_cell_1_layer_call_fn, lstm_cell_layer_call_fn while saving (showing 5 of 10). These functions will not be directly callable after loading.\n"
          ],
          "name": "stderr"
        },
        {
          "output_type": "stream",
          "text": [
            "INFO:tensorflow:Assets written to: lstm.mdl/assets\n"
          ],
          "name": "stdout"
        },
        {
          "output_type": "stream",
          "text": [
            "INFO:tensorflow:Assets written to: lstm.mdl/assets\n"
          ],
          "name": "stderr"
        },
        {
          "output_type": "stream",
          "text": [
            "Epoch 6/50\n",
            "2/2 [==============================] - 0s 36ms/step - loss: 1.8751 - accuracy: 0.5251 - val_loss: 2.4846 - val_accuracy: 0.5043\n"
          ],
          "name": "stdout"
        },
        {
          "output_type": "stream",
          "text": [
            "WARNING:absl:Found untraced functions such as lstm_cell_layer_call_and_return_conditional_losses, lstm_cell_layer_call_fn, lstm_cell_1_layer_call_and_return_conditional_losses, lstm_cell_1_layer_call_fn, lstm_cell_layer_call_fn while saving (showing 5 of 10). These functions will not be directly callable after loading.\n",
            "WARNING:absl:Found untraced functions such as lstm_cell_layer_call_and_return_conditional_losses, lstm_cell_layer_call_fn, lstm_cell_1_layer_call_and_return_conditional_losses, lstm_cell_1_layer_call_fn, lstm_cell_layer_call_fn while saving (showing 5 of 10). These functions will not be directly callable after loading.\n"
          ],
          "name": "stderr"
        },
        {
          "output_type": "stream",
          "text": [
            "INFO:tensorflow:Assets written to: lstm.mdl/assets\n"
          ],
          "name": "stdout"
        },
        {
          "output_type": "stream",
          "text": [
            "INFO:tensorflow:Assets written to: lstm.mdl/assets\n"
          ],
          "name": "stderr"
        },
        {
          "output_type": "stream",
          "text": [
            "Epoch 7/50\n",
            "2/2 [==============================] - 0s 34ms/step - loss: 1.8046 - accuracy: 0.5308 - val_loss: 2.4548 - val_accuracy: 0.5043\n"
          ],
          "name": "stdout"
        },
        {
          "output_type": "stream",
          "text": [
            "WARNING:absl:Found untraced functions such as lstm_cell_layer_call_and_return_conditional_losses, lstm_cell_layer_call_fn, lstm_cell_1_layer_call_and_return_conditional_losses, lstm_cell_1_layer_call_fn, lstm_cell_layer_call_fn while saving (showing 5 of 10). These functions will not be directly callable after loading.\n",
            "WARNING:absl:Found untraced functions such as lstm_cell_layer_call_and_return_conditional_losses, lstm_cell_layer_call_fn, lstm_cell_1_layer_call_and_return_conditional_losses, lstm_cell_1_layer_call_fn, lstm_cell_layer_call_fn while saving (showing 5 of 10). These functions will not be directly callable after loading.\n"
          ],
          "name": "stderr"
        },
        {
          "output_type": "stream",
          "text": [
            "INFO:tensorflow:Assets written to: lstm.mdl/assets\n"
          ],
          "name": "stdout"
        },
        {
          "output_type": "stream",
          "text": [
            "INFO:tensorflow:Assets written to: lstm.mdl/assets\n"
          ],
          "name": "stderr"
        },
        {
          "output_type": "stream",
          "text": [
            "Epoch 8/50\n",
            "2/2 [==============================] - 0s 35ms/step - loss: 1.7781 - accuracy: 0.5281 - val_loss: 2.4315 - val_accuracy: 0.5043\n"
          ],
          "name": "stdout"
        },
        {
          "output_type": "stream",
          "text": [
            "WARNING:absl:Found untraced functions such as lstm_cell_layer_call_and_return_conditional_losses, lstm_cell_layer_call_fn, lstm_cell_1_layer_call_and_return_conditional_losses, lstm_cell_1_layer_call_fn, lstm_cell_layer_call_fn while saving (showing 5 of 10). These functions will not be directly callable after loading.\n",
            "WARNING:absl:Found untraced functions such as lstm_cell_layer_call_and_return_conditional_losses, lstm_cell_layer_call_fn, lstm_cell_1_layer_call_and_return_conditional_losses, lstm_cell_1_layer_call_fn, lstm_cell_layer_call_fn while saving (showing 5 of 10). These functions will not be directly callable after loading.\n"
          ],
          "name": "stderr"
        },
        {
          "output_type": "stream",
          "text": [
            "INFO:tensorflow:Assets written to: lstm.mdl/assets\n"
          ],
          "name": "stdout"
        },
        {
          "output_type": "stream",
          "text": [
            "INFO:tensorflow:Assets written to: lstm.mdl/assets\n"
          ],
          "name": "stderr"
        },
        {
          "output_type": "stream",
          "text": [
            "Epoch 9/50\n",
            "2/2 [==============================] - 0s 36ms/step - loss: 1.7570 - accuracy: 0.5244 - val_loss: 2.4133 - val_accuracy: 0.5043\n"
          ],
          "name": "stdout"
        },
        {
          "output_type": "stream",
          "text": [
            "WARNING:absl:Found untraced functions such as lstm_cell_layer_call_and_return_conditional_losses, lstm_cell_layer_call_fn, lstm_cell_1_layer_call_and_return_conditional_losses, lstm_cell_1_layer_call_fn, lstm_cell_layer_call_fn while saving (showing 5 of 10). These functions will not be directly callable after loading.\n",
            "WARNING:absl:Found untraced functions such as lstm_cell_layer_call_and_return_conditional_losses, lstm_cell_layer_call_fn, lstm_cell_1_layer_call_and_return_conditional_losses, lstm_cell_1_layer_call_fn, lstm_cell_layer_call_fn while saving (showing 5 of 10). These functions will not be directly callable after loading.\n"
          ],
          "name": "stderr"
        },
        {
          "output_type": "stream",
          "text": [
            "INFO:tensorflow:Assets written to: lstm.mdl/assets\n"
          ],
          "name": "stdout"
        },
        {
          "output_type": "stream",
          "text": [
            "INFO:tensorflow:Assets written to: lstm.mdl/assets\n"
          ],
          "name": "stderr"
        },
        {
          "output_type": "stream",
          "text": [
            "Epoch 10/50\n",
            "2/2 [==============================] - 0s 39ms/step - loss: 1.7367 - accuracy: 0.5224 - val_loss: 2.3998 - val_accuracy: 0.5043\n"
          ],
          "name": "stdout"
        },
        {
          "output_type": "stream",
          "text": [
            "WARNING:absl:Found untraced functions such as lstm_cell_layer_call_and_return_conditional_losses, lstm_cell_layer_call_fn, lstm_cell_1_layer_call_and_return_conditional_losses, lstm_cell_1_layer_call_fn, lstm_cell_layer_call_fn while saving (showing 5 of 10). These functions will not be directly callable after loading.\n",
            "WARNING:absl:Found untraced functions such as lstm_cell_layer_call_and_return_conditional_losses, lstm_cell_layer_call_fn, lstm_cell_1_layer_call_and_return_conditional_losses, lstm_cell_1_layer_call_fn, lstm_cell_layer_call_fn while saving (showing 5 of 10). These functions will not be directly callable after loading.\n"
          ],
          "name": "stderr"
        },
        {
          "output_type": "stream",
          "text": [
            "INFO:tensorflow:Assets written to: lstm.mdl/assets\n"
          ],
          "name": "stdout"
        },
        {
          "output_type": "stream",
          "text": [
            "INFO:tensorflow:Assets written to: lstm.mdl/assets\n"
          ],
          "name": "stderr"
        },
        {
          "output_type": "stream",
          "text": [
            "Epoch 11/50\n",
            "2/2 [==============================] - 0s 34ms/step - loss: 1.7070 - accuracy: 0.5224 - val_loss: 2.3941 - val_accuracy: 0.5043\n"
          ],
          "name": "stdout"
        },
        {
          "output_type": "stream",
          "text": [
            "WARNING:absl:Found untraced functions such as lstm_cell_layer_call_and_return_conditional_losses, lstm_cell_layer_call_fn, lstm_cell_1_layer_call_and_return_conditional_losses, lstm_cell_1_layer_call_fn, lstm_cell_layer_call_fn while saving (showing 5 of 10). These functions will not be directly callable after loading.\n",
            "WARNING:absl:Found untraced functions such as lstm_cell_layer_call_and_return_conditional_losses, lstm_cell_layer_call_fn, lstm_cell_1_layer_call_and_return_conditional_losses, lstm_cell_1_layer_call_fn, lstm_cell_layer_call_fn while saving (showing 5 of 10). These functions will not be directly callable after loading.\n"
          ],
          "name": "stderr"
        },
        {
          "output_type": "stream",
          "text": [
            "INFO:tensorflow:Assets written to: lstm.mdl/assets\n"
          ],
          "name": "stdout"
        },
        {
          "output_type": "stream",
          "text": [
            "INFO:tensorflow:Assets written to: lstm.mdl/assets\n"
          ],
          "name": "stderr"
        },
        {
          "output_type": "stream",
          "text": [
            "Epoch 12/50\n",
            "2/2 [==============================] - 0s 35ms/step - loss: 1.6726 - accuracy: 0.5251 - val_loss: 2.3999 - val_accuracy: 0.5043\n"
          ],
          "name": "stdout"
        },
        {
          "output_type": "stream",
          "text": [
            "WARNING:absl:Found untraced functions such as lstm_cell_layer_call_and_return_conditional_losses, lstm_cell_layer_call_fn, lstm_cell_1_layer_call_and_return_conditional_losses, lstm_cell_1_layer_call_fn, lstm_cell_layer_call_fn while saving (showing 5 of 10). These functions will not be directly callable after loading.\n",
            "WARNING:absl:Found untraced functions such as lstm_cell_layer_call_and_return_conditional_losses, lstm_cell_layer_call_fn, lstm_cell_1_layer_call_and_return_conditional_losses, lstm_cell_1_layer_call_fn, lstm_cell_layer_call_fn while saving (showing 5 of 10). These functions will not be directly callable after loading.\n"
          ],
          "name": "stderr"
        },
        {
          "output_type": "stream",
          "text": [
            "INFO:tensorflow:Assets written to: lstm.mdl/assets\n"
          ],
          "name": "stdout"
        },
        {
          "output_type": "stream",
          "text": [
            "INFO:tensorflow:Assets written to: lstm.mdl/assets\n"
          ],
          "name": "stderr"
        },
        {
          "output_type": "stream",
          "text": [
            "Epoch 13/50\n",
            "2/2 [==============================] - 0s 34ms/step - loss: 1.6466 - accuracy: 0.5254 - val_loss: 2.3978 - val_accuracy: 0.5043\n"
          ],
          "name": "stdout"
        },
        {
          "output_type": "stream",
          "text": [
            "WARNING:absl:Found untraced functions such as lstm_cell_layer_call_and_return_conditional_losses, lstm_cell_layer_call_fn, lstm_cell_1_layer_call_and_return_conditional_losses, lstm_cell_1_layer_call_fn, lstm_cell_layer_call_fn while saving (showing 5 of 10). These functions will not be directly callable after loading.\n",
            "WARNING:absl:Found untraced functions such as lstm_cell_layer_call_and_return_conditional_losses, lstm_cell_layer_call_fn, lstm_cell_1_layer_call_and_return_conditional_losses, lstm_cell_1_layer_call_fn, lstm_cell_layer_call_fn while saving (showing 5 of 10). These functions will not be directly callable after loading.\n"
          ],
          "name": "stderr"
        },
        {
          "output_type": "stream",
          "text": [
            "INFO:tensorflow:Assets written to: lstm.mdl/assets\n"
          ],
          "name": "stdout"
        },
        {
          "output_type": "stream",
          "text": [
            "INFO:tensorflow:Assets written to: lstm.mdl/assets\n"
          ],
          "name": "stderr"
        },
        {
          "output_type": "stream",
          "text": [
            "Epoch 14/50\n",
            "2/2 [==============================] - 0s 35ms/step - loss: 1.6058 - accuracy: 0.5304 - val_loss: 2.4116 - val_accuracy: 0.5043\n"
          ],
          "name": "stdout"
        },
        {
          "output_type": "stream",
          "text": [
            "WARNING:absl:Found untraced functions such as lstm_cell_layer_call_and_return_conditional_losses, lstm_cell_layer_call_fn, lstm_cell_1_layer_call_and_return_conditional_losses, lstm_cell_1_layer_call_fn, lstm_cell_layer_call_fn while saving (showing 5 of 10). These functions will not be directly callable after loading.\n",
            "WARNING:absl:Found untraced functions such as lstm_cell_layer_call_and_return_conditional_losses, lstm_cell_layer_call_fn, lstm_cell_1_layer_call_and_return_conditional_losses, lstm_cell_1_layer_call_fn, lstm_cell_layer_call_fn while saving (showing 5 of 10). These functions will not be directly callable after loading.\n"
          ],
          "name": "stderr"
        },
        {
          "output_type": "stream",
          "text": [
            "INFO:tensorflow:Assets written to: lstm.mdl/assets\n"
          ],
          "name": "stdout"
        },
        {
          "output_type": "stream",
          "text": [
            "INFO:tensorflow:Assets written to: lstm.mdl/assets\n"
          ],
          "name": "stderr"
        },
        {
          "output_type": "stream",
          "text": [
            "Epoch 15/50\n",
            "2/2 [==============================] - 0s 36ms/step - loss: 1.6064 - accuracy: 0.5238 - val_loss: 2.4284 - val_accuracy: 0.5043\n"
          ],
          "name": "stdout"
        },
        {
          "output_type": "stream",
          "text": [
            "WARNING:absl:Found untraced functions such as lstm_cell_layer_call_and_return_conditional_losses, lstm_cell_layer_call_fn, lstm_cell_1_layer_call_and_return_conditional_losses, lstm_cell_1_layer_call_fn, lstm_cell_layer_call_fn while saving (showing 5 of 10). These functions will not be directly callable after loading.\n",
            "WARNING:absl:Found untraced functions such as lstm_cell_layer_call_and_return_conditional_losses, lstm_cell_layer_call_fn, lstm_cell_1_layer_call_and_return_conditional_losses, lstm_cell_1_layer_call_fn, lstm_cell_layer_call_fn while saving (showing 5 of 10). These functions will not be directly callable after loading.\n"
          ],
          "name": "stderr"
        },
        {
          "output_type": "stream",
          "text": [
            "INFO:tensorflow:Assets written to: lstm.mdl/assets\n"
          ],
          "name": "stdout"
        },
        {
          "output_type": "stream",
          "text": [
            "INFO:tensorflow:Assets written to: lstm.mdl/assets\n"
          ],
          "name": "stderr"
        },
        {
          "output_type": "stream",
          "text": [
            "Epoch 16/50\n",
            "2/2 [==============================] - 0s 38ms/step - loss: 1.5733 - accuracy: 0.5281 - val_loss: 2.4468 - val_accuracy: 0.5043\n"
          ],
          "name": "stdout"
        },
        {
          "output_type": "stream",
          "text": [
            "WARNING:absl:Found untraced functions such as lstm_cell_layer_call_and_return_conditional_losses, lstm_cell_layer_call_fn, lstm_cell_1_layer_call_and_return_conditional_losses, lstm_cell_1_layer_call_fn, lstm_cell_layer_call_fn while saving (showing 5 of 10). These functions will not be directly callable after loading.\n",
            "WARNING:absl:Found untraced functions such as lstm_cell_layer_call_and_return_conditional_losses, lstm_cell_layer_call_fn, lstm_cell_1_layer_call_and_return_conditional_losses, lstm_cell_1_layer_call_fn, lstm_cell_layer_call_fn while saving (showing 5 of 10). These functions will not be directly callable after loading.\n"
          ],
          "name": "stderr"
        },
        {
          "output_type": "stream",
          "text": [
            "INFO:tensorflow:Assets written to: lstm.mdl/assets\n"
          ],
          "name": "stdout"
        },
        {
          "output_type": "stream",
          "text": [
            "INFO:tensorflow:Assets written to: lstm.mdl/assets\n"
          ],
          "name": "stderr"
        },
        {
          "output_type": "stream",
          "text": [
            "Epoch 17/50\n",
            "2/2 [==============================] - 0s 39ms/step - loss: 1.5632 - accuracy: 0.5238 - val_loss: 2.4828 - val_accuracy: 0.5043\n"
          ],
          "name": "stdout"
        },
        {
          "output_type": "stream",
          "text": [
            "WARNING:absl:Found untraced functions such as lstm_cell_layer_call_and_return_conditional_losses, lstm_cell_layer_call_fn, lstm_cell_1_layer_call_and_return_conditional_losses, lstm_cell_1_layer_call_fn, lstm_cell_layer_call_fn while saving (showing 5 of 10). These functions will not be directly callable after loading.\n",
            "WARNING:absl:Found untraced functions such as lstm_cell_layer_call_and_return_conditional_losses, lstm_cell_layer_call_fn, lstm_cell_1_layer_call_and_return_conditional_losses, lstm_cell_1_layer_call_fn, lstm_cell_layer_call_fn while saving (showing 5 of 10). These functions will not be directly callable after loading.\n"
          ],
          "name": "stderr"
        },
        {
          "output_type": "stream",
          "text": [
            "INFO:tensorflow:Assets written to: lstm.mdl/assets\n"
          ],
          "name": "stdout"
        },
        {
          "output_type": "stream",
          "text": [
            "INFO:tensorflow:Assets written to: lstm.mdl/assets\n"
          ],
          "name": "stderr"
        },
        {
          "output_type": "stream",
          "text": [
            "Epoch 18/50\n",
            "2/2 [==============================] - 0s 36ms/step - loss: 1.5358 - accuracy: 0.5264 - val_loss: 2.4857 - val_accuracy: 0.5043\n"
          ],
          "name": "stdout"
        },
        {
          "output_type": "stream",
          "text": [
            "WARNING:absl:Found untraced functions such as lstm_cell_layer_call_and_return_conditional_losses, lstm_cell_layer_call_fn, lstm_cell_1_layer_call_and_return_conditional_losses, lstm_cell_1_layer_call_fn, lstm_cell_layer_call_fn while saving (showing 5 of 10). These functions will not be directly callable after loading.\n",
            "WARNING:absl:Found untraced functions such as lstm_cell_layer_call_and_return_conditional_losses, lstm_cell_layer_call_fn, lstm_cell_1_layer_call_and_return_conditional_losses, lstm_cell_1_layer_call_fn, lstm_cell_layer_call_fn while saving (showing 5 of 10). These functions will not be directly callable after loading.\n"
          ],
          "name": "stderr"
        },
        {
          "output_type": "stream",
          "text": [
            "INFO:tensorflow:Assets written to: lstm.mdl/assets\n"
          ],
          "name": "stdout"
        },
        {
          "output_type": "stream",
          "text": [
            "INFO:tensorflow:Assets written to: lstm.mdl/assets\n"
          ],
          "name": "stderr"
        },
        {
          "output_type": "stream",
          "text": [
            "Epoch 19/50\n",
            "2/2 [==============================] - 0s 43ms/step - loss: 1.5086 - accuracy: 0.5278 - val_loss: 2.5454 - val_accuracy: 0.5043\n"
          ],
          "name": "stdout"
        },
        {
          "output_type": "stream",
          "text": [
            "WARNING:absl:Found untraced functions such as lstm_cell_layer_call_and_return_conditional_losses, lstm_cell_layer_call_fn, lstm_cell_1_layer_call_and_return_conditional_losses, lstm_cell_1_layer_call_fn, lstm_cell_layer_call_fn while saving (showing 5 of 10). These functions will not be directly callable after loading.\n",
            "WARNING:absl:Found untraced functions such as lstm_cell_layer_call_and_return_conditional_losses, lstm_cell_layer_call_fn, lstm_cell_1_layer_call_and_return_conditional_losses, lstm_cell_1_layer_call_fn, lstm_cell_layer_call_fn while saving (showing 5 of 10). These functions will not be directly callable after loading.\n"
          ],
          "name": "stderr"
        },
        {
          "output_type": "stream",
          "text": [
            "INFO:tensorflow:Assets written to: lstm.mdl/assets\n"
          ],
          "name": "stdout"
        },
        {
          "output_type": "stream",
          "text": [
            "INFO:tensorflow:Assets written to: lstm.mdl/assets\n"
          ],
          "name": "stderr"
        },
        {
          "output_type": "stream",
          "text": [
            "Epoch 20/50\n",
            "2/2 [==============================] - 0s 35ms/step - loss: 1.4805 - accuracy: 0.5294 - val_loss: 2.5498 - val_accuracy: 0.5043\n"
          ],
          "name": "stdout"
        },
        {
          "output_type": "stream",
          "text": [
            "WARNING:absl:Found untraced functions such as lstm_cell_layer_call_and_return_conditional_losses, lstm_cell_layer_call_fn, lstm_cell_1_layer_call_and_return_conditional_losses, lstm_cell_1_layer_call_fn, lstm_cell_layer_call_fn while saving (showing 5 of 10). These functions will not be directly callable after loading.\n",
            "WARNING:absl:Found untraced functions such as lstm_cell_layer_call_and_return_conditional_losses, lstm_cell_layer_call_fn, lstm_cell_1_layer_call_and_return_conditional_losses, lstm_cell_1_layer_call_fn, lstm_cell_layer_call_fn while saving (showing 5 of 10). These functions will not be directly callable after loading.\n"
          ],
          "name": "stderr"
        },
        {
          "output_type": "stream",
          "text": [
            "INFO:tensorflow:Assets written to: lstm.mdl/assets\n"
          ],
          "name": "stdout"
        },
        {
          "output_type": "stream",
          "text": [
            "INFO:tensorflow:Assets written to: lstm.mdl/assets\n"
          ],
          "name": "stderr"
        },
        {
          "output_type": "stream",
          "text": [
            "Epoch 21/50\n",
            "2/2 [==============================] - 0s 39ms/step - loss: 1.4828 - accuracy: 0.5214 - val_loss: 2.5772 - val_accuracy: 0.5043\n"
          ],
          "name": "stdout"
        },
        {
          "output_type": "stream",
          "text": [
            "WARNING:absl:Found untraced functions such as lstm_cell_layer_call_and_return_conditional_losses, lstm_cell_layer_call_fn, lstm_cell_1_layer_call_and_return_conditional_losses, lstm_cell_1_layer_call_fn, lstm_cell_layer_call_fn while saving (showing 5 of 10). These functions will not be directly callable after loading.\n",
            "WARNING:absl:Found untraced functions such as lstm_cell_layer_call_and_return_conditional_losses, lstm_cell_layer_call_fn, lstm_cell_1_layer_call_and_return_conditional_losses, lstm_cell_1_layer_call_fn, lstm_cell_layer_call_fn while saving (showing 5 of 10). These functions will not be directly callable after loading.\n"
          ],
          "name": "stderr"
        },
        {
          "output_type": "stream",
          "text": [
            "INFO:tensorflow:Assets written to: lstm.mdl/assets\n"
          ],
          "name": "stdout"
        },
        {
          "output_type": "stream",
          "text": [
            "INFO:tensorflow:Assets written to: lstm.mdl/assets\n"
          ],
          "name": "stderr"
        },
        {
          "output_type": "stream",
          "text": [
            "Epoch 22/50\n",
            "2/2 [==============================] - 0s 36ms/step - loss: 1.4326 - accuracy: 0.5314 - val_loss: 2.6434 - val_accuracy: 0.5043\n"
          ],
          "name": "stdout"
        },
        {
          "output_type": "stream",
          "text": [
            "WARNING:absl:Found untraced functions such as lstm_cell_layer_call_and_return_conditional_losses, lstm_cell_layer_call_fn, lstm_cell_1_layer_call_and_return_conditional_losses, lstm_cell_1_layer_call_fn, lstm_cell_layer_call_fn while saving (showing 5 of 10). These functions will not be directly callable after loading.\n",
            "WARNING:absl:Found untraced functions such as lstm_cell_layer_call_and_return_conditional_losses, lstm_cell_layer_call_fn, lstm_cell_1_layer_call_and_return_conditional_losses, lstm_cell_1_layer_call_fn, lstm_cell_layer_call_fn while saving (showing 5 of 10). These functions will not be directly callable after loading.\n"
          ],
          "name": "stderr"
        },
        {
          "output_type": "stream",
          "text": [
            "INFO:tensorflow:Assets written to: lstm.mdl/assets\n"
          ],
          "name": "stdout"
        },
        {
          "output_type": "stream",
          "text": [
            "INFO:tensorflow:Assets written to: lstm.mdl/assets\n"
          ],
          "name": "stderr"
        },
        {
          "output_type": "stream",
          "text": [
            "Epoch 23/50\n",
            "2/2 [==============================] - 0s 38ms/step - loss: 1.4292 - accuracy: 0.5241 - val_loss: 2.6899 - val_accuracy: 0.5043\n"
          ],
          "name": "stdout"
        },
        {
          "output_type": "stream",
          "text": [
            "WARNING:absl:Found untraced functions such as lstm_cell_layer_call_and_return_conditional_losses, lstm_cell_layer_call_fn, lstm_cell_1_layer_call_and_return_conditional_losses, lstm_cell_1_layer_call_fn, lstm_cell_layer_call_fn while saving (showing 5 of 10). These functions will not be directly callable after loading.\n",
            "WARNING:absl:Found untraced functions such as lstm_cell_layer_call_and_return_conditional_losses, lstm_cell_layer_call_fn, lstm_cell_1_layer_call_and_return_conditional_losses, lstm_cell_1_layer_call_fn, lstm_cell_layer_call_fn while saving (showing 5 of 10). These functions will not be directly callable after loading.\n"
          ],
          "name": "stderr"
        },
        {
          "output_type": "stream",
          "text": [
            "INFO:tensorflow:Assets written to: lstm.mdl/assets\n"
          ],
          "name": "stdout"
        },
        {
          "output_type": "stream",
          "text": [
            "INFO:tensorflow:Assets written to: lstm.mdl/assets\n"
          ],
          "name": "stderr"
        },
        {
          "output_type": "stream",
          "text": [
            "Epoch 24/50\n",
            "2/2 [==============================] - 0s 38ms/step - loss: 1.4056 - accuracy: 0.5241 - val_loss: 2.7069 - val_accuracy: 0.5043\n"
          ],
          "name": "stdout"
        },
        {
          "output_type": "stream",
          "text": [
            "WARNING:absl:Found untraced functions such as lstm_cell_layer_call_and_return_conditional_losses, lstm_cell_layer_call_fn, lstm_cell_1_layer_call_and_return_conditional_losses, lstm_cell_1_layer_call_fn, lstm_cell_layer_call_fn while saving (showing 5 of 10). These functions will not be directly callable after loading.\n",
            "WARNING:absl:Found untraced functions such as lstm_cell_layer_call_and_return_conditional_losses, lstm_cell_layer_call_fn, lstm_cell_1_layer_call_and_return_conditional_losses, lstm_cell_1_layer_call_fn, lstm_cell_layer_call_fn while saving (showing 5 of 10). These functions will not be directly callable after loading.\n"
          ],
          "name": "stderr"
        },
        {
          "output_type": "stream",
          "text": [
            "INFO:tensorflow:Assets written to: lstm.mdl/assets\n"
          ],
          "name": "stdout"
        },
        {
          "output_type": "stream",
          "text": [
            "INFO:tensorflow:Assets written to: lstm.mdl/assets\n"
          ],
          "name": "stderr"
        },
        {
          "output_type": "stream",
          "text": [
            "Epoch 25/50\n",
            "2/2 [==============================] - 0s 36ms/step - loss: 1.3972 - accuracy: 0.5184 - val_loss: 2.7211 - val_accuracy: 0.5043\n"
          ],
          "name": "stdout"
        },
        {
          "output_type": "stream",
          "text": [
            "WARNING:absl:Found untraced functions such as lstm_cell_layer_call_and_return_conditional_losses, lstm_cell_layer_call_fn, lstm_cell_1_layer_call_and_return_conditional_losses, lstm_cell_1_layer_call_fn, lstm_cell_layer_call_fn while saving (showing 5 of 10). These functions will not be directly callable after loading.\n",
            "WARNING:absl:Found untraced functions such as lstm_cell_layer_call_and_return_conditional_losses, lstm_cell_layer_call_fn, lstm_cell_1_layer_call_and_return_conditional_losses, lstm_cell_1_layer_call_fn, lstm_cell_layer_call_fn while saving (showing 5 of 10). These functions will not be directly callable after loading.\n"
          ],
          "name": "stderr"
        },
        {
          "output_type": "stream",
          "text": [
            "INFO:tensorflow:Assets written to: lstm.mdl/assets\n"
          ],
          "name": "stdout"
        },
        {
          "output_type": "stream",
          "text": [
            "INFO:tensorflow:Assets written to: lstm.mdl/assets\n"
          ],
          "name": "stderr"
        },
        {
          "output_type": "stream",
          "text": [
            "Epoch 26/50\n",
            "2/2 [==============================] - 0s 38ms/step - loss: 1.3455 - accuracy: 0.5278 - val_loss: 2.7537 - val_accuracy: 0.5043\n"
          ],
          "name": "stdout"
        },
        {
          "output_type": "stream",
          "text": [
            "WARNING:absl:Found untraced functions such as lstm_cell_layer_call_and_return_conditional_losses, lstm_cell_layer_call_fn, lstm_cell_1_layer_call_and_return_conditional_losses, lstm_cell_1_layer_call_fn, lstm_cell_layer_call_fn while saving (showing 5 of 10). These functions will not be directly callable after loading.\n",
            "WARNING:absl:Found untraced functions such as lstm_cell_layer_call_and_return_conditional_losses, lstm_cell_layer_call_fn, lstm_cell_1_layer_call_and_return_conditional_losses, lstm_cell_1_layer_call_fn, lstm_cell_layer_call_fn while saving (showing 5 of 10). These functions will not be directly callable after loading.\n"
          ],
          "name": "stderr"
        },
        {
          "output_type": "stream",
          "text": [
            "INFO:tensorflow:Assets written to: lstm.mdl/assets\n"
          ],
          "name": "stdout"
        },
        {
          "output_type": "stream",
          "text": [
            "INFO:tensorflow:Assets written to: lstm.mdl/assets\n"
          ],
          "name": "stderr"
        },
        {
          "output_type": "stream",
          "text": [
            "Epoch 27/50\n",
            "2/2 [==============================] - 0s 367ms/step - loss: 1.3279 - accuracy: 0.5254 - val_loss: 2.8037 - val_accuracy: 0.5043\n"
          ],
          "name": "stdout"
        },
        {
          "output_type": "stream",
          "text": [
            "WARNING:absl:Found untraced functions such as lstm_cell_layer_call_and_return_conditional_losses, lstm_cell_layer_call_fn, lstm_cell_1_layer_call_and_return_conditional_losses, lstm_cell_1_layer_call_fn, lstm_cell_layer_call_fn while saving (showing 5 of 10). These functions will not be directly callable after loading.\n",
            "WARNING:absl:Found untraced functions such as lstm_cell_layer_call_and_return_conditional_losses, lstm_cell_layer_call_fn, lstm_cell_1_layer_call_and_return_conditional_losses, lstm_cell_1_layer_call_fn, lstm_cell_layer_call_fn while saving (showing 5 of 10). These functions will not be directly callable after loading.\n"
          ],
          "name": "stderr"
        },
        {
          "output_type": "stream",
          "text": [
            "INFO:tensorflow:Assets written to: lstm.mdl/assets\n"
          ],
          "name": "stdout"
        },
        {
          "output_type": "stream",
          "text": [
            "INFO:tensorflow:Assets written to: lstm.mdl/assets\n"
          ],
          "name": "stderr"
        },
        {
          "output_type": "stream",
          "text": [
            "Epoch 28/50\n",
            "2/2 [==============================] - 0s 37ms/step - loss: 1.3147 - accuracy: 0.5204 - val_loss: 2.8174 - val_accuracy: 0.5043\n"
          ],
          "name": "stdout"
        },
        {
          "output_type": "stream",
          "text": [
            "WARNING:absl:Found untraced functions such as lstm_cell_layer_call_and_return_conditional_losses, lstm_cell_layer_call_fn, lstm_cell_1_layer_call_and_return_conditional_losses, lstm_cell_1_layer_call_fn, lstm_cell_layer_call_fn while saving (showing 5 of 10). These functions will not be directly callable after loading.\n",
            "WARNING:absl:Found untraced functions such as lstm_cell_layer_call_and_return_conditional_losses, lstm_cell_layer_call_fn, lstm_cell_1_layer_call_and_return_conditional_losses, lstm_cell_1_layer_call_fn, lstm_cell_layer_call_fn while saving (showing 5 of 10). These functions will not be directly callable after loading.\n"
          ],
          "name": "stderr"
        },
        {
          "output_type": "stream",
          "text": [
            "INFO:tensorflow:Assets written to: lstm.mdl/assets\n"
          ],
          "name": "stdout"
        },
        {
          "output_type": "stream",
          "text": [
            "INFO:tensorflow:Assets written to: lstm.mdl/assets\n"
          ],
          "name": "stderr"
        },
        {
          "output_type": "stream",
          "text": [
            "Epoch 29/50\n",
            "2/2 [==============================] - 0s 34ms/step - loss: 1.2828 - accuracy: 0.5231 - val_loss: 2.8319 - val_accuracy: 0.5043\n"
          ],
          "name": "stdout"
        },
        {
          "output_type": "stream",
          "text": [
            "WARNING:absl:Found untraced functions such as lstm_cell_layer_call_and_return_conditional_losses, lstm_cell_layer_call_fn, lstm_cell_1_layer_call_and_return_conditional_losses, lstm_cell_1_layer_call_fn, lstm_cell_layer_call_fn while saving (showing 5 of 10). These functions will not be directly callable after loading.\n",
            "WARNING:absl:Found untraced functions such as lstm_cell_layer_call_and_return_conditional_losses, lstm_cell_layer_call_fn, lstm_cell_1_layer_call_and_return_conditional_losses, lstm_cell_1_layer_call_fn, lstm_cell_layer_call_fn while saving (showing 5 of 10). These functions will not be directly callable after loading.\n"
          ],
          "name": "stderr"
        },
        {
          "output_type": "stream",
          "text": [
            "INFO:tensorflow:Assets written to: lstm.mdl/assets\n"
          ],
          "name": "stdout"
        },
        {
          "output_type": "stream",
          "text": [
            "INFO:tensorflow:Assets written to: lstm.mdl/assets\n"
          ],
          "name": "stderr"
        },
        {
          "output_type": "stream",
          "text": [
            "Epoch 30/50\n",
            "2/2 [==============================] - 0s 42ms/step - loss: 1.2524 - accuracy: 0.5258 - val_loss: 2.8350 - val_accuracy: 0.5043\n"
          ],
          "name": "stdout"
        },
        {
          "output_type": "stream",
          "text": [
            "WARNING:absl:Found untraced functions such as lstm_cell_layer_call_and_return_conditional_losses, lstm_cell_layer_call_fn, lstm_cell_1_layer_call_and_return_conditional_losses, lstm_cell_1_layer_call_fn, lstm_cell_layer_call_fn while saving (showing 5 of 10). These functions will not be directly callable after loading.\n",
            "WARNING:absl:Found untraced functions such as lstm_cell_layer_call_and_return_conditional_losses, lstm_cell_layer_call_fn, lstm_cell_1_layer_call_and_return_conditional_losses, lstm_cell_1_layer_call_fn, lstm_cell_layer_call_fn while saving (showing 5 of 10). These functions will not be directly callable after loading.\n"
          ],
          "name": "stderr"
        },
        {
          "output_type": "stream",
          "text": [
            "INFO:tensorflow:Assets written to: lstm.mdl/assets\n"
          ],
          "name": "stdout"
        },
        {
          "output_type": "stream",
          "text": [
            "INFO:tensorflow:Assets written to: lstm.mdl/assets\n"
          ],
          "name": "stderr"
        },
        {
          "output_type": "stream",
          "text": [
            "Epoch 31/50\n",
            "2/2 [==============================] - 0s 35ms/step - loss: 1.2227 - accuracy: 0.5251 - val_loss: 2.8622 - val_accuracy: 0.5043\n"
          ],
          "name": "stdout"
        },
        {
          "output_type": "stream",
          "text": [
            "WARNING:absl:Found untraced functions such as lstm_cell_layer_call_and_return_conditional_losses, lstm_cell_layer_call_fn, lstm_cell_1_layer_call_and_return_conditional_losses, lstm_cell_1_layer_call_fn, lstm_cell_layer_call_fn while saving (showing 5 of 10). These functions will not be directly callable after loading.\n",
            "WARNING:absl:Found untraced functions such as lstm_cell_layer_call_and_return_conditional_losses, lstm_cell_layer_call_fn, lstm_cell_1_layer_call_and_return_conditional_losses, lstm_cell_1_layer_call_fn, lstm_cell_layer_call_fn while saving (showing 5 of 10). These functions will not be directly callable after loading.\n"
          ],
          "name": "stderr"
        },
        {
          "output_type": "stream",
          "text": [
            "INFO:tensorflow:Assets written to: lstm.mdl/assets\n"
          ],
          "name": "stdout"
        },
        {
          "output_type": "stream",
          "text": [
            "INFO:tensorflow:Assets written to: lstm.mdl/assets\n"
          ],
          "name": "stderr"
        },
        {
          "output_type": "stream",
          "text": [
            "Epoch 32/50\n",
            "2/2 [==============================] - 0s 366ms/step - loss: 1.2011 - accuracy: 0.5224 - val_loss: 2.8607 - val_accuracy: 0.5043\n"
          ],
          "name": "stdout"
        },
        {
          "output_type": "stream",
          "text": [
            "WARNING:absl:Found untraced functions such as lstm_cell_layer_call_and_return_conditional_losses, lstm_cell_layer_call_fn, lstm_cell_1_layer_call_and_return_conditional_losses, lstm_cell_1_layer_call_fn, lstm_cell_layer_call_fn while saving (showing 5 of 10). These functions will not be directly callable after loading.\n",
            "WARNING:absl:Found untraced functions such as lstm_cell_layer_call_and_return_conditional_losses, lstm_cell_layer_call_fn, lstm_cell_1_layer_call_and_return_conditional_losses, lstm_cell_1_layer_call_fn, lstm_cell_layer_call_fn while saving (showing 5 of 10). These functions will not be directly callable after loading.\n"
          ],
          "name": "stderr"
        },
        {
          "output_type": "stream",
          "text": [
            "INFO:tensorflow:Assets written to: lstm.mdl/assets\n"
          ],
          "name": "stdout"
        },
        {
          "output_type": "stream",
          "text": [
            "INFO:tensorflow:Assets written to: lstm.mdl/assets\n"
          ],
          "name": "stderr"
        },
        {
          "output_type": "stream",
          "text": [
            "Epoch 33/50\n",
            "2/2 [==============================] - 0s 38ms/step - loss: 1.1696 - accuracy: 0.5238 - val_loss: 2.8863 - val_accuracy: 0.5043\n"
          ],
          "name": "stdout"
        },
        {
          "output_type": "stream",
          "text": [
            "WARNING:absl:Found untraced functions such as lstm_cell_layer_call_and_return_conditional_losses, lstm_cell_layer_call_fn, lstm_cell_1_layer_call_and_return_conditional_losses, lstm_cell_1_layer_call_fn, lstm_cell_layer_call_fn while saving (showing 5 of 10). These functions will not be directly callable after loading.\n",
            "WARNING:absl:Found untraced functions such as lstm_cell_layer_call_and_return_conditional_losses, lstm_cell_layer_call_fn, lstm_cell_1_layer_call_and_return_conditional_losses, lstm_cell_1_layer_call_fn, lstm_cell_layer_call_fn while saving (showing 5 of 10). These functions will not be directly callable after loading.\n"
          ],
          "name": "stderr"
        },
        {
          "output_type": "stream",
          "text": [
            "INFO:tensorflow:Assets written to: lstm.mdl/assets\n"
          ],
          "name": "stdout"
        },
        {
          "output_type": "stream",
          "text": [
            "INFO:tensorflow:Assets written to: lstm.mdl/assets\n"
          ],
          "name": "stderr"
        },
        {
          "output_type": "stream",
          "text": [
            "Epoch 34/50\n",
            "2/2 [==============================] - 0s 34ms/step - loss: 1.1350 - accuracy: 0.5264 - val_loss: 2.9743 - val_accuracy: 0.5043\n"
          ],
          "name": "stdout"
        },
        {
          "output_type": "stream",
          "text": [
            "WARNING:absl:Found untraced functions such as lstm_cell_layer_call_and_return_conditional_losses, lstm_cell_layer_call_fn, lstm_cell_1_layer_call_and_return_conditional_losses, lstm_cell_1_layer_call_fn, lstm_cell_layer_call_fn while saving (showing 5 of 10). These functions will not be directly callable after loading.\n",
            "WARNING:absl:Found untraced functions such as lstm_cell_layer_call_and_return_conditional_losses, lstm_cell_layer_call_fn, lstm_cell_1_layer_call_and_return_conditional_losses, lstm_cell_1_layer_call_fn, lstm_cell_layer_call_fn while saving (showing 5 of 10). These functions will not be directly callable after loading.\n"
          ],
          "name": "stderr"
        },
        {
          "output_type": "stream",
          "text": [
            "INFO:tensorflow:Assets written to: lstm.mdl/assets\n"
          ],
          "name": "stdout"
        },
        {
          "output_type": "stream",
          "text": [
            "INFO:tensorflow:Assets written to: lstm.mdl/assets\n"
          ],
          "name": "stderr"
        },
        {
          "output_type": "stream",
          "text": [
            "Epoch 35/50\n",
            "2/2 [==============================] - 0s 39ms/step - loss: 1.1111 - accuracy: 0.5228 - val_loss: 2.9710 - val_accuracy: 0.5043\n"
          ],
          "name": "stdout"
        },
        {
          "output_type": "stream",
          "text": [
            "WARNING:absl:Found untraced functions such as lstm_cell_layer_call_and_return_conditional_losses, lstm_cell_layer_call_fn, lstm_cell_1_layer_call_and_return_conditional_losses, lstm_cell_1_layer_call_fn, lstm_cell_layer_call_fn while saving (showing 5 of 10). These functions will not be directly callable after loading.\n",
            "WARNING:absl:Found untraced functions such as lstm_cell_layer_call_and_return_conditional_losses, lstm_cell_layer_call_fn, lstm_cell_1_layer_call_and_return_conditional_losses, lstm_cell_1_layer_call_fn, lstm_cell_layer_call_fn while saving (showing 5 of 10). These functions will not be directly callable after loading.\n"
          ],
          "name": "stderr"
        },
        {
          "output_type": "stream",
          "text": [
            "INFO:tensorflow:Assets written to: lstm.mdl/assets\n"
          ],
          "name": "stdout"
        },
        {
          "output_type": "stream",
          "text": [
            "INFO:tensorflow:Assets written to: lstm.mdl/assets\n"
          ],
          "name": "stderr"
        },
        {
          "output_type": "stream",
          "text": [
            "Epoch 36/50\n",
            "2/2 [==============================] - 0s 36ms/step - loss: 1.0794 - accuracy: 0.5228 - val_loss: 3.0021 - val_accuracy: 0.5043\n"
          ],
          "name": "stdout"
        },
        {
          "output_type": "stream",
          "text": [
            "WARNING:absl:Found untraced functions such as lstm_cell_layer_call_and_return_conditional_losses, lstm_cell_layer_call_fn, lstm_cell_1_layer_call_and_return_conditional_losses, lstm_cell_1_layer_call_fn, lstm_cell_layer_call_fn while saving (showing 5 of 10). These functions will not be directly callable after loading.\n",
            "WARNING:absl:Found untraced functions such as lstm_cell_layer_call_and_return_conditional_losses, lstm_cell_layer_call_fn, lstm_cell_1_layer_call_and_return_conditional_losses, lstm_cell_1_layer_call_fn, lstm_cell_layer_call_fn while saving (showing 5 of 10). These functions will not be directly callable after loading.\n"
          ],
          "name": "stderr"
        },
        {
          "output_type": "stream",
          "text": [
            "INFO:tensorflow:Assets written to: lstm.mdl/assets\n"
          ],
          "name": "stdout"
        },
        {
          "output_type": "stream",
          "text": [
            "INFO:tensorflow:Assets written to: lstm.mdl/assets\n"
          ],
          "name": "stderr"
        },
        {
          "output_type": "stream",
          "text": [
            "Epoch 37/50\n",
            "2/2 [==============================] - 0s 391ms/step - loss: 1.0444 - accuracy: 0.5274 - val_loss: 3.0312 - val_accuracy: 0.5043\n"
          ],
          "name": "stdout"
        },
        {
          "output_type": "stream",
          "text": [
            "WARNING:absl:Found untraced functions such as lstm_cell_layer_call_and_return_conditional_losses, lstm_cell_layer_call_fn, lstm_cell_1_layer_call_and_return_conditional_losses, lstm_cell_1_layer_call_fn, lstm_cell_layer_call_fn while saving (showing 5 of 10). These functions will not be directly callable after loading.\n",
            "WARNING:absl:Found untraced functions such as lstm_cell_layer_call_and_return_conditional_losses, lstm_cell_layer_call_fn, lstm_cell_1_layer_call_and_return_conditional_losses, lstm_cell_1_layer_call_fn, lstm_cell_layer_call_fn while saving (showing 5 of 10). These functions will not be directly callable after loading.\n"
          ],
          "name": "stderr"
        },
        {
          "output_type": "stream",
          "text": [
            "INFO:tensorflow:Assets written to: lstm.mdl/assets\n"
          ],
          "name": "stdout"
        },
        {
          "output_type": "stream",
          "text": [
            "INFO:tensorflow:Assets written to: lstm.mdl/assets\n"
          ],
          "name": "stderr"
        },
        {
          "output_type": "stream",
          "text": [
            "Epoch 38/50\n",
            "2/2 [==============================] - 0s 35ms/step - loss: 1.0183 - accuracy: 0.5244 - val_loss: 3.0329 - val_accuracy: 0.5043\n"
          ],
          "name": "stdout"
        },
        {
          "output_type": "stream",
          "text": [
            "WARNING:absl:Found untraced functions such as lstm_cell_layer_call_and_return_conditional_losses, lstm_cell_layer_call_fn, lstm_cell_1_layer_call_and_return_conditional_losses, lstm_cell_1_layer_call_fn, lstm_cell_layer_call_fn while saving (showing 5 of 10). These functions will not be directly callable after loading.\n",
            "WARNING:absl:Found untraced functions such as lstm_cell_layer_call_and_return_conditional_losses, lstm_cell_layer_call_fn, lstm_cell_1_layer_call_and_return_conditional_losses, lstm_cell_1_layer_call_fn, lstm_cell_layer_call_fn while saving (showing 5 of 10). These functions will not be directly callable after loading.\n"
          ],
          "name": "stderr"
        },
        {
          "output_type": "stream",
          "text": [
            "INFO:tensorflow:Assets written to: lstm.mdl/assets\n"
          ],
          "name": "stdout"
        },
        {
          "output_type": "stream",
          "text": [
            "INFO:tensorflow:Assets written to: lstm.mdl/assets\n"
          ],
          "name": "stderr"
        },
        {
          "output_type": "stream",
          "text": [
            "Epoch 39/50\n",
            "2/2 [==============================] - 0s 35ms/step - loss: 0.9916 - accuracy: 0.5228 - val_loss: 3.0210 - val_accuracy: 0.5043\n"
          ],
          "name": "stdout"
        },
        {
          "output_type": "stream",
          "text": [
            "WARNING:absl:Found untraced functions such as lstm_cell_layer_call_and_return_conditional_losses, lstm_cell_layer_call_fn, lstm_cell_1_layer_call_and_return_conditional_losses, lstm_cell_1_layer_call_fn, lstm_cell_layer_call_fn while saving (showing 5 of 10). These functions will not be directly callable after loading.\n",
            "WARNING:absl:Found untraced functions such as lstm_cell_layer_call_and_return_conditional_losses, lstm_cell_layer_call_fn, lstm_cell_1_layer_call_and_return_conditional_losses, lstm_cell_1_layer_call_fn, lstm_cell_layer_call_fn while saving (showing 5 of 10). These functions will not be directly callable after loading.\n"
          ],
          "name": "stderr"
        },
        {
          "output_type": "stream",
          "text": [
            "INFO:tensorflow:Assets written to: lstm.mdl/assets\n"
          ],
          "name": "stdout"
        },
        {
          "output_type": "stream",
          "text": [
            "INFO:tensorflow:Assets written to: lstm.mdl/assets\n"
          ],
          "name": "stderr"
        },
        {
          "output_type": "stream",
          "text": [
            "Epoch 40/50\n",
            "2/2 [==============================] - 0s 35ms/step - loss: 0.9645 - accuracy: 0.5211 - val_loss: 3.0429 - val_accuracy: 0.5043\n"
          ],
          "name": "stdout"
        },
        {
          "output_type": "stream",
          "text": [
            "WARNING:absl:Found untraced functions such as lstm_cell_layer_call_and_return_conditional_losses, lstm_cell_layer_call_fn, lstm_cell_1_layer_call_and_return_conditional_losses, lstm_cell_1_layer_call_fn, lstm_cell_layer_call_fn while saving (showing 5 of 10). These functions will not be directly callable after loading.\n",
            "WARNING:absl:Found untraced functions such as lstm_cell_layer_call_and_return_conditional_losses, lstm_cell_layer_call_fn, lstm_cell_1_layer_call_and_return_conditional_losses, lstm_cell_1_layer_call_fn, lstm_cell_layer_call_fn while saving (showing 5 of 10). These functions will not be directly callable after loading.\n"
          ],
          "name": "stderr"
        },
        {
          "output_type": "stream",
          "text": [
            "INFO:tensorflow:Assets written to: lstm.mdl/assets\n"
          ],
          "name": "stdout"
        },
        {
          "output_type": "stream",
          "text": [
            "INFO:tensorflow:Assets written to: lstm.mdl/assets\n"
          ],
          "name": "stderr"
        },
        {
          "output_type": "stream",
          "text": [
            "Epoch 41/50\n",
            "2/2 [==============================] - 0s 39ms/step - loss: 0.9323 - accuracy: 0.5279 - val_loss: 3.0266 - val_accuracy: 0.5043\n"
          ],
          "name": "stdout"
        },
        {
          "output_type": "stream",
          "text": [
            "WARNING:absl:Found untraced functions such as lstm_cell_layer_call_and_return_conditional_losses, lstm_cell_layer_call_fn, lstm_cell_1_layer_call_and_return_conditional_losses, lstm_cell_1_layer_call_fn, lstm_cell_layer_call_fn while saving (showing 5 of 10). These functions will not be directly callable after loading.\n",
            "WARNING:absl:Found untraced functions such as lstm_cell_layer_call_and_return_conditional_losses, lstm_cell_layer_call_fn, lstm_cell_1_layer_call_and_return_conditional_losses, lstm_cell_1_layer_call_fn, lstm_cell_layer_call_fn while saving (showing 5 of 10). These functions will not be directly callable after loading.\n"
          ],
          "name": "stderr"
        },
        {
          "output_type": "stream",
          "text": [
            "INFO:tensorflow:Assets written to: lstm.mdl/assets\n"
          ],
          "name": "stdout"
        },
        {
          "output_type": "stream",
          "text": [
            "INFO:tensorflow:Assets written to: lstm.mdl/assets\n"
          ],
          "name": "stderr"
        },
        {
          "output_type": "stream",
          "text": [
            "Epoch 42/50\n",
            "2/2 [==============================] - 0s 367ms/step - loss: 0.9011 - accuracy: 0.5296 - val_loss: 3.0146 - val_accuracy: 0.5043\n"
          ],
          "name": "stdout"
        },
        {
          "output_type": "stream",
          "text": [
            "WARNING:absl:Found untraced functions such as lstm_cell_layer_call_and_return_conditional_losses, lstm_cell_layer_call_fn, lstm_cell_1_layer_call_and_return_conditional_losses, lstm_cell_1_layer_call_fn, lstm_cell_layer_call_fn while saving (showing 5 of 10). These functions will not be directly callable after loading.\n",
            "WARNING:absl:Found untraced functions such as lstm_cell_layer_call_and_return_conditional_losses, lstm_cell_layer_call_fn, lstm_cell_1_layer_call_and_return_conditional_losses, lstm_cell_1_layer_call_fn, lstm_cell_layer_call_fn while saving (showing 5 of 10). These functions will not be directly callable after loading.\n"
          ],
          "name": "stderr"
        },
        {
          "output_type": "stream",
          "text": [
            "INFO:tensorflow:Assets written to: lstm.mdl/assets\n"
          ],
          "name": "stdout"
        },
        {
          "output_type": "stream",
          "text": [
            "INFO:tensorflow:Assets written to: lstm.mdl/assets\n"
          ],
          "name": "stderr"
        },
        {
          "output_type": "stream",
          "text": [
            "Epoch 43/50\n",
            "2/2 [==============================] - 0s 35ms/step - loss: 0.8888 - accuracy: 0.5257 - val_loss: 3.0080 - val_accuracy: 0.5043\n"
          ],
          "name": "stdout"
        },
        {
          "output_type": "stream",
          "text": [
            "WARNING:absl:Found untraced functions such as lstm_cell_layer_call_and_return_conditional_losses, lstm_cell_layer_call_fn, lstm_cell_1_layer_call_and_return_conditional_losses, lstm_cell_1_layer_call_fn, lstm_cell_layer_call_fn while saving (showing 5 of 10). These functions will not be directly callable after loading.\n",
            "WARNING:absl:Found untraced functions such as lstm_cell_layer_call_and_return_conditional_losses, lstm_cell_layer_call_fn, lstm_cell_1_layer_call_and_return_conditional_losses, lstm_cell_1_layer_call_fn, lstm_cell_layer_call_fn while saving (showing 5 of 10). These functions will not be directly callable after loading.\n"
          ],
          "name": "stderr"
        },
        {
          "output_type": "stream",
          "text": [
            "INFO:tensorflow:Assets written to: lstm.mdl/assets\n"
          ],
          "name": "stdout"
        },
        {
          "output_type": "stream",
          "text": [
            "INFO:tensorflow:Assets written to: lstm.mdl/assets\n"
          ],
          "name": "stderr"
        },
        {
          "output_type": "stream",
          "text": [
            "Epoch 44/50\n",
            "2/2 [==============================] - 0s 35ms/step - loss: 0.8580 - accuracy: 0.5275 - val_loss: 2.9887 - val_accuracy: 0.5043\n"
          ],
          "name": "stdout"
        },
        {
          "output_type": "stream",
          "text": [
            "WARNING:absl:Found untraced functions such as lstm_cell_layer_call_and_return_conditional_losses, lstm_cell_layer_call_fn, lstm_cell_1_layer_call_and_return_conditional_losses, lstm_cell_1_layer_call_fn, lstm_cell_layer_call_fn while saving (showing 5 of 10). These functions will not be directly callable after loading.\n",
            "WARNING:absl:Found untraced functions such as lstm_cell_layer_call_and_return_conditional_losses, lstm_cell_layer_call_fn, lstm_cell_1_layer_call_and_return_conditional_losses, lstm_cell_1_layer_call_fn, lstm_cell_layer_call_fn while saving (showing 5 of 10). These functions will not be directly callable after loading.\n"
          ],
          "name": "stderr"
        },
        {
          "output_type": "stream",
          "text": [
            "INFO:tensorflow:Assets written to: lstm.mdl/assets\n"
          ],
          "name": "stdout"
        },
        {
          "output_type": "stream",
          "text": [
            "INFO:tensorflow:Assets written to: lstm.mdl/assets\n"
          ],
          "name": "stderr"
        },
        {
          "output_type": "stream",
          "text": [
            "Epoch 45/50\n",
            "2/2 [==============================] - 0s 38ms/step - loss: 0.8507 - accuracy: 0.5218 - val_loss: 2.9693 - val_accuracy: 0.5043\n"
          ],
          "name": "stdout"
        },
        {
          "output_type": "stream",
          "text": [
            "WARNING:absl:Found untraced functions such as lstm_cell_layer_call_and_return_conditional_losses, lstm_cell_layer_call_fn, lstm_cell_1_layer_call_and_return_conditional_losses, lstm_cell_1_layer_call_fn, lstm_cell_layer_call_fn while saving (showing 5 of 10). These functions will not be directly callable after loading.\n",
            "WARNING:absl:Found untraced functions such as lstm_cell_layer_call_and_return_conditional_losses, lstm_cell_layer_call_fn, lstm_cell_1_layer_call_and_return_conditional_losses, lstm_cell_1_layer_call_fn, lstm_cell_layer_call_fn while saving (showing 5 of 10). These functions will not be directly callable after loading.\n"
          ],
          "name": "stderr"
        },
        {
          "output_type": "stream",
          "text": [
            "INFO:tensorflow:Assets written to: lstm.mdl/assets\n"
          ],
          "name": "stdout"
        },
        {
          "output_type": "stream",
          "text": [
            "INFO:tensorflow:Assets written to: lstm.mdl/assets\n"
          ],
          "name": "stderr"
        },
        {
          "output_type": "stream",
          "text": [
            "Epoch 46/50\n",
            "2/2 [==============================] - 0s 39ms/step - loss: 0.8287 - accuracy: 0.5288 - val_loss: 2.9503 - val_accuracy: 0.5043\n"
          ],
          "name": "stdout"
        },
        {
          "output_type": "stream",
          "text": [
            "WARNING:absl:Found untraced functions such as lstm_cell_layer_call_and_return_conditional_losses, lstm_cell_layer_call_fn, lstm_cell_1_layer_call_and_return_conditional_losses, lstm_cell_1_layer_call_fn, lstm_cell_layer_call_fn while saving (showing 5 of 10). These functions will not be directly callable after loading.\n",
            "WARNING:absl:Found untraced functions such as lstm_cell_layer_call_and_return_conditional_losses, lstm_cell_layer_call_fn, lstm_cell_1_layer_call_and_return_conditional_losses, lstm_cell_1_layer_call_fn, lstm_cell_layer_call_fn while saving (showing 5 of 10). These functions will not be directly callable after loading.\n"
          ],
          "name": "stderr"
        },
        {
          "output_type": "stream",
          "text": [
            "INFO:tensorflow:Assets written to: lstm.mdl/assets\n"
          ],
          "name": "stdout"
        },
        {
          "output_type": "stream",
          "text": [
            "INFO:tensorflow:Assets written to: lstm.mdl/assets\n"
          ],
          "name": "stderr"
        },
        {
          "output_type": "stream",
          "text": [
            "Epoch 47/50\n",
            "2/2 [==============================] - 0s 371ms/step - loss: 0.8086 - accuracy: 0.5350 - val_loss: 2.9132 - val_accuracy: 0.5043\n"
          ],
          "name": "stdout"
        },
        {
          "output_type": "stream",
          "text": [
            "WARNING:absl:Found untraced functions such as lstm_cell_layer_call_and_return_conditional_losses, lstm_cell_layer_call_fn, lstm_cell_1_layer_call_and_return_conditional_losses, lstm_cell_1_layer_call_fn, lstm_cell_layer_call_fn while saving (showing 5 of 10). These functions will not be directly callable after loading.\n",
            "WARNING:absl:Found untraced functions such as lstm_cell_layer_call_and_return_conditional_losses, lstm_cell_layer_call_fn, lstm_cell_1_layer_call_and_return_conditional_losses, lstm_cell_1_layer_call_fn, lstm_cell_layer_call_fn while saving (showing 5 of 10). These functions will not be directly callable after loading.\n"
          ],
          "name": "stderr"
        },
        {
          "output_type": "stream",
          "text": [
            "INFO:tensorflow:Assets written to: lstm.mdl/assets\n"
          ],
          "name": "stdout"
        },
        {
          "output_type": "stream",
          "text": [
            "INFO:tensorflow:Assets written to: lstm.mdl/assets\n"
          ],
          "name": "stderr"
        },
        {
          "output_type": "stream",
          "text": [
            "Epoch 48/50\n",
            "2/2 [==============================] - 0s 35ms/step - loss: 0.8096 - accuracy: 0.5206 - val_loss: 2.8917 - val_accuracy: 0.5043\n"
          ],
          "name": "stdout"
        },
        {
          "output_type": "stream",
          "text": [
            "WARNING:absl:Found untraced functions such as lstm_cell_layer_call_and_return_conditional_losses, lstm_cell_layer_call_fn, lstm_cell_1_layer_call_and_return_conditional_losses, lstm_cell_1_layer_call_fn, lstm_cell_layer_call_fn while saving (showing 5 of 10). These functions will not be directly callable after loading.\n",
            "WARNING:absl:Found untraced functions such as lstm_cell_layer_call_and_return_conditional_losses, lstm_cell_layer_call_fn, lstm_cell_1_layer_call_and_return_conditional_losses, lstm_cell_1_layer_call_fn, lstm_cell_layer_call_fn while saving (showing 5 of 10). These functions will not be directly callable after loading.\n"
          ],
          "name": "stderr"
        },
        {
          "output_type": "stream",
          "text": [
            "INFO:tensorflow:Assets written to: lstm.mdl/assets\n"
          ],
          "name": "stdout"
        },
        {
          "output_type": "stream",
          "text": [
            "INFO:tensorflow:Assets written to: lstm.mdl/assets\n"
          ],
          "name": "stderr"
        },
        {
          "output_type": "stream",
          "text": [
            "Epoch 49/50\n",
            "2/2 [==============================] - 0s 36ms/step - loss: 0.7956 - accuracy: 0.5117 - val_loss: 2.8525 - val_accuracy: 0.5043\n"
          ],
          "name": "stdout"
        },
        {
          "output_type": "stream",
          "text": [
            "WARNING:absl:Found untraced functions such as lstm_cell_layer_call_and_return_conditional_losses, lstm_cell_layer_call_fn, lstm_cell_1_layer_call_and_return_conditional_losses, lstm_cell_1_layer_call_fn, lstm_cell_layer_call_fn while saving (showing 5 of 10). These functions will not be directly callable after loading.\n",
            "WARNING:absl:Found untraced functions such as lstm_cell_layer_call_and_return_conditional_losses, lstm_cell_layer_call_fn, lstm_cell_1_layer_call_and_return_conditional_losses, lstm_cell_1_layer_call_fn, lstm_cell_layer_call_fn while saving (showing 5 of 10). These functions will not be directly callable after loading.\n"
          ],
          "name": "stderr"
        },
        {
          "output_type": "stream",
          "text": [
            "INFO:tensorflow:Assets written to: lstm.mdl/assets\n"
          ],
          "name": "stdout"
        },
        {
          "output_type": "stream",
          "text": [
            "INFO:tensorflow:Assets written to: lstm.mdl/assets\n"
          ],
          "name": "stderr"
        },
        {
          "output_type": "stream",
          "text": [
            "Epoch 50/50\n",
            "2/2 [==============================] - 0s 35ms/step - loss: 0.7928 - accuracy: 0.5083 - val_loss: 2.8316 - val_accuracy: 0.5072\n"
          ],
          "name": "stdout"
        },
        {
          "output_type": "stream",
          "text": [
            "WARNING:absl:Found untraced functions such as lstm_cell_layer_call_and_return_conditional_losses, lstm_cell_layer_call_fn, lstm_cell_1_layer_call_and_return_conditional_losses, lstm_cell_1_layer_call_fn, lstm_cell_layer_call_fn while saving (showing 5 of 10). These functions will not be directly callable after loading.\n",
            "WARNING:absl:Found untraced functions such as lstm_cell_layer_call_and_return_conditional_losses, lstm_cell_layer_call_fn, lstm_cell_1_layer_call_and_return_conditional_losses, lstm_cell_1_layer_call_fn, lstm_cell_layer_call_fn while saving (showing 5 of 10). These functions will not be directly callable after loading.\n"
          ],
          "name": "stderr"
        },
        {
          "output_type": "stream",
          "text": [
            "INFO:tensorflow:Assets written to: lstm.mdl/assets\n"
          ],
          "name": "stdout"
        },
        {
          "output_type": "stream",
          "text": [
            "INFO:tensorflow:Assets written to: lstm.mdl/assets\n"
          ],
          "name": "stderr"
        }
      ]
    },
    {
      "cell_type": "code",
      "metadata": {
        "colab": {
          "base_uri": "https://localhost:8080/",
          "height": 282
        },
        "id": "YGkUIicYYeg4",
        "outputId": "cb77ac35-2d6c-4d6e-c03c-801bc4498e33"
      },
      "source": [
        "import matplotlib.pyplot as plt\r\n",
        "plt.plot(history.history['loss'])\r\n",
        "plt.plot(history.history['val_loss'])\r\n"
      ],
      "execution_count": 13,
      "outputs": [
        {
          "output_type": "execute_result",
          "data": {
            "text/plain": [
              "[<matplotlib.lines.Line2D at 0x7f580241a550>]"
            ]
          },
          "metadata": {
            "tags": []
          },
          "execution_count": 13
        },
        {
          "output_type": "display_data",
          "data": {
            "image/png": "[encoded data removed]",
            "text/plain": [
              "<Figure size 432x288 with 1 Axes>"
            ]
          },
          "metadata": {
            "tags": [],
            "needs_background": "light"
          }
        }
      ]
    },
    {
      "cell_type": "code",
      "metadata": {
        "colab": {
          "base_uri": "https://localhost:8080/",
          "height": 282
        },
        "id": "_ZnJHQ_MlBEO",
        "outputId": "21218691-0152-4829-ac68-ded1a440c604"
      },
      "source": [
        "plt.plot(history.history['accuracy'])\r\n",
        "plt.plot(history.history['val_accuracy'])\r\n"
      ],
      "execution_count": 14,
      "outputs": [
        {
          "output_type": "execute_result",
          "data": {
            "text/plain": [
              "[<matplotlib.lines.Line2D at 0x7f5792255be0>]"
            ]
          },
          "metadata": {
            "tags": []
          },
          "execution_count": 14
        },
        {
          "output_type": "display_data",
          "data": {
            "image/png": "[encoded data removed]",
            "text/plain": [
              "<Figure size 432x288 with 1 Axes>"
            ]
          },
          "metadata": {
            "tags": [],
            "needs_background": "light"
          }
        }
      ]
    },
    {
      "cell_type": "code",
      "metadata": {
        "colab": {
          "base_uri": "https://localhost:8080/",
          "height": 280
        },
        "id": "J-4WMRcrYhnB",
        "outputId": "e71b3112-acd9-4254-be69-c35c7a3c85cc"
      },
      "source": [
        "X_test=X[1725:-1]\r\n",
        "y_test=y[1725:-1]\r\n",
        "y_pred=model.predict(X_test)\r\n",
        "y_pred=pd.Series(y_pred.reshape(-1),index=indexes[1725:-1])\r\n",
        "y_pred.plot()"
      ],
      "execution_count": 15,
      "outputs": [
        {
          "output_type": "execute_result",
          "data": {
            "text/plain": [
              "<matplotlib.axes._subplots.AxesSubplot at 0x7f5772f28828>"
            ]
          },
          "metadata": {
            "tags": []
          },
          "execution_count": 15
        },
        {
          "output_type": "display_data",
          "data": {
            "image/png": "[encoded data removed]",
            "text/plain": [
              "<Figure size 432x288 with 1 Axes>"
            ]
          },
          "metadata": {
            "tags": [],
            "needs_background": "light"
          }
        }
      ]
    },
    {
      "cell_type": "code",
      "metadata": {
        "colab": {
          "base_uri": "https://localhost:8080/"
        },
        "id": "pRhFvSdthM79",
        "outputId": "16255052-588d-4326-ede6-fbc1676c9d97"
      },
      "source": [
        "print(model.evaluate(X_train, y_train))\r\n",
        "model.evaluate(X_test, y_test)"
      ],
      "execution_count": 16,
      "outputs": [
        {
          "output_type": "stream",
          "text": [
            "54/54 [==============================] - 0s 3ms/step - loss: 1.1989 - accuracy: 0.5096\n",
            "[1.1989227533340454, 0.5095652341842651]\n",
            "31/31 [==============================] - 0s 3ms/step - loss: 7.6824 - accuracy: 0.5005\n"
          ],
          "name": "stdout"
        },
        {
          "output_type": "execute_result",
          "data": {
            "text/plain": [
              "[7.6824469566345215, 0.5005202889442444]"
            ]
          },
          "metadata": {
            "tags": []
          },
          "execution_count": 16
        }
      ]
    },
    {
      "cell_type": "code",
      "metadata": {
        "id": "PG4gGBm_bpCQ"
      },
      "source": [
        ""
      ],
      "execution_count": 16,
      "outputs": []
    }
  ]
}